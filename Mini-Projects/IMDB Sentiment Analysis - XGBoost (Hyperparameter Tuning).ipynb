{
 "cells": [
  {
   "cell_type": "markdown",
   "metadata": {},
   "source": [
    "# Sentiment Analysis\n",
    "\n",
    "## Using XGBoost in SageMaker\n",
    "\n",
    "_Deep Learning Nanodegree Program | Deployment_\n",
    "\n",
    "---\n",
    "\n",
    "In this example of using Amazon's SageMaker service we will construct a random tree model to predict the sentiment of a movie review. You may have seen a version of this example in a pervious lesson although it would have been done using the sklearn package. Instead, we will be using the XGBoost package as it is provided to us by Amazon.\n",
    "\n",
    "## Instructions\n",
    "\n",
    "Some template code has already been provided for you, and you will need to implement additional functionality to successfully complete this notebook. You will not need to modify the included code beyond what is requested. Sections that begin with '**TODO**' in the header indicate that you need to complete or implement some portion within them. Instructions will be provided for each section and the specifics of the implementation are marked in the code block with a `# TODO: ...` comment. Please be sure to read the instructions carefully!\n",
    "\n",
    "In addition to implementing code, there will be questions for you to answer which relate to the task and your implementation. Each section where you will answer a question is preceded by a '**Question:**' header. Carefully read each question and provide your answer below the '**Answer:**' header by editing the Markdown cell.\n",
    "\n",
    "> **Note**: Code and Markdown cells can be executed using the **Shift+Enter** keyboard shortcut. In addition, a cell can be edited by typically clicking it (double-click for Markdown cells) or by pressing **Enter** while it is highlighted."
   ]
  },
  {
   "cell_type": "markdown",
   "metadata": {},
   "source": [
    "## Step 1: Downloading the data\n",
    "\n",
    "The dataset we are going to use is very popular among researchers in Natural Language Processing, usually referred to as the [IMDb dataset](http://ai.stanford.edu/~amaas/data/sentiment/). It consists of movie reviews from the website [imdb.com](http://www.imdb.com/), each labeled as either '**pos**itive', if the reviewer enjoyed the film, or '**neg**ative' otherwise.\n",
    "\n",
    "> Maas, Andrew L., et al. [Learning Word Vectors for Sentiment Analysis](http://ai.stanford.edu/~amaas/data/sentiment/). In _Proceedings of the 49th Annual Meeting of the Association for Computational Linguistics: Human Language Technologies_. Association for Computational Linguistics, 2011.\n",
    "\n",
    "We begin by using some Jupyter Notebook magic to download and extract the dataset."
   ]
  },
  {
   "cell_type": "code",
   "execution_count": 1,
   "metadata": {},
   "outputs": [
    {
     "name": "stdout",
     "output_type": "stream",
     "text": [
      "mkdir: cannot create directory ‘../data’: File exists\n",
      "--2020-08-17 15:10:36--  http://ai.stanford.edu/~amaas/data/sentiment/aclImdb_v1.tar.gz\n",
      "Resolving ai.stanford.edu (ai.stanford.edu)... 171.64.68.10\n",
      "Connecting to ai.stanford.edu (ai.stanford.edu)|171.64.68.10|:80... connected.\n",
      "HTTP request sent, awaiting response... 200 OK\n",
      "Length: 84125825 (80M) [application/x-gzip]\n",
      "Saving to: ‘../data/aclImdb_v1.tar.gz’\n",
      "\n",
      "../data/aclImdb_v1. 100%[===================>]  80.23M  24.5MB/s    in 4.7s    \n",
      "\n",
      "2020-08-17 15:10:41 (17.2 MB/s) - ‘../data/aclImdb_v1.tar.gz’ saved [84125825/84125825]\n",
      "\n"
     ]
    }
   ],
   "source": [
    "%mkdir ../data\n",
    "!wget -O ../data/aclImdb_v1.tar.gz http://ai.stanford.edu/~amaas/data/sentiment/aclImdb_v1.tar.gz\n",
    "!tar -zxf ../data/aclImdb_v1.tar.gz -C ../data"
   ]
  },
  {
   "cell_type": "markdown",
   "metadata": {},
   "source": [
    "## Step 2: Preparing the data\n",
    "\n",
    "The data we have downloaded is split into various files, each of which contains a single review. It will be much easier going forward if we combine these individual files into two large files, one for training and one for testing."
   ]
  },
  {
   "cell_type": "code",
   "execution_count": 2,
   "metadata": {},
   "outputs": [],
   "source": [
    "import os\n",
    "import glob\n",
    "\n",
    "def read_imdb_data(data_dir='../data/aclImdb'):\n",
    "    data = {}\n",
    "    labels = {}\n",
    "    \n",
    "    for data_type in ['train', 'test']:\n",
    "        data[data_type] = {}\n",
    "        labels[data_type] = {}\n",
    "        \n",
    "        for sentiment in ['pos', 'neg']:\n",
    "            data[data_type][sentiment] = []\n",
    "            labels[data_type][sentiment] = []\n",
    "            \n",
    "            path = os.path.join(data_dir, data_type, sentiment, '*.txt')\n",
    "            files = glob.glob(path)\n",
    "            \n",
    "            for f in files:\n",
    "                with open(f) as review:\n",
    "                    data[data_type][sentiment].append(review.read())\n",
    "                    # Here we represent a positive review by '1' and a negative review by '0'\n",
    "                    labels[data_type][sentiment].append(1 if sentiment == 'pos' else 0)\n",
    "                    \n",
    "            assert len(data[data_type][sentiment]) == len(labels[data_type][sentiment]), \\\n",
    "                    \"{}/{} data size does not match labels size\".format(data_type, sentiment)\n",
    "                \n",
    "    return data, labels"
   ]
  },
  {
   "cell_type": "code",
   "execution_count": 3,
   "metadata": {},
   "outputs": [
    {
     "name": "stdout",
     "output_type": "stream",
     "text": [
      "IMDB reviews: train = 12500 pos / 12500 neg, test = 12500 pos / 12500 neg\n"
     ]
    }
   ],
   "source": [
    "data, labels = read_imdb_data()\n",
    "print(\"IMDB reviews: train = {} pos / {} neg, test = {} pos / {} neg\".format(\n",
    "            len(data['train']['pos']), len(data['train']['neg']),\n",
    "            len(data['test']['pos']), len(data['test']['neg'])))"
   ]
  },
  {
   "cell_type": "code",
   "execution_count": 4,
   "metadata": {},
   "outputs": [],
   "source": [
    "from sklearn.utils import shuffle\n",
    "\n",
    "def prepare_imdb_data(data, labels):\n",
    "    \"\"\"Prepare training and test sets from IMDb movie reviews.\"\"\"\n",
    "    \n",
    "    #Combine positive and negative reviews and labels\n",
    "    data_train = data['train']['pos'] + data['train']['neg']\n",
    "    data_test = data['test']['pos'] + data['test']['neg']\n",
    "    labels_train = labels['train']['pos'] + labels['train']['neg']\n",
    "    labels_test = labels['test']['pos'] + labels['test']['neg']\n",
    "    \n",
    "    #Shuffle reviews and corresponding labels within training and test sets\n",
    "    data_train, labels_train = shuffle(data_train, labels_train)\n",
    "    data_test, labels_test = shuffle(data_test, labels_test)\n",
    "    \n",
    "    # Return a unified training data, test data, training labels, test labets\n",
    "    return data_train, data_test, labels_train, labels_test"
   ]
  },
  {
   "cell_type": "code",
   "execution_count": 5,
   "metadata": {},
   "outputs": [
    {
     "name": "stdout",
     "output_type": "stream",
     "text": [
      "IMDb reviews (combined): train = 25000, test = 25000\n"
     ]
    }
   ],
   "source": [
    "train_X, test_X, train_y, test_y = prepare_imdb_data(data, labels)\n",
    "print(\"IMDb reviews (combined): train = {}, test = {}\".format(len(train_X), len(test_X)))"
   ]
  },
  {
   "cell_type": "code",
   "execution_count": 6,
   "metadata": {},
   "outputs": [
    {
     "data": {
      "text/plain": [
       "\"In 1993, with the success of the first season of Batman: The Animated Series, Warner Brothers commissioned the team responsible for the hit-show with producing a feature-length movie, originally slated for Direct-To-Video, but bumped up to theatrical status. It would become known as Batman: Mask of the Phantasm. Ten years after Phantasm, we have had an additional three feature-films released from the boys at the WB, Sub-Zero, Return of the Joker, and now, Mystery of the Batwoman joins the family.<br /><br />The plot is basic and in many ways similar to Mask of the Phantasm: A new female vigilante modeling herself after Batman has begun targeting operations run by Gotham mob boss Rupert Thorne and Oswald Cobblepot AKA The Penguin. Now, Batman must attempt to unravel the mystery of the Batwoman before she crosses the line.<br /><br />The animation is the sleeker, futuristic style that was utilized for Batman: The Animated Series' fifth and sixth seasons (AKA The New Batman Adventures). , it's quite nicely done, and just as sleek as Return of the Joker's animation. There is also some use of CGI, but it's minor compared to the overabundance of it in Sub-Zero. The music was alright. Different and exotic and similar to the Justice League score, although the points in the score when the old animated Batman theme comes up will be sure to send waves of nostalgia through the older fans' rodent-shaped hearts.<br /><br />Kevin Conroy, as always, does a wonderful job as Bruce Wayne and Batman. It's also great to have the old Batman: The Animated Series alumni back; that includes Bob Hastings (Commissioner Gordon), Robert Costanzo (Detective Bullock), Tara Strong (Barbara Gordon/Batgirl; her cameo hints at the romantic-relationship between her and Bruce that was mentioned in Batman Beyond), and Efrem Zimbalist Jr.(Alfred).<br /><br />Villains were also great - especially given that Rupert Thorne, the old mob boss from the original series, appears for the first time since the fourth season.<br /><br />Overall, while not quite reaching the standard set by Mask of the Phantasm ten years ago, MOTB carries on the torch quite nicely for the animated Batman films. And if you have the DVD and are a hardcore fan, you will love the five-minute short Chase Me.\""
      ]
     },
     "execution_count": 6,
     "metadata": {},
     "output_type": "execute_result"
    }
   ],
   "source": [
    "train_X[100]"
   ]
  },
  {
   "cell_type": "markdown",
   "metadata": {},
   "source": [
    "## Step 3: Processing the data\n",
    "\n",
    "Now that we have our training and testing datasets merged and ready to use, we need to start processing the raw data into something that will be useable by our machine learning algorithm. To begin with, we remove any html formatting that may appear in the reviews and perform some standard natural language processing in order to homogenize the data."
   ]
  },
  {
   "cell_type": "code",
   "execution_count": 7,
   "metadata": {},
   "outputs": [
    {
     "name": "stderr",
     "output_type": "stream",
     "text": [
      "[nltk_data] Downloading package stopwords to\n",
      "[nltk_data]     /home/ec2-user/nltk_data...\n",
      "[nltk_data]   Unzipping corpora/stopwords.zip.\n"
     ]
    }
   ],
   "source": [
    "import nltk\n",
    "nltk.download(\"stopwords\")\n",
    "from nltk.corpus import stopwords\n",
    "from nltk.stem.porter import *\n",
    "stemmer = PorterStemmer()"
   ]
  },
  {
   "cell_type": "code",
   "execution_count": 8,
   "metadata": {},
   "outputs": [],
   "source": [
    "import re\n",
    "from bs4 import BeautifulSoup\n",
    "\n",
    "def review_to_words(review):\n",
    "    text = BeautifulSoup(review, \"html.parser\").get_text() # Remove HTML tags\n",
    "    text = re.sub(r\"[^a-zA-Z0-9]\", \" \", text.lower()) # Convert to lower case\n",
    "    words = text.split() # Split string into words\n",
    "    words = [w for w in words if w not in stopwords.words(\"english\")] # Remove stopwords\n",
    "    words = [PorterStemmer().stem(w) for w in words] # stem\n",
    "    \n",
    "    return words"
   ]
  },
  {
   "cell_type": "code",
   "execution_count": 9,
   "metadata": {},
   "outputs": [],
   "source": [
    "import pickle\n",
    "\n",
    "cache_dir = os.path.join(\"../cache\", \"sentiment_analysis\")  # where to store cache files\n",
    "os.makedirs(cache_dir, exist_ok=True)  # ensure cache directory exists\n",
    "\n",
    "def preprocess_data(data_train, data_test, labels_train, labels_test,\n",
    "                    cache_dir=cache_dir, cache_file=\"preprocessed_data.pkl\"):\n",
    "    \"\"\"Convert each review to words; read from cache if available.\"\"\"\n",
    "\n",
    "    # If cache_file is not None, try to read from it first\n",
    "    cache_data = None\n",
    "    if cache_file is not None:\n",
    "        try:\n",
    "            with open(os.path.join(cache_dir, cache_file), \"rb\") as f:\n",
    "                cache_data = pickle.load(f)\n",
    "            print(\"Read preprocessed data from cache file:\", cache_file)\n",
    "        except:\n",
    "            pass  # unable to read from cache, but that's okay\n",
    "    \n",
    "    # If cache is missing, then do the heavy lifting\n",
    "    if cache_data is None:\n",
    "        # Preprocess training and test data to obtain words for each review\n",
    "        #words_train = list(map(review_to_words, data_train))\n",
    "        #words_test = list(map(review_to_words, data_test))\n",
    "        words_train = [review_to_words(review) for review in data_train]\n",
    "        words_test = [review_to_words(review) for review in data_test]\n",
    "        \n",
    "        # Write to cache file for future runs\n",
    "        if cache_file is not None:\n",
    "            cache_data = dict(words_train=words_train, words_test=words_test,\n",
    "                              labels_train=labels_train, labels_test=labels_test)\n",
    "            with open(os.path.join(cache_dir, cache_file), \"wb\") as f:\n",
    "                pickle.dump(cache_data, f)\n",
    "            print(\"Wrote preprocessed data to cache file:\", cache_file)\n",
    "    else:\n",
    "        # Unpack data loaded from cache file\n",
    "        words_train, words_test, labels_train, labels_test = (cache_data['words_train'],\n",
    "                cache_data['words_test'], cache_data['labels_train'], cache_data['labels_test'])\n",
    "    \n",
    "    return words_train, words_test, labels_train, labels_test"
   ]
  },
  {
   "cell_type": "code",
   "execution_count": 14,
   "metadata": {},
   "outputs": [
    {
     "name": "stdout",
     "output_type": "stream",
     "text": [
      "Read preprocessed data from cache file: preprocessed_data.pkl\n"
     ]
    }
   ],
   "source": [
    "# Preprocess data\n",
    "train_X, test_X, train_y, test_y = preprocess_data(train_X, test_X, train_y, test_y)"
   ]
  },
  {
   "cell_type": "markdown",
   "metadata": {},
   "source": [
    "### Extract Bag-of-Words features\n",
    "\n",
    "For the model we will be implementing, rather than using the reviews directly, we are going to transform each review into a Bag-of-Words feature representation. Keep in mind that 'in the wild' we will only have access to the training set so our transformer can only use the training set to construct a representation."
   ]
  },
  {
   "cell_type": "code",
   "execution_count": 15,
   "metadata": {},
   "outputs": [],
   "source": [
    "import numpy as np\n",
    "from sklearn.feature_extraction.text import CountVectorizer\n",
    "from sklearn.externals import joblib\n",
    "# joblib is an enhanced version of pickle that is more efficient for storing NumPy arrays\n",
    "\n",
    "def extract_BoW_features(words_train, words_test, vocabulary_size=5000,\n",
    "                         cache_dir=cache_dir, cache_file=\"bow_features.pkl\"):\n",
    "    \"\"\"Extract Bag-of-Words for a given set of documents, already preprocessed into words.\"\"\"\n",
    "    \n",
    "    # If cache_file is not None, try to read from it first\n",
    "    cache_data = None\n",
    "    if cache_file is not None:\n",
    "        try:\n",
    "            with open(os.path.join(cache_dir, cache_file), \"rb\") as f:\n",
    "                cache_data = joblib.load(f)\n",
    "            print(\"Read features from cache file:\", cache_file)\n",
    "        except:\n",
    "            pass  # unable to read from cache, but that's okay\n",
    "    \n",
    "    # If cache is missing, then do the heavy lifting\n",
    "    if cache_data is None:\n",
    "        # Fit a vectorizer to training documents and use it to transform them\n",
    "        # NOTE: Training documents have already been preprocessed and tokenized into words;\n",
    "        #       pass in dummy functions to skip those steps, e.g. preprocessor=lambda x: x\n",
    "        vectorizer = CountVectorizer(max_features=vocabulary_size,\n",
    "                preprocessor=lambda x: x, tokenizer=lambda x: x)  # already preprocessed\n",
    "        features_train = vectorizer.fit_transform(words_train).toarray()\n",
    "\n",
    "        # Apply the same vectorizer to transform the test documents (ignore unknown words)\n",
    "        features_test = vectorizer.transform(words_test).toarray()\n",
    "        \n",
    "        # NOTE: Remember to convert the features using .toarray() for a compact representation\n",
    "        \n",
    "        # Write to cache file for future runs (store vocabulary as well)\n",
    "        if cache_file is not None:\n",
    "            vocabulary = vectorizer.vocabulary_\n",
    "            cache_data = dict(features_train=features_train, features_test=features_test,\n",
    "                             vocabulary=vocabulary)\n",
    "            with open(os.path.join(cache_dir, cache_file), \"wb\") as f:\n",
    "                joblib.dump(cache_data, f)\n",
    "            print(\"Wrote features to cache file:\", cache_file)\n",
    "    else:\n",
    "        # Unpack data loaded from cache file\n",
    "        features_train, features_test, vocabulary = (cache_data['features_train'],\n",
    "                cache_data['features_test'], cache_data['vocabulary'])\n",
    "    \n",
    "    # Return both the extracted features as well as the vocabulary\n",
    "    return features_train, features_test, vocabulary"
   ]
  },
  {
   "cell_type": "code",
   "execution_count": 16,
   "metadata": {},
   "outputs": [
    {
     "name": "stdout",
     "output_type": "stream",
     "text": [
      "Read features from cache file: bow_features.pkl\n"
     ]
    }
   ],
   "source": [
    "# Extract Bag of Words features for both training and test datasets\n",
    "train_X, test_X, vocabulary = extract_BoW_features(train_X, test_X)"
   ]
  },
  {
   "cell_type": "markdown",
   "metadata": {},
   "source": [
    "## Step 4: Classification using XGBoost\n",
    "\n",
    "Now that we have created the feature representation of our training (and testing) data, it is time to start setting up and using the XGBoost classifier provided by SageMaker.\n",
    "\n",
    "### Writing the dataset\n",
    "\n",
    "The XGBoost classifier that we will be using requires the dataset to be written to a file and stored using Amazon S3. To do this, we will start by splitting the training dataset into two parts, the data we will train the model with and a validation set. Then, we will write those datasets to a file and upload the files to S3. In addition, we will write the test set input to a file and upload the file to S3. This is so that we can use SageMakers Batch Transform functionality to test our model once we've fit it."
   ]
  },
  {
   "cell_type": "code",
   "execution_count": 17,
   "metadata": {},
   "outputs": [],
   "source": [
    "import pandas as pd\n",
    "\n",
    "val_X = pd.DataFrame(train_X[:10000])\n",
    "train_X = pd.DataFrame(train_X[10000:])\n",
    "\n",
    "val_y = pd.DataFrame(train_y[:10000])\n",
    "train_y = pd.DataFrame(train_y[10000:])\n",
    "\n",
    "test_y = pd.DataFrame(test_y)\n",
    "test_X = pd.DataFrame(test_X)"
   ]
  },
  {
   "cell_type": "markdown",
   "metadata": {},
   "source": [
    "The documentation for the XGBoost algorithm in SageMaker requires that the saved datasets should contain no headers or index and that for the training and validation data, the label should occur first for each sample.\n",
    "\n",
    "For more information about this and other algorithms, the SageMaker developer documentation can be found on __[Amazon's website.](https://docs.aws.amazon.com/sagemaker/latest/dg/)__"
   ]
  },
  {
   "cell_type": "code",
   "execution_count": 18,
   "metadata": {},
   "outputs": [],
   "source": [
    "# First we make sure that the local directory in which we'd like to store the training and validation csv files exists.\n",
    "data_dir = '../data/xgboost'\n",
    "if not os.path.exists(data_dir):\n",
    "    os.makedirs(data_dir)"
   ]
  },
  {
   "cell_type": "code",
   "execution_count": 33,
   "metadata": {},
   "outputs": [
    {
     "ename": "TypeError",
     "evalue": "first argument must be an iterable of pandas objects, you passed an object of type \"DataFrame\"",
     "output_type": "error",
     "traceback": [
      "\u001b[0;31m---------------------------------------------------------------------------\u001b[0m",
      "\u001b[0;31mTypeError\u001b[0m                                 Traceback (most recent call last)",
      "\u001b[0;32m<ipython-input-33-1811bd00fa1c>\u001b[0m in \u001b[0;36m<module>\u001b[0;34m\u001b[0m\n\u001b[1;32m      2\u001b[0m \u001b[0;31m# labels, instead we will use them later to compare with our model output.\u001b[0m\u001b[0;34m\u001b[0m\u001b[0;34m\u001b[0m\u001b[0;34m\u001b[0m\u001b[0m\n\u001b[1;32m      3\u001b[0m \u001b[0;34m\u001b[0m\u001b[0m\n\u001b[0;32m----> 4\u001b[0;31m \u001b[0mpd\u001b[0m\u001b[0;34m.\u001b[0m\u001b[0mconcat\u001b[0m\u001b[0;34m(\u001b[0m\u001b[0mtest_X\u001b[0m\u001b[0;34m)\u001b[0m\u001b[0;34m.\u001b[0m\u001b[0mto_csv\u001b[0m\u001b[0;34m(\u001b[0m\u001b[0mos\u001b[0m\u001b[0;34m.\u001b[0m\u001b[0mpath\u001b[0m\u001b[0;34m.\u001b[0m\u001b[0mjoin\u001b[0m\u001b[0;34m(\u001b[0m\u001b[0mdata_dir\u001b[0m\u001b[0;34m,\u001b[0m \u001b[0;34m'test.csv'\u001b[0m\u001b[0;34m)\u001b[0m\u001b[0;34m,\u001b[0m \u001b[0mheader\u001b[0m\u001b[0;34m=\u001b[0m\u001b[0;32mFalse\u001b[0m\u001b[0;34m,\u001b[0m \u001b[0mindex\u001b[0m\u001b[0;34m=\u001b[0m\u001b[0;32mFalse\u001b[0m\u001b[0;34m)\u001b[0m\u001b[0;34m\u001b[0m\u001b[0;34m\u001b[0m\u001b[0m\n\u001b[0m\u001b[1;32m      5\u001b[0m \u001b[0mpd\u001b[0m\u001b[0;34m.\u001b[0m\u001b[0mconcat\u001b[0m\u001b[0;34m(\u001b[0m\u001b[0;34m[\u001b[0m\u001b[0mval_y\u001b[0m\u001b[0;34m,\u001b[0m \u001b[0mval_X\u001b[0m\u001b[0;34m]\u001b[0m\u001b[0;34m,\u001b[0m \u001b[0maxis\u001b[0m\u001b[0;34m=\u001b[0m\u001b[0;36m1\u001b[0m\u001b[0;34m)\u001b[0m\u001b[0;34m.\u001b[0m\u001b[0mto_csv\u001b[0m\u001b[0;34m(\u001b[0m\u001b[0mos\u001b[0m\u001b[0;34m.\u001b[0m\u001b[0mpath\u001b[0m\u001b[0;34m.\u001b[0m\u001b[0mjoin\u001b[0m\u001b[0;34m(\u001b[0m\u001b[0mdata_dir\u001b[0m\u001b[0;34m,\u001b[0m \u001b[0;34m'validation.csv'\u001b[0m\u001b[0;34m)\u001b[0m\u001b[0;34m,\u001b[0m \u001b[0mheader\u001b[0m\u001b[0;34m=\u001b[0m\u001b[0;32mFalse\u001b[0m\u001b[0;34m,\u001b[0m \u001b[0mindex\u001b[0m\u001b[0;34m=\u001b[0m\u001b[0;32mFalse\u001b[0m\u001b[0;34m)\u001b[0m\u001b[0;34m\u001b[0m\u001b[0;34m\u001b[0m\u001b[0m\n\u001b[1;32m      6\u001b[0m \u001b[0mpd\u001b[0m\u001b[0;34m.\u001b[0m\u001b[0mconcat\u001b[0m\u001b[0;34m(\u001b[0m\u001b[0;34m[\u001b[0m\u001b[0mtrain_y\u001b[0m\u001b[0;34m,\u001b[0m \u001b[0mtrain_X\u001b[0m\u001b[0;34m]\u001b[0m\u001b[0;34m,\u001b[0m \u001b[0maxis\u001b[0m\u001b[0;34m=\u001b[0m\u001b[0;36m1\u001b[0m\u001b[0;34m)\u001b[0m\u001b[0;34m.\u001b[0m\u001b[0mto_csv\u001b[0m\u001b[0;34m(\u001b[0m\u001b[0mos\u001b[0m\u001b[0;34m.\u001b[0m\u001b[0mpath\u001b[0m\u001b[0;34m.\u001b[0m\u001b[0mjoin\u001b[0m\u001b[0;34m(\u001b[0m\u001b[0mdata_dir\u001b[0m\u001b[0;34m,\u001b[0m \u001b[0;34m'train.csv'\u001b[0m\u001b[0;34m)\u001b[0m\u001b[0;34m,\u001b[0m \u001b[0mheader\u001b[0m\u001b[0;34m=\u001b[0m\u001b[0;32mFalse\u001b[0m\u001b[0;34m,\u001b[0m \u001b[0mindex\u001b[0m\u001b[0;34m=\u001b[0m\u001b[0;32mFalse\u001b[0m\u001b[0;34m)\u001b[0m\u001b[0;34m\u001b[0m\u001b[0;34m\u001b[0m\u001b[0m\n",
      "\u001b[0;32m~/anaconda3/envs/python3/lib/python3.6/site-packages/pandas/core/reshape/concat.py\u001b[0m in \u001b[0;36mconcat\u001b[0;34m(objs, axis, join, ignore_index, keys, levels, names, verify_integrity, sort, copy)\u001b[0m\n\u001b[1;32m    279\u001b[0m         \u001b[0mverify_integrity\u001b[0m\u001b[0;34m=\u001b[0m\u001b[0mverify_integrity\u001b[0m\u001b[0;34m,\u001b[0m\u001b[0;34m\u001b[0m\u001b[0;34m\u001b[0m\u001b[0m\n\u001b[1;32m    280\u001b[0m         \u001b[0mcopy\u001b[0m\u001b[0;34m=\u001b[0m\u001b[0mcopy\u001b[0m\u001b[0;34m,\u001b[0m\u001b[0;34m\u001b[0m\u001b[0;34m\u001b[0m\u001b[0m\n\u001b[0;32m--> 281\u001b[0;31m         \u001b[0msort\u001b[0m\u001b[0;34m=\u001b[0m\u001b[0msort\u001b[0m\u001b[0;34m,\u001b[0m\u001b[0;34m\u001b[0m\u001b[0;34m\u001b[0m\u001b[0m\n\u001b[0m\u001b[1;32m    282\u001b[0m     )\n\u001b[1;32m    283\u001b[0m \u001b[0;34m\u001b[0m\u001b[0m\n",
      "\u001b[0;32m~/anaconda3/envs/python3/lib/python3.6/site-packages/pandas/core/reshape/concat.py\u001b[0m in \u001b[0;36m__init__\u001b[0;34m(self, objs, axis, join, keys, levels, names, ignore_index, verify_integrity, copy, sort)\u001b[0m\n\u001b[1;32m    307\u001b[0m                 \u001b[0;34m\"first argument must be an iterable of pandas \"\u001b[0m\u001b[0;34m\u001b[0m\u001b[0;34m\u001b[0m\u001b[0m\n\u001b[1;32m    308\u001b[0m                 \u001b[0;34m\"objects, you passed an object of type \"\u001b[0m\u001b[0;34m\u001b[0m\u001b[0;34m\u001b[0m\u001b[0m\n\u001b[0;32m--> 309\u001b[0;31m                 \u001b[0;34m'\"{name}\"'\u001b[0m\u001b[0;34m.\u001b[0m\u001b[0mformat\u001b[0m\u001b[0;34m(\u001b[0m\u001b[0mname\u001b[0m\u001b[0;34m=\u001b[0m\u001b[0mtype\u001b[0m\u001b[0;34m(\u001b[0m\u001b[0mobjs\u001b[0m\u001b[0;34m)\u001b[0m\u001b[0;34m.\u001b[0m\u001b[0m__name__\u001b[0m\u001b[0;34m)\u001b[0m\u001b[0;34m\u001b[0m\u001b[0;34m\u001b[0m\u001b[0m\n\u001b[0m\u001b[1;32m    310\u001b[0m             )\n\u001b[1;32m    311\u001b[0m \u001b[0;34m\u001b[0m\u001b[0m\n",
      "\u001b[0;31mTypeError\u001b[0m: first argument must be an iterable of pandas objects, you passed an object of type \"DataFrame\""
     ]
    }
   ],
   "source": [
    "# First, save the test data to test.csv in the data_dir directory. Note that we do not save the associated ground truth\n",
    "# labels, instead we will use them later to compare with our model output.\n",
    "\n",
    "pd.concat(test_X).to_csv(os.path.join(data_dir, 'test.csv'), header=False, index=False)\n",
    "pd.concat([val_y, val_X], axis=1).to_csv(os.path.join(data_dir, 'validation.csv'), header=False, index=False)\n",
    "pd.concat([train_y, train_X], axis=1).to_csv(os.path.join(data_dir, 'train.csv'), header=False, index=False)"
   ]
  },
  {
   "cell_type": "code",
   "execution_count": 37,
   "metadata": {},
   "outputs": [],
   "source": [
    "pd.concat([test_X]).to_csv(os.path.join(data_dir, 'test.csv'), header=False, index=False)"
   ]
  },
  {
   "cell_type": "code",
   "execution_count": 38,
   "metadata": {},
   "outputs": [],
   "source": [
    "# To save a bit of memory we can set text_X, train_X, val_X, train_y and val_y to None.\n",
    "\n",
    "train_X = val_X = train_y = val_y = None"
   ]
  },
  {
   "cell_type": "markdown",
   "metadata": {},
   "source": [
    "### Uploading Training / Validation files to S3\n",
    "\n",
    "Amazon's S3 service allows us to store files that can be access by both the built-in training models such as the XGBoost model we will be using as well as custom models such as the one we will see a little later.\n",
    "\n",
    "For this, and most other tasks we will be doing using SageMaker, there are two methods we could use. The first is to use the low level functionality of SageMaker which requires knowing each of the objects involved in the SageMaker environment. The second is to use the high level functionality in which certain choices have been made on the user's behalf. The low level approach benefits from allowing the user a great deal of flexibility while the high level approach makes development much quicker. For our purposes we will opt to use the high level approach although using the low-level approach is certainly an option.\n",
    "\n",
    "Recall the method `upload_data()` which is a member of object representing our current SageMaker session. What this method does is upload the data to the default bucket (which is created if it does not exist) into the path described by the key_prefix variable. To see this for yourself, once you have uploaded the data files, go to the S3 console and look to see where the files have been uploaded.\n",
    "\n",
    "For additional resources, see the __[SageMaker API documentation](http://sagemaker.readthedocs.io/en/latest/)__ and in addition the __[SageMaker Developer Guide.](https://docs.aws.amazon.com/sagemaker/latest/dg/)__"
   ]
  },
  {
   "cell_type": "code",
   "execution_count": 21,
   "metadata": {},
   "outputs": [],
   "source": [
    "import sagemaker\n",
    "\n",
    "session = sagemaker.Session() # Store the current SageMaker session\n",
    "\n",
    "# S3 prefix (which folder will we use)\n",
    "prefix = 'sentiment-xgboost'\n",
    "\n",
    "test_location = session.upload_data(os.path.join(data_dir, 'test.csv'), key_prefix=prefix)\n",
    "val_location = session.upload_data(os.path.join(data_dir, 'validation.csv'), key_prefix=prefix)\n",
    "train_location = session.upload_data(os.path.join(data_dir, 'train.csv'), key_prefix=prefix)"
   ]
  },
  {
   "cell_type": "code",
   "execution_count": 39,
   "metadata": {},
   "outputs": [],
   "source": [
    "test_location = session.upload_data(os.path.join(data_dir, 'test.csv'), key_prefix=prefix)"
   ]
  },
  {
   "cell_type": "markdown",
   "metadata": {},
   "source": [
    "### (TODO) Creating a hypertuned XGBoost model\n",
    "\n",
    "Now that the data has been uploaded it is time to create the XGBoost model. As in the Boston Housing notebook, the first step is to create an estimator object which will be used as the *base* of your hyperparameter tuning job."
   ]
  },
  {
   "cell_type": "code",
   "execution_count": 22,
   "metadata": {},
   "outputs": [],
   "source": [
    "from sagemaker import get_execution_role\n",
    "\n",
    "# Our current execution role is require when creating the model as the training\n",
    "# and inference code will need to access the model artifacts.\n",
    "role = get_execution_role()"
   ]
  },
  {
   "cell_type": "code",
   "execution_count": 24,
   "metadata": {},
   "outputs": [
    {
     "name": "stderr",
     "output_type": "stream",
     "text": [
      "'get_image_uri' method will be deprecated in favor of 'ImageURIProvider' class in SageMaker Python SDK v2.\n"
     ]
    }
   ],
   "source": [
    "# We need to retrieve the location of the container which is provided by Amazon for using XGBoost.\n",
    "# As a matter of convenience, the training and inference code both use the same container.\n",
    "from sagemaker.amazon.amazon_estimator import get_image_uri\n",
    "\n",
    "container = get_image_uri(session.boto_region_name, 'xgboost','1.0-1')"
   ]
  },
  {
   "cell_type": "code",
   "execution_count": 27,
   "metadata": {},
   "outputs": [
    {
     "name": "stderr",
     "output_type": "stream",
     "text": [
      "Parameter image_name will be renamed to image_uri in SageMaker Python SDK v2.\n"
     ]
    }
   ],
   "source": [
    "# TODO: Create a SageMaker estimator using the container location determined in the previous cell.\n",
    "#       It is recommended that you use a single training instance of type ml.m4.xlarge. It is also\n",
    "#       recommended that you use 's3://{}/{}/output'.format(session.default_bucket(), prefix) as the\n",
    "#       output path.\n",
    "\n",
    "xgb = sagemaker.estimator.Estimator(container , \n",
    "                                    role , \n",
    "                                    train_instance_count=1 , \n",
    "                                    train_instance_type='ml.m4.xlarge' , \n",
    "                                    output_path=\"s3://{}/{}/output\".format(session.default_bucket(),prefix) ,\n",
    "                                    sagemaker_session=session \n",
    ")\n",
    "\n",
    "\n",
    "# TODO: Set the XGBoost hyperparameters in the xgb object. Don't forget that in this case we have a binary\n",
    "#       label so we should be using the 'binary:logistic' objective.\n",
    "xgb.set_hyperparameters(max_depth=5,\n",
    "                        eta=0.2,\n",
    "                        gamma=4,\n",
    "                        min_child_weight=6,\n",
    "                        subsample=0.8,\n",
    "                        objective='binary:logistic',\n",
    "                        early_stopping_rounds=10,\n",
    "                        num_round=200)"
   ]
  },
  {
   "cell_type": "markdown",
   "metadata": {},
   "source": [
    "### (TODO) Create the hyperparameter tuner\n",
    "\n",
    "Now that the base estimator has been set up we need to construct a hyperparameter tuner object which we will use to request SageMaker construct a hyperparameter tuning job.\n",
    "\n",
    "**Note:** Training a single sentiment analysis XGBoost model takes longer than training a Boston Housing XGBoost model so if you don't want the hyperparameter tuning job to take too long, make sure to not set the total number of models (jobs) too high."
   ]
  },
  {
   "cell_type": "code",
   "execution_count": 28,
   "metadata": {},
   "outputs": [],
   "source": [
    "# First, make sure to import the relevant objects used to construct the tuner\n",
    "from sagemaker.tuner import IntegerParameter, ContinuousParameter, HyperparameterTuner\n",
    "\n",
    "# TODO: Create the hyperparameter tuner object\n",
    "\n",
    "xgb_hyperparameter_tuner = HyperparameterTuner( estimator=xgb , \n",
    "                                               objective_metric_name = 'validation:rmse' , \n",
    "                                               objective_type= \"Minimize\" ,\n",
    "                                               max_jobs= 20 , \n",
    "                                               max_parallel_jobs=3 , \n",
    "                                               hyperparameter_ranges = {\n",
    "                                                   'max_depth': IntegerParameter(3, 12),\n",
    "                                                    'eta'      : ContinuousParameter(0.05, 0.5),\n",
    "                                                    'min_child_weight': IntegerParameter(2, 8),\n",
    "                                                    'subsample': ContinuousParameter(0.5, 0.9),\n",
    "                                                    'gamma': ContinuousParameter(0, 10),\n",
    "                                                   \n",
    "                                               }\n",
    "\n",
    "\n",
    "\n",
    ")\n",
    "\n"
   ]
  },
  {
   "cell_type": "markdown",
   "metadata": {},
   "source": [
    "### Fit the hyperparameter tuner\n",
    "\n",
    "Now that the hyperparameter tuner object has been constructed, it is time to fit the various models and find the best performing model."
   ]
  },
  {
   "cell_type": "code",
   "execution_count": 29,
   "metadata": {},
   "outputs": [
    {
     "name": "stderr",
     "output_type": "stream",
     "text": [
      "'s3_input' class will be renamed to 'TrainingInput' in SageMaker Python SDK v2.\n",
      "'s3_input' class will be renamed to 'TrainingInput' in SageMaker Python SDK v2.\n"
     ]
    }
   ],
   "source": [
    "s3_input_train = sagemaker.s3_input(s3_data=train_location, content_type='csv')\n",
    "s3_input_validation = sagemaker.s3_input(s3_data=val_location, content_type='csv')"
   ]
  },
  {
   "cell_type": "code",
   "execution_count": 30,
   "metadata": {},
   "outputs": [],
   "source": [
    "xgb_hyperparameter_tuner.fit({'train': s3_input_train, 'validation': s3_input_validation})"
   ]
  },
  {
   "cell_type": "markdown",
   "metadata": {},
   "source": [
    "Remember that the tuning job is constructed and run in the background so if we want to see the progress of our training job we need to call the `wait()` method."
   ]
  },
  {
   "cell_type": "code",
   "execution_count": 31,
   "metadata": {},
   "outputs": [
    {
     "name": "stdout",
     "output_type": "stream",
     "text": [
      "......................................................................................................................................................................................................................................................................................................................................................................................................................................................................................................................................................................................................................................................................................................................................!\n"
     ]
    }
   ],
   "source": [
    "xgb_hyperparameter_tuner.wait()"
   ]
  },
  {
   "cell_type": "markdown",
   "metadata": {},
   "source": [
    "### (TODO) Testing the model\n",
    "\n",
    "Now that we've run our hyperparameter tuning job, it's time to see how well the best performing model actually performs. To do this we will use SageMaker's Batch Transform functionality. Batch Transform is a convenient way to perform inference on a large dataset in a way that is not realtime. That is, we don't necessarily need to use our model's results immediately and instead we can peform inference on a large number of samples. An example of this in industry might be peforming an end of month report. This method of inference can also be useful to us as it means to can perform inference on our entire test set. \n",
    "\n",
    "Remember that in order to create a transformer object to perform the batch transform job, we need a trained estimator object. We can do that using the `attach()` method, creating an estimator object which is attached to the best trained job."
   ]
  },
  {
   "cell_type": "code",
   "execution_count": 40,
   "metadata": {},
   "outputs": [
    {
     "name": "stderr",
     "output_type": "stream",
     "text": [
      "Parameter image_name will be renamed to image_uri in SageMaker Python SDK v2.\n"
     ]
    },
    {
     "name": "stdout",
     "output_type": "stream",
     "text": [
      "2020-08-17 17:43:13 Starting - Preparing the instances for training\n",
      "2020-08-17 17:43:13 Downloading - Downloading input data\n",
      "2020-08-17 17:43:13 Training - Training image download completed. Training in progress.\n",
      "2020-08-17 17:43:13 Uploading - Uploading generated training model\n",
      "2020-08-17 17:43:13 Completed - Training job completed\u001b[34mINFO:sagemaker-containers:Imported framework sagemaker_xgboost_container.training\u001b[0m\n",
      "\u001b[34mINFO:sagemaker-containers:Failed to parse hyperparameter _tuning_objective_metric value validation:rmse to Json.\u001b[0m\n",
      "\u001b[34mReturning the value itself\u001b[0m\n",
      "\u001b[34mINFO:sagemaker-containers:Failed to parse hyperparameter objective value binary:logistic to Json.\u001b[0m\n",
      "\u001b[34mReturning the value itself\u001b[0m\n",
      "\u001b[34mINFO:sagemaker-containers:No GPUs detected (normal if no gpus installed)\u001b[0m\n",
      "\u001b[34mINFO:sagemaker_xgboost_container.training:Running XGBoost Sagemaker in algorithm mode\u001b[0m\n",
      "\u001b[34mINFO:root:Determined delimiter of CSV input is ','\u001b[0m\n",
      "\u001b[34mINFO:root:Determined delimiter of CSV input is ','\u001b[0m\n",
      "\u001b[34mINFO:root:Determined delimiter of CSV input is ','\u001b[0m\n",
      "\u001b[34m[17:36:44] 15000x5000 matrix with 75000000 entries loaded from /opt/ml/input/data/train?format=csv&label_column=0&delimiter=,\u001b[0m\n",
      "\u001b[34mINFO:root:Determined delimiter of CSV input is ','\u001b[0m\n",
      "\u001b[34m[17:36:46] 10000x5000 matrix with 50000000 entries loaded from /opt/ml/input/data/validation?format=csv&label_column=0&delimiter=,\u001b[0m\n",
      "\u001b[34mINFO:root:Single node training.\u001b[0m\n",
      "\u001b[34mINFO:root:Setting up HPO optimized metric to be : rmse\u001b[0m\n",
      "\u001b[34mINFO:root:Train matrix has 15000 rows\u001b[0m\n",
      "\u001b[34mINFO:root:Validation matrix has 10000 rows\u001b[0m\n",
      "\u001b[34m[0]#011train-rmse:0.47195#011validation-rmse:0.47376\u001b[0m\n",
      "\u001b[34m[1]#011train-rmse:0.45206#011validation-rmse:0.45694\u001b[0m\n",
      "\u001b[34m[2]#011train-rmse:0.43771#011validation-rmse:0.44437\u001b[0m\n",
      "\u001b[34m[3]#011train-rmse:0.42658#011validation-rmse:0.43424\u001b[0m\n",
      "\u001b[34m[4]#011train-rmse:0.41745#011validation-rmse:0.42686\u001b[0m\n",
      "\u001b[34m[5]#011train-rmse:0.40923#011validation-rmse:0.41945\u001b[0m\n",
      "\u001b[34m[6]#011train-rmse:0.40194#011validation-rmse:0.41323\u001b[0m\n",
      "\u001b[34m[7]#011train-rmse:0.39572#011validation-rmse:0.40812\u001b[0m\n",
      "\u001b[34m[8]#011train-rmse:0.39060#011validation-rmse:0.40346\u001b[0m\n",
      "\u001b[34m[9]#011train-rmse:0.38520#011validation-rmse:0.39945\u001b[0m\n",
      "\u001b[34m[10]#011train-rmse:0.38003#011validation-rmse:0.39535\u001b[0m\n",
      "\u001b[34m[11]#011train-rmse:0.37576#011validation-rmse:0.39224\u001b[0m\n",
      "\u001b[34m[12]#011train-rmse:0.37161#011validation-rmse:0.38939\u001b[0m\n",
      "\u001b[34m[13]#011train-rmse:0.36747#011validation-rmse:0.38645\u001b[0m\n",
      "\u001b[34m[14]#011train-rmse:0.36385#011validation-rmse:0.38336\u001b[0m\n",
      "\u001b[34m[15]#011train-rmse:0.36039#011validation-rmse:0.38079\u001b[0m\n",
      "\u001b[34m[16]#011train-rmse:0.35725#011validation-rmse:0.37778\u001b[0m\n",
      "\u001b[34m[17]#011train-rmse:0.35371#011validation-rmse:0.37605\u001b[0m\n",
      "\u001b[34m[18]#011train-rmse:0.35080#011validation-rmse:0.37396\u001b[0m\n",
      "\u001b[34m[19]#011train-rmse:0.34792#011validation-rmse:0.37177\u001b[0m\n",
      "\u001b[34m[20]#011train-rmse:0.34470#011validation-rmse:0.36987\u001b[0m\n",
      "\u001b[34m[21]#011train-rmse:0.34245#011validation-rmse:0.36809\u001b[0m\n",
      "\u001b[34m[22]#011train-rmse:0.34008#011validation-rmse:0.36665\u001b[0m\n",
      "\u001b[34m[23]#011train-rmse:0.33783#011validation-rmse:0.36529\u001b[0m\n",
      "\u001b[34m[24]#011train-rmse:0.33566#011validation-rmse:0.36372\u001b[0m\n",
      "\u001b[34m[25]#011train-rmse:0.33347#011validation-rmse:0.36248\u001b[0m\n",
      "\u001b[34m[26]#011train-rmse:0.33098#011validation-rmse:0.36061\u001b[0m\n",
      "\u001b[34m[27]#011train-rmse:0.32906#011validation-rmse:0.35901\u001b[0m\n",
      "\u001b[34m[28]#011train-rmse:0.32690#011validation-rmse:0.35703\u001b[0m\n",
      "\u001b[34m[29]#011train-rmse:0.32400#011validation-rmse:0.35554\u001b[0m\n",
      "\u001b[34m[30]#011train-rmse:0.32142#011validation-rmse:0.35436\u001b[0m\n",
      "\u001b[34m[31]#011train-rmse:0.31936#011validation-rmse:0.35331\u001b[0m\n",
      "\u001b[34m[32]#011train-rmse:0.31795#011validation-rmse:0.35244\u001b[0m\n",
      "\u001b[34m[33]#011train-rmse:0.31671#011validation-rmse:0.35132\u001b[0m\n",
      "\u001b[34m[34]#011train-rmse:0.31498#011validation-rmse:0.35036\u001b[0m\n",
      "\u001b[34m[35]#011train-rmse:0.31323#011validation-rmse:0.34924\u001b[0m\n",
      "\u001b[34m[36]#011train-rmse:0.31192#011validation-rmse:0.34830\u001b[0m\n",
      "\u001b[34m[37]#011train-rmse:0.31061#011validation-rmse:0.34793\u001b[0m\n",
      "\u001b[34m[38]#011train-rmse:0.30896#011validation-rmse:0.34752\u001b[0m\n",
      "\u001b[34m[39]#011train-rmse:0.30782#011validation-rmse:0.34668\u001b[0m\n",
      "\u001b[34m[40]#011train-rmse:0.30658#011validation-rmse:0.34581\u001b[0m\n",
      "\u001b[34m[41]#011train-rmse:0.30553#011validation-rmse:0.34499\u001b[0m\n",
      "\u001b[34m[42]#011train-rmse:0.30443#011validation-rmse:0.34409\u001b[0m\n",
      "\u001b[34m[43]#011train-rmse:0.30324#011validation-rmse:0.34334\u001b[0m\n",
      "\u001b[34m[44]#011train-rmse:0.30230#011validation-rmse:0.34256\u001b[0m\n",
      "\u001b[34m[45]#011train-rmse:0.30084#011validation-rmse:0.34189\u001b[0m\n",
      "\u001b[34m[46]#011train-rmse:0.29952#011validation-rmse:0.34137\u001b[0m\n",
      "\u001b[34m[47]#011train-rmse:0.29835#011validation-rmse:0.34066\u001b[0m\n",
      "\u001b[34m[48]#011train-rmse:0.29735#011validation-rmse:0.33994\u001b[0m\n",
      "\u001b[34m[49]#011train-rmse:0.29644#011validation-rmse:0.33921\u001b[0m\n",
      "\u001b[34m[50]#011train-rmse:0.29552#011validation-rmse:0.33851\u001b[0m\n",
      "\u001b[34m[51]#011train-rmse:0.29433#011validation-rmse:0.33776\u001b[0m\n",
      "\u001b[34m[52]#011train-rmse:0.29355#011validation-rmse:0.33728\u001b[0m\n",
      "\u001b[34m[53]#011train-rmse:0.29269#011validation-rmse:0.33683\u001b[0m\n",
      "\u001b[34m[54]#011train-rmse:0.29158#011validation-rmse:0.33618\u001b[0m\n",
      "\u001b[34m[55]#011train-rmse:0.29054#011validation-rmse:0.33565\u001b[0m\n",
      "\u001b[34m[56]#011train-rmse:0.28979#011validation-rmse:0.33482\u001b[0m\n",
      "\u001b[34m[57]#011train-rmse:0.28892#011validation-rmse:0.33436\u001b[0m\n",
      "\u001b[34m[58]#011train-rmse:0.28746#011validation-rmse:0.33382\u001b[0m\n",
      "\u001b[34m[59]#011train-rmse:0.28653#011validation-rmse:0.33321\u001b[0m\n",
      "\u001b[34m[60]#011train-rmse:0.28561#011validation-rmse:0.33268\u001b[0m\n",
      "\u001b[34m[61]#011train-rmse:0.28475#011validation-rmse:0.33219\u001b[0m\n",
      "\u001b[34m[62]#011train-rmse:0.28379#011validation-rmse:0.33175\u001b[0m\n",
      "\u001b[34m[63]#011train-rmse:0.28277#011validation-rmse:0.33113\u001b[0m\n",
      "\u001b[34m[64]#011train-rmse:0.28184#011validation-rmse:0.33056\u001b[0m\n",
      "\u001b[34m[65]#011train-rmse:0.28123#011validation-rmse:0.33019\u001b[0m\n",
      "\u001b[34m[66]#011train-rmse:0.28054#011validation-rmse:0.32999\u001b[0m\n",
      "\u001b[34m[67]#011train-rmse:0.27948#011validation-rmse:0.32964\u001b[0m\n",
      "\u001b[34m[68]#011train-rmse:0.27832#011validation-rmse:0.32925\u001b[0m\n",
      "\u001b[34m[69]#011train-rmse:0.27776#011validation-rmse:0.32927\u001b[0m\n",
      "\u001b[34m[70]#011train-rmse:0.27722#011validation-rmse:0.32892\u001b[0m\n",
      "\u001b[34m[71]#011train-rmse:0.27642#011validation-rmse:0.32852\u001b[0m\n",
      "\u001b[34m[72]#011train-rmse:0.27574#011validation-rmse:0.32841\u001b[0m\n",
      "\u001b[34m[73]#011train-rmse:0.27492#011validation-rmse:0.32786\u001b[0m\n",
      "\u001b[34m[74]#011train-rmse:0.27428#011validation-rmse:0.32754\u001b[0m\n",
      "\u001b[34m[75]#011train-rmse:0.27348#011validation-rmse:0.32740\u001b[0m\n",
      "\u001b[34m[76]#011train-rmse:0.27261#011validation-rmse:0.32712\u001b[0m\n",
      "\u001b[34m[77]#011train-rmse:0.27192#011validation-rmse:0.32698\u001b[0m\n",
      "\u001b[34m[78]#011train-rmse:0.27143#011validation-rmse:0.32653\u001b[0m\n",
      "\u001b[34m[79]#011train-rmse:0.27077#011validation-rmse:0.32638\u001b[0m\n",
      "\u001b[34m[80]#011train-rmse:0.27014#011validation-rmse:0.32600\u001b[0m\n",
      "\u001b[34m[81]#011train-rmse:0.26951#011validation-rmse:0.32586\u001b[0m\n",
      "\u001b[34m[82]#011train-rmse:0.26866#011validation-rmse:0.32559\u001b[0m\n",
      "\u001b[34m[83]#011train-rmse:0.26778#011validation-rmse:0.32548\u001b[0m\n",
      "\u001b[34m[84]#011train-rmse:0.26711#011validation-rmse:0.32508\u001b[0m\n",
      "\u001b[34m[85]#011train-rmse:0.26654#011validation-rmse:0.32479\u001b[0m\n",
      "\u001b[34m[86]#011train-rmse:0.26600#011validation-rmse:0.32458\u001b[0m\n",
      "\u001b[34m[87]#011train-rmse:0.26530#011validation-rmse:0.32427\u001b[0m\n",
      "\u001b[34m[88]#011train-rmse:0.26469#011validation-rmse:0.32406\u001b[0m\n",
      "\u001b[34m[89]#011train-rmse:0.26401#011validation-rmse:0.32394\u001b[0m\n",
      "\u001b[34m[90]#011train-rmse:0.26344#011validation-rmse:0.32347\u001b[0m\n",
      "\u001b[34m[91]#011train-rmse:0.26283#011validation-rmse:0.32357\u001b[0m\n",
      "\u001b[34m[92]#011train-rmse:0.26238#011validation-rmse:0.32306\u001b[0m\n",
      "\u001b[34m[93]#011train-rmse:0.26180#011validation-rmse:0.32271\u001b[0m\n",
      "\u001b[34m[94]#011train-rmse:0.26127#011validation-rmse:0.32269\u001b[0m\n",
      "\u001b[34m[95]#011train-rmse:0.26088#011validation-rmse:0.32252\u001b[0m\n",
      "\u001b[34m[96]#011train-rmse:0.26054#011validation-rmse:0.32221\u001b[0m\n",
      "\u001b[34m[97]#011train-rmse:0.26017#011validation-rmse:0.32228\u001b[0m\n",
      "\u001b[34m[98]#011train-rmse:0.25977#011validation-rmse:0.32210\u001b[0m\n",
      "\u001b[34m[99]#011train-rmse:0.25925#011validation-rmse:0.32181\u001b[0m\n",
      "\u001b[34m[100]#011train-rmse:0.25877#011validation-rmse:0.32185\u001b[0m\n",
      "\u001b[34m[101]#011train-rmse:0.25840#011validation-rmse:0.32158\u001b[0m\n",
      "\u001b[34m[102]#011train-rmse:0.25800#011validation-rmse:0.32137\u001b[0m\n",
      "\u001b[34m[103]#011train-rmse:0.25733#011validation-rmse:0.32121\u001b[0m\n",
      "\u001b[34m[104]#011train-rmse:0.25681#011validation-rmse:0.32097\u001b[0m\n",
      "\u001b[34m[105]#011train-rmse:0.25618#011validation-rmse:0.32095\u001b[0m\n",
      "\u001b[34m[106]#011train-rmse:0.25568#011validation-rmse:0.32060\u001b[0m\n",
      "\u001b[34m[107]#011train-rmse:0.25522#011validation-rmse:0.32027\u001b[0m\n",
      "\u001b[34m[108]#011train-rmse:0.25462#011validation-rmse:0.32006\u001b[0m\n",
      "\u001b[34m[109]#011train-rmse:0.25440#011validation-rmse:0.31998\u001b[0m\n",
      "\u001b[34m[110]#011train-rmse:0.25404#011validation-rmse:0.31987\u001b[0m\n",
      "\u001b[34m[111]#011train-rmse:0.25355#011validation-rmse:0.31966\u001b[0m\n",
      "\u001b[34m[112]#011train-rmse:0.25311#011validation-rmse:0.31951\u001b[0m\n",
      "\u001b[34m[113]#011train-rmse:0.25252#011validation-rmse:0.31906\u001b[0m\n",
      "\u001b[34m[114]#011train-rmse:0.25189#011validation-rmse:0.31888\u001b[0m\n",
      "\u001b[34m[115]#011train-rmse:0.25155#011validation-rmse:0.31853\u001b[0m\n",
      "\u001b[34m[116]#011train-rmse:0.25115#011validation-rmse:0.31841\u001b[0m\n",
      "\u001b[34m[117]#011train-rmse:0.25066#011validation-rmse:0.31845\u001b[0m\n",
      "\u001b[34m[118]#011train-rmse:0.25022#011validation-rmse:0.31841\u001b[0m\n",
      "\u001b[34m[119]#011train-rmse:0.24985#011validation-rmse:0.31812\u001b[0m\n",
      "\u001b[34m[120]#011train-rmse:0.24943#011validation-rmse:0.31801\u001b[0m\n",
      "\u001b[34m[121]#011train-rmse:0.24884#011validation-rmse:0.31772\u001b[0m\n",
      "\u001b[34m[122]#011train-rmse:0.24846#011validation-rmse:0.31759\u001b[0m\n",
      "\u001b[34m[123]#011train-rmse:0.24791#011validation-rmse:0.31731\u001b[0m\n",
      "\u001b[34m[124]#011train-rmse:0.24750#011validation-rmse:0.31718\u001b[0m\n",
      "\u001b[34m[125]#011train-rmse:0.24698#011validation-rmse:0.31714\u001b[0m\n",
      "\u001b[34m[126]#011train-rmse:0.24630#011validation-rmse:0.31684\u001b[0m\n",
      "\u001b[34m[127]#011train-rmse:0.24604#011validation-rmse:0.31655\u001b[0m\n",
      "\u001b[34m[128]#011train-rmse:0.24532#011validation-rmse:0.31655\u001b[0m\n",
      "\u001b[34m[129]#011train-rmse:0.24493#011validation-rmse:0.31634\u001b[0m\n",
      "\u001b[34m[130]#011train-rmse:0.24435#011validation-rmse:0.31621\u001b[0m\n",
      "\u001b[34m[131]#011train-rmse:0.24399#011validation-rmse:0.31622\u001b[0m\n",
      "\u001b[34m[132]#011train-rmse:0.24366#011validation-rmse:0.31613\u001b[0m\n",
      "\u001b[34m[133]#011train-rmse:0.24324#011validation-rmse:0.31605\u001b[0m\n",
      "\u001b[34m[134]#011train-rmse:0.24279#011validation-rmse:0.31575\u001b[0m\n",
      "\u001b[34m[135]#011train-rmse:0.24241#011validation-rmse:0.31549\u001b[0m\n",
      "\u001b[34m[136]#011train-rmse:0.24212#011validation-rmse:0.31534\u001b[0m\n",
      "\u001b[34m[137]#011train-rmse:0.24177#011validation-rmse:0.31511\u001b[0m\n",
      "\u001b[34m[138]#011train-rmse:0.24135#011validation-rmse:0.31503\u001b[0m\n",
      "\u001b[34m[139]#011train-rmse:0.24118#011validation-rmse:0.31507\u001b[0m\n",
      "\u001b[34m[140]#011train-rmse:0.24079#011validation-rmse:0.31502\u001b[0m\n",
      "\u001b[34m[141]#011train-rmse:0.24035#011validation-rmse:0.31514\u001b[0m\n",
      "\u001b[34m[142]#011train-rmse:0.24006#011validation-rmse:0.31497\u001b[0m\n",
      "\u001b[34m[143]#011train-rmse:0.23966#011validation-rmse:0.31498\u001b[0m\n",
      "\u001b[34m[144]#011train-rmse:0.23934#011validation-rmse:0.31489\u001b[0m\n",
      "\u001b[34m[145]#011train-rmse:0.23904#011validation-rmse:0.31467\u001b[0m\n",
      "\u001b[34m[146]#011train-rmse:0.23864#011validation-rmse:0.31452\u001b[0m\n",
      "\u001b[34m[147]#011train-rmse:0.23835#011validation-rmse:0.31446\u001b[0m\n",
      "\u001b[34m[148]#011train-rmse:0.23805#011validation-rmse:0.31452\u001b[0m\n",
      "\u001b[34m[149]#011train-rmse:0.23772#011validation-rmse:0.31435\u001b[0m\n",
      "\u001b[34m[150]#011train-rmse:0.23741#011validation-rmse:0.31414\u001b[0m\n",
      "\u001b[34m[151]#011train-rmse:0.23713#011validation-rmse:0.31402\u001b[0m\n",
      "\u001b[34m[152]#011train-rmse:0.23652#011validation-rmse:0.31399\u001b[0m\n",
      "\u001b[34m[153]#011train-rmse:0.23617#011validation-rmse:0.31386\u001b[0m\n",
      "\u001b[34m[154]#011train-rmse:0.23578#011validation-rmse:0.31353\u001b[0m\n",
      "\u001b[34m[155]#011train-rmse:0.23507#011validation-rmse:0.31375\u001b[0m\n",
      "\u001b[34m[156]#011train-rmse:0.23482#011validation-rmse:0.31362\u001b[0m\n",
      "\u001b[34m[157]#011train-rmse:0.23454#011validation-rmse:0.31348\u001b[0m\n",
      "\u001b[34m[158]#011train-rmse:0.23404#011validation-rmse:0.31336\u001b[0m\n",
      "\u001b[34m[159]#011train-rmse:0.23355#011validation-rmse:0.31340\u001b[0m\n",
      "\u001b[34m[160]#011train-rmse:0.23329#011validation-rmse:0.31332\u001b[0m\n",
      "\u001b[34m[161]#011train-rmse:0.23306#011validation-rmse:0.31341\u001b[0m\n",
      "\u001b[34m[162]#011train-rmse:0.23275#011validation-rmse:0.31333\u001b[0m\n",
      "\u001b[34m[163]#011train-rmse:0.23246#011validation-rmse:0.31323\u001b[0m\n",
      "\u001b[34m[164]#011train-rmse:0.23216#011validation-rmse:0.31325\u001b[0m\n",
      "\u001b[34m[165]#011train-rmse:0.23211#011validation-rmse:0.31316\u001b[0m\n",
      "\u001b[34m[166]#011train-rmse:0.23193#011validation-rmse:0.31302\u001b[0m\n",
      "\u001b[34m[167]#011train-rmse:0.23173#011validation-rmse:0.31296\u001b[0m\n",
      "\u001b[34m[168]#011train-rmse:0.23144#011validation-rmse:0.31279\u001b[0m\n",
      "\u001b[34m[169]#011train-rmse:0.23118#011validation-rmse:0.31288\u001b[0m\n",
      "\u001b[34m[170]#011train-rmse:0.23074#011validation-rmse:0.31270\u001b[0m\n",
      "\u001b[34m[171]#011train-rmse:0.23055#011validation-rmse:0.31237\u001b[0m\n",
      "\u001b[34m[172]#011train-rmse:0.23035#011validation-rmse:0.31224\u001b[0m\n",
      "\u001b[34m[173]#011train-rmse:0.23008#011validation-rmse:0.31224\u001b[0m\n",
      "\u001b[34m[174]#011train-rmse:0.22985#011validation-rmse:0.31202\u001b[0m\n",
      "\u001b[34m[175]#011train-rmse:0.22964#011validation-rmse:0.31191\u001b[0m\n",
      "\u001b[34m[176]#011train-rmse:0.22944#011validation-rmse:0.31206\u001b[0m\n",
      "\u001b[34m[177]#011train-rmse:0.22941#011validation-rmse:0.31214\u001b[0m\n",
      "\u001b[34m[178]#011train-rmse:0.22912#011validation-rmse:0.31213\u001b[0m\n",
      "\u001b[34m[179]#011train-rmse:0.22894#011validation-rmse:0.31215\u001b[0m\n",
      "\u001b[34m[180]#011train-rmse:0.22857#011validation-rmse:0.31218\u001b[0m\n",
      "\u001b[34m[181]#011train-rmse:0.22817#011validation-rmse:0.31207\u001b[0m\n",
      "\u001b[34m[182]#011train-rmse:0.22782#011validation-rmse:0.31208\u001b[0m\n",
      "\u001b[34m[183]#011train-rmse:0.22748#011validation-rmse:0.31197\u001b[0m\n",
      "\u001b[34m[184]#011train-rmse:0.22714#011validation-rmse:0.31193\u001b[0m\n",
      "\u001b[34m[185]#011train-rmse:0.22685#011validation-rmse:0.31184\u001b[0m\n",
      "\u001b[34m[186]#011train-rmse:0.22672#011validation-rmse:0.31188\u001b[0m\n",
      "\u001b[34m[187]#011train-rmse:0.22640#011validation-rmse:0.31177\u001b[0m\n",
      "\u001b[34m[188]#011train-rmse:0.22620#011validation-rmse:0.31168\u001b[0m\n",
      "\u001b[34m[189]#011train-rmse:0.22610#011validation-rmse:0.31160\u001b[0m\n",
      "\u001b[34m[190]#011train-rmse:0.22602#011validation-rmse:0.31160\u001b[0m\n",
      "\u001b[34m[191]#011train-rmse:0.22571#011validation-rmse:0.31148\u001b[0m\n",
      "\u001b[34m[192]#011train-rmse:0.22562#011validation-rmse:0.31149\u001b[0m\n",
      "\u001b[34m[193]#011train-rmse:0.22559#011validation-rmse:0.31148\u001b[0m\n",
      "\u001b[34m[194]#011train-rmse:0.22538#011validation-rmse:0.31139\u001b[0m\n",
      "\u001b[34m[195]#011train-rmse:0.22526#011validation-rmse:0.31134\u001b[0m\n",
      "\u001b[34m[196]#011train-rmse:0.22498#011validation-rmse:0.31123\u001b[0m\n",
      "\u001b[34m[197]#011train-rmse:0.22465#011validation-rmse:0.31109\u001b[0m\n",
      "\u001b[34m[198]#011train-rmse:0.22440#011validation-rmse:0.31113\u001b[0m\n",
      "\u001b[34m[199]#011train-rmse:0.22441#011validation-rmse:0.31114\u001b[0m\n",
      "Training seconds: 449\n",
      "Billable seconds: 449\n"
     ]
    }
   ],
   "source": [
    "# TODO: Create a new estimator object attached to the best training job found during hyperparameter tuning\n",
    "xgb_attached = sagemaker.estimator.Estimator.attach(xgb_hyperparameter_tuner.best_training_job())\n"
   ]
  },
  {
   "cell_type": "markdown",
   "metadata": {},
   "source": [
    "Now that we have an estimator object attached to the correct training job, we can proceed as we normally would and create a transformer object."
   ]
  },
  {
   "cell_type": "code",
   "execution_count": 41,
   "metadata": {},
   "outputs": [
    {
     "name": "stderr",
     "output_type": "stream",
     "text": [
      "Parameter image will be renamed to image_uri in SageMaker Python SDK v2.\n"
     ]
    }
   ],
   "source": [
    "# TODO: Create a transformer object from the attached estimator. Using an instance count of 1 and an instance type of ml.m4.xlarge\n",
    "#       should be more than enough.\n",
    "\n",
    "xgb_transformer = xgb_attached.transformer(instance_count = 1 , instance_type = 'ml.m4.xlarge')\n",
    "\n"
   ]
  },
  {
   "cell_type": "markdown",
   "metadata": {},
   "source": [
    "Next we actually perform the transform job. When doing so we need to make sure to specify the type of data we are sending so that it is serialized correctly in the background. In our case we are providing our model with csv data so we specify `text/csv`. Also, if the test data that we have provided is too large to process all at once then we need to specify how the data file should be split up. Since each line is a single entry in our data set we tell SageMaker that it can split the input on each line."
   ]
  },
  {
   "cell_type": "code",
   "execution_count": 42,
   "metadata": {},
   "outputs": [],
   "source": [
    "# TODO: Start the transform job. Make sure to specify the content type and the split type of the test data.\n",
    "xgb_transformer.transform(test_location, content_type='text/csv', split_type='Line')"
   ]
  },
  {
   "cell_type": "markdown",
   "metadata": {},
   "source": [
    "Currently the transform job is running but it is doing so in the background. Since we wish to wait until the transform job is done and we would like a bit of feedback we can run the `wait()` method."
   ]
  },
  {
   "cell_type": "code",
   "execution_count": 43,
   "metadata": {},
   "outputs": [
    {
     "name": "stdout",
     "output_type": "stream",
     "text": [
      "................................\u001b[32m2020-08-17T17:55:13.533:[sagemaker logs]: MaxConcurrentTransforms=4, MaxPayloadInMB=6, BatchStrategy=MULTI_RECORD\u001b[0m\n",
      "\u001b[34m[2020-08-17:17:55:11:INFO] No GPUs detected (normal if no gpus installed)\u001b[0m\n",
      "\u001b[34m[2020-08-17:17:55:11:INFO] No GPUs detected (normal if no gpus installed)\u001b[0m\n",
      "\u001b[34m[2020-08-17:17:55:11:INFO] nginx config: \u001b[0m\n",
      "\u001b[34mworker_processes auto;\u001b[0m\n",
      "\u001b[34mdaemon off;\u001b[0m\n",
      "\u001b[34mpid /tmp/nginx.pid;\u001b[0m\n",
      "\u001b[34merror_log  /dev/stderr;\n",
      "\u001b[0m\n",
      "\u001b[34mworker_rlimit_nofile 4096;\n",
      "\u001b[0m\n",
      "\u001b[34mevents {\n",
      "  worker_connections 2048;\u001b[0m\n",
      "\u001b[34m}\n",
      "\u001b[0m\n",
      "\u001b[35m[2020-08-17:17:55:11:INFO] No GPUs detected (normal if no gpus installed)\u001b[0m\n",
      "\u001b[35m[2020-08-17:17:55:11:INFO] No GPUs detected (normal if no gpus installed)\u001b[0m\n",
      "\u001b[35m[2020-08-17:17:55:11:INFO] nginx config: \u001b[0m\n",
      "\u001b[35mworker_processes auto;\u001b[0m\n",
      "\u001b[35mdaemon off;\u001b[0m\n",
      "\u001b[35mpid /tmp/nginx.pid;\u001b[0m\n",
      "\u001b[35merror_log  /dev/stderr;\n",
      "\u001b[0m\n",
      "\u001b[35mworker_rlimit_nofile 4096;\n",
      "\u001b[0m\n",
      "\u001b[35mevents {\n",
      "  worker_connections 2048;\u001b[0m\n",
      "\u001b[35m}\n",
      "\u001b[0m\n",
      "\u001b[34mhttp {\n",
      "  include /etc/nginx/mime.types;\n",
      "  default_type application/octet-stream;\n",
      "  access_log /dev/stdout combined;\n",
      "\n",
      "  upstream gunicorn {\n",
      "    server unix:/tmp/gunicorn.sock;\n",
      "  }\n",
      "\n",
      "  server {\n",
      "    listen 8080 deferred;\n",
      "    client_max_body_size 0;\n",
      "\n",
      "    keepalive_timeout 3;\n",
      "\n",
      "    location ~ ^/(ping|invocations|execution-parameters) {\n",
      "      proxy_set_header X-Forwarded-For $proxy_add_x_forwarded_for;\n",
      "      proxy_set_header Host $http_host;\n",
      "      proxy_redirect off;\n",
      "      proxy_read_timeout 60s;\n",
      "      proxy_pass http://gunicorn;\n",
      "    }\n",
      "\n",
      "    location / {\n",
      "      return 404 \"{}\";\n",
      "    }\n",
      "\n",
      "  }\u001b[0m\n",
      "\u001b[34m}\n",
      "\n",
      "\u001b[0m\n",
      "\u001b[34m2020/08/17 17:55:11 [crit] 19#19: *1 connect() to unix:/tmp/gunicorn.sock failed (2: No such file or directory) while connecting to upstream, client: 169.254.255.130, server: , request: \"GET /ping HTTP/1.1\", upstream: \"http://unix:/tmp/gunicorn.sock:/ping\", host: \"169.254.255.131:8080\"\u001b[0m\n",
      "\u001b[34m169.254.255.130 - - [17/Aug/2020:17:55:11 +0000] \"GET /ping HTTP/1.1\" 502 182 \"-\" \"Go-http-client/1.1\"\u001b[0m\n",
      "\u001b[34m2020/08/17 17:55:11 [crit] 19#19: *3 connect() to unix:/tmp/gunicorn.sock failed (2: No such file or directory) while connecting to upstream, client: 169.254.255.130, server: , request: \"GET /ping HTTP/1.1\", upstream: \"http://unix:/tmp/gunicorn.sock:/ping\", host: \"169.254.255.131:8080\"\u001b[0m\n",
      "\u001b[34m169.254.255.130 - - [17/Aug/2020:17:55:11 +0000] \"GET /ping HTTP/1.1\" 502 182 \"-\" \"Go-http-client/1.1\"\u001b[0m\n",
      "\u001b[35mhttp {\n",
      "  include /etc/nginx/mime.types;\n",
      "  default_type application/octet-stream;\n",
      "  access_log /dev/stdout combined;\n",
      "\n",
      "  upstream gunicorn {\n",
      "    server unix:/tmp/gunicorn.sock;\n",
      "  }\n",
      "\n",
      "  server {\n",
      "    listen 8080 deferred;\n",
      "    client_max_body_size 0;\n",
      "\n",
      "    keepalive_timeout 3;\n",
      "\n",
      "    location ~ ^/(ping|invocations|execution-parameters) {\n",
      "      proxy_set_header X-Forwarded-For $proxy_add_x_forwarded_for;\n",
      "      proxy_set_header Host $http_host;\n",
      "      proxy_redirect off;\n",
      "      proxy_read_timeout 60s;\n",
      "      proxy_pass http://gunicorn;\n",
      "    }\n",
      "\n",
      "    location / {\n",
      "      return 404 \"{}\";\n",
      "    }\n",
      "\n",
      "  }\u001b[0m\n",
      "\u001b[35m}\n",
      "\n",
      "\u001b[0m\n",
      "\u001b[35m2020/08/17 17:55:11 [crit] 19#19: *1 connect() to unix:/tmp/gunicorn.sock failed (2: No such file or directory) while connecting to upstream, client: 169.254.255.130, server: , request: \"GET /ping HTTP/1.1\", upstream: \"http://unix:/tmp/gunicorn.sock:/ping\", host: \"169.254.255.131:8080\"\u001b[0m\n",
      "\u001b[35m169.254.255.130 - - [17/Aug/2020:17:55:11 +0000] \"GET /ping HTTP/1.1\" 502 182 \"-\" \"Go-http-client/1.1\"\u001b[0m\n",
      "\u001b[35m2020/08/17 17:55:11 [crit] 19#19: *3 connect() to unix:/tmp/gunicorn.sock failed (2: No such file or directory) while connecting to upstream, client: 169.254.255.130, server: , request: \"GET /ping HTTP/1.1\", upstream: \"http://unix:/tmp/gunicorn.sock:/ping\", host: \"169.254.255.131:8080\"\u001b[0m\n",
      "\u001b[35m169.254.255.130 - - [17/Aug/2020:17:55:11 +0000] \"GET /ping HTTP/1.1\" 502 182 \"-\" \"Go-http-client/1.1\"\u001b[0m\n",
      "\u001b[34m[2020-08-17 17:55:11 +0000] [17] [INFO] Starting gunicorn 19.10.0\u001b[0m\n",
      "\u001b[34m[2020-08-17 17:55:11 +0000] [17] [INFO] Listening at: unix:/tmp/gunicorn.sock (17)\u001b[0m\n",
      "\u001b[34m[2020-08-17 17:55:11 +0000] [17] [INFO] Using worker: gevent\u001b[0m\n",
      "\u001b[34m[2020-08-17 17:55:11 +0000] [24] [INFO] Booting worker with pid: 24\u001b[0m\n",
      "\u001b[34m[2020-08-17 17:55:11 +0000] [25] [INFO] Booting worker with pid: 25\u001b[0m\n",
      "\u001b[34m[2020-08-17 17:55:11 +0000] [26] [INFO] Booting worker with pid: 26\u001b[0m\n",
      "\u001b[34m[2020-08-17 17:55:11 +0000] [30] [INFO] Booting worker with pid: 30\u001b[0m\n",
      "\u001b[34m[2020-08-17:17:55:13:INFO] No GPUs detected (normal if no gpus installed)\u001b[0m\n",
      "\u001b[34m169.254.255.130 - - [17/Aug/2020:17:55:13 +0000] \"GET /ping HTTP/1.1\" 200 0 \"-\" \"Go-http-client/1.1\"\u001b[0m\n",
      "\u001b[34m169.254.255.130 - - [17/Aug/2020:17:55:13 +0000] \"GET /execution-parameters HTTP/1.1\" 200 84 \"-\" \"Go-http-client/1.1\"\u001b[0m\n",
      "\u001b[34m[2020-08-17:17:55:13:INFO] No GPUs detected (normal if no gpus installed)\u001b[0m\n",
      "\u001b[34m[2020-08-17:17:55:13:INFO] No GPUs detected (normal if no gpus installed)\u001b[0m\n",
      "\u001b[34m[2020-08-17:17:55:13:INFO] Determined delimiter of CSV input is ','\u001b[0m\n",
      "\u001b[34m[2020-08-17:17:55:13:INFO] Determined delimiter of CSV input is ','\u001b[0m\n",
      "\u001b[34m[2020-08-17:17:55:14:INFO] No GPUs detected (normal if no gpus installed)\u001b[0m\n",
      "\u001b[34m[2020-08-17:17:55:14:INFO] Determined delimiter of CSV input is ','\u001b[0m\n",
      "\u001b[34m[2020-08-17:17:55:14:INFO] Determined delimiter of CSV input is ','\u001b[0m\n",
      "\u001b[35m[2020-08-17 17:55:11 +0000] [17] [INFO] Starting gunicorn 19.10.0\u001b[0m\n",
      "\u001b[35m[2020-08-17 17:55:11 +0000] [17] [INFO] Listening at: unix:/tmp/gunicorn.sock (17)\u001b[0m\n",
      "\u001b[35m[2020-08-17 17:55:11 +0000] [17] [INFO] Using worker: gevent\u001b[0m\n",
      "\u001b[35m[2020-08-17 17:55:11 +0000] [24] [INFO] Booting worker with pid: 24\u001b[0m\n",
      "\u001b[35m[2020-08-17 17:55:11 +0000] [25] [INFO] Booting worker with pid: 25\u001b[0m\n",
      "\u001b[35m[2020-08-17 17:55:11 +0000] [26] [INFO] Booting worker with pid: 26\u001b[0m\n",
      "\u001b[35m[2020-08-17 17:55:11 +0000] [30] [INFO] Booting worker with pid: 30\u001b[0m\n",
      "\u001b[35m[2020-08-17:17:55:13:INFO] No GPUs detected (normal if no gpus installed)\u001b[0m\n",
      "\u001b[35m169.254.255.130 - - [17/Aug/2020:17:55:13 +0000] \"GET /ping HTTP/1.1\" 200 0 \"-\" \"Go-http-client/1.1\"\u001b[0m\n",
      "\u001b[35m169.254.255.130 - - [17/Aug/2020:17:55:13 +0000] \"GET /execution-parameters HTTP/1.1\" 200 84 \"-\" \"Go-http-client/1.1\"\u001b[0m\n",
      "\u001b[35m[2020-08-17:17:55:13:INFO] No GPUs detected (normal if no gpus installed)\u001b[0m\n",
      "\u001b[35m[2020-08-17:17:55:13:INFO] No GPUs detected (normal if no gpus installed)\u001b[0m\n",
      "\u001b[35m[2020-08-17:17:55:13:INFO] Determined delimiter of CSV input is ','\u001b[0m\n",
      "\u001b[35m[2020-08-17:17:55:13:INFO] Determined delimiter of CSV input is ','\u001b[0m\n",
      "\u001b[35m[2020-08-17:17:55:14:INFO] No GPUs detected (normal if no gpus installed)\u001b[0m\n",
      "\u001b[35m[2020-08-17:17:55:14:INFO] Determined delimiter of CSV input is ','\u001b[0m\n",
      "\u001b[35m[2020-08-17:17:55:14:INFO] Determined delimiter of CSV input is ','\u001b[0m\n",
      "\u001b[34m169.254.255.130 - - [17/Aug/2020:17:55:16 +0000] \"POST /invocations HTTP/1.1\" 200 12270 \"-\" \"Go-http-client/1.1\"\u001b[0m\n",
      "\u001b[34m169.254.255.130 - - [17/Aug/2020:17:55:17 +0000] \"POST /invocations HTTP/1.1\" 200 12287 \"-\" \"Go-http-client/1.1\"\u001b[0m\n",
      "\u001b[34m169.254.255.130 - - [17/Aug/2020:17:55:17 +0000] \"POST /invocations HTTP/1.1\" 200 12317 \"-\" \"Go-http-client/1.1\"\u001b[0m\n",
      "\u001b[34m169.254.255.130 - - [17/Aug/2020:17:55:17 +0000] \"POST /invocations HTTP/1.1\" 200 12272 \"-\" \"Go-http-client/1.1\"\u001b[0m\n",
      "\u001b[34m[2020-08-17:17:55:17:INFO] Determined delimiter of CSV input is ','\u001b[0m\n",
      "\u001b[34m[2020-08-17:17:55:17:INFO] Determined delimiter of CSV input is ','\u001b[0m\n",
      "\u001b[35m169.254.255.130 - - [17/Aug/2020:17:55:16 +0000] \"POST /invocations HTTP/1.1\" 200 12270 \"-\" \"Go-http-client/1.1\"\u001b[0m\n",
      "\u001b[35m169.254.255.130 - - [17/Aug/2020:17:55:17 +0000] \"POST /invocations HTTP/1.1\" 200 12287 \"-\" \"Go-http-client/1.1\"\u001b[0m\n",
      "\u001b[35m169.254.255.130 - - [17/Aug/2020:17:55:17 +0000] \"POST /invocations HTTP/1.1\" 200 12317 \"-\" \"Go-http-client/1.1\"\u001b[0m\n",
      "\u001b[35m169.254.255.130 - - [17/Aug/2020:17:55:17 +0000] \"POST /invocations HTTP/1.1\" 200 12272 \"-\" \"Go-http-client/1.1\"\u001b[0m\n",
      "\u001b[35m[2020-08-17:17:55:17:INFO] Determined delimiter of CSV input is ','\u001b[0m\n",
      "\u001b[35m[2020-08-17:17:55:17:INFO] Determined delimiter of CSV input is ','\u001b[0m\n",
      "\u001b[34m[2020-08-17:17:55:17:INFO] Determined delimiter of CSV input is ','\u001b[0m\n",
      "\u001b[34m[2020-08-17:17:55:17:INFO] Determined delimiter of CSV input is ','\u001b[0m\n",
      "\u001b[35m[2020-08-17:17:55:17:INFO] Determined delimiter of CSV input is ','\u001b[0m\n",
      "\u001b[35m[2020-08-17:17:55:17:INFO] Determined delimiter of CSV input is ','\u001b[0m\n",
      "\u001b[34m169.254.255.130 - - [17/Aug/2020:17:55:20 +0000] \"POST /invocations HTTP/1.1\" 200 12299 \"-\" \"Go-http-client/1.1\"\u001b[0m\n",
      "\u001b[34m169.254.255.130 - - [17/Aug/2020:17:55:20 +0000] \"POST /invocations HTTP/1.1\" 200 12249 \"-\" \"Go-http-client/1.1\"\u001b[0m\n",
      "\u001b[34m169.254.255.130 - - [17/Aug/2020:17:55:20 +0000] \"POST /invocations HTTP/1.1\" 200 12302 \"-\" \"Go-http-client/1.1\"\u001b[0m\n",
      "\u001b[34m[2020-08-17:17:55:20:INFO] Determined delimiter of CSV input is ','\u001b[0m\n",
      "\u001b[34m169.254.255.130 - - [17/Aug/2020:17:55:20 +0000] \"POST /invocations HTTP/1.1\" 200 12292 \"-\" \"Go-http-client/1.1\"\u001b[0m\n",
      "\u001b[34m[2020-08-17:17:55:20:INFO] Determined delimiter of CSV input is ','\u001b[0m\n",
      "\u001b[34m[2020-08-17:17:55:20:INFO] Determined delimiter of CSV input is ','\u001b[0m\n",
      "\u001b[34m[2020-08-17:17:55:20:INFO] Determined delimiter of CSV input is ','\u001b[0m\n",
      "\u001b[35m169.254.255.130 - - [17/Aug/2020:17:55:20 +0000] \"POST /invocations HTTP/1.1\" 200 12299 \"-\" \"Go-http-client/1.1\"\u001b[0m\n",
      "\u001b[35m169.254.255.130 - - [17/Aug/2020:17:55:20 +0000] \"POST /invocations HTTP/1.1\" 200 12249 \"-\" \"Go-http-client/1.1\"\u001b[0m\n",
      "\u001b[35m169.254.255.130 - - [17/Aug/2020:17:55:20 +0000] \"POST /invocations HTTP/1.1\" 200 12302 \"-\" \"Go-http-client/1.1\"\u001b[0m\n",
      "\u001b[35m[2020-08-17:17:55:20:INFO] Determined delimiter of CSV input is ','\u001b[0m\n",
      "\u001b[35m169.254.255.130 - - [17/Aug/2020:17:55:20 +0000] \"POST /invocations HTTP/1.1\" 200 12292 \"-\" \"Go-http-client/1.1\"\u001b[0m\n",
      "\u001b[35m[2020-08-17:17:55:20:INFO] Determined delimiter of CSV input is ','\u001b[0m\n",
      "\u001b[35m[2020-08-17:17:55:20:INFO] Determined delimiter of CSV input is ','\u001b[0m\n",
      "\u001b[35m[2020-08-17:17:55:20:INFO] Determined delimiter of CSV input is ','\u001b[0m\n",
      "\u001b[34m169.254.255.130 - - [17/Aug/2020:17:55:23 +0000] \"POST /invocations HTTP/1.1\" 200 12332 \"-\" \"Go-http-client/1.1\"\u001b[0m\n",
      "\u001b[34m169.254.255.130 - - [17/Aug/2020:17:55:23 +0000] \"POST /invocations HTTP/1.1\" 200 12259 \"-\" \"Go-http-client/1.1\"\u001b[0m\n",
      "\u001b[34m169.254.255.130 - - [17/Aug/2020:17:55:23 +0000] \"POST /invocations HTTP/1.1\" 200 12307 \"-\" \"Go-http-client/1.1\"\u001b[0m\n",
      "\u001b[34m[2020-08-17:17:55:23:INFO] Determined delimiter of CSV input is ','\u001b[0m\n",
      "\u001b[34m169.254.255.130 - - [17/Aug/2020:17:55:23 +0000] \"POST /invocations HTTP/1.1\" 200 12293 \"-\" \"Go-http-client/1.1\"\u001b[0m\n",
      "\u001b[34m[2020-08-17:17:55:23:INFO] Determined delimiter of CSV input is ','\u001b[0m\n",
      "\u001b[34m[2020-08-17:17:55:23:INFO] Determined delimiter of CSV input is ','\u001b[0m\n",
      "\u001b[35m169.254.255.130 - - [17/Aug/2020:17:55:23 +0000] \"POST /invocations HTTP/1.1\" 200 12332 \"-\" \"Go-http-client/1.1\"\u001b[0m\n",
      "\u001b[35m169.254.255.130 - - [17/Aug/2020:17:55:23 +0000] \"POST /invocations HTTP/1.1\" 200 12259 \"-\" \"Go-http-client/1.1\"\u001b[0m\n",
      "\u001b[35m169.254.255.130 - - [17/Aug/2020:17:55:23 +0000] \"POST /invocations HTTP/1.1\" 200 12307 \"-\" \"Go-http-client/1.1\"\u001b[0m\n",
      "\u001b[35m[2020-08-17:17:55:23:INFO] Determined delimiter of CSV input is ','\u001b[0m\n",
      "\u001b[35m169.254.255.130 - - [17/Aug/2020:17:55:23 +0000] \"POST /invocations HTTP/1.1\" 200 12293 \"-\" \"Go-http-client/1.1\"\u001b[0m\n",
      "\u001b[35m[2020-08-17:17:55:23:INFO] Determined delimiter of CSV input is ','\u001b[0m\n",
      "\u001b[35m[2020-08-17:17:55:23:INFO] Determined delimiter of CSV input is ','\u001b[0m\n",
      "\u001b[34m[2020-08-17:17:55:23:INFO] Determined delimiter of CSV input is ','\u001b[0m\n",
      "\u001b[35m[2020-08-17:17:55:23:INFO] Determined delimiter of CSV input is ','\u001b[0m\n"
     ]
    },
    {
     "name": "stdout",
     "output_type": "stream",
     "text": [
      "\u001b[34m169.254.255.130 - - [17/Aug/2020:17:55:26 +0000] \"POST /invocations HTTP/1.1\" 200 12310 \"-\" \"Go-http-client/1.1\"\u001b[0m\n",
      "\u001b[34m169.254.255.130 - - [17/Aug/2020:17:55:26 +0000] \"POST /invocations HTTP/1.1\" 200 12369 \"-\" \"Go-http-client/1.1\"\u001b[0m\n",
      "\u001b[34m[2020-08-17:17:55:26:INFO] Determined delimiter of CSV input is ','\u001b[0m\n",
      "\u001b[35m169.254.255.130 - - [17/Aug/2020:17:55:26 +0000] \"POST /invocations HTTP/1.1\" 200 12310 \"-\" \"Go-http-client/1.1\"\u001b[0m\n",
      "\u001b[35m169.254.255.130 - - [17/Aug/2020:17:55:26 +0000] \"POST /invocations HTTP/1.1\" 200 12369 \"-\" \"Go-http-client/1.1\"\u001b[0m\n",
      "\u001b[35m[2020-08-17:17:55:26:INFO] Determined delimiter of CSV input is ','\u001b[0m\n",
      "\u001b[34m169.254.255.130 - - [17/Aug/2020:17:55:26 +0000] \"POST /invocations HTTP/1.1\" 200 12258 \"-\" \"Go-http-client/1.1\"\u001b[0m\n",
      "\u001b[34m[2020-08-17:17:55:26:INFO] Determined delimiter of CSV input is ','\u001b[0m\n",
      "\u001b[34m[2020-08-17:17:55:27:INFO] Determined delimiter of CSV input is ','\u001b[0m\n",
      "\u001b[35m169.254.255.130 - - [17/Aug/2020:17:55:26 +0000] \"POST /invocations HTTP/1.1\" 200 12258 \"-\" \"Go-http-client/1.1\"\u001b[0m\n",
      "\u001b[35m[2020-08-17:17:55:26:INFO] Determined delimiter of CSV input is ','\u001b[0m\n",
      "\u001b[35m[2020-08-17:17:55:27:INFO] Determined delimiter of CSV input is ','\u001b[0m\n",
      "\u001b[34m[2020-08-17:17:55:27:INFO] Determined delimiter of CSV input is ','\u001b[0m\n",
      "\u001b[35m[2020-08-17:17:55:27:INFO] Determined delimiter of CSV input is ','\u001b[0m\n",
      "\u001b[34m169.254.255.130 - - [17/Aug/2020:17:55:29 +0000] \"POST /invocations HTTP/1.1\" 200 12251 \"-\" \"Go-http-client/1.1\"\u001b[0m\n",
      "\u001b[35m169.254.255.130 - - [17/Aug/2020:17:55:29 +0000] \"POST /invocations HTTP/1.1\" 200 12251 \"-\" \"Go-http-client/1.1\"\u001b[0m\n",
      "\u001b[34m169.254.255.130 - - [17/Aug/2020:17:55:29 +0000] \"POST /invocations HTTP/1.1\" 200 12268 \"-\" \"Go-http-client/1.1\"\u001b[0m\n",
      "\u001b[34m[2020-08-17:17:55:30:INFO] Determined delimiter of CSV input is ','\u001b[0m\n",
      "\u001b[34m169.254.255.130 - - [17/Aug/2020:17:55:30 +0000] \"POST /invocations HTTP/1.1\" 200 12257 \"-\" \"Go-http-client/1.1\"\u001b[0m\n",
      "\u001b[34m169.254.255.130 - - [17/Aug/2020:17:55:30 +0000] \"POST /invocations HTTP/1.1\" 200 12287 \"-\" \"Go-http-client/1.1\"\u001b[0m\n",
      "\u001b[34m[2020-08-17:17:55:30:INFO] Determined delimiter of CSV input is ','\u001b[0m\n",
      "\u001b[34m[2020-08-17:17:55:30:INFO] Determined delimiter of CSV input is ','\u001b[0m\n",
      "\u001b[34m[2020-08-17:17:55:30:INFO] Determined delimiter of CSV input is ','\u001b[0m\n",
      "\u001b[35m169.254.255.130 - - [17/Aug/2020:17:55:29 +0000] \"POST /invocations HTTP/1.1\" 200 12268 \"-\" \"Go-http-client/1.1\"\u001b[0m\n",
      "\u001b[35m[2020-08-17:17:55:30:INFO] Determined delimiter of CSV input is ','\u001b[0m\n",
      "\u001b[35m169.254.255.130 - - [17/Aug/2020:17:55:30 +0000] \"POST /invocations HTTP/1.1\" 200 12257 \"-\" \"Go-http-client/1.1\"\u001b[0m\n",
      "\u001b[35m169.254.255.130 - - [17/Aug/2020:17:55:30 +0000] \"POST /invocations HTTP/1.1\" 200 12287 \"-\" \"Go-http-client/1.1\"\u001b[0m\n",
      "\u001b[35m[2020-08-17:17:55:30:INFO] Determined delimiter of CSV input is ','\u001b[0m\n",
      "\u001b[35m[2020-08-17:17:55:30:INFO] Determined delimiter of CSV input is ','\u001b[0m\n",
      "\u001b[35m[2020-08-17:17:55:30:INFO] Determined delimiter of CSV input is ','\u001b[0m\n",
      "\u001b[34m[2020-08-17:17:55:33:INFO] Determined delimiter of CSV input is ','\u001b[0m\n",
      "\u001b[35m[2020-08-17:17:55:33:INFO] Determined delimiter of CSV input is ','\u001b[0m\n",
      "\u001b[34m169.254.255.130 - - [17/Aug/2020:17:55:36 +0000] \"POST /invocations HTTP/1.1\" 200 12310 \"-\" \"Go-http-client/1.1\"\u001b[0m\n",
      "\u001b[34m169.254.255.130 - - [17/Aug/2020:17:55:36 +0000] \"POST /invocations HTTP/1.1\" 200 12307 \"-\" \"Go-http-client/1.1\"\u001b[0m\n",
      "\u001b[34m[2020-08-17:17:55:36:INFO] Determined delimiter of CSV input is ','\u001b[0m\n",
      "\u001b[34m169.254.255.130 - - [17/Aug/2020:17:55:36 +0000] \"POST /invocations HTTP/1.1\" 200 12294 \"-\" \"Go-http-client/1.1\"\u001b[0m\n",
      "\u001b[35m169.254.255.130 - - [17/Aug/2020:17:55:36 +0000] \"POST /invocations HTTP/1.1\" 200 12310 \"-\" \"Go-http-client/1.1\"\u001b[0m\n",
      "\u001b[35m169.254.255.130 - - [17/Aug/2020:17:55:36 +0000] \"POST /invocations HTTP/1.1\" 200 12307 \"-\" \"Go-http-client/1.1\"\u001b[0m\n",
      "\u001b[35m[2020-08-17:17:55:36:INFO] Determined delimiter of CSV input is ','\u001b[0m\n",
      "\u001b[35m169.254.255.130 - - [17/Aug/2020:17:55:36 +0000] \"POST /invocations HTTP/1.1\" 200 12294 \"-\" \"Go-http-client/1.1\"\u001b[0m\n",
      "\u001b[34m169.254.255.130 - - [17/Aug/2020:17:55:36 +0000] \"POST /invocations HTTP/1.1\" 200 12288 \"-\" \"Go-http-client/1.1\"\u001b[0m\n",
      "\u001b[34m[2020-08-17:17:55:36:INFO] Determined delimiter of CSV input is ','\u001b[0m\n",
      "\u001b[34m[2020-08-17:17:55:36:INFO] Determined delimiter of CSV input is ','\u001b[0m\n",
      "\u001b[34m[2020-08-17:17:55:36:INFO] Determined delimiter of CSV input is ','\u001b[0m\n",
      "\u001b[35m169.254.255.130 - - [17/Aug/2020:17:55:36 +0000] \"POST /invocations HTTP/1.1\" 200 12288 \"-\" \"Go-http-client/1.1\"\u001b[0m\n",
      "\u001b[35m[2020-08-17:17:55:36:INFO] Determined delimiter of CSV input is ','\u001b[0m\n",
      "\u001b[35m[2020-08-17:17:55:36:INFO] Determined delimiter of CSV input is ','\u001b[0m\n",
      "\u001b[35m[2020-08-17:17:55:36:INFO] Determined delimiter of CSV input is ','\u001b[0m\n",
      "\u001b[34m169.254.255.130 - - [17/Aug/2020:17:55:39 +0000] \"POST /invocations HTTP/1.1\" 200 12290 \"-\" \"Go-http-client/1.1\"\u001b[0m\n",
      "\u001b[34m169.254.255.130 - - [17/Aug/2020:17:55:39 +0000] \"POST /invocations HTTP/1.1\" 200 12277 \"-\" \"Go-http-client/1.1\"\u001b[0m\n",
      "\u001b[34m[2020-08-17:17:55:39:INFO] Determined delimiter of CSV input is ','\u001b[0m\n",
      "\u001b[34m169.254.255.130 - - [17/Aug/2020:17:55:39 +0000] \"POST /invocations HTTP/1.1\" 200 12264 \"-\" \"Go-http-client/1.1\"\u001b[0m\n",
      "\u001b[34m169.254.255.130 - - [17/Aug/2020:17:55:39 +0000] \"POST /invocations HTTP/1.1\" 200 12319 \"-\" \"Go-http-client/1.1\"\u001b[0m\n",
      "\u001b[34m[2020-08-17:17:55:39:INFO] Determined delimiter of CSV input is ','\u001b[0m\n",
      "\u001b[34m[2020-08-17:17:55:39:INFO] Determined delimiter of CSV input is ','\u001b[0m\n",
      "\u001b[35m169.254.255.130 - - [17/Aug/2020:17:55:39 +0000] \"POST /invocations HTTP/1.1\" 200 12290 \"-\" \"Go-http-client/1.1\"\u001b[0m\n",
      "\u001b[35m169.254.255.130 - - [17/Aug/2020:17:55:39 +0000] \"POST /invocations HTTP/1.1\" 200 12277 \"-\" \"Go-http-client/1.1\"\u001b[0m\n",
      "\u001b[35m[2020-08-17:17:55:39:INFO] Determined delimiter of CSV input is ','\u001b[0m\n",
      "\u001b[35m169.254.255.130 - - [17/Aug/2020:17:55:39 +0000] \"POST /invocations HTTP/1.1\" 200 12264 \"-\" \"Go-http-client/1.1\"\u001b[0m\n",
      "\u001b[35m169.254.255.130 - - [17/Aug/2020:17:55:39 +0000] \"POST /invocations HTTP/1.1\" 200 12319 \"-\" \"Go-http-client/1.1\"\u001b[0m\n",
      "\u001b[35m[2020-08-17:17:55:39:INFO] Determined delimiter of CSV input is ','\u001b[0m\n",
      "\u001b[35m[2020-08-17:17:55:39:INFO] Determined delimiter of CSV input is ','\u001b[0m\n",
      "\u001b[34m[2020-08-17:17:55:39:INFO] Determined delimiter of CSV input is ','\u001b[0m\n",
      "\u001b[35m[2020-08-17:17:55:39:INFO] Determined delimiter of CSV input is ','\u001b[0m\n",
      "\u001b[34m169.254.255.130 - - [17/Aug/2020:17:55:42 +0000] \"POST /invocations HTTP/1.1\" 200 12299 \"-\" \"Go-http-client/1.1\"\u001b[0m\n",
      "\u001b[34m169.254.255.130 - - [17/Aug/2020:17:55:42 +0000] \"POST /invocations HTTP/1.1\" 200 12271 \"-\" \"Go-http-client/1.1\"\u001b[0m\n",
      "\u001b[34m[2020-08-17:17:55:42:INFO] Determined delimiter of CSV input is ','\u001b[0m\n",
      "\u001b[34m169.254.255.130 - - [17/Aug/2020:17:55:42 +0000] \"POST /invocations HTTP/1.1\" 200 12262 \"-\" \"Go-http-client/1.1\"\u001b[0m\n",
      "\u001b[34m169.254.255.130 - - [17/Aug/2020:17:55:42 +0000] \"POST /invocations HTTP/1.1\" 200 12281 \"-\" \"Go-http-client/1.1\"\u001b[0m\n",
      "\u001b[35m169.254.255.130 - - [17/Aug/2020:17:55:42 +0000] \"POST /invocations HTTP/1.1\" 200 12299 \"-\" \"Go-http-client/1.1\"\u001b[0m\n",
      "\u001b[35m169.254.255.130 - - [17/Aug/2020:17:55:42 +0000] \"POST /invocations HTTP/1.1\" 200 12271 \"-\" \"Go-http-client/1.1\"\u001b[0m\n",
      "\u001b[35m[2020-08-17:17:55:42:INFO] Determined delimiter of CSV input is ','\u001b[0m\n",
      "\u001b[35m169.254.255.130 - - [17/Aug/2020:17:55:42 +0000] \"POST /invocations HTTP/1.1\" 200 12262 \"-\" \"Go-http-client/1.1\"\u001b[0m\n",
      "\u001b[35m169.254.255.130 - - [17/Aug/2020:17:55:42 +0000] \"POST /invocations HTTP/1.1\" 200 12281 \"-\" \"Go-http-client/1.1\"\u001b[0m\n",
      "\u001b[34m[2020-08-17:17:55:42:INFO] Determined delimiter of CSV input is ','\u001b[0m\n",
      "\u001b[34m[2020-08-17:17:55:43:INFO] Determined delimiter of CSV input is ','\u001b[0m\n",
      "\u001b[34m[2020-08-17:17:55:43:INFO] Determined delimiter of CSV input is ','\u001b[0m\n",
      "\u001b[35m[2020-08-17:17:55:42:INFO] Determined delimiter of CSV input is ','\u001b[0m\n",
      "\u001b[35m[2020-08-17:17:55:43:INFO] Determined delimiter of CSV input is ','\u001b[0m\n",
      "\u001b[35m[2020-08-17:17:55:43:INFO] Determined delimiter of CSV input is ','\u001b[0m\n",
      "\u001b[34m169.254.255.130 - - [17/Aug/2020:17:55:45 +0000] \"POST /invocations HTTP/1.1\" 200 12307 \"-\" \"Go-http-client/1.1\"\u001b[0m\n",
      "\u001b[35m169.254.255.130 - - [17/Aug/2020:17:55:45 +0000] \"POST /invocations HTTP/1.1\" 200 12307 \"-\" \"Go-http-client/1.1\"\u001b[0m\n",
      "\n",
      "\u001b[34m169.254.255.130 - - [17/Aug/2020:17:55:45 +0000] \"POST /invocations HTTP/1.1\" 200 12308 \"-\" \"Go-http-client/1.1\"\u001b[0m\n",
      "\u001b[34m169.254.255.130 - - [17/Aug/2020:17:55:45 +0000] \"POST /invocations HTTP/1.1\" 200 12307 \"-\" \"Go-http-client/1.1\"\u001b[0m\n",
      "\u001b[35m169.254.255.130 - - [17/Aug/2020:17:55:45 +0000] \"POST /invocations HTTP/1.1\" 200 12308 \"-\" \"Go-http-client/1.1\"\u001b[0m\n",
      "\u001b[35m169.254.255.130 - - [17/Aug/2020:17:55:45 +0000] \"POST /invocations HTTP/1.1\" 200 12307 \"-\" \"Go-http-client/1.1\"\u001b[0m\n"
     ]
    }
   ],
   "source": [
    "xgb_transformer.wait()"
   ]
  },
  {
   "cell_type": "markdown",
   "metadata": {},
   "source": [
    "Now the transform job has executed and the result, the estimated sentiment of each review, has been saved on S3. Since we would rather work on this file locally we can perform a bit of notebook magic to copy the file to the `data_dir`."
   ]
  },
  {
   "cell_type": "code",
   "execution_count": 44,
   "metadata": {},
   "outputs": [
    {
     "name": "stdout",
     "output_type": "stream",
     "text": [
      "Completed 256.0 KiB/477.0 KiB (3.7 MiB/s) with 1 file(s) remaining\r",
      "Completed 477.0 KiB/477.0 KiB (6.8 MiB/s) with 1 file(s) remaining\r",
      "download: s3://sagemaker-us-east-2-823192782642/sagemaker-xgboost-200817-1645-019-d8a2b-2020-08-17-17-50-02-396/test.csv.out to ../data/xgboost/test.csv.out\r\n"
     ]
    }
   ],
   "source": [
    "!aws s3 cp --recursive $xgb_transformer.output_path $data_dir"
   ]
  },
  {
   "cell_type": "markdown",
   "metadata": {},
   "source": [
    "The last step is now to read in the output from our model, convert the output to something a little more usable, in this case we want the sentiment to be either `1` (positive) or `0` (negative), and then compare to the ground truth labels."
   ]
  },
  {
   "cell_type": "code",
   "execution_count": 45,
   "metadata": {},
   "outputs": [],
   "source": [
    "predictions = pd.read_csv(os.path.join(data_dir, 'test.csv.out'), header=None)\n",
    "predictions = [round(num) for num in predictions.squeeze().values]"
   ]
  },
  {
   "cell_type": "code",
   "execution_count": 46,
   "metadata": {},
   "outputs": [
    {
     "data": {
      "text/plain": [
       "0.86668"
      ]
     },
     "execution_count": 46,
     "metadata": {},
     "output_type": "execute_result"
    }
   ],
   "source": [
    "from sklearn.metrics import accuracy_score\n",
    "accuracy_score(test_y, predictions)"
   ]
  },
  {
   "cell_type": "markdown",
   "metadata": {},
   "source": [
    "## Optional: Clean up\n",
    "\n",
    "The default notebook instance on SageMaker doesn't have a lot of excess disk space available. As you continue to complete and execute notebooks you will eventually fill up this disk space, leading to errors which can be difficult to diagnose. Once you are completely finished using a notebook it is a good idea to remove the files that you created along the way. Of course, you can do this from the terminal or from the notebook hub if you would like. The cell below contains some commands to clean up the created files from within the notebook."
   ]
  },
  {
   "cell_type": "code",
   "execution_count": 48,
   "metadata": {},
   "outputs": [
    {
     "name": "stdout",
     "output_type": "stream",
     "text": [
      "rm: cannot remove ‘../data/xgboost/*’: No such file or directory\n",
      "rmdir: failed to remove ‘../data/xgboost’: No such file or directory\n",
      "rm: cannot remove ‘../cache/sentiment_analysis/*’: No such file or directory\n",
      "rmdir: failed to remove ‘../cache/sentiment_analysis’: No such file or directory\n"
     ]
    }
   ],
   "source": [
    "# First we will remove all of the files contained in the data_dir directory\n",
    "!rm $data_dir/*\n",
    "\n",
    "# And then we delete the directory itself\n",
    "!rmdir $data_dir\n",
    "\n",
    "# Similarly we will remove the files in the cache_dir directory and the directory itself\n",
    "!rm $cache_dir/*\n",
    "!rmdir $cache_dir"
   ]
  },
  {
   "cell_type": "code",
   "execution_count": null,
   "metadata": {},
   "outputs": [],
   "source": []
  }
 ],
 "metadata": {
  "kernelspec": {
   "display_name": "conda_python3",
   "language": "python",
   "name": "conda_python3"
  },
  "language_info": {
   "codemirror_mode": {
    "name": "ipython",
    "version": 3
   },
   "file_extension": ".py",
   "mimetype": "text/x-python",
   "name": "python",
   "nbconvert_exporter": "python",
   "pygments_lexer": "ipython3",
   "version": "3.6.10"
  }
 },
 "nbformat": 4,
 "nbformat_minor": 2
}

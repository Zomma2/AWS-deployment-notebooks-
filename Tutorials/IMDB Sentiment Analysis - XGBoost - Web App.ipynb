{
 "cells": [
  {
   "cell_type": "markdown",
   "metadata": {},
   "source": [
    "# Sentiment Analysis Web App\n",
    "\n",
    "_Deep Learning Nanodegree Program | Deployment_\n",
    "\n",
    "---\n",
    "\n",
    "In this notebook we will use Amazon's SageMaker service to construct a random tree model to predict the sentiment of a movie review. In addition, we will deploy this model to an endpoint and construct a very simple web app which will interact with our model's deployed endpoint.\n",
    "\n",
    "## General Outline\n",
    "\n",
    "Typically, when using a notebook instance with SageMaker, you will proceed through the following steps. Of course, not every step will need to be done with each project. Also, there is quite a lot of room for variation in many of the steps, as you will see throughout these lessons.\n",
    "\n",
    "1. Download or otherwise retrieve the data.\n",
    "2. Process / Prepare the data.\n",
    "3. Upload the processed data to S3.\n",
    "4. Train a chosen model.\n",
    "5. Test the trained model (typically using a batch transform job).\n",
    "6. Deploy the trained model.\n",
    "7. Use the deployed model.\n",
    "\n",
    "In this notebook we will progress through each of the steps above. We will also see that the final step, using the deployed model, can be quite challenging."
   ]
  },
  {
   "cell_type": "markdown",
   "metadata": {},
   "source": [
    "## Step 1: Downloading the data\n",
    "\n",
    "The dataset we are going to use is very popular among researchers in Natural Language Processing, usually referred to as the [IMDb dataset](http://ai.stanford.edu/~amaas/data/sentiment/). It consists of movie reviews from the website [imdb.com](http://www.imdb.com/), each labeled as either '**pos**itive', if the reviewer enjoyed the film, or '**neg**ative' otherwise.\n",
    "\n",
    "> Maas, Andrew L., et al. [Learning Word Vectors for Sentiment Analysis](http://ai.stanford.edu/~amaas/data/sentiment/). In _Proceedings of the 49th Annual Meeting of the Association for Computational Linguistics: Human Language Technologies_. Association for Computational Linguistics, 2011.\n",
    "\n",
    "We begin by using some Jupyter Notebook magic to download and extract the dataset."
   ]
  },
  {
   "cell_type": "code",
   "execution_count": 1,
   "metadata": {},
   "outputs": [
    {
     "name": "stdout",
     "output_type": "stream",
     "text": [
      "mkdir: cannot create directory ‘../data’: File exists\n",
      "--2020-08-17 01:47:39--  http://ai.stanford.edu/~amaas/data/sentiment/aclImdb_v1.tar.gz\n",
      "Resolving ai.stanford.edu (ai.stanford.edu)... 171.64.68.10\n",
      "Connecting to ai.stanford.edu (ai.stanford.edu)|171.64.68.10|:80... connected.\n",
      "HTTP request sent, awaiting response... 200 OK\n",
      "Length: 84125825 (80M) [application/x-gzip]\n",
      "Saving to: ‘../data/aclImdb_v1.tar.gz’\n",
      "\n",
      "../data/aclImdb_v1. 100%[===================>]  80.23M  24.7MB/s    in 4.3s    \n",
      "\n",
      "2020-08-17 01:47:44 (18.8 MB/s) - ‘../data/aclImdb_v1.tar.gz’ saved [84125825/84125825]\n",
      "\n"
     ]
    }
   ],
   "source": [
    "%mkdir ../data\n",
    "!wget -O ../data/aclImdb_v1.tar.gz http://ai.stanford.edu/~amaas/data/sentiment/aclImdb_v1.tar.gz\n",
    "!tar -zxf ../data/aclImdb_v1.tar.gz -C ../data"
   ]
  },
  {
   "cell_type": "markdown",
   "metadata": {},
   "source": [
    "## Step 2: Preparing and Processing the data\n",
    "\n",
    "The data we have downloaded is split into various files, each of which contains a single review. It will be much easier going forward if we combine these individual files into two large files, one for training and one for testing."
   ]
  },
  {
   "cell_type": "code",
   "execution_count": 2,
   "metadata": {},
   "outputs": [],
   "source": [
    "import os\n",
    "import glob\n",
    "\n",
    "def read_imdb_data(data_dir='../data/aclImdb'):\n",
    "    data = {}\n",
    "    labels = {}\n",
    "    \n",
    "    for data_type in ['train', 'test']:\n",
    "        data[data_type] = {}\n",
    "        labels[data_type] = {}\n",
    "        \n",
    "        for sentiment in ['pos', 'neg']:\n",
    "            data[data_type][sentiment] = []\n",
    "            labels[data_type][sentiment] = []\n",
    "            \n",
    "            path = os.path.join(data_dir, data_type, sentiment, '*.txt')\n",
    "            files = glob.glob(path)\n",
    "            \n",
    "            for f in files:\n",
    "                with open(f) as review:\n",
    "                    data[data_type][sentiment].append(review.read())\n",
    "                    # Here we represent a positive review by '1' and a negative review by '0'\n",
    "                    labels[data_type][sentiment].append(1 if sentiment == 'pos' else 0)\n",
    "                    \n",
    "            assert len(data[data_type][sentiment]) == len(labels[data_type][sentiment]), \\\n",
    "                    \"{}/{} data size does not match labels size\".format(data_type, sentiment)\n",
    "                \n",
    "    return data, labels"
   ]
  },
  {
   "cell_type": "code",
   "execution_count": 3,
   "metadata": {},
   "outputs": [
    {
     "name": "stdout",
     "output_type": "stream",
     "text": [
      "IMDB reviews: train = 12500 pos / 12500 neg, test = 12500 pos / 12500 neg\n"
     ]
    }
   ],
   "source": [
    "data, labels = read_imdb_data()\n",
    "print(\"IMDB reviews: train = {} pos / {} neg, test = {} pos / {} neg\".format(\n",
    "            len(data['train']['pos']), len(data['train']['neg']),\n",
    "            len(data['test']['pos']), len(data['test']['neg'])))"
   ]
  },
  {
   "cell_type": "code",
   "execution_count": 4,
   "metadata": {},
   "outputs": [],
   "source": [
    "from sklearn.utils import shuffle\n",
    "\n",
    "def prepare_imdb_data(data, labels):\n",
    "    \"\"\"Prepare training and test sets from IMDb movie reviews.\"\"\"\n",
    "    \n",
    "    #Combine positive and negative reviews and labels\n",
    "    data_train = data['train']['pos'] + data['train']['neg']\n",
    "    data_test = data['test']['pos'] + data['test']['neg']\n",
    "    labels_train = labels['train']['pos'] + labels['train']['neg']\n",
    "    labels_test = labels['test']['pos'] + labels['test']['neg']\n",
    "    \n",
    "    #Shuffle reviews and corresponding labels within training and test sets\n",
    "    data_train, labels_train = shuffle(data_train, labels_train)\n",
    "    data_test, labels_test = shuffle(data_test, labels_test)\n",
    "    \n",
    "    # Return a unified training data, test data, training labels, test labets\n",
    "    return data_train, data_test, labels_train, labels_test"
   ]
  },
  {
   "cell_type": "code",
   "execution_count": 5,
   "metadata": {},
   "outputs": [
    {
     "name": "stdout",
     "output_type": "stream",
     "text": [
      "IMDb reviews (combined): train = 25000, test = 25000\n"
     ]
    }
   ],
   "source": [
    "train_X, test_X, train_y, test_y = prepare_imdb_data(data, labels)\n",
    "print(\"IMDb reviews (combined): train = {}, test = {}\".format(len(train_X), len(test_X)))"
   ]
  },
  {
   "cell_type": "code",
   "execution_count": 6,
   "metadata": {},
   "outputs": [
    {
     "data": {
      "text/plain": [
       "\"No wonder Pamela Springsteen gave up acting to become a full-time photographer; it's a much better idea to have her behind a camera than in front of one. While this movie is not without its interesting elements (mullets from hell, etc.), it is outweighed by flaws. For one thing, Angela, the murderous counselor, appears to be about the same age as the campers. Having an older, more threatening camp director would have done a lot for the film. And then you have the murder scenes. The budget was apparently too low to execute most of them properly (no pun intended), although drowning someone in an outhouse toilet is certainly original. But overall, there are a ton of movies out there that are scarier/more fun to spend an hour and a half of your life watching.\""
      ]
     },
     "execution_count": 6,
     "metadata": {},
     "output_type": "execute_result"
    }
   ],
   "source": [
    "train_X[100]"
   ]
  },
  {
   "cell_type": "markdown",
   "metadata": {},
   "source": [
    "## Processing the data\n",
    "\n",
    "Now that we have our training and testing datasets merged and ready to use, we need to start processing the raw data into something that will be useable by our machine learning algorithm. To begin with, we remove any html formatting and any non-alpha numeric characters that may appear in the reviews. We will do this in a very simplistic way using Python's regular expression module. We will discuss the reason for this rather simplistic pre-processing later on."
   ]
  },
  {
   "cell_type": "code",
   "execution_count": 7,
   "metadata": {},
   "outputs": [],
   "source": [
    "import re\n",
    "\n",
    "REPLACE_NO_SPACE = re.compile(\"(\\.)|(\\;)|(\\:)|(\\!)|(\\')|(\\?)|(\\,)|(\\\")|(\\()|(\\))|(\\[)|(\\])\")\n",
    "REPLACE_WITH_SPACE = re.compile(\"(<br\\s*/><br\\s*/>)|(\\-)|(\\/)\")\n",
    "\n",
    "def review_to_words(review):\n",
    "    words = REPLACE_NO_SPACE.sub(\"\", review.lower())\n",
    "    words = REPLACE_WITH_SPACE.sub(\" \", words)\n",
    "    return words"
   ]
  },
  {
   "cell_type": "code",
   "execution_count": 8,
   "metadata": {},
   "outputs": [
    {
     "data": {
      "text/plain": [
       "'no wonder pamela springsteen gave up acting to become a full time photographer its a much better idea to have her behind a camera than in front of one while this movie is not without its interesting elements mullets from hell etc it is outweighed by flaws for one thing angela the murderous counselor appears to be about the same age as the campers having an older more threatening camp director would have done a lot for the film and then you have the murder scenes the budget was apparently too low to execute most of them properly no pun intended although drowning someone in an outhouse toilet is certainly original but overall there are a ton of movies out there that are scarier more fun to spend an hour and a half of your life watching'"
      ]
     },
     "execution_count": 8,
     "metadata": {},
     "output_type": "execute_result"
    }
   ],
   "source": [
    "review_to_words(train_X[100])"
   ]
  },
  {
   "cell_type": "code",
   "execution_count": 9,
   "metadata": {},
   "outputs": [],
   "source": [
    "import pickle\n",
    "\n",
    "cache_dir = os.path.join(\"../cache\", \"sentiment_web_app\")  # where to store cache files\n",
    "os.makedirs(cache_dir, exist_ok=True)  # ensure cache directory exists\n",
    "\n",
    "def preprocess_data(data_train, data_test, labels_train, labels_test,\n",
    "                    cache_dir=cache_dir, cache_file=\"preprocessed_data.pkl\"):\n",
    "    \"\"\"Convert each review to words; read from cache if available.\"\"\"\n",
    "\n",
    "    # If cache_file is not None, try to read from it first\n",
    "    cache_data = None\n",
    "    if cache_file is not None:\n",
    "        try:\n",
    "            with open(os.path.join(cache_dir, cache_file), \"rb\") as f:\n",
    "                cache_data = pickle.load(f)\n",
    "            print(\"Read preprocessed data from cache file:\", cache_file)\n",
    "        except:\n",
    "            pass  # unable to read from cache, but that's okay\n",
    "    \n",
    "    # If cache is missing, then do the heavy lifting\n",
    "    if cache_data is None:\n",
    "        # Preprocess training and test data to obtain words for each review\n",
    "        #words_train = list(map(review_to_words, data_train))\n",
    "        #words_test = list(map(review_to_words, data_test))\n",
    "        words_train = [review_to_words(review) for review in data_train]\n",
    "        words_test = [review_to_words(review) for review in data_test]\n",
    "        \n",
    "        # Write to cache file for future runs\n",
    "        if cache_file is not None:\n",
    "            cache_data = dict(words_train=words_train, words_test=words_test,\n",
    "                              labels_train=labels_train, labels_test=labels_test)\n",
    "            with open(os.path.join(cache_dir, cache_file), \"wb\") as f:\n",
    "                pickle.dump(cache_data, f)\n",
    "            print(\"Wrote preprocessed data to cache file:\", cache_file)\n",
    "    else:\n",
    "        # Unpack data loaded from cache file\n",
    "        words_train, words_test, labels_train, labels_test = (cache_data['words_train'],\n",
    "                cache_data['words_test'], cache_data['labels_train'], cache_data['labels_test'])\n",
    "    \n",
    "    return words_train, words_test, labels_train, labels_test"
   ]
  },
  {
   "cell_type": "code",
   "execution_count": 10,
   "metadata": {},
   "outputs": [
    {
     "name": "stdout",
     "output_type": "stream",
     "text": [
      "Wrote preprocessed data to cache file: preprocessed_data.pkl\n"
     ]
    }
   ],
   "source": [
    "# Preprocess data\n",
    "train_X, test_X, train_y, test_y = preprocess_data(train_X, test_X, train_y, test_y)"
   ]
  },
  {
   "cell_type": "markdown",
   "metadata": {},
   "source": [
    "### Extract Bag-of-Words features\n",
    "\n",
    "For the model we will be implementing, rather than using the reviews directly, we are going to transform each review into a Bag-of-Words feature representation. Keep in mind that 'in the wild' we will only have access to the training set so our transformer can only use the training set to construct a representation."
   ]
  },
  {
   "cell_type": "code",
   "execution_count": 11,
   "metadata": {},
   "outputs": [
    {
     "name": "stderr",
     "output_type": "stream",
     "text": [
      "/home/ec2-user/anaconda3/envs/python3/lib/python3.6/site-packages/sklearn/externals/joblib/__init__.py:15: FutureWarning: sklearn.externals.joblib is deprecated in 0.21 and will be removed in 0.23. Please import this functionality directly from joblib, which can be installed with: pip install joblib. If this warning is raised when loading pickled models, you may need to re-serialize those models with scikit-learn 0.21+.\n",
      "  warnings.warn(msg, category=FutureWarning)\n"
     ]
    }
   ],
   "source": [
    "import numpy as np\n",
    "from sklearn.feature_extraction.text import CountVectorizer\n",
    "from sklearn.externals import joblib\n",
    "# joblib is an enhanced version of pickle that is more efficient for storing NumPy arrays\n",
    "\n",
    "def extract_BoW_features(words_train, words_test, vocabulary_size=5000,\n",
    "                         cache_dir=cache_dir, cache_file=\"bow_features.pkl\"):\n",
    "    \"\"\"Extract Bag-of-Words for a given set of documents, already preprocessed into words.\"\"\"\n",
    "    \n",
    "    # If cache_file is not None, try to read from it first\n",
    "    cache_data = None\n",
    "    if cache_file is not None:\n",
    "        try:\n",
    "            with open(os.path.join(cache_dir, cache_file), \"rb\") as f:\n",
    "                cache_data = joblib.load(f)\n",
    "            print(\"Read features from cache file:\", cache_file)\n",
    "        except:\n",
    "            pass  # unable to read from cache, but that's okay\n",
    "    \n",
    "    # If cache is missing, then do the heavy lifting\n",
    "    if cache_data is None:\n",
    "        # Fit a vectorizer to training documents and use it to transform them\n",
    "        # NOTE: Training documents have already been preprocessed and tokenized into words;\n",
    "        #       pass in dummy functions to skip those steps, e.g. preprocessor=lambda x: x\n",
    "        vectorizer = CountVectorizer(max_features=vocabulary_size)\n",
    "        features_train = vectorizer.fit_transform(words_train).toarray()\n",
    "\n",
    "        # Apply the same vectorizer to transform the test documents (ignore unknown words)\n",
    "        features_test = vectorizer.transform(words_test).toarray()\n",
    "        \n",
    "        # NOTE: Remember to convert the features using .toarray() for a compact representation\n",
    "        \n",
    "        # Write to cache file for future runs (store vocabulary as well)\n",
    "        if cache_file is not None:\n",
    "            vocabulary = vectorizer.vocabulary_\n",
    "            cache_data = dict(features_train=features_train, features_test=features_test,\n",
    "                             vocabulary=vocabulary)\n",
    "            with open(os.path.join(cache_dir, cache_file), \"wb\") as f:\n",
    "                joblib.dump(cache_data, f)\n",
    "            print(\"Wrote features to cache file:\", cache_file)\n",
    "    else:\n",
    "        # Unpack data loaded from cache file\n",
    "        features_train, features_test, vocabulary = (cache_data['features_train'],\n",
    "                cache_data['features_test'], cache_data['vocabulary'])\n",
    "    \n",
    "    # Return both the extracted features as well as the vocabulary\n",
    "    return features_train, features_test, vocabulary"
   ]
  },
  {
   "cell_type": "code",
   "execution_count": 12,
   "metadata": {},
   "outputs": [
    {
     "name": "stdout",
     "output_type": "stream",
     "text": [
      "Wrote features to cache file: bow_features.pkl\n"
     ]
    }
   ],
   "source": [
    "# Extract Bag of Words features for both training and test datasets\n",
    "train_X, test_X, vocabulary = extract_BoW_features(train_X, test_X)"
   ]
  },
  {
   "cell_type": "code",
   "execution_count": 13,
   "metadata": {},
   "outputs": [
    {
     "data": {
      "text/plain": [
       "5000"
      ]
     },
     "execution_count": 13,
     "metadata": {},
     "output_type": "execute_result"
    }
   ],
   "source": [
    "len(train_X[100])"
   ]
  },
  {
   "cell_type": "markdown",
   "metadata": {},
   "source": [
    "## Step 3: Upload data to S3\n",
    "\n",
    "Now that we have created the feature representation of our training (and testing) data, it is time to start setting up and using the XGBoost classifier provided by SageMaker.\n",
    "\n",
    "### Writing the datasets\n",
    "\n",
    "The XGBoost classifier that we will be using requires the dataset to be written to a file and stored using Amazon S3. To do this, we will start by splitting the training dataset into two parts, the data we will train the model with and a validation set. Then, we will write those datasets to a file locally and then upload the files to S3. In addition, we will write the test set to a file and upload that file to S3. This is so that we can use SageMakers Batch Transform functionality to test our model once we've fit it."
   ]
  },
  {
   "cell_type": "code",
   "execution_count": 14,
   "metadata": {},
   "outputs": [],
   "source": [
    "import pandas as pd\n",
    "\n",
    "# Earlier we shuffled the training dataset so to make things simple we can just assign\n",
    "# the first 10 000 reviews to the validation set and use the remaining reviews for training.\n",
    "val_X = pd.DataFrame(train_X[:10000])\n",
    "train_X = pd.DataFrame(train_X[10000:])\n",
    "\n",
    "val_y = pd.DataFrame(train_y[:10000])\n",
    "train_y = pd.DataFrame(train_y[10000:])"
   ]
  },
  {
   "cell_type": "markdown",
   "metadata": {},
   "source": [
    "The documentation for the XGBoost algorithm in SageMaker requires that the training and validation datasets should contain no headers or index and that the label should occur first for each sample.\n",
    "\n",
    "For more information about this and other algorithms, the SageMaker developer documentation can be found on __[Amazon's website.](https://docs.aws.amazon.com/sagemaker/latest/dg/)__"
   ]
  },
  {
   "cell_type": "code",
   "execution_count": 15,
   "metadata": {},
   "outputs": [],
   "source": [
    "# First we make sure that the local directory in which we'd like to store the training and validation csv files exists.\n",
    "data_dir = '../data/sentiment_web_app'\n",
    "if not os.path.exists(data_dir):\n",
    "    os.makedirs(data_dir)"
   ]
  },
  {
   "cell_type": "code",
   "execution_count": 16,
   "metadata": {},
   "outputs": [],
   "source": [
    "pd.DataFrame(test_X).to_csv(os.path.join(data_dir, 'test.csv'), header=False, index=False)\n",
    "\n",
    "pd.concat([val_y, val_X], axis=1).to_csv(os.path.join(data_dir, 'validation.csv'), header=False, index=False)\n",
    "pd.concat([train_y, train_X], axis=1).to_csv(os.path.join(data_dir, 'train.csv'), header=False, index=False)"
   ]
  },
  {
   "cell_type": "code",
   "execution_count": 17,
   "metadata": {},
   "outputs": [],
   "source": [
    "# To save a bit of memory we can set text_X, train_X, val_X, train_y and val_y to None.\n",
    "\n",
    "test_X = train_X = val_X = train_y = val_y = None"
   ]
  },
  {
   "cell_type": "markdown",
   "metadata": {},
   "source": [
    "### Uploading Training / Validation files to S3\n",
    "\n",
    "Amazon's S3 service allows us to store files that can be accessed by both the built-in training models such as the XGBoost model we will be using as well as custom models such as the one we will see a little later.\n",
    "\n",
    "For this and most other tasks we will be doing using SageMaker, there are two methods we could use. The first is to use the low level functionality of SageMaker which requires knowing each of the objects involved in the SageMaker environment. The second is to use the high level functionality in which certain choices have been made on the user's behalf. The low level approach benefits from allowing the user a great deal of flexibility while the high level approach makes development much quicker. For our purposes we will opt to use the high level approach although using the low-level approach is certainly an option.\n",
    "\n",
    "Recall the method `upload_data()` which is a member of the object representing our current SageMaker session. What this method does is upload the data to the default bucket (which is created if it does not exist) into the path described by the key_prefix variable. To see this for yourself, once you have uploaded the data files, go to the S3 console and look to see where the files have been uploaded.\n",
    "\n",
    "For additional resources, see the __[SageMaker API documentation](http://sagemaker.readthedocs.io/en/latest/)__ and in addition the __[SageMaker Developer Guide.](https://docs.aws.amazon.com/sagemaker/latest/dg/)__"
   ]
  },
  {
   "cell_type": "code",
   "execution_count": 18,
   "metadata": {},
   "outputs": [],
   "source": [
    "import sagemaker\n",
    "\n",
    "session = sagemaker.Session() # Store the current SageMaker session\n",
    "\n",
    "# S3 prefix (which folder will we use)\n",
    "prefix = 'sentiment-web-app'\n",
    "\n",
    "test_location = session.upload_data(os.path.join(data_dir, 'test.csv'), key_prefix=prefix)\n",
    "val_location = session.upload_data(os.path.join(data_dir, 'validation.csv'), key_prefix=prefix)\n",
    "train_location = session.upload_data(os.path.join(data_dir, 'train.csv'), key_prefix=prefix)"
   ]
  },
  {
   "cell_type": "markdown",
   "metadata": {},
   "source": [
    "## Step 4: Creating the XGBoost model\n",
    "\n",
    "Now that the data has been uploaded it is time to create the XGBoost model. To begin with, we need to do some setup. At this point it is worth discussing what a model is in SageMaker. It is easiest to think of a model of comprising three different objects in the SageMaker ecosystem, which interact with one another.\n",
    "\n",
    "- Model Artifacts\n",
    "- Training Code (Container)\n",
    "- Inference Code (Container)\n",
    "\n",
    "The Model Artifacts are what you might think of as the actual model itself. For example, if you were building a neural network, the model artifacts would be the weights of the various layers. In our case, for an XGBoost model, the artifacts are the actual trees that are created during training.\n",
    "\n",
    "The other two objects, the training code and the inference code are then used to manipulate the training artifacts. More precisely, the training code uses the training data that is provided and creates the model artifacts, while the inference code uses the model artifacts to make predictions on new data.\n",
    "\n",
    "The way that SageMaker runs the training and inference code is by making use of Docker containers. For now, think of a container as being a way of packaging code up so that dependencies aren't an issue."
   ]
  },
  {
   "cell_type": "code",
   "execution_count": 19,
   "metadata": {},
   "outputs": [],
   "source": [
    "from sagemaker import get_execution_role\n",
    "\n",
    "# Our current execution role is required when creating the model as the training\n",
    "# and inference code will need to access the model artifacts.\n",
    "role = get_execution_role()"
   ]
  },
  {
   "cell_type": "code",
   "execution_count": 20,
   "metadata": {},
   "outputs": [
    {
     "name": "stderr",
     "output_type": "stream",
     "text": [
      "'get_image_uri' method will be deprecated in favor of 'ImageURIProvider' class in SageMaker Python SDK v2.\n",
      "There is a more up to date SageMaker XGBoost image. To use the newer image, please set 'repo_version'='1.0-1'. For example:\n",
      "\tget_image_uri(region, 'xgboost', '1.0-1').\n"
     ]
    }
   ],
   "source": [
    "# We need to retrieve the location of the container which is provided by Amazon for using XGBoost.\n",
    "# As a matter of convenience, the training and inference code both use the same container.\n",
    "from sagemaker.amazon.amazon_estimator import get_image_uri\n",
    "\n",
    "container = get_image_uri(session.boto_region_name, 'xgboost')"
   ]
  },
  {
   "cell_type": "code",
   "execution_count": 21,
   "metadata": {},
   "outputs": [
    {
     "name": "stderr",
     "output_type": "stream",
     "text": [
      "Parameter image_name will be renamed to image_uri in SageMaker Python SDK v2.\n"
     ]
    }
   ],
   "source": [
    "# First we create a SageMaker estimator object for our model.\n",
    "xgb = sagemaker.estimator.Estimator(container, # The location of the container we wish to use\n",
    "                                    role,                                    # What is our current IAM Role\n",
    "                                    train_instance_count=1,                  # How many compute instances\n",
    "                                    train_instance_type='ml.m4.xlarge',      # What kind of compute instances\n",
    "                                    output_path='s3://{}/{}/output'.format(session.default_bucket(), prefix),\n",
    "                                    sagemaker_session=session)\n",
    "\n",
    "# And then set the algorithm specific parameters.\n",
    "xgb.set_hyperparameters(max_depth=5,\n",
    "                        eta=0.2,\n",
    "                        gamma=4,\n",
    "                        min_child_weight=6,\n",
    "                        subsample=0.8,\n",
    "                        silent=0,\n",
    "                        objective='binary:logistic',\n",
    "                        early_stopping_rounds=10,\n",
    "                        num_round=500)"
   ]
  },
  {
   "cell_type": "markdown",
   "metadata": {},
   "source": [
    "### Fit the XGBoost model\n",
    "\n",
    "Now that our model has been set up we simply need to attach the training and validation datasets and then ask SageMaker to set up the computation."
   ]
  },
  {
   "cell_type": "code",
   "execution_count": 22,
   "metadata": {},
   "outputs": [
    {
     "name": "stderr",
     "output_type": "stream",
     "text": [
      "'s3_input' class will be renamed to 'TrainingInput' in SageMaker Python SDK v2.\n",
      "'s3_input' class will be renamed to 'TrainingInput' in SageMaker Python SDK v2.\n"
     ]
    }
   ],
   "source": [
    "s3_input_train = sagemaker.s3_input(s3_data=train_location, content_type='csv')\n",
    "s3_input_validation = sagemaker.s3_input(s3_data=val_location, content_type='csv')"
   ]
  },
  {
   "cell_type": "code",
   "execution_count": 23,
   "metadata": {},
   "outputs": [
    {
     "name": "stdout",
     "output_type": "stream",
     "text": [
      "2020-08-17 01:54:36 Starting - Starting the training job...\n",
      "2020-08-17 01:54:38 Starting - Launching requested ML instances......\n",
      "2020-08-17 01:55:43 Starting - Preparing the instances for training...\n",
      "2020-08-17 01:56:35 Downloading - Downloading input data......\n",
      "2020-08-17 01:57:30 Training - Training image download completed. Training in progress..\u001b[34mArguments: train\u001b[0m\n",
      "\u001b[34m[2020-08-17:01:57:31:INFO] Running standalone xgboost training.\u001b[0m\n",
      "\u001b[34m[2020-08-17:01:57:31:INFO] File size need to be processed in the node: 238.5mb. Available memory size in the node: 8495.64mb\u001b[0m\n",
      "\u001b[34m[2020-08-17:01:57:31:INFO] Determined delimiter of CSV input is ','\u001b[0m\n",
      "\u001b[34m[01:57:31] S3DistributionType set as FullyReplicated\u001b[0m\n",
      "\u001b[34m[01:57:33] 15000x5000 matrix with 75000000 entries loaded from /opt/ml/input/data/train?format=csv&label_column=0&delimiter=,\u001b[0m\n",
      "\u001b[34m[2020-08-17:01:57:33:INFO] Determined delimiter of CSV input is ','\u001b[0m\n",
      "\u001b[34m[01:57:33] S3DistributionType set as FullyReplicated\u001b[0m\n",
      "\u001b[34m[01:57:34] 10000x5000 matrix with 50000000 entries loaded from /opt/ml/input/data/validation?format=csv&label_column=0&delimiter=,\u001b[0m\n",
      "\u001b[34m[01:57:38] src/tree/updater_prune.cc:74: tree pruning end, 1 roots, 44 extra nodes, 6 pruned nodes, max_depth=5\u001b[0m\n",
      "\u001b[34m[0]#011train-error:0.3022#011validation-error:0.3133\u001b[0m\n",
      "\u001b[34mMultiple eval metrics have been passed: 'validation-error' will be used for early stopping.\n",
      "\u001b[0m\n",
      "\u001b[34mWill train until validation-error hasn't improved in 10 rounds.\u001b[0m\n",
      "\u001b[34m[01:57:39] src/tree/updater_prune.cc:74: tree pruning end, 1 roots, 40 extra nodes, 2 pruned nodes, max_depth=5\u001b[0m\n",
      "\u001b[34m[1]#011train-error:0.2878#011validation-error:0.3019\u001b[0m\n",
      "\u001b[34m[01:57:41] src/tree/updater_prune.cc:74: tree pruning end, 1 roots, 38 extra nodes, 10 pruned nodes, max_depth=5\u001b[0m\n",
      "\u001b[34m[2]#011train-error:0.2762#011validation-error:0.2972\u001b[0m\n",
      "\u001b[34m[01:57:42] src/tree/updater_prune.cc:74: tree pruning end, 1 roots, 42 extra nodes, 2 pruned nodes, max_depth=5\u001b[0m\n",
      "\u001b[34m[3]#011train-error:0.267733#011validation-error:0.2893\u001b[0m\n",
      "\u001b[34m[01:57:43] src/tree/updater_prune.cc:74: tree pruning end, 1 roots, 36 extra nodes, 2 pruned nodes, max_depth=5\u001b[0m\n",
      "\u001b[34m[4]#011train-error:0.262267#011validation-error:0.2834\u001b[0m\n",
      "\u001b[34m[01:57:45] src/tree/updater_prune.cc:74: tree pruning end, 1 roots, 36 extra nodes, 10 pruned nodes, max_depth=5\u001b[0m\n",
      "\u001b[34m[5]#011train-error:0.251333#011validation-error:0.2717\u001b[0m\n",
      "\u001b[34m[01:57:46] src/tree/updater_prune.cc:74: tree pruning end, 1 roots, 30 extra nodes, 6 pruned nodes, max_depth=5\u001b[0m\n",
      "\u001b[34m[6]#011train-error:0.245533#011validation-error:0.2677\u001b[0m\n",
      "\u001b[34m[01:57:47] src/tree/updater_prune.cc:74: tree pruning end, 1 roots, 32 extra nodes, 4 pruned nodes, max_depth=5\u001b[0m\n",
      "\u001b[34m[7]#011train-error:0.238933#011validation-error:0.2614\u001b[0m\n",
      "\u001b[34m[01:57:49] src/tree/updater_prune.cc:74: tree pruning end, 1 roots, 40 extra nodes, 6 pruned nodes, max_depth=5\u001b[0m\n",
      "\u001b[34m[8]#011train-error:0.233067#011validation-error:0.2515\u001b[0m\n",
      "\u001b[34m[01:57:50] src/tree/updater_prune.cc:74: tree pruning end, 1 roots, 26 extra nodes, 8 pruned nodes, max_depth=5\u001b[0m\n",
      "\u001b[34m[9]#011train-error:0.225#011validation-error:0.2474\u001b[0m\n",
      "\u001b[34m[01:57:51] src/tree/updater_prune.cc:74: tree pruning end, 1 roots, 32 extra nodes, 4 pruned nodes, max_depth=5\u001b[0m\n",
      "\u001b[34m[10]#011train-error:0.221467#011validation-error:0.2462\u001b[0m\n",
      "\u001b[34m[01:57:53] src/tree/updater_prune.cc:74: tree pruning end, 1 roots, 24 extra nodes, 10 pruned nodes, max_depth=5\u001b[0m\n",
      "\u001b[34m[11]#011train-error:0.2168#011validation-error:0.2449\u001b[0m\n",
      "\u001b[34m[01:57:54] src/tree/updater_prune.cc:74: tree pruning end, 1 roots, 40 extra nodes, 2 pruned nodes, max_depth=5\u001b[0m\n",
      "\u001b[34m[12]#011train-error:0.2112#011validation-error:0.2393\u001b[0m\n",
      "\u001b[34m[01:57:55] src/tree/updater_prune.cc:74: tree pruning end, 1 roots, 30 extra nodes, 10 pruned nodes, max_depth=5\u001b[0m\n",
      "\u001b[34m[13]#011train-error:0.207467#011validation-error:0.2363\u001b[0m\n",
      "\u001b[34m[01:57:56] src/tree/updater_prune.cc:74: tree pruning end, 1 roots, 40 extra nodes, 6 pruned nodes, max_depth=5\u001b[0m\n",
      "\u001b[34m[14]#011train-error:0.203867#011validation-error:0.2324\u001b[0m\n",
      "\u001b[34m[01:57:58] src/tree/updater_prune.cc:74: tree pruning end, 1 roots, 38 extra nodes, 10 pruned nodes, max_depth=5\u001b[0m\n",
      "\u001b[34m[15]#011train-error:0.200867#011validation-error:0.2309\u001b[0m\n",
      "\u001b[34m[01:57:59] src/tree/updater_prune.cc:74: tree pruning end, 1 roots, 34 extra nodes, 8 pruned nodes, max_depth=5\u001b[0m\n",
      "\u001b[34m[16]#011train-error:0.199067#011validation-error:0.2279\u001b[0m\n",
      "\u001b[34m[01:58:00] src/tree/updater_prune.cc:74: tree pruning end, 1 roots, 22 extra nodes, 14 pruned nodes, max_depth=5\u001b[0m\n",
      "\u001b[34m[17]#011train-error:0.196067#011validation-error:0.2244\u001b[0m\n",
      "\u001b[34m[01:58:02] src/tree/updater_prune.cc:74: tree pruning end, 1 roots, 24 extra nodes, 8 pruned nodes, max_depth=5\u001b[0m\n",
      "\u001b[34m[18]#011train-error:0.194067#011validation-error:0.2231\u001b[0m\n",
      "\u001b[34m[01:58:03] src/tree/updater_prune.cc:74: tree pruning end, 1 roots, 36 extra nodes, 4 pruned nodes, max_depth=5\u001b[0m\n",
      "\u001b[34m[19]#011train-error:0.1896#011validation-error:0.2227\u001b[0m\n",
      "\u001b[34m[01:58:04] src/tree/updater_prune.cc:74: tree pruning end, 1 roots, 30 extra nodes, 6 pruned nodes, max_depth=5\u001b[0m\n",
      "\u001b[34m[20]#011train-error:0.187667#011validation-error:0.2215\u001b[0m\n",
      "\u001b[34m[01:58:06] src/tree/updater_prune.cc:74: tree pruning end, 1 roots, 26 extra nodes, 12 pruned nodes, max_depth=5\u001b[0m\n",
      "\u001b[34m[21]#011train-error:0.1852#011validation-error:0.218\u001b[0m\n",
      "\u001b[34m[01:58:07] src/tree/updater_prune.cc:74: tree pruning end, 1 roots, 24 extra nodes, 8 pruned nodes, max_depth=5\u001b[0m\n",
      "\u001b[34m[22]#011train-error:0.183133#011validation-error:0.2153\u001b[0m\n",
      "\u001b[34m[01:58:08] src/tree/updater_prune.cc:74: tree pruning end, 1 roots, 32 extra nodes, 8 pruned nodes, max_depth=5\u001b[0m\n",
      "\u001b[34m[23]#011train-error:0.1796#011validation-error:0.2132\u001b[0m\n",
      "\u001b[34m[01:58:09] src/tree/updater_prune.cc:74: tree pruning end, 1 roots, 28 extra nodes, 14 pruned nodes, max_depth=5\u001b[0m\n",
      "\u001b[34m[24]#011train-error:0.178067#011validation-error:0.2106\u001b[0m\n",
      "\u001b[34m[01:58:11] src/tree/updater_prune.cc:74: tree pruning end, 1 roots, 24 extra nodes, 8 pruned nodes, max_depth=5\u001b[0m\n",
      "\u001b[34m[25]#011train-error:0.175933#011validation-error:0.2106\u001b[0m\n",
      "\u001b[34m[01:58:12] src/tree/updater_prune.cc:74: tree pruning end, 1 roots, 28 extra nodes, 4 pruned nodes, max_depth=5\u001b[0m\n",
      "\u001b[34m[26]#011train-error:0.1736#011validation-error:0.2091\u001b[0m\n",
      "\u001b[34m[01:58:13] src/tree/updater_prune.cc:74: tree pruning end, 1 roots, 16 extra nodes, 10 pruned nodes, max_depth=5\u001b[0m\n",
      "\u001b[34m[27]#011train-error:0.172467#011validation-error:0.2074\u001b[0m\n",
      "\u001b[34m[01:58:15] src/tree/updater_prune.cc:74: tree pruning end, 1 roots, 34 extra nodes, 8 pruned nodes, max_depth=5\u001b[0m\n",
      "\u001b[34m[28]#011train-error:0.170067#011validation-error:0.206\u001b[0m\n",
      "\u001b[34m[01:58:16] src/tree/updater_prune.cc:74: tree pruning end, 1 roots, 24 extra nodes, 8 pruned nodes, max_depth=5\u001b[0m\n",
      "\u001b[34m[29]#011train-error:0.167667#011validation-error:0.2045\u001b[0m\n",
      "\u001b[34m[01:58:17] src/tree/updater_prune.cc:74: tree pruning end, 1 roots, 24 extra nodes, 8 pruned nodes, max_depth=5\u001b[0m\n",
      "\u001b[34m[30]#011train-error:0.167133#011validation-error:0.2017\u001b[0m\n",
      "\u001b[34m[01:58:18] src/tree/updater_prune.cc:74: tree pruning end, 1 roots, 24 extra nodes, 10 pruned nodes, max_depth=5\u001b[0m\n",
      "\u001b[34m[31]#011train-error:0.166333#011validation-error:0.2013\u001b[0m\n",
      "\u001b[34m[01:58:20] src/tree/updater_prune.cc:74: tree pruning end, 1 roots, 24 extra nodes, 2 pruned nodes, max_depth=5\u001b[0m\n",
      "\u001b[34m[32]#011train-error:0.1634#011validation-error:0.1981\u001b[0m\n",
      "\u001b[34m[01:58:21] src/tree/updater_prune.cc:74: tree pruning end, 1 roots, 24 extra nodes, 6 pruned nodes, max_depth=5\u001b[0m\n",
      "\u001b[34m[33]#011train-error:0.162533#011validation-error:0.1989\u001b[0m\n",
      "\u001b[34m[01:58:22] src/tree/updater_prune.cc:74: tree pruning end, 1 roots, 30 extra nodes, 4 pruned nodes, max_depth=5\u001b[0m\n",
      "\u001b[34m[34]#011train-error:0.159467#011validation-error:0.1976\u001b[0m\n",
      "\u001b[34m[01:58:24] src/tree/updater_prune.cc:74: tree pruning end, 1 roots, 30 extra nodes, 16 pruned nodes, max_depth=5\u001b[0m\n",
      "\u001b[34m[35]#011train-error:0.158467#011validation-error:0.1959\u001b[0m\n",
      "\u001b[34m[01:58:25] src/tree/updater_prune.cc:74: tree pruning end, 1 roots, 24 extra nodes, 6 pruned nodes, max_depth=5\u001b[0m\n",
      "\u001b[34m[36]#011train-error:0.157267#011validation-error:0.1937\u001b[0m\n",
      "\u001b[34m[01:58:26] src/tree/updater_prune.cc:74: tree pruning end, 1 roots, 22 extra nodes, 12 pruned nodes, max_depth=5\u001b[0m\n",
      "\u001b[34m[37]#011train-error:0.155133#011validation-error:0.1922\u001b[0m\n",
      "\u001b[34m[01:58:28] src/tree/updater_prune.cc:74: tree pruning end, 1 roots, 12 extra nodes, 8 pruned nodes, max_depth=5\u001b[0m\n",
      "\u001b[34m[38]#011train-error:0.153667#011validation-error:0.1905\u001b[0m\n",
      "\u001b[34m[01:58:29] src/tree/updater_prune.cc:74: tree pruning end, 1 roots, 34 extra nodes, 10 pruned nodes, max_depth=5\u001b[0m\n",
      "\u001b[34m[39]#011train-error:0.152133#011validation-error:0.1906\u001b[0m\n",
      "\u001b[34m[01:58:30] src/tree/updater_prune.cc:74: tree pruning end, 1 roots, 18 extra nodes, 12 pruned nodes, max_depth=5\u001b[0m\n",
      "\u001b[34m[40]#011train-error:0.150133#011validation-error:0.189\u001b[0m\n",
      "\u001b[34m[01:58:31] src/tree/updater_prune.cc:74: tree pruning end, 1 roots, 46 extra nodes, 6 pruned nodes, max_depth=5\u001b[0m\n",
      "\u001b[34m[41]#011train-error:0.149133#011validation-error:0.1896\u001b[0m\n",
      "\u001b[34m[01:58:33] src/tree/updater_prune.cc:74: tree pruning end, 1 roots, 26 extra nodes, 12 pruned nodes, max_depth=5\u001b[0m\n",
      "\u001b[34m[42]#011train-error:0.148133#011validation-error:0.1877\u001b[0m\n",
      "\u001b[34m[01:58:34] src/tree/updater_prune.cc:74: tree pruning end, 1 roots, 18 extra nodes, 16 pruned nodes, max_depth=5\u001b[0m\n",
      "\u001b[34m[43]#011train-error:0.1474#011validation-error:0.1865\u001b[0m\n"
     ]
    },
    {
     "name": "stdout",
     "output_type": "stream",
     "text": [
      "\u001b[34m[01:58:35] src/tree/updater_prune.cc:74: tree pruning end, 1 roots, 20 extra nodes, 4 pruned nodes, max_depth=5\u001b[0m\n",
      "\u001b[34m[44]#011train-error:0.1452#011validation-error:0.1856\u001b[0m\n",
      "\u001b[34m[01:58:37] src/tree/updater_prune.cc:74: tree pruning end, 1 roots, 24 extra nodes, 12 pruned nodes, max_depth=5\u001b[0m\n",
      "\u001b[34m[45]#011train-error:0.145#011validation-error:0.185\u001b[0m\n",
      "\u001b[34m[01:58:38] src/tree/updater_prune.cc:74: tree pruning end, 1 roots, 36 extra nodes, 4 pruned nodes, max_depth=5\u001b[0m\n",
      "\u001b[34m[46]#011train-error:0.142133#011validation-error:0.1856\u001b[0m\n",
      "\u001b[34m[01:58:39] src/tree/updater_prune.cc:74: tree pruning end, 1 roots, 22 extra nodes, 12 pruned nodes, max_depth=5\u001b[0m\n",
      "\u001b[34m[47]#011train-error:0.141133#011validation-error:0.1844\u001b[0m\n",
      "\u001b[34m[01:58:41] src/tree/updater_prune.cc:74: tree pruning end, 1 roots, 28 extra nodes, 6 pruned nodes, max_depth=5\u001b[0m\n",
      "\u001b[34m[48]#011train-error:0.139533#011validation-error:0.1846\u001b[0m\n",
      "\u001b[34m[01:58:42] src/tree/updater_prune.cc:74: tree pruning end, 1 roots, 16 extra nodes, 4 pruned nodes, max_depth=5\u001b[0m\n",
      "\u001b[34m[49]#011train-error:0.1394#011validation-error:0.1824\u001b[0m\n",
      "\u001b[34m[01:58:43] src/tree/updater_prune.cc:74: tree pruning end, 1 roots, 22 extra nodes, 12 pruned nodes, max_depth=5\u001b[0m\n",
      "\u001b[34m[50]#011train-error:0.138133#011validation-error:0.1818\u001b[0m\n",
      "\u001b[34m[01:58:44] src/tree/updater_prune.cc:74: tree pruning end, 1 roots, 18 extra nodes, 8 pruned nodes, max_depth=5\u001b[0m\n",
      "\u001b[34m[51]#011train-error:0.137867#011validation-error:0.1815\u001b[0m\n",
      "\u001b[34m[01:58:46] src/tree/updater_prune.cc:74: tree pruning end, 1 roots, 18 extra nodes, 12 pruned nodes, max_depth=5\u001b[0m\n",
      "\u001b[34m[52]#011train-error:0.137133#011validation-error:0.1808\u001b[0m\n",
      "\u001b[34m[01:58:47] src/tree/updater_prune.cc:74: tree pruning end, 1 roots, 28 extra nodes, 2 pruned nodes, max_depth=5\u001b[0m\n",
      "\u001b[34m[53]#011train-error:0.1352#011validation-error:0.1784\u001b[0m\n",
      "\u001b[34m[01:58:48] src/tree/updater_prune.cc:74: tree pruning end, 1 roots, 32 extra nodes, 10 pruned nodes, max_depth=5\u001b[0m\n",
      "\u001b[34m[54]#011train-error:0.132867#011validation-error:0.1774\u001b[0m\n",
      "\u001b[34m[01:58:50] src/tree/updater_prune.cc:74: tree pruning end, 1 roots, 24 extra nodes, 12 pruned nodes, max_depth=5\u001b[0m\n",
      "\u001b[34m[55]#011train-error:0.132533#011validation-error:0.1772\u001b[0m\n",
      "\u001b[34m[01:58:51] src/tree/updater_prune.cc:74: tree pruning end, 1 roots, 18 extra nodes, 6 pruned nodes, max_depth=5\u001b[0m\n",
      "\u001b[34m[56]#011train-error:0.133133#011validation-error:0.1751\u001b[0m\n",
      "\u001b[34m[01:58:52] src/tree/updater_prune.cc:74: tree pruning end, 1 roots, 26 extra nodes, 8 pruned nodes, max_depth=5\u001b[0m\n",
      "\u001b[34m[57]#011train-error:0.131333#011validation-error:0.1755\u001b[0m\n",
      "\u001b[34m[01:58:54] src/tree/updater_prune.cc:74: tree pruning end, 1 roots, 14 extra nodes, 4 pruned nodes, max_depth=5\u001b[0m\n",
      "\u001b[34m[58]#011train-error:0.130933#011validation-error:0.1732\u001b[0m\n",
      "\u001b[34m[01:58:55] src/tree/updater_prune.cc:74: tree pruning end, 1 roots, 24 extra nodes, 14 pruned nodes, max_depth=5\u001b[0m\n",
      "\u001b[34m[59]#011train-error:0.130067#011validation-error:0.1732\u001b[0m\n",
      "\u001b[34m[01:58:56] src/tree/updater_prune.cc:74: tree pruning end, 1 roots, 26 extra nodes, 12 pruned nodes, max_depth=5\u001b[0m\n",
      "\u001b[34m[60]#011train-error:0.1286#011validation-error:0.1726\u001b[0m\n",
      "\u001b[34m[01:58:57] src/tree/updater_prune.cc:74: tree pruning end, 1 roots, 20 extra nodes, 2 pruned nodes, max_depth=5\u001b[0m\n",
      "\u001b[34m[61]#011train-error:0.128#011validation-error:0.1716\u001b[0m\n",
      "\u001b[34m[01:58:59] src/tree/updater_prune.cc:74: tree pruning end, 1 roots, 18 extra nodes, 2 pruned nodes, max_depth=5\u001b[0m\n",
      "\u001b[34m[62]#011train-error:0.127667#011validation-error:0.1699\u001b[0m\n",
      "\u001b[34m[01:59:00] src/tree/updater_prune.cc:74: tree pruning end, 1 roots, 26 extra nodes, 6 pruned nodes, max_depth=5\u001b[0m\n",
      "\u001b[34m[63]#011train-error:0.125933#011validation-error:0.1687\u001b[0m\n",
      "\u001b[34m[01:59:01] src/tree/updater_prune.cc:74: tree pruning end, 1 roots, 18 extra nodes, 10 pruned nodes, max_depth=5\u001b[0m\n",
      "\u001b[34m[64]#011train-error:0.1256#011validation-error:0.168\u001b[0m\n",
      "\u001b[34m[01:59:03] src/tree/updater_prune.cc:74: tree pruning end, 1 roots, 24 extra nodes, 12 pruned nodes, max_depth=5\u001b[0m\n",
      "\u001b[34m[65]#011train-error:0.125#011validation-error:0.1684\u001b[0m\n",
      "\u001b[34m[01:59:04] src/tree/updater_prune.cc:74: tree pruning end, 1 roots, 14 extra nodes, 10 pruned nodes, max_depth=5\u001b[0m\n",
      "\u001b[34m[66]#011train-error:0.125#011validation-error:0.1676\u001b[0m\n",
      "\u001b[34m[01:59:05] src/tree/updater_prune.cc:74: tree pruning end, 1 roots, 20 extra nodes, 14 pruned nodes, max_depth=5\u001b[0m\n",
      "\u001b[34m[67]#011train-error:0.125#011validation-error:0.1663\u001b[0m\n",
      "\u001b[34m[01:59:07] src/tree/updater_prune.cc:74: tree pruning end, 1 roots, 30 extra nodes, 8 pruned nodes, max_depth=5\u001b[0m\n",
      "\u001b[34m[68]#011train-error:0.122867#011validation-error:0.1658\u001b[0m\n",
      "\u001b[34m[01:59:08] src/tree/updater_prune.cc:74: tree pruning end, 1 roots, 32 extra nodes, 8 pruned nodes, max_depth=5\u001b[0m\n",
      "\u001b[34m[69]#011train-error:0.122267#011validation-error:0.1657\u001b[0m\n",
      "\u001b[34m[01:59:09] src/tree/updater_prune.cc:74: tree pruning end, 1 roots, 12 extra nodes, 8 pruned nodes, max_depth=5\u001b[0m\n",
      "\u001b[34m[70]#011train-error:0.122067#011validation-error:0.1651\u001b[0m\n",
      "\u001b[34m[01:59:10] src/tree/updater_prune.cc:74: tree pruning end, 1 roots, 18 extra nodes, 6 pruned nodes, max_depth=5\u001b[0m\n",
      "\u001b[34m[71]#011train-error:0.121667#011validation-error:0.1641\u001b[0m\n",
      "\u001b[34m[01:59:12] src/tree/updater_prune.cc:74: tree pruning end, 1 roots, 16 extra nodes, 8 pruned nodes, max_depth=5\u001b[0m\n",
      "\u001b[34m[72]#011train-error:0.121533#011validation-error:0.1624\u001b[0m\n",
      "\u001b[34m[01:59:13] src/tree/updater_prune.cc:74: tree pruning end, 1 roots, 32 extra nodes, 8 pruned nodes, max_depth=5\u001b[0m\n",
      "\u001b[34m[73]#011train-error:0.1202#011validation-error:0.1632\u001b[0m\n",
      "\u001b[34m[01:59:14] src/tree/updater_prune.cc:74: tree pruning end, 1 roots, 10 extra nodes, 8 pruned nodes, max_depth=5\u001b[0m\n",
      "\u001b[34m[74]#011train-error:0.119133#011validation-error:0.1631\u001b[0m\n",
      "\u001b[34m[01:59:16] src/tree/updater_prune.cc:74: tree pruning end, 1 roots, 20 extra nodes, 6 pruned nodes, max_depth=5\u001b[0m\n",
      "\u001b[34m[75]#011train-error:0.118333#011validation-error:0.1621\u001b[0m\n",
      "\u001b[34m[01:59:17] src/tree/updater_prune.cc:74: tree pruning end, 1 roots, 20 extra nodes, 2 pruned nodes, max_depth=5\u001b[0m\n",
      "\u001b[34m[76]#011train-error:0.118133#011validation-error:0.1614\u001b[0m\n",
      "\u001b[34m[01:59:18] src/tree/updater_prune.cc:74: tree pruning end, 1 roots, 20 extra nodes, 10 pruned nodes, max_depth=5\u001b[0m\n",
      "\u001b[34m[77]#011train-error:0.1174#011validation-error:0.1609\u001b[0m\n",
      "\u001b[34m[01:59:19] src/tree/updater_prune.cc:74: tree pruning end, 1 roots, 16 extra nodes, 6 pruned nodes, max_depth=5\u001b[0m\n",
      "\u001b[34m[78]#011train-error:0.116333#011validation-error:0.1612\u001b[0m\n",
      "\u001b[34m[01:59:21] src/tree/updater_prune.cc:74: tree pruning end, 1 roots, 12 extra nodes, 12 pruned nodes, max_depth=5\u001b[0m\n",
      "\u001b[34m[79]#011train-error:0.115867#011validation-error:0.1609\u001b[0m\n",
      "\u001b[34m[01:59:22] src/tree/updater_prune.cc:74: tree pruning end, 1 roots, 12 extra nodes, 4 pruned nodes, max_depth=5\u001b[0m\n",
      "\u001b[34m[80]#011train-error:0.115133#011validation-error:0.1595\u001b[0m\n",
      "\u001b[34m[01:59:23] src/tree/updater_prune.cc:74: tree pruning end, 1 roots, 22 extra nodes, 6 pruned nodes, max_depth=5\u001b[0m\n",
      "\u001b[34m[81]#011train-error:0.113667#011validation-error:0.1586\u001b[0m\n",
      "\u001b[34m[01:59:25] src/tree/updater_prune.cc:74: tree pruning end, 1 roots, 24 extra nodes, 2 pruned nodes, max_depth=5\u001b[0m\n",
      "\u001b[34m[82]#011train-error:0.1136#011validation-error:0.1587\u001b[0m\n",
      "\u001b[34m[01:59:26] src/tree/updater_prune.cc:74: tree pruning end, 1 roots, 42 extra nodes, 10 pruned nodes, max_depth=5\u001b[0m\n",
      "\u001b[34m[83]#011train-error:0.111933#011validation-error:0.1571\u001b[0m\n",
      "\u001b[34m[01:59:27] src/tree/updater_prune.cc:74: tree pruning end, 1 roots, 16 extra nodes, 6 pruned nodes, max_depth=5\u001b[0m\n",
      "\u001b[34m[84]#011train-error:0.110933#011validation-error:0.1573\u001b[0m\n",
      "\u001b[34m[01:59:29] src/tree/updater_prune.cc:74: tree pruning end, 1 roots, 12 extra nodes, 10 pruned nodes, max_depth=5\u001b[0m\n",
      "\u001b[34m[85]#011train-error:0.110867#011validation-error:0.1569\u001b[0m\n",
      "\u001b[34m[01:59:30] src/tree/updater_prune.cc:74: tree pruning end, 1 roots, 16 extra nodes, 8 pruned nodes, max_depth=5\u001b[0m\n",
      "\u001b[34m[86]#011train-error:0.110667#011validation-error:0.1565\u001b[0m\n",
      "\u001b[34m[01:59:31] src/tree/updater_prune.cc:74: tree pruning end, 1 roots, 10 extra nodes, 10 pruned nodes, max_depth=5\u001b[0m\n",
      "\u001b[34m[87]#011train-error:0.109667#011validation-error:0.1573\u001b[0m\n",
      "\u001b[34m[01:59:33] src/tree/updater_prune.cc:74: tree pruning end, 1 roots, 14 extra nodes, 14 pruned nodes, max_depth=5\u001b[0m\n",
      "\u001b[34m[88]#011train-error:0.1088#011validation-error:0.1565\u001b[0m\n",
      "\u001b[34m[01:59:34] src/tree/updater_prune.cc:74: tree pruning end, 1 roots, 28 extra nodes, 4 pruned nodes, max_depth=5\u001b[0m\n",
      "\u001b[34m[89]#011train-error:0.108333#011validation-error:0.1569\u001b[0m\n",
      "\u001b[34m[01:59:35] src/tree/updater_prune.cc:74: tree pruning end, 1 roots, 18 extra nodes, 6 pruned nodes, max_depth=5\u001b[0m\n",
      "\u001b[34m[90]#011train-error:0.106733#011validation-error:0.1563\u001b[0m\n",
      "\u001b[34m[01:59:37] src/tree/updater_prune.cc:74: tree pruning end, 1 roots, 10 extra nodes, 6 pruned nodes, max_depth=5\u001b[0m\n",
      "\u001b[34m[91]#011train-error:0.107067#011validation-error:0.1563\u001b[0m\n",
      "\u001b[34m[01:59:38] src/tree/updater_prune.cc:74: tree pruning end, 1 roots, 16 extra nodes, 12 pruned nodes, max_depth=5\u001b[0m\n",
      "\u001b[34m[92]#011train-error:0.106667#011validation-error:0.1568\u001b[0m\n",
      "\u001b[34m[01:59:39] src/tree/updater_prune.cc:74: tree pruning end, 1 roots, 20 extra nodes, 10 pruned nodes, max_depth=5\u001b[0m\n",
      "\u001b[34m[93]#011train-error:0.106133#011validation-error:0.1555\u001b[0m\n",
      "\u001b[34m[01:59:40] src/tree/updater_prune.cc:74: tree pruning end, 1 roots, 16 extra nodes, 8 pruned nodes, max_depth=5\u001b[0m\n",
      "\u001b[34m[94]#011train-error:0.105733#011validation-error:0.1558\u001b[0m\n",
      "\u001b[34m[01:59:42] src/tree/updater_prune.cc:74: tree pruning end, 1 roots, 16 extra nodes, 10 pruned nodes, max_depth=5\u001b[0m\n",
      "\u001b[34m[95]#011train-error:0.1054#011validation-error:0.1549\u001b[0m\n"
     ]
    },
    {
     "name": "stdout",
     "output_type": "stream",
     "text": [
      "\u001b[34m[01:59:43] src/tree/updater_prune.cc:74: tree pruning end, 1 roots, 10 extra nodes, 10 pruned nodes, max_depth=5\u001b[0m\n",
      "\u001b[34m[96]#011train-error:0.105133#011validation-error:0.1542\u001b[0m\n",
      "\u001b[34m[01:59:44] src/tree/updater_prune.cc:74: tree pruning end, 1 roots, 28 extra nodes, 4 pruned nodes, max_depth=5\u001b[0m\n",
      "\u001b[34m[97]#011train-error:0.104#011validation-error:0.1545\u001b[0m\n",
      "\u001b[34m[01:59:46] src/tree/updater_prune.cc:74: tree pruning end, 1 roots, 14 extra nodes, 10 pruned nodes, max_depth=5\u001b[0m\n",
      "\u001b[34m[98]#011train-error:0.103933#011validation-error:0.1548\u001b[0m\n",
      "\u001b[34m[01:59:47] src/tree/updater_prune.cc:74: tree pruning end, 1 roots, 14 extra nodes, 18 pruned nodes, max_depth=5\u001b[0m\n",
      "\u001b[34m[99]#011train-error:0.103667#011validation-error:0.1548\u001b[0m\n",
      "\u001b[34m[01:59:48] src/tree/updater_prune.cc:74: tree pruning end, 1 roots, 16 extra nodes, 10 pruned nodes, max_depth=5\u001b[0m\n",
      "\u001b[34m[100]#011train-error:0.103467#011validation-error:0.1535\u001b[0m\n",
      "\u001b[34m[01:59:50] src/tree/updater_prune.cc:74: tree pruning end, 1 roots, 14 extra nodes, 12 pruned nodes, max_depth=5\u001b[0m\n",
      "\u001b[34m[101]#011train-error:0.103333#011validation-error:0.154\u001b[0m\n",
      "\u001b[34m[01:59:51] src/tree/updater_prune.cc:74: tree pruning end, 1 roots, 26 extra nodes, 6 pruned nodes, max_depth=5\u001b[0m\n",
      "\u001b[34m[102]#011train-error:0.1026#011validation-error:0.1542\u001b[0m\n",
      "\u001b[34m[01:59:52] src/tree/updater_prune.cc:74: tree pruning end, 1 roots, 22 extra nodes, 4 pruned nodes, max_depth=5\u001b[0m\n",
      "\u001b[34m[103]#011train-error:0.102533#011validation-error:0.1536\u001b[0m\n",
      "\u001b[34m[01:59:53] src/tree/updater_prune.cc:74: tree pruning end, 1 roots, 12 extra nodes, 8 pruned nodes, max_depth=5\u001b[0m\n",
      "\u001b[34m[104]#011train-error:0.102267#011validation-error:0.1537\u001b[0m\n",
      "\u001b[34m[01:59:55] src/tree/updater_prune.cc:74: tree pruning end, 1 roots, 10 extra nodes, 10 pruned nodes, max_depth=5\u001b[0m\n",
      "\u001b[34m[105]#011train-error:0.101533#011validation-error:0.1528\u001b[0m\n",
      "\u001b[34m[01:59:56] src/tree/updater_prune.cc:74: tree pruning end, 1 roots, 14 extra nodes, 2 pruned nodes, max_depth=5\u001b[0m\n",
      "\u001b[34m[106]#011train-error:0.1006#011validation-error:0.1529\u001b[0m\n",
      "\u001b[34m[01:59:57] src/tree/updater_prune.cc:74: tree pruning end, 1 roots, 14 extra nodes, 8 pruned nodes, max_depth=5\u001b[0m\n",
      "\u001b[34m[107]#011train-error:0.1#011validation-error:0.1523\u001b[0m\n",
      "\u001b[34m[01:59:59] src/tree/updater_prune.cc:74: tree pruning end, 1 roots, 12 extra nodes, 10 pruned nodes, max_depth=5\u001b[0m\n",
      "\u001b[34m[108]#011train-error:0.099733#011validation-error:0.152\u001b[0m\n",
      "\u001b[34m[02:00:00] src/tree/updater_prune.cc:74: tree pruning end, 1 roots, 12 extra nodes, 16 pruned nodes, max_depth=5\u001b[0m\n",
      "\u001b[34m[109]#011train-error:0.099333#011validation-error:0.1512\u001b[0m\n",
      "\u001b[34m[02:00:01] src/tree/updater_prune.cc:74: tree pruning end, 1 roots, 12 extra nodes, 6 pruned nodes, max_depth=5\u001b[0m\n",
      "\u001b[34m[110]#011train-error:0.098867#011validation-error:0.1505\u001b[0m\n",
      "\u001b[34m[02:00:02] src/tree/updater_prune.cc:74: tree pruning end, 1 roots, 22 extra nodes, 16 pruned nodes, max_depth=5\u001b[0m\n",
      "\u001b[34m[111]#011train-error:0.098533#011validation-error:0.1494\u001b[0m\n",
      "\u001b[34m[02:00:04] src/tree/updater_prune.cc:74: tree pruning end, 1 roots, 22 extra nodes, 4 pruned nodes, max_depth=5\u001b[0m\n",
      "\u001b[34m[112]#011train-error:0.098133#011validation-error:0.1494\u001b[0m\n",
      "\u001b[34m[02:00:05] src/tree/updater_prune.cc:74: tree pruning end, 1 roots, 14 extra nodes, 8 pruned nodes, max_depth=5\u001b[0m\n",
      "\u001b[34m[113]#011train-error:0.097467#011validation-error:0.1483\u001b[0m\n",
      "\u001b[34m[02:00:06] src/tree/updater_prune.cc:74: tree pruning end, 1 roots, 30 extra nodes, 14 pruned nodes, max_depth=5\u001b[0m\n",
      "\u001b[34m[114]#011train-error:0.0964#011validation-error:0.1489\u001b[0m\n",
      "\u001b[34m[02:00:08] src/tree/updater_prune.cc:74: tree pruning end, 1 roots, 16 extra nodes, 10 pruned nodes, max_depth=5\u001b[0m\n",
      "\u001b[34m[115]#011train-error:0.0958#011validation-error:0.1488\u001b[0m\n",
      "\u001b[34m[02:00:09] src/tree/updater_prune.cc:74: tree pruning end, 1 roots, 18 extra nodes, 6 pruned nodes, max_depth=5\u001b[0m\n",
      "\u001b[34m[116]#011train-error:0.095667#011validation-error:0.1491\u001b[0m\n",
      "\u001b[34m[02:00:11] src/tree/updater_prune.cc:74: tree pruning end, 1 roots, 12 extra nodes, 10 pruned nodes, max_depth=5\u001b[0m\n",
      "\u001b[34m[117]#011train-error:0.095867#011validation-error:0.149\u001b[0m\n",
      "\u001b[34m[02:00:12] src/tree/updater_prune.cc:74: tree pruning end, 1 roots, 14 extra nodes, 6 pruned nodes, max_depth=5\u001b[0m\n",
      "\u001b[34m[118]#011train-error:0.095867#011validation-error:0.1494\u001b[0m\n",
      "\u001b[34m[02:00:13] src/tree/updater_prune.cc:74: tree pruning end, 1 roots, 10 extra nodes, 12 pruned nodes, max_depth=5\u001b[0m\n",
      "\u001b[34m[119]#011train-error:0.095067#011validation-error:0.15\u001b[0m\n",
      "\u001b[34m[02:00:14] src/tree/updater_prune.cc:74: tree pruning end, 1 roots, 18 extra nodes, 4 pruned nodes, max_depth=5\u001b[0m\n",
      "\u001b[34m[120]#011train-error:0.094467#011validation-error:0.1499\u001b[0m\n",
      "\u001b[34m[02:00:16] src/tree/updater_prune.cc:74: tree pruning end, 1 roots, 12 extra nodes, 4 pruned nodes, max_depth=5\u001b[0m\n",
      "\u001b[34m[121]#011train-error:0.094333#011validation-error:0.1493\u001b[0m\n",
      "\u001b[34m[02:00:17] src/tree/updater_prune.cc:74: tree pruning end, 1 roots, 22 extra nodes, 12 pruned nodes, max_depth=5\u001b[0m\n",
      "\u001b[34m[122]#011train-error:0.0938#011validation-error:0.1488\u001b[0m\n",
      "\u001b[34m[02:00:18] src/tree/updater_prune.cc:74: tree pruning end, 1 roots, 34 extra nodes, 8 pruned nodes, max_depth=5\u001b[0m\n",
      "\u001b[34m[123]#011train-error:0.092533#011validation-error:0.1481\u001b[0m\n",
      "\u001b[34m[02:00:20] src/tree/updater_prune.cc:74: tree pruning end, 1 roots, 12 extra nodes, 10 pruned nodes, max_depth=5\u001b[0m\n",
      "\u001b[34m[124]#011train-error:0.0926#011validation-error:0.1477\u001b[0m\n",
      "\u001b[34m[02:00:21] src/tree/updater_prune.cc:74: tree pruning end, 1 roots, 16 extra nodes, 6 pruned nodes, max_depth=5\u001b[0m\n",
      "\u001b[34m[125]#011train-error:0.0924#011validation-error:0.1482\u001b[0m\n",
      "\u001b[34m[02:00:22] src/tree/updater_prune.cc:74: tree pruning end, 1 roots, 12 extra nodes, 10 pruned nodes, max_depth=5\u001b[0m\n",
      "\u001b[34m[126]#011train-error:0.0916#011validation-error:0.148\u001b[0m\n",
      "\u001b[34m[02:00:24] src/tree/updater_prune.cc:74: tree pruning end, 1 roots, 16 extra nodes, 6 pruned nodes, max_depth=5\u001b[0m\n",
      "\u001b[34m[127]#011train-error:0.091333#011validation-error:0.1476\u001b[0m\n",
      "\u001b[34m[02:00:25] src/tree/updater_prune.cc:74: tree pruning end, 1 roots, 20 extra nodes, 18 pruned nodes, max_depth=5\u001b[0m\n",
      "\u001b[34m[128]#011train-error:0.091733#011validation-error:0.149\u001b[0m\n",
      "\u001b[34m[02:00:26] src/tree/updater_prune.cc:74: tree pruning end, 1 roots, 22 extra nodes, 4 pruned nodes, max_depth=5\u001b[0m\n",
      "\u001b[34m[129]#011train-error:0.090933#011validation-error:0.1484\u001b[0m\n",
      "\u001b[34m[02:00:27] src/tree/updater_prune.cc:74: tree pruning end, 1 roots, 18 extra nodes, 10 pruned nodes, max_depth=5\u001b[0m\n",
      "\u001b[34m[130]#011train-error:0.090333#011validation-error:0.1478\u001b[0m\n",
      "\u001b[34m[02:00:29] src/tree/updater_prune.cc:74: tree pruning end, 1 roots, 10 extra nodes, 14 pruned nodes, max_depth=5\u001b[0m\n",
      "\u001b[34m[131]#011train-error:0.0902#011validation-error:0.1481\u001b[0m\n",
      "\u001b[34m[02:00:30] src/tree/updater_prune.cc:74: tree pruning end, 1 roots, 14 extra nodes, 12 pruned nodes, max_depth=5\u001b[0m\n",
      "\u001b[34m[132]#011train-error:0.09#011validation-error:0.1479\u001b[0m\n",
      "\u001b[34m[02:00:31] src/tree/updater_prune.cc:74: tree pruning end, 1 roots, 20 extra nodes, 2 pruned nodes, max_depth=5\u001b[0m\n",
      "\u001b[34m[133]#011train-error:0.089467#011validation-error:0.1468\u001b[0m\n",
      "\u001b[34m[02:00:33] src/tree/updater_prune.cc:74: tree pruning end, 1 roots, 18 extra nodes, 12 pruned nodes, max_depth=5\u001b[0m\n",
      "\u001b[34m[134]#011train-error:0.089267#011validation-error:0.1472\u001b[0m\n",
      "\u001b[34m[02:00:34] src/tree/updater_prune.cc:74: tree pruning end, 1 roots, 24 extra nodes, 10 pruned nodes, max_depth=5\u001b[0m\n",
      "\u001b[34m[135]#011train-error:0.0892#011validation-error:0.1477\u001b[0m\n",
      "\u001b[34m[02:00:35] src/tree/updater_prune.cc:74: tree pruning end, 1 roots, 34 extra nodes, 8 pruned nodes, max_depth=5\u001b[0m\n",
      "\u001b[34m[136]#011train-error:0.0874#011validation-error:0.1473\u001b[0m\n",
      "\u001b[34m[02:00:37] src/tree/updater_prune.cc:74: tree pruning end, 1 roots, 16 extra nodes, 6 pruned nodes, max_depth=5\u001b[0m\n",
      "\u001b[34m[137]#011train-error:0.0866#011validation-error:0.1462\u001b[0m\n",
      "\u001b[34m[02:00:38] src/tree/updater_prune.cc:74: tree pruning end, 1 roots, 10 extra nodes, 4 pruned nodes, max_depth=5\u001b[0m\n",
      "\u001b[34m[138]#011train-error:0.0862#011validation-error:0.1459\u001b[0m\n",
      "\u001b[34m[02:00:39] src/tree/updater_prune.cc:74: tree pruning end, 1 roots, 28 extra nodes, 4 pruned nodes, max_depth=5\u001b[0m\n",
      "\u001b[34m[139]#011train-error:0.0852#011validation-error:0.1455\u001b[0m\n"
     ]
    },
    {
     "name": "stdout",
     "output_type": "stream",
     "text": [
      "\u001b[34m[02:00:40] src/tree/updater_prune.cc:74: tree pruning end, 1 roots, 10 extra nodes, 4 pruned nodes, max_depth=5\u001b[0m\n",
      "\u001b[34m[140]#011train-error:0.085267#011validation-error:0.145\u001b[0m\n",
      "\u001b[34m[02:00:42] src/tree/updater_prune.cc:74: tree pruning end, 1 roots, 16 extra nodes, 8 pruned nodes, max_depth=5\u001b[0m\n",
      "\u001b[34m[141]#011train-error:0.0846#011validation-error:0.1453\u001b[0m\n",
      "\u001b[34m[02:00:43] src/tree/updater_prune.cc:74: tree pruning end, 1 roots, 12 extra nodes, 10 pruned nodes, max_depth=5\u001b[0m\n",
      "\u001b[34m[142]#011train-error:0.083667#011validation-error:0.1451\u001b[0m\n",
      "\u001b[34m[02:00:44] src/tree/updater_prune.cc:74: tree pruning end, 1 roots, 18 extra nodes, 14 pruned nodes, max_depth=5\u001b[0m\n",
      "\u001b[34m[143]#011train-error:0.083467#011validation-error:0.1449\u001b[0m\n",
      "\u001b[34m[02:00:46] src/tree/updater_prune.cc:74: tree pruning end, 1 roots, 12 extra nodes, 12 pruned nodes, max_depth=5\u001b[0m\n",
      "\u001b[34m[144]#011train-error:0.083533#011validation-error:0.1448\u001b[0m\n",
      "\u001b[34m[02:00:47] src/tree/updater_prune.cc:74: tree pruning end, 1 roots, 16 extra nodes, 4 pruned nodes, max_depth=5\u001b[0m\n",
      "\u001b[34m[145]#011train-error:0.083267#011validation-error:0.1436\u001b[0m\n",
      "\u001b[34m[02:00:48] src/tree/updater_prune.cc:74: tree pruning end, 1 roots, 12 extra nodes, 2 pruned nodes, max_depth=5\u001b[0m\n",
      "\u001b[34m[146]#011train-error:0.082933#011validation-error:0.1436\u001b[0m\n",
      "\u001b[34m[02:00:50] src/tree/updater_prune.cc:74: tree pruning end, 1 roots, 14 extra nodes, 6 pruned nodes, max_depth=5\u001b[0m\n",
      "\u001b[34m[147]#011train-error:0.083#011validation-error:0.1434\u001b[0m\n",
      "\u001b[34m[02:00:51] src/tree/updater_prune.cc:74: tree pruning end, 1 roots, 14 extra nodes, 4 pruned nodes, max_depth=5\u001b[0m\n",
      "\u001b[34m[148]#011train-error:0.082733#011validation-error:0.1431\u001b[0m\n",
      "\u001b[34m[02:00:52] src/tree/updater_prune.cc:74: tree pruning end, 1 roots, 10 extra nodes, 14 pruned nodes, max_depth=5\u001b[0m\n",
      "\u001b[34m[149]#011train-error:0.082667#011validation-error:0.1424\u001b[0m\n",
      "\u001b[34m[02:00:53] src/tree/updater_prune.cc:74: tree pruning end, 1 roots, 12 extra nodes, 14 pruned nodes, max_depth=5\u001b[0m\n",
      "\u001b[34m[150]#011train-error:0.0824#011validation-error:0.1424\u001b[0m\n",
      "\u001b[34m[02:00:55] src/tree/updater_prune.cc:74: tree pruning end, 1 roots, 20 extra nodes, 12 pruned nodes, max_depth=5\u001b[0m\n",
      "\u001b[34m[151]#011train-error:0.0822#011validation-error:0.1416\u001b[0m\n",
      "\u001b[34m[02:00:56] src/tree/updater_prune.cc:74: tree pruning end, 1 roots, 12 extra nodes, 6 pruned nodes, max_depth=5\u001b[0m\n",
      "\u001b[34m[152]#011train-error:0.082333#011validation-error:0.141\u001b[0m\n",
      "\u001b[34m[02:00:57] src/tree/updater_prune.cc:74: tree pruning end, 1 roots, 20 extra nodes, 4 pruned nodes, max_depth=5\u001b[0m\n",
      "\u001b[34m[153]#011train-error:0.081667#011validation-error:0.1406\u001b[0m\n",
      "\u001b[34m[02:00:59] src/tree/updater_prune.cc:74: tree pruning end, 1 roots, 10 extra nodes, 8 pruned nodes, max_depth=5\u001b[0m\n",
      "\u001b[34m[154]#011train-error:0.081067#011validation-error:0.1404\u001b[0m\n",
      "\u001b[34m[02:01:00] src/tree/updater_prune.cc:74: tree pruning end, 1 roots, 12 extra nodes, 2 pruned nodes, max_depth=5\u001b[0m\n",
      "\u001b[34m[155]#011train-error:0.0806#011validation-error:0.1411\u001b[0m\n",
      "\u001b[34m[02:01:01] src/tree/updater_prune.cc:74: tree pruning end, 1 roots, 18 extra nodes, 8 pruned nodes, max_depth=5\u001b[0m\n",
      "\u001b[34m[156]#011train-error:0.080733#011validation-error:0.1403\u001b[0m\n",
      "\u001b[34m[02:01:03] src/tree/updater_prune.cc:74: tree pruning end, 1 roots, 14 extra nodes, 10 pruned nodes, max_depth=5\u001b[0m\n",
      "\u001b[34m[157]#011train-error:0.0804#011validation-error:0.1405\u001b[0m\n",
      "\u001b[34m[02:01:04] src/tree/updater_prune.cc:74: tree pruning end, 1 roots, 10 extra nodes, 6 pruned nodes, max_depth=5\u001b[0m\n",
      "\u001b[34m[158]#011train-error:0.0802#011validation-error:0.1403\u001b[0m\n",
      "\u001b[34m[02:01:05] src/tree/updater_prune.cc:74: tree pruning end, 1 roots, 12 extra nodes, 12 pruned nodes, max_depth=5\u001b[0m\n",
      "\u001b[34m[159]#011train-error:0.0796#011validation-error:0.14\u001b[0m\n",
      "\u001b[34m[02:01:06] src/tree/updater_prune.cc:74: tree pruning end, 1 roots, 12 extra nodes, 2 pruned nodes, max_depth=5\u001b[0m\n",
      "\u001b[34m[160]#011train-error:0.079467#011validation-error:0.1388\u001b[0m\n",
      "\u001b[34m[02:01:08] src/tree/updater_prune.cc:74: tree pruning end, 1 roots, 10 extra nodes, 14 pruned nodes, max_depth=5\u001b[0m\n",
      "\u001b[34m[161]#011train-error:0.0798#011validation-error:0.1397\u001b[0m\n",
      "\u001b[34m[02:01:09] src/tree/updater_prune.cc:74: tree pruning end, 1 roots, 14 extra nodes, 6 pruned nodes, max_depth=5\u001b[0m\n",
      "\u001b[34m[162]#011train-error:0.079667#011validation-error:0.1404\u001b[0m\n",
      "\u001b[34m[02:01:10] src/tree/updater_prune.cc:74: tree pruning end, 1 roots, 14 extra nodes, 22 pruned nodes, max_depth=5\u001b[0m\n",
      "\u001b[34m[163]#011train-error:0.079667#011validation-error:0.1403\u001b[0m\n",
      "\u001b[34m[02:01:12] src/tree/updater_prune.cc:74: tree pruning end, 1 roots, 10 extra nodes, 10 pruned nodes, max_depth=5\u001b[0m\n",
      "\u001b[34m[164]#011train-error:0.079733#011validation-error:0.1401\u001b[0m\n",
      "\u001b[34m[02:01:13] src/tree/updater_prune.cc:74: tree pruning end, 1 roots, 10 extra nodes, 20 pruned nodes, max_depth=5\u001b[0m\n",
      "\u001b[34m[165]#011train-error:0.079667#011validation-error:0.1402\u001b[0m\n",
      "\u001b[34m[02:01:14] src/tree/updater_prune.cc:74: tree pruning end, 1 roots, 12 extra nodes, 10 pruned nodes, max_depth=5\u001b[0m\n",
      "\u001b[34m[166]#011train-error:0.079333#011validation-error:0.1391\u001b[0m\n",
      "\u001b[34m[02:01:16] src/tree/updater_prune.cc:74: tree pruning end, 1 roots, 12 extra nodes, 16 pruned nodes, max_depth=5\u001b[0m\n",
      "\u001b[34m[167]#011train-error:0.0792#011validation-error:0.1385\u001b[0m\n",
      "\u001b[34m[02:01:17] src/tree/updater_prune.cc:74: tree pruning end, 1 roots, 18 extra nodes, 10 pruned nodes, max_depth=5\u001b[0m\n",
      "\u001b[34m[168]#011train-error:0.0792#011validation-error:0.1394\u001b[0m\n",
      "\u001b[34m[02:01:18] src/tree/updater_prune.cc:74: tree pruning end, 1 roots, 16 extra nodes, 10 pruned nodes, max_depth=5\u001b[0m\n",
      "\u001b[34m[169]#011train-error:0.078733#011validation-error:0.1397\u001b[0m\n",
      "\u001b[34m[02:01:20] src/tree/updater_prune.cc:74: tree pruning end, 1 roots, 12 extra nodes, 10 pruned nodes, max_depth=5\u001b[0m\n",
      "\u001b[34m[170]#011train-error:0.0784#011validation-error:0.1404\u001b[0m\n",
      "\u001b[34m[02:01:21] src/tree/updater_prune.cc:74: tree pruning end, 1 roots, 20 extra nodes, 10 pruned nodes, max_depth=5\u001b[0m\n",
      "\u001b[34m[171]#011train-error:0.0778#011validation-error:0.1396\u001b[0m\n",
      "\u001b[34m[02:01:22] src/tree/updater_prune.cc:74: tree pruning end, 1 roots, 12 extra nodes, 6 pruned nodes, max_depth=5\u001b[0m\n",
      "\u001b[34m[172]#011train-error:0.077867#011validation-error:0.1407\u001b[0m\n",
      "\u001b[34m[02:01:23] src/tree/updater_prune.cc:74: tree pruning end, 1 roots, 12 extra nodes, 2 pruned nodes, max_depth=5\u001b[0m\n",
      "\u001b[34m[173]#011train-error:0.077867#011validation-error:0.1407\u001b[0m\n",
      "\u001b[34m[02:01:25] src/tree/updater_prune.cc:74: tree pruning end, 1 roots, 10 extra nodes, 8 pruned nodes, max_depth=5\u001b[0m\n",
      "\u001b[34m[174]#011train-error:0.0774#011validation-error:0.1397\u001b[0m\n",
      "\u001b[34m[02:01:26] src/tree/updater_prune.cc:74: tree pruning end, 1 roots, 24 extra nodes, 10 pruned nodes, max_depth=5\u001b[0m\n",
      "\u001b[34m[175]#011train-error:0.077133#011validation-error:0.1391\u001b[0m\n",
      "\u001b[34m[02:01:27] src/tree/updater_prune.cc:74: tree pruning end, 1 roots, 10 extra nodes, 20 pruned nodes, max_depth=5\u001b[0m\n",
      "\u001b[34m[176]#011train-error:0.077267#011validation-error:0.1387\u001b[0m\n",
      "\u001b[34m[02:01:29] src/tree/updater_prune.cc:74: tree pruning end, 1 roots, 12 extra nodes, 8 pruned nodes, max_depth=5\u001b[0m\n",
      "\u001b[34m[177]#011train-error:0.077333#011validation-error:0.1391\u001b[0m\n",
      "\u001b[34mStopping. Best iteration:\u001b[0m\n",
      "\u001b[34m[167]#011train-error:0.0792#011validation-error:0.1385\n",
      "\u001b[0m\n",
      "\n",
      "2020-08-17 02:02:34 Uploading - Uploading generated training model\n",
      "2020-08-17 02:02:41 Completed - Training job completed\n",
      "Training seconds: 366\n",
      "Billable seconds: 366\n"
     ]
    }
   ],
   "source": [
    "xgb.fit({'train': s3_input_train, 'validation': s3_input_validation})"
   ]
  },
  {
   "cell_type": "markdown",
   "metadata": {},
   "source": [
    "## Step 5: Testing the model\n",
    "\n",
    "Now that we've fit our XGBoost model, it's time to see how well it performs. To do this we will use SageMakers Batch Transform functionality. Batch Transform is a convenient way to perform inference on a large dataset in a way that is not realtime. That is, we don't necessarily need to use our model's results immediately and instead we can perform inference on a large number of samples. An example of this in industry might be performing an end of month report. This method of inference can also be useful to us as it means that we can perform inference on our entire test set. \n",
    "\n",
    "To perform a Batch Transformation we need to first create a transformer objects from our trained estimator object."
   ]
  },
  {
   "cell_type": "code",
   "execution_count": 24,
   "metadata": {},
   "outputs": [
    {
     "name": "stderr",
     "output_type": "stream",
     "text": [
      "Parameter image will be renamed to image_uri in SageMaker Python SDK v2.\n"
     ]
    }
   ],
   "source": [
    "xgb_transformer = xgb.transformer(instance_count = 1, instance_type = 'ml.m4.xlarge')"
   ]
  },
  {
   "cell_type": "markdown",
   "metadata": {},
   "source": [
    "Next we actually perform the transform job. When doing so we need to make sure to specify the type of data we are sending so that it is serialized correctly in the background. In our case we are providing our model with csv data so we specify `text/csv`. Also, if the test data that we have provided is too large to process all at once then we need to specify how the data file should be split up. Since each line is a single entry in our data set we tell SageMaker that it can split the input on each line."
   ]
  },
  {
   "cell_type": "code",
   "execution_count": 25,
   "metadata": {},
   "outputs": [],
   "source": [
    "xgb_transformer.transform(test_location, content_type='text/csv', split_type='Line')"
   ]
  },
  {
   "cell_type": "markdown",
   "metadata": {},
   "source": [
    "Currently the transform job is running but it is doing so in the background. Since we wish to wait until the transform job is done and we would like a bit of feedback we can run the `wait()` method."
   ]
  },
  {
   "cell_type": "code",
   "execution_count": 26,
   "metadata": {},
   "outputs": [
    {
     "name": "stdout",
     "output_type": "stream",
     "text": [
      "...........................\u001b[34mArguments: serve\u001b[0m\n",
      "\u001b[35mArguments: serve\u001b[0m\n",
      "\u001b[34m[2020-08-17 02:07:43 +0000] [1] [INFO] Starting gunicorn 19.7.1\u001b[0m\n",
      "\u001b[34m[2020-08-17 02:07:43 +0000] [1] [INFO] Listening at: http://0.0.0.0:8080 (1)\u001b[0m\n",
      "\u001b[34m[2020-08-17 02:07:43 +0000] [1] [INFO] Using worker: gevent\u001b[0m\n",
      "\u001b[34m[2020-08-17 02:07:43 +0000] [36] [INFO] Booting worker with pid: 36\u001b[0m\n",
      "\u001b[34m[2020-08-17 02:07:43 +0000] [37] [INFO] Booting worker with pid: 37\u001b[0m\n",
      "\u001b[34m[2020-08-17 02:07:43 +0000] [38] [INFO] Booting worker with pid: 38\u001b[0m\n",
      "\u001b[34m[2020-08-17 02:07:43 +0000] [39] [INFO] Booting worker with pid: 39\u001b[0m\n",
      "\u001b[35m[2020-08-17 02:07:43 +0000] [1] [INFO] Starting gunicorn 19.7.1\u001b[0m\n",
      "\u001b[35m[2020-08-17 02:07:43 +0000] [1] [INFO] Listening at: http://0.0.0.0:8080 (1)\u001b[0m\n",
      "\u001b[35m[2020-08-17 02:07:43 +0000] [1] [INFO] Using worker: gevent\u001b[0m\n",
      "\u001b[35m[2020-08-17 02:07:43 +0000] [36] [INFO] Booting worker with pid: 36\u001b[0m\n",
      "\u001b[35m[2020-08-17 02:07:43 +0000] [37] [INFO] Booting worker with pid: 37\u001b[0m\n",
      "\u001b[35m[2020-08-17 02:07:43 +0000] [38] [INFO] Booting worker with pid: 38\u001b[0m\n",
      "\u001b[35m[2020-08-17 02:07:43 +0000] [39] [INFO] Booting worker with pid: 39\u001b[0m\n",
      "\u001b[34m[2020-08-17:02:07:43:INFO] Model loaded successfully for worker : 36\u001b[0m\n",
      "\u001b[34m[2020-08-17:02:07:43:INFO] Model loaded successfully for worker : 37\u001b[0m\n",
      "\u001b[34m[2020-08-17:02:07:43:INFO] Model loaded successfully for worker : 39\u001b[0m\n",
      "\u001b[35m[2020-08-17:02:07:43:INFO] Model loaded successfully for worker : 36\u001b[0m\n",
      "\u001b[35m[2020-08-17:02:07:43:INFO] Model loaded successfully for worker : 37\u001b[0m\n",
      "\u001b[35m[2020-08-17:02:07:43:INFO] Model loaded successfully for worker : 39\u001b[0m\n",
      "\u001b[34m[2020-08-17:02:07:43:INFO] Model loaded successfully for worker : 38\u001b[0m\n",
      "\u001b[34m[2020-08-17:02:07:43:INFO] Sniff delimiter as ','\u001b[0m\n",
      "\u001b[34m[2020-08-17:02:07:43:INFO] Determined delimiter of CSV input is ','\u001b[0m\n",
      "\u001b[34m[2020-08-17:02:07:43:INFO] Sniff delimiter as ','\u001b[0m\n",
      "\u001b[34m[2020-08-17:02:07:43:INFO] Determined delimiter of CSV input is ','\u001b[0m\n",
      "\u001b[34m[2020-08-17:02:07:43:INFO] Sniff delimiter as ','\u001b[0m\n",
      "\u001b[34m[2020-08-17:02:07:43:INFO] Determined delimiter of CSV input is ','\u001b[0m\n",
      "\u001b[34m[2020-08-17:02:07:44:INFO] Sniff delimiter as ','\u001b[0m\n",
      "\u001b[34m[2020-08-17:02:07:44:INFO] Determined delimiter of CSV input is ','\u001b[0m\n",
      "\u001b[35m[2020-08-17:02:07:43:INFO] Model loaded successfully for worker : 38\u001b[0m\n",
      "\u001b[35m[2020-08-17:02:07:43:INFO] Sniff delimiter as ','\u001b[0m\n",
      "\u001b[35m[2020-08-17:02:07:43:INFO] Determined delimiter of CSV input is ','\u001b[0m\n",
      "\u001b[35m[2020-08-17:02:07:43:INFO] Sniff delimiter as ','\u001b[0m\n",
      "\u001b[35m[2020-08-17:02:07:43:INFO] Determined delimiter of CSV input is ','\u001b[0m\n",
      "\u001b[35m[2020-08-17:02:07:43:INFO] Sniff delimiter as ','\u001b[0m\n",
      "\u001b[35m[2020-08-17:02:07:43:INFO] Determined delimiter of CSV input is ','\u001b[0m\n",
      "\u001b[35m[2020-08-17:02:07:44:INFO] Sniff delimiter as ','\u001b[0m\n",
      "\u001b[35m[2020-08-17:02:07:44:INFO] Determined delimiter of CSV input is ','\u001b[0m\n",
      "\u001b[34m[2020-08-17:02:07:46:INFO] Sniff delimiter as ','\u001b[0m\n",
      "\u001b[34m[2020-08-17:02:07:46:INFO] Determined delimiter of CSV input is ','\u001b[0m\n",
      "\u001b[34m[2020-08-17:02:07:46:INFO] Sniff delimiter as ','\u001b[0m\n",
      "\u001b[34m[2020-08-17:02:07:46:INFO] Determined delimiter of CSV input is ','\u001b[0m\n",
      "\u001b[35m[2020-08-17:02:07:46:INFO] Sniff delimiter as ','\u001b[0m\n",
      "\u001b[35m[2020-08-17:02:07:46:INFO] Determined delimiter of CSV input is ','\u001b[0m\n",
      "\u001b[35m[2020-08-17:02:07:46:INFO] Sniff delimiter as ','\u001b[0m\n",
      "\u001b[35m[2020-08-17:02:07:46:INFO] Determined delimiter of CSV input is ','\u001b[0m\n",
      "\u001b[34m[2020-08-17:02:07:46:INFO] Sniff delimiter as ','\u001b[0m\n",
      "\u001b[34m[2020-08-17:02:07:46:INFO] Determined delimiter of CSV input is ','\u001b[0m\n",
      "\u001b[35m[2020-08-17:02:07:46:INFO] Sniff delimiter as ','\u001b[0m\n",
      "\u001b[35m[2020-08-17:02:07:46:INFO] Determined delimiter of CSV input is ','\u001b[0m\n",
      "\u001b[34m[2020-08-17:02:07:47:INFO] Sniff delimiter as ','\u001b[0m\n",
      "\u001b[34m[2020-08-17:02:07:47:INFO] Determined delimiter of CSV input is ','\u001b[0m\n",
      "\u001b[35m[2020-08-17:02:07:47:INFO] Sniff delimiter as ','\u001b[0m\n",
      "\u001b[35m[2020-08-17:02:07:47:INFO] Determined delimiter of CSV input is ','\u001b[0m\n",
      "\u001b[34m[2020-08-17:02:07:48:INFO] Sniff delimiter as ','\u001b[0m\n",
      "\u001b[34m[2020-08-17:02:07:48:INFO] Determined delimiter of CSV input is ','\u001b[0m\n",
      "\u001b[35m[2020-08-17:02:07:48:INFO] Sniff delimiter as ','\u001b[0m\n",
      "\u001b[35m[2020-08-17:02:07:48:INFO] Determined delimiter of CSV input is ','\u001b[0m\n",
      "\u001b[34m[2020-08-17:02:07:48:INFO] Sniff delimiter as ','\u001b[0m\n",
      "\u001b[34m[2020-08-17:02:07:48:INFO] Determined delimiter of CSV input is ','\u001b[0m\n",
      "\u001b[35m[2020-08-17:02:07:48:INFO] Sniff delimiter as ','\u001b[0m\n",
      "\u001b[35m[2020-08-17:02:07:48:INFO] Determined delimiter of CSV input is ','\u001b[0m\n",
      "\u001b[34m[2020-08-17:02:07:49:INFO] Sniff delimiter as ','\u001b[0m\n",
      "\u001b[34m[2020-08-17:02:07:49:INFO] Determined delimiter of CSV input is ','\u001b[0m\n",
      "\u001b[34m[2020-08-17:02:07:49:INFO] Sniff delimiter as ','\u001b[0m\n",
      "\u001b[34m[2020-08-17:02:07:49:INFO] Determined delimiter of CSV input is ','\u001b[0m\n",
      "\u001b[34m[2020-08-17:02:07:50:INFO] Sniff delimiter as ','\u001b[0m\n",
      "\u001b[34m[2020-08-17:02:07:50:INFO] Determined delimiter of CSV input is ','\u001b[0m\n",
      "\u001b[34m[2020-08-17:02:07:50:INFO] Sniff delimiter as ','\u001b[0m\n",
      "\u001b[34m[2020-08-17:02:07:50:INFO] Determined delimiter of CSV input is ','\u001b[0m\n",
      "\u001b[35m[2020-08-17:02:07:49:INFO] Sniff delimiter as ','\u001b[0m\n",
      "\u001b[35m[2020-08-17:02:07:49:INFO] Determined delimiter of CSV input is ','\u001b[0m\n",
      "\u001b[35m[2020-08-17:02:07:49:INFO] Sniff delimiter as ','\u001b[0m\n",
      "\u001b[35m[2020-08-17:02:07:49:INFO] Determined delimiter of CSV input is ','\u001b[0m\n",
      "\u001b[35m[2020-08-17:02:07:50:INFO] Sniff delimiter as ','\u001b[0m\n",
      "\u001b[35m[2020-08-17:02:07:50:INFO] Determined delimiter of CSV input is ','\u001b[0m\n",
      "\u001b[35m[2020-08-17:02:07:50:INFO] Sniff delimiter as ','\u001b[0m\n",
      "\u001b[35m[2020-08-17:02:07:50:INFO] Determined delimiter of CSV input is ','\u001b[0m\n",
      "\u001b[32m2020-08-17T02:07:43.351:[sagemaker logs]: MaxConcurrentTransforms=4, MaxPayloadInMB=6, BatchStrategy=MULTI_RECORD\u001b[0m\n",
      "\u001b[34m[2020-08-17:02:07:54:INFO] Sniff delimiter as ','\u001b[0m\n",
      "\u001b[34m[2020-08-17:02:07:54:INFO] Determined delimiter of CSV input is ','\u001b[0m\n",
      "\u001b[34m[2020-08-17:02:07:54:INFO] Sniff delimiter as ','\u001b[0m\n",
      "\u001b[34m[2020-08-17:02:07:54:INFO] Determined delimiter of CSV input is ','\u001b[0m\n",
      "\u001b[34m[2020-08-17:02:07:54:INFO] Sniff delimiter as ','\u001b[0m\n",
      "\u001b[34m[2020-08-17:02:07:54:INFO] Determined delimiter of CSV input is ','\u001b[0m\n",
      "\u001b[34m[2020-08-17:02:07:55:INFO] Sniff delimiter as ','\u001b[0m\n",
      "\u001b[34m[2020-08-17:02:07:55:INFO] Determined delimiter of CSV input is ','\u001b[0m\n",
      "\u001b[35m[2020-08-17:02:07:54:INFO] Sniff delimiter as ','\u001b[0m\n",
      "\u001b[35m[2020-08-17:02:07:54:INFO] Determined delimiter of CSV input is ','\u001b[0m\n",
      "\u001b[35m[2020-08-17:02:07:54:INFO] Sniff delimiter as ','\u001b[0m\n",
      "\u001b[35m[2020-08-17:02:07:54:INFO] Determined delimiter of CSV input is ','\u001b[0m\n",
      "\u001b[35m[2020-08-17:02:07:54:INFO] Sniff delimiter as ','\u001b[0m\n",
      "\u001b[35m[2020-08-17:02:07:54:INFO] Determined delimiter of CSV input is ','\u001b[0m\n",
      "\u001b[35m[2020-08-17:02:07:55:INFO] Sniff delimiter as ','\u001b[0m\n",
      "\u001b[35m[2020-08-17:02:07:55:INFO] Determined delimiter of CSV input is ','\u001b[0m\n",
      "\u001b[34m[2020-08-17:02:07:57:INFO] Sniff delimiter as ','\u001b[0m\n",
      "\u001b[34m[2020-08-17:02:07:57:INFO] Determined delimiter of CSV input is ','\u001b[0m\n",
      "\u001b[34m[2020-08-17:02:07:57:INFO] Sniff delimiter as ','\u001b[0m\n",
      "\u001b[34m[2020-08-17:02:07:57:INFO] Determined delimiter of CSV input is ','\u001b[0m\n",
      "\u001b[35m[2020-08-17:02:07:57:INFO] Sniff delimiter as ','\u001b[0m\n",
      "\u001b[35m[2020-08-17:02:07:57:INFO] Determined delimiter of CSV input is ','\u001b[0m\n",
      "\u001b[35m[2020-08-17:02:07:57:INFO] Sniff delimiter as ','\u001b[0m\n",
      "\u001b[35m[2020-08-17:02:07:57:INFO] Determined delimiter of CSV input is ','\u001b[0m\n",
      "\u001b[34m[2020-08-17:02:07:57:INFO] Sniff delimiter as ','\u001b[0m\n",
      "\u001b[34m[2020-08-17:02:07:57:INFO] Determined delimiter of CSV input is ','\u001b[0m\n",
      "\u001b[34m[2020-08-17:02:07:57:INFO] Sniff delimiter as ','\u001b[0m\n",
      "\u001b[34m[2020-08-17:02:07:57:INFO] Determined delimiter of CSV input is ','\u001b[0m\n",
      "\u001b[35m[2020-08-17:02:07:57:INFO] Sniff delimiter as ','\u001b[0m\n",
      "\u001b[35m[2020-08-17:02:07:57:INFO] Determined delimiter of CSV input is ','\u001b[0m\n",
      "\u001b[35m[2020-08-17:02:07:57:INFO] Sniff delimiter as ','\u001b[0m\n",
      "\u001b[35m[2020-08-17:02:07:57:INFO] Determined delimiter of CSV input is ','\u001b[0m\n",
      "\u001b[34m[2020-08-17:02:07:59:INFO] Sniff delimiter as ','\u001b[0m\n",
      "\u001b[34m[2020-08-17:02:07:59:INFO] Determined delimiter of CSV input is ','\u001b[0m\n",
      "\u001b[34m[2020-08-17:02:07:59:INFO] Sniff delimiter as ','\u001b[0m\n",
      "\u001b[34m[2020-08-17:02:07:59:INFO] Determined delimiter of CSV input is ','\u001b[0m\n",
      "\u001b[35m[2020-08-17:02:07:59:INFO] Sniff delimiter as ','\u001b[0m\n",
      "\u001b[35m[2020-08-17:02:07:59:INFO] Determined delimiter of CSV input is ','\u001b[0m\n",
      "\u001b[35m[2020-08-17:02:07:59:INFO] Sniff delimiter as ','\u001b[0m\n",
      "\u001b[35m[2020-08-17:02:07:59:INFO] Determined delimiter of CSV input is ','\u001b[0m\n",
      "\u001b[34m[2020-08-17:02:07:59:INFO] Sniff delimiter as ','\u001b[0m\n",
      "\u001b[34m[2020-08-17:02:07:59:INFO] Determined delimiter of CSV input is ','\u001b[0m\n",
      "\u001b[34m[2020-08-17:02:08:00:INFO] Sniff delimiter as ','\u001b[0m\n",
      "\u001b[34m[2020-08-17:02:08:00:INFO] Determined delimiter of CSV input is ','\u001b[0m\n",
      "\u001b[35m[2020-08-17:02:07:59:INFO] Sniff delimiter as ','\u001b[0m\n",
      "\u001b[35m[2020-08-17:02:07:59:INFO] Determined delimiter of CSV input is ','\u001b[0m\n",
      "\u001b[35m[2020-08-17:02:08:00:INFO] Sniff delimiter as ','\u001b[0m\n",
      "\u001b[35m[2020-08-17:02:08:00:INFO] Determined delimiter of CSV input is ','\u001b[0m\n"
     ]
    },
    {
     "name": "stdout",
     "output_type": "stream",
     "text": [
      "\u001b[34m[2020-08-17:02:08:02:INFO] Sniff delimiter as ','\u001b[0m\n",
      "\u001b[34m[2020-08-17:02:08:02:INFO] Determined delimiter of CSV input is ','\u001b[0m\n",
      "\u001b[35m[2020-08-17:02:08:02:INFO] Sniff delimiter as ','\u001b[0m\n",
      "\u001b[35m[2020-08-17:02:08:02:INFO] Determined delimiter of CSV input is ','\u001b[0m\n",
      "\u001b[34m[2020-08-17:02:08:02:INFO] Sniff delimiter as ','\u001b[0m\n",
      "\u001b[34m[2020-08-17:02:08:02:INFO] Determined delimiter of CSV input is ','\u001b[0m\n",
      "\u001b[35m[2020-08-17:02:08:02:INFO] Sniff delimiter as ','\u001b[0m\n",
      "\u001b[35m[2020-08-17:02:08:02:INFO] Determined delimiter of CSV input is ','\u001b[0m\n",
      "\u001b[34m[2020-08-17:02:08:04:INFO] Sniff delimiter as ','\u001b[0m\n",
      "\u001b[34m[2020-08-17:02:08:04:INFO] Determined delimiter of CSV input is ','\u001b[0m\n",
      "\u001b[34m[2020-08-17:02:08:04:INFO] Sniff delimiter as ','\u001b[0m\n",
      "\u001b[34m[2020-08-17:02:08:04:INFO] Determined delimiter of CSV input is ','\u001b[0m\n",
      "\u001b[34m[2020-08-17:02:08:04:INFO] Sniff delimiter as ','\u001b[0m\n",
      "\u001b[34m[2020-08-17:02:08:04:INFO] Determined delimiter of CSV input is ','\u001b[0m\n",
      "\u001b[34m[2020-08-17:02:08:04:INFO] Sniff delimiter as ','\u001b[0m\n",
      "\u001b[34m[2020-08-17:02:08:04:INFO] Determined delimiter of CSV input is ','\u001b[0m\n",
      "\u001b[35m[2020-08-17:02:08:04:INFO] Sniff delimiter as ','\u001b[0m\n",
      "\u001b[35m[2020-08-17:02:08:04:INFO] Determined delimiter of CSV input is ','\u001b[0m\n",
      "\u001b[35m[2020-08-17:02:08:04:INFO] Sniff delimiter as ','\u001b[0m\n",
      "\u001b[35m[2020-08-17:02:08:04:INFO] Determined delimiter of CSV input is ','\u001b[0m\n",
      "\u001b[35m[2020-08-17:02:08:04:INFO] Sniff delimiter as ','\u001b[0m\n",
      "\u001b[35m[2020-08-17:02:08:04:INFO] Determined delimiter of CSV input is ','\u001b[0m\n",
      "\u001b[35m[2020-08-17:02:08:04:INFO] Sniff delimiter as ','\u001b[0m\n",
      "\u001b[35m[2020-08-17:02:08:04:INFO] Determined delimiter of CSV input is ','\u001b[0m\n",
      "\n"
     ]
    }
   ],
   "source": [
    "xgb_transformer.wait()"
   ]
  },
  {
   "cell_type": "markdown",
   "metadata": {},
   "source": [
    "Now the transform job has executed and the result, the estimated sentiment of each review, has been saved on S3. Since we would rather work on this file locally we can perform a bit of notebook magic to copy the file to the `data_dir`."
   ]
  },
  {
   "cell_type": "code",
   "execution_count": 27,
   "metadata": {},
   "outputs": [
    {
     "name": "stdout",
     "output_type": "stream",
     "text": [
      "Completed 256.0 KiB/370.2 KiB (3.8 MiB/s) with 1 file(s) remaining\r",
      "Completed 370.2 KiB/370.2 KiB (5.3 MiB/s) with 1 file(s) remaining\r",
      "download: s3://sagemaker-us-east-2-823192782642/xgboost-2020-08-17-02-03-21-535/test.csv.out to ../data/sentiment_web_app/test.csv.out\r\n"
     ]
    }
   ],
   "source": [
    "!aws s3 cp --recursive $xgb_transformer.output_path $data_dir"
   ]
  },
  {
   "cell_type": "markdown",
   "metadata": {},
   "source": [
    "The last step is now to read in the output from our model, convert the output to something a little more usable, in this case we want the sentiment to be either `1` (positive) or `0` (negative), and then compare to the ground truth labels."
   ]
  },
  {
   "cell_type": "code",
   "execution_count": 28,
   "metadata": {},
   "outputs": [],
   "source": [
    "predictions = pd.read_csv(os.path.join(data_dir, 'test.csv.out'), header=None)\n",
    "predictions = [round(num) for num in predictions.squeeze().values]"
   ]
  },
  {
   "cell_type": "code",
   "execution_count": 29,
   "metadata": {},
   "outputs": [
    {
     "data": {
      "text/plain": [
       "0.85992"
      ]
     },
     "execution_count": 29,
     "metadata": {},
     "output_type": "execute_result"
    }
   ],
   "source": [
    "from sklearn.metrics import accuracy_score\n",
    "accuracy_score(test_y, predictions)"
   ]
  },
  {
   "cell_type": "markdown",
   "metadata": {},
   "source": [
    "## Step 6: Deploying the model\n",
    "\n",
    "Once we construct and fit our model, SageMaker stores the resulting model artifacts and we can use those to deploy an endpoint (inference code). To see this, look in the SageMaker console and you should see that a model has been created along with a link to the S3 location where the model artifacts have been stored.\n",
    "\n",
    "Deploying an endpoint is a lot like training the model with a few important differences. The first is that a deployed model doesn't change the model artifacts, so as you send it various testing instances the model won't change. Another difference is that since we aren't performing a fixed computation, as we were in the training step or while performing a batch transform, the compute instance that gets started stays running until we tell it to stop. This is important to note as if we forget and leave it running we will be charged the entire time.\n",
    "\n",
    "In other words **If you are no longer using a deployed endpoint, shut it down!**"
   ]
  },
  {
   "cell_type": "code",
   "execution_count": 30,
   "metadata": {},
   "outputs": [
    {
     "name": "stderr",
     "output_type": "stream",
     "text": [
      "Parameter image will be renamed to image_uri in SageMaker Python SDK v2.\n",
      "Using already existing model: xgboost-2020-08-17-01-54-36-186\n"
     ]
    },
    {
     "name": "stdout",
     "output_type": "stream",
     "text": [
      "-------------!"
     ]
    }
   ],
   "source": [
    "xgb_predictor = xgb.deploy(initial_instance_count = 1, instance_type = 'ml.m4.xlarge')"
   ]
  },
  {
   "cell_type": "markdown",
   "metadata": {},
   "source": [
    "### Testing the model (again)\n",
    "\n",
    "Now that we have deployed our endpoint, we can send the testing data to it and get back the inference results. We already did this earlier using the batch transform functionality of SageMaker, however, we will test our model again using the newly deployed endpoint so that we can make sure that it works properly and to get a bit of a feel for how the endpoint works.\n",
    "\n",
    "When using the created endpoint it is important to know that we are limited in the amount of information we can send in each call so we need to break the testing data up into chunks and then send each chunk. Also, we need to serialize our data before we send it to the endpoint to ensure that our data is transmitted properly. Fortunately, SageMaker can do the serialization part for us provided we tell it the format of our data."
   ]
  },
  {
   "cell_type": "code",
   "execution_count": 31,
   "metadata": {},
   "outputs": [],
   "source": [
    "from sagemaker.predictor import csv_serializer\n",
    "\n",
    "# We need to tell the endpoint what format the data we are sending is in so that SageMaker can perform the serialization.\n",
    "xgb_predictor.content_type = 'text/csv'\n",
    "xgb_predictor.serializer = csv_serializer"
   ]
  },
  {
   "cell_type": "code",
   "execution_count": 32,
   "metadata": {},
   "outputs": [],
   "source": [
    "# We split the data into chunks and send each chunk seperately, accumulating the results.\n",
    "\n",
    "def predict(data, rows=512):\n",
    "    split_array = np.array_split(data, int(data.shape[0] / float(rows) + 1))\n",
    "    predictions = ''\n",
    "    for array in split_array:\n",
    "        predictions = ','.join([predictions, xgb_predictor.predict(array).decode('utf-8')])\n",
    "    \n",
    "    return np.fromstring(predictions[1:], sep=',')"
   ]
  },
  {
   "cell_type": "code",
   "execution_count": 33,
   "metadata": {},
   "outputs": [],
   "source": [
    "test_X = pd.read_csv(os.path.join(data_dir, 'test.csv'), header=None).values\n",
    "\n",
    "predictions = predict(test_X)\n",
    "predictions = [round(num) for num in predictions]"
   ]
  },
  {
   "cell_type": "markdown",
   "metadata": {},
   "source": [
    "Lastly, we check to see what the accuracy of our model is."
   ]
  },
  {
   "cell_type": "code",
   "execution_count": 34,
   "metadata": {},
   "outputs": [
    {
     "data": {
      "text/plain": [
       "0.85992"
      ]
     },
     "execution_count": 34,
     "metadata": {},
     "output_type": "execute_result"
    }
   ],
   "source": [
    "from sklearn.metrics import accuracy_score\n",
    "accuracy_score(test_y, predictions)"
   ]
  },
  {
   "cell_type": "markdown",
   "metadata": {},
   "source": [
    "And the results here should agree with the model testing that we did earlier using the batch transform job.\n",
    "\n",
    "### Cleaning up\n",
    "\n",
    "Now that we've determined that deploying our model works as expected, we are going to shut it down. Remember that the longer the endpoint is left running, the greater the cost and since we have a bit more work to do before we are able to use our endpoint with our simple web app, we should shut everything down."
   ]
  },
  {
   "cell_type": "code",
   "execution_count": 36,
   "metadata": {},
   "outputs": [
    {
     "ename": "ClientError",
     "evalue": "An error occurred (ValidationException) when calling the DeleteEndpointConfig operation: Could not find endpoint configuration \"arn:aws:sagemaker:us-east-2:823192782642:endpoint-config/xgboost-2020-08-17-01-54-36-186\".",
     "output_type": "error",
     "traceback": [
      "\u001b[0;31m---------------------------------------------------------------------------\u001b[0m",
      "\u001b[0;31mClientError\u001b[0m                               Traceback (most recent call last)",
      "\u001b[0;32m<ipython-input-36-16a6b43a8b29>\u001b[0m in \u001b[0;36m<module>\u001b[0;34m\u001b[0m\n\u001b[0;32m----> 1\u001b[0;31m \u001b[0mxgb_predictor\u001b[0m\u001b[0;34m.\u001b[0m\u001b[0mdelete_endpoint\u001b[0m\u001b[0;34m(\u001b[0m\u001b[0;34m)\u001b[0m\u001b[0;34m\u001b[0m\u001b[0;34m\u001b[0m\u001b[0m\n\u001b[0m",
      "\u001b[0;32m~/anaconda3/envs/python3/lib/python3.6/site-packages/sagemaker/predictor.py\u001b[0m in \u001b[0;36mdelete_endpoint\u001b[0;34m(self, delete_endpoint_config)\u001b[0m\n\u001b[1;32m    174\u001b[0m         \"\"\"\n\u001b[1;32m    175\u001b[0m         \u001b[0;32mif\u001b[0m \u001b[0mdelete_endpoint_config\u001b[0m\u001b[0;34m:\u001b[0m\u001b[0;34m\u001b[0m\u001b[0;34m\u001b[0m\u001b[0m\n\u001b[0;32m--> 176\u001b[0;31m             \u001b[0mself\u001b[0m\u001b[0;34m.\u001b[0m\u001b[0m_delete_endpoint_config\u001b[0m\u001b[0;34m(\u001b[0m\u001b[0;34m)\u001b[0m\u001b[0;34m\u001b[0m\u001b[0;34m\u001b[0m\u001b[0m\n\u001b[0m\u001b[1;32m    177\u001b[0m \u001b[0;34m\u001b[0m\u001b[0m\n\u001b[1;32m    178\u001b[0m         \u001b[0mself\u001b[0m\u001b[0;34m.\u001b[0m\u001b[0msagemaker_session\u001b[0m\u001b[0;34m.\u001b[0m\u001b[0mdelete_endpoint\u001b[0m\u001b[0;34m(\u001b[0m\u001b[0mself\u001b[0m\u001b[0;34m.\u001b[0m\u001b[0mendpoint\u001b[0m\u001b[0;34m)\u001b[0m\u001b[0;34m\u001b[0m\u001b[0;34m\u001b[0m\u001b[0m\n",
      "\u001b[0;32m~/anaconda3/envs/python3/lib/python3.6/site-packages/sagemaker/predictor.py\u001b[0m in \u001b[0;36m_delete_endpoint_config\u001b[0;34m(self)\u001b[0m\n\u001b[1;32m    160\u001b[0m     \u001b[0;32mdef\u001b[0m \u001b[0m_delete_endpoint_config\u001b[0m\u001b[0;34m(\u001b[0m\u001b[0mself\u001b[0m\u001b[0;34m)\u001b[0m\u001b[0;34m:\u001b[0m\u001b[0;34m\u001b[0m\u001b[0;34m\u001b[0m\u001b[0m\n\u001b[1;32m    161\u001b[0m         \u001b[0;34m\"\"\"Delete the Amazon SageMaker endpoint configuration\"\"\"\u001b[0m\u001b[0;34m\u001b[0m\u001b[0;34m\u001b[0m\u001b[0m\n\u001b[0;32m--> 162\u001b[0;31m         \u001b[0mself\u001b[0m\u001b[0;34m.\u001b[0m\u001b[0msagemaker_session\u001b[0m\u001b[0;34m.\u001b[0m\u001b[0mdelete_endpoint_config\u001b[0m\u001b[0;34m(\u001b[0m\u001b[0mself\u001b[0m\u001b[0;34m.\u001b[0m\u001b[0m_endpoint_config_name\u001b[0m\u001b[0;34m)\u001b[0m\u001b[0;34m\u001b[0m\u001b[0;34m\u001b[0m\u001b[0m\n\u001b[0m\u001b[1;32m    163\u001b[0m \u001b[0;34m\u001b[0m\u001b[0m\n\u001b[1;32m    164\u001b[0m     \u001b[0;32mdef\u001b[0m \u001b[0mdelete_endpoint\u001b[0m\u001b[0;34m(\u001b[0m\u001b[0mself\u001b[0m\u001b[0;34m,\u001b[0m \u001b[0mdelete_endpoint_config\u001b[0m\u001b[0;34m=\u001b[0m\u001b[0;32mTrue\u001b[0m\u001b[0;34m)\u001b[0m\u001b[0;34m:\u001b[0m\u001b[0;34m\u001b[0m\u001b[0;34m\u001b[0m\u001b[0m\n",
      "\u001b[0;32m~/anaconda3/envs/python3/lib/python3.6/site-packages/sagemaker/session.py\u001b[0m in \u001b[0;36mdelete_endpoint_config\u001b[0;34m(self, endpoint_config_name)\u001b[0m\n\u001b[1;32m   2478\u001b[0m         \"\"\"\n\u001b[1;32m   2479\u001b[0m         \u001b[0mLOGGER\u001b[0m\u001b[0;34m.\u001b[0m\u001b[0minfo\u001b[0m\u001b[0;34m(\u001b[0m\u001b[0;34m\"Deleting endpoint configuration with name: %s\"\u001b[0m\u001b[0;34m,\u001b[0m \u001b[0mendpoint_config_name\u001b[0m\u001b[0;34m)\u001b[0m\u001b[0;34m\u001b[0m\u001b[0;34m\u001b[0m\u001b[0m\n\u001b[0;32m-> 2480\u001b[0;31m         \u001b[0mself\u001b[0m\u001b[0;34m.\u001b[0m\u001b[0msagemaker_client\u001b[0m\u001b[0;34m.\u001b[0m\u001b[0mdelete_endpoint_config\u001b[0m\u001b[0;34m(\u001b[0m\u001b[0mEndpointConfigName\u001b[0m\u001b[0;34m=\u001b[0m\u001b[0mendpoint_config_name\u001b[0m\u001b[0;34m)\u001b[0m\u001b[0;34m\u001b[0m\u001b[0;34m\u001b[0m\u001b[0m\n\u001b[0m\u001b[1;32m   2481\u001b[0m \u001b[0;34m\u001b[0m\u001b[0m\n\u001b[1;32m   2482\u001b[0m     \u001b[0;32mdef\u001b[0m \u001b[0mdelete_model\u001b[0m\u001b[0;34m(\u001b[0m\u001b[0mself\u001b[0m\u001b[0;34m,\u001b[0m \u001b[0mmodel_name\u001b[0m\u001b[0;34m)\u001b[0m\u001b[0;34m:\u001b[0m\u001b[0;34m\u001b[0m\u001b[0;34m\u001b[0m\u001b[0m\n",
      "\u001b[0;32m~/anaconda3/envs/python3/lib/python3.6/site-packages/botocore/client.py\u001b[0m in \u001b[0;36m_api_call\u001b[0;34m(self, *args, **kwargs)\u001b[0m\n\u001b[1;32m    314\u001b[0m                     \"%s() only accepts keyword arguments.\" % py_operation_name)\n\u001b[1;32m    315\u001b[0m             \u001b[0;31m# The \"self\" in this scope is referring to the BaseClient.\u001b[0m\u001b[0;34m\u001b[0m\u001b[0;34m\u001b[0m\u001b[0;34m\u001b[0m\u001b[0m\n\u001b[0;32m--> 316\u001b[0;31m             \u001b[0;32mreturn\u001b[0m \u001b[0mself\u001b[0m\u001b[0;34m.\u001b[0m\u001b[0m_make_api_call\u001b[0m\u001b[0;34m(\u001b[0m\u001b[0moperation_name\u001b[0m\u001b[0;34m,\u001b[0m \u001b[0mkwargs\u001b[0m\u001b[0;34m)\u001b[0m\u001b[0;34m\u001b[0m\u001b[0;34m\u001b[0m\u001b[0m\n\u001b[0m\u001b[1;32m    317\u001b[0m \u001b[0;34m\u001b[0m\u001b[0m\n\u001b[1;32m    318\u001b[0m         \u001b[0m_api_call\u001b[0m\u001b[0;34m.\u001b[0m\u001b[0m__name__\u001b[0m \u001b[0;34m=\u001b[0m \u001b[0mstr\u001b[0m\u001b[0;34m(\u001b[0m\u001b[0mpy_operation_name\u001b[0m\u001b[0;34m)\u001b[0m\u001b[0;34m\u001b[0m\u001b[0;34m\u001b[0m\u001b[0m\n",
      "\u001b[0;32m~/anaconda3/envs/python3/lib/python3.6/site-packages/botocore/client.py\u001b[0m in \u001b[0;36m_make_api_call\u001b[0;34m(self, operation_name, api_params)\u001b[0m\n\u001b[1;32m    633\u001b[0m             \u001b[0merror_code\u001b[0m \u001b[0;34m=\u001b[0m \u001b[0mparsed_response\u001b[0m\u001b[0;34m.\u001b[0m\u001b[0mget\u001b[0m\u001b[0;34m(\u001b[0m\u001b[0;34m\"Error\"\u001b[0m\u001b[0;34m,\u001b[0m \u001b[0;34m{\u001b[0m\u001b[0;34m}\u001b[0m\u001b[0;34m)\u001b[0m\u001b[0;34m.\u001b[0m\u001b[0mget\u001b[0m\u001b[0;34m(\u001b[0m\u001b[0;34m\"Code\"\u001b[0m\u001b[0;34m)\u001b[0m\u001b[0;34m\u001b[0m\u001b[0;34m\u001b[0m\u001b[0m\n\u001b[1;32m    634\u001b[0m             \u001b[0merror_class\u001b[0m \u001b[0;34m=\u001b[0m \u001b[0mself\u001b[0m\u001b[0;34m.\u001b[0m\u001b[0mexceptions\u001b[0m\u001b[0;34m.\u001b[0m\u001b[0mfrom_code\u001b[0m\u001b[0;34m(\u001b[0m\u001b[0merror_code\u001b[0m\u001b[0;34m)\u001b[0m\u001b[0;34m\u001b[0m\u001b[0;34m\u001b[0m\u001b[0m\n\u001b[0;32m--> 635\u001b[0;31m             \u001b[0;32mraise\u001b[0m \u001b[0merror_class\u001b[0m\u001b[0;34m(\u001b[0m\u001b[0mparsed_response\u001b[0m\u001b[0;34m,\u001b[0m \u001b[0moperation_name\u001b[0m\u001b[0;34m)\u001b[0m\u001b[0;34m\u001b[0m\u001b[0;34m\u001b[0m\u001b[0m\n\u001b[0m\u001b[1;32m    636\u001b[0m         \u001b[0;32melse\u001b[0m\u001b[0;34m:\u001b[0m\u001b[0;34m\u001b[0m\u001b[0;34m\u001b[0m\u001b[0m\n\u001b[1;32m    637\u001b[0m             \u001b[0;32mreturn\u001b[0m \u001b[0mparsed_response\u001b[0m\u001b[0;34m\u001b[0m\u001b[0;34m\u001b[0m\u001b[0m\n",
      "\u001b[0;31mClientError\u001b[0m: An error occurred (ValidationException) when calling the DeleteEndpointConfig operation: Could not find endpoint configuration \"arn:aws:sagemaker:us-east-2:823192782642:endpoint-config/xgboost-2020-08-17-01-54-36-186\"."
     ]
    }
   ],
   "source": [
    "xgb_predictor.delete_endpoint()"
   ]
  },
  {
   "cell_type": "markdown",
   "metadata": {},
   "source": [
    "## Step 7: Putting our model to work\n",
    "\n",
    "As we've mentioned a few times now, our goal is to have our model deployed and then access it using a very simple web app. The intent is for this web app to take some user submitted data (a review), send it off to our endpoint (the model) and then display the result.\n",
    "\n",
    "However, there is a small catch. Currently the only way we can access the endpoint to send it data is using the SageMaker API. We can, if we wish, expose the actual URL that our model's endpoint is receiving data from, however, if we just send it data ourselves we will not get anything in return. This is because the endpoint created by SageMaker requires the entity accessing it have the correct permissions. So, we would need to somehow authenticate our web app with AWS.\n",
    "\n",
    "Having a website that authenticates to AWS seems a bit beyond the scope of this lesson so we will opt for an alternative approach. Namely, we will create a new endpoint which does not require authentication and which acts as a proxy for the SageMaker endpoint.\n",
    "\n",
    "As an additional constraint, we will try to avoid doing any data processing in the web app itself. Remember that when we constructed and tested our model we started with a movie review, then we simplified it by removing any html formatting and punctuation, then we constructed a bag of words embedding and the resulting vector is what we sent to our model. All of this needs to be done to our user input as well.\n",
    "\n",
    "Fortunately we can do all of this data processing in the backend, using Amazon's Lambda service.\n",
    "\n",
    "<img src=\"Web App Diagram.svg\">\n",
    "\n",
    "The diagram above gives an overview of how the various services will work together. On the far right is the model which we trained above and which will be deployed using SageMaker. On the far left is our web app that collects a user's movie review, sends it off and expects a positive or negative sentiment in return.\n",
    "\n",
    "In the middle is where some of the magic happens. We will construct a Lambda function, which you can think of as a straightforward Python function that can be executed whenever a specified event occurs. This Python function will do the data processing we need to perform on a user submitted review. In addition, we will give this function permission to send and recieve data from a SageMaker endpoint.\n",
    "\n",
    "Lastly, the method we will use to execute the Lambda function is a new endpoint that we will create using API Gateway. This endpoint will be a url that listens for data to be sent to it. Once it gets some data it will pass that data on to the Lambda function and then return whatever the Lambda function returns. Essentially it will act as an interface that lets our web app communicate with the Lambda function.\n",
    "\n",
    "### Processing a single review\n",
    "\n",
    "For now, suppose we are given a movie review by our user in the form of a string, like so:"
   ]
  },
  {
   "cell_type": "code",
   "execution_count": 37,
   "metadata": {},
   "outputs": [],
   "source": [
    "test_review = \"Nothing but a disgusting materialistic pageant of glistening abed remote control greed zombies, totally devoid of any heart or heat. A romantic comedy that has zero romantic chemestry and zero laughs!\""
   ]
  },
  {
   "cell_type": "markdown",
   "metadata": {},
   "source": [
    "How do we go from this string to the bag of words feature vector that is expected by our model?\n",
    "\n",
    "If we recall at the beginning of this notebook, the first step is to remove any unnecessary characters using the `review_to_words` method. Remember that we intentionally did this in a very simplistic way. This is because we are going to have to copy this method to our (eventual) Lambda function (we will go into more detail later) and this means it needs to be rather simplistic."
   ]
  },
  {
   "cell_type": "code",
   "execution_count": 38,
   "metadata": {},
   "outputs": [
    {
     "name": "stdout",
     "output_type": "stream",
     "text": [
      "nothing but a disgusting materialistic pageant of glistening abed remote control greed zombies totally devoid of any heart or heat a romantic comedy that has zero romantic chemestry and zero laughs\n"
     ]
    }
   ],
   "source": [
    "test_words = review_to_words(test_review)\n",
    "print(test_words)"
   ]
  },
  {
   "cell_type": "markdown",
   "metadata": {},
   "source": [
    "Next, we need to construct a bag of words embedding of the `test_words` string. To do this, remember that a bag of words embedding uses a `vocabulary` consisting of the most frequently appearing words in a set of documents. Then, for each word in the vocabulary we record the number of times that word appears in `test_words`. We constructed the `vocabulary` earlier using the training set for our problem so encoding `test_words` is relatively straightforward."
   ]
  },
  {
   "cell_type": "code",
   "execution_count": 40,
   "metadata": {},
   "outputs": [],
   "source": [
    "def bow_encoding(words, vocabulary):\n",
    "    bow = [0] * len(vocabulary) # Start by setting the count for each word in the vocabulary to zero.\n",
    "    for word in words.split():  # For each word in the string\n",
    "        if word in vocabulary:  # If the word is one that occurs in the vocabulary, increase its count.\n",
    "            bow[vocabulary[word]] += 1\n",
    "    return bow"
   ]
  },
  {
   "cell_type": "code",
   "execution_count": 41,
   "metadata": {},
   "outputs": [
    {
     "name": "stdout",
     "output_type": "stream",
     "text": [
      "[0, 0, 0, 0, 0, 0, 0, 0, 0, 0, 0, 0, 0, 0, 0, 0, 0, 0, 0, 0, 0, 0, 0, 0, 0, 0, 0, 0, 0, 0, 0, 0, 0, 0, 0, 0, 0, 0, 0, 0, 0, 0, 0, 0, 0, 0, 0, 0, 0, 0, 0, 0, 0, 0, 0, 0, 0, 0, 0, 0, 0, 0, 0, 0, 0, 0, 0, 0, 0, 0, 0, 0, 0, 0, 0, 0, 0, 0, 0, 0, 0, 0, 0, 0, 0, 0, 0, 0, 0, 0, 0, 0, 0, 0, 0, 0, 0, 0, 0, 0, 0, 0, 0, 0, 0, 0, 0, 0, 0, 0, 0, 0, 0, 0, 0, 0, 0, 0, 0, 0, 0, 0, 0, 0, 0, 0, 0, 0, 0, 0, 0, 0, 0, 0, 0, 0, 0, 0, 0, 0, 0, 0, 0, 0, 0, 0, 0, 0, 0, 0, 0, 0, 0, 0, 0, 0, 0, 0, 0, 0, 0, 0, 0, 0, 0, 0, 0, 0, 0, 0, 0, 0, 0, 0, 0, 0, 0, 0, 0, 0, 0, 0, 0, 0, 0, 0, 0, 0, 0, 0, 0, 0, 0, 0, 0, 0, 0, 0, 0, 0, 0, 0, 0, 0, 0, 0, 0, 0, 0, 0, 0, 0, 0, 0, 0, 0, 0, 0, 0, 0, 0, 0, 0, 0, 0, 0, 1, 0, 0, 0, 0, 0, 0, 0, 0, 0, 0, 0, 0, 0, 0, 0, 0, 0, 0, 0, 0, 0, 0, 0, 0, 0, 0, 0, 0, 0, 1, 0, 0, 0, 0, 0, 0, 0, 0, 0, 0, 0, 0, 0, 0, 0, 0, 0, 0, 0, 0, 0, 0, 0, 0, 0, 0, 0, 0, 0, 0, 0, 0, 0, 0, 0, 0, 0, 0, 0, 0, 0, 0, 0, 0, 0, 0, 0, 0, 0, 0, 0, 0, 0, 0, 0, 0, 0, 0, 0, 0, 0, 0, 0, 0, 0, 0, 0, 0, 0, 0, 0, 0, 0, 0, 0, 0, 0, 0, 0, 0, 0, 0, 0, 0, 0, 0, 0, 0, 0, 0, 0, 0, 0, 0, 0, 0, 0, 0, 0, 0, 0, 0, 0, 0, 0, 0, 0, 0, 0, 0, 0, 0, 0, 0, 0, 0, 0, 0, 0, 0, 0, 0, 0, 0, 0, 0, 0, 0, 0, 0, 0, 0, 0, 0, 0, 0, 0, 0, 0, 0, 0, 0, 0, 0, 0, 0, 0, 0, 0, 0, 0, 0, 0, 0, 0, 0, 0, 0, 0, 0, 0, 0, 0, 0, 0, 0, 0, 0, 0, 0, 0, 0, 0, 0, 0, 0, 0, 0, 0, 0, 0, 0, 0, 0, 0, 0, 0, 0, 0, 0, 0, 0, 0, 0, 0, 0, 0, 0, 0, 0, 0, 0, 0, 0, 0, 0, 0, 0, 0, 0, 0, 0, 0, 0, 0, 0, 0, 0, 0, 0, 0, 0, 0, 0, 0, 0, 0, 0, 0, 0, 0, 0, 0, 0, 0, 0, 0, 0, 0, 0, 0, 0, 0, 0, 0, 0, 0, 0, 0, 0, 0, 0, 0, 0, 0, 0, 0, 0, 0, 0, 0, 0, 0, 0, 0, 0, 0, 0, 0, 0, 0, 0, 0, 0, 0, 0, 0, 0, 0, 0, 0, 0, 0, 0, 0, 0, 0, 0, 0, 0, 0, 0, 0, 0, 0, 0, 0, 0, 0, 0, 0, 0, 0, 0, 0, 0, 0, 0, 0, 0, 0, 0, 0, 0, 0, 0, 0, 0, 0, 0, 0, 0, 0, 0, 0, 0, 0, 0, 0, 0, 0, 0, 0, 0, 0, 0, 0, 0, 0, 0, 0, 0, 0, 0, 0, 0, 0, 0, 0, 0, 0, 0, 0, 0, 0, 0, 0, 0, 0, 0, 0, 0, 0, 0, 0, 0, 0, 0, 0, 0, 0, 0, 0, 0, 0, 0, 0, 0, 0, 1, 0, 0, 0, 0, 0, 0, 0, 0, 0, 0, 0, 0, 0, 0, 0, 0, 0, 0, 0, 0, 0, 0, 0, 0, 0, 0, 0, 0, 0, 0, 0, 0, 0, 0, 0, 0, 0, 0, 0, 0, 0, 0, 0, 0, 0, 0, 0, 0, 0, 0, 0, 0, 0, 0, 0, 0, 0, 0, 0, 0, 0, 0, 0, 0, 0, 0, 0, 0, 0, 0, 0, 0, 0, 0, 0, 0, 0, 0, 0, 0, 0, 0, 0, 0, 0, 0, 0, 0, 0, 0, 0, 0, 0, 0, 0, 0, 0, 0, 0, 0, 0, 0, 0, 0, 0, 0, 0, 0, 0, 0, 0, 0, 0, 0, 0, 0, 0, 0, 0, 0, 0, 0, 0, 0, 0, 0, 0, 0, 0, 0, 0, 0, 0, 0, 0, 0, 0, 0, 0, 0, 0, 0, 0, 0, 0, 0, 0, 0, 0, 0, 0, 0, 0, 0, 0, 0, 0, 0, 0, 0, 0, 0, 0, 0, 0, 0, 0, 0, 0, 0, 0, 0, 0, 0, 0, 0, 0, 0, 0, 0, 0, 0, 0, 0, 0, 0, 0, 0, 0, 0, 0, 0, 0, 0, 0, 0, 0, 0, 0, 0, 0, 0, 0, 0, 0, 0, 0, 0, 0, 0, 0, 0, 0, 0, 0, 0, 0, 0, 0, 0, 0, 0, 0, 0, 0, 0, 0, 0, 0, 0, 0, 0, 0, 0, 0, 0, 0, 0, 0, 0, 0, 0, 0, 0, 0, 0, 0, 0, 0, 0, 0, 0, 0, 1, 0, 0, 0, 0, 0, 0, 0, 0, 0, 0, 0, 0, 0, 0, 0, 0, 0, 0, 0, 0, 0, 0, 0, 0, 0, 0, 0, 0, 0, 0, 0, 0, 0, 0, 0, 0, 0, 0, 0, 0, 0, 0, 0, 0, 0, 0, 0, 0, 0, 0, 0, 0, 0, 0, 0, 0, 0, 0, 0, 0, 0, 0, 0, 0, 0, 0, 0, 0, 0, 0, 0, 0, 0, 0, 0, 0, 0, 0, 0, 0, 0, 0, 0, 0, 0, 0, 1, 0, 0, 0, 0, 0, 0, 0, 0, 0, 0, 0, 0, 0, 0, 0, 0, 0, 0, 0, 0, 0, 0, 0, 0, 0, 0, 0, 0, 0, 0, 0, 0, 0, 0, 0, 0, 0, 0, 0, 0, 0, 0, 0, 0, 0, 0, 0, 0, 0, 0, 0, 0, 0, 0, 0, 0, 0, 0, 0, 0, 0, 0, 0, 0, 0, 0, 0, 0, 0, 0, 0, 0, 0, 0, 0, 0, 0, 0, 0, 0, 0, 0, 0, 0, 0, 0, 0, 0, 0, 0, 0, 0, 0, 0, 0, 0, 0, 0, 0, 0, 0, 0, 0, 0, 0, 0, 0, 0, 0, 0, 0, 0, 0, 0, 0, 0, 0, 0, 0, 0, 0, 0, 0, 0, 0, 0, 0, 0, 0, 0, 0, 0, 0, 0, 0, 0, 0, 0, 0, 0, 0, 0, 0, 0, 0, 0, 0, 0, 0, 0, 0, 0, 0, 0, 0, 0, 0, 0, 0, 0, 0, 0, 0, 0, 0, 0, 0, 0, 0, 0, 0, 0, 0, 0, 0, 0, 0, 0, 0, 0, 0, 0, 0, 0, 0, 0, 0, 0, 0, 0, 0, 0, 0, 0, 0, 0, 0, 0, 0, 0, 0, 0, 0, 0, 0, 0, 0, 0, 0, 0, 0, 0, 0, 0, 0, 0, 0, 0, 0, 0, 0, 0, 0, 0, 0, 0, 0, 0, 0, 0, 0, 0, 0, 0, 0, 0, 0, 0, 0, 0, 0, 0, 0, 0, 0, 0, 0, 0, 0, 0, 0, 0, 1, 0, 0, 0, 0, 0, 0, 0, 0, 0, 0, 0, 0, 0, 0, 0, 0, 0, 0, 0, 0, 0, 0, 0, 0, 0, 0, 0, 0, 0, 0, 0, 0, 0, 0, 0, 0, 0, 0, 0, 0, 0, 0, 0, 0, 0, 0, 0, 0, 0, 0, 0, 0, 0, 0, 0, 1, 0, 0, 0, 0, 0, 0, 0, 0, 0, 0, 0, 0, 0, 0, 0, 0, 0, 0, 0, 0, 0, 0, 0, 0, 0, 0, 0, 0, 0, 0, 0, 0, 0, 0, 0, 0, 0, 0, 0, 0, 0, 0, 0, 0, 0, 0, 0, 0, 0, 0, 0, 0, 0, 0, 0, 0, 0, 0, 0, 0, 0, 0, 0, 0, 0, 0, 0, 0, 0, 0, 0, 0, 0, 0, 0, 0, 0, 0, 0, 0, 0, 0, 0, 0, 0, 0, 0, 0, 0, 0, 0, 0, 0, 0, 0, 0, 0, 0, 0, 0, 0, 0, 0, 0, 0, 0, 0, 0, 0, 0, 0, 0, 0, 0, 0, 0, 0, 0, 0, 0, 0, 0, 0, 0, 0, 0, 0, 0, 0, 0, 0, 0, 0, 0, 0, 0, 0, 0, 0, 0, 0, 0, 0, 0, 0, 0, 0, 0, 0, 0, 0, 0, 0, 0, 0, 0, 0, 0, 0, 0, 0, 0, 0, 0, 0, 0, 0, 0, 0, 0, 0, 0, 0, 0, 0, 0, 0, 0, 0, 0, 0, 0, 0, 0, 0, 0, 0, 0, 0, 0, 0, 0, 0, 0, 0, 0, 0, 0, 0, 0, 0, 0, 0, 0, 0, 0, 0, 0, 0, 0, 0, 0, 0, 0, 0, 0, 0, 0, 0, 0, 0, 0, 0, 0, 0, 0, 0, 0, 0, 0, 0, 0, 0, 0, 0, 0, 0, 0, 0, 0, 0, 0, 0, 0, 0, 0, 0, 0, 0, 0, 0, 0, 0, 0, 0, 0, 0, 0, 0, 0, 0, 0, 0, 0, 0, 0, 0, 0, 0, 0, 0, 0, 0, 0, 0, 0, 0, 0, 0, 0, 0, 0, 0, 0, 0, 0, 0, 0, 0, 0, 0, 0, 0, 0, 0, 0, 0, 0, 0, 0, 0, 0, 0, 0, 0, 0, 0, 0, 0, 0, 0, 0, 0, 0, 0, 0, 0, 0, 0, 0, 0, 0, 0, 0, 0, 0, 0, 0, 0, 0, 0, 0, 0, 0, 0, 0, 0, 0, 0, 0, 0, 0, 0, 0, 0, 0, 0, 0, 0, 0, 0, 0, 0, 0, 0, 0, 0, 0, 0, 0, 0, 0, 0, 0, 0, 0, 0, 0, 0, 0, 0, 0, 0, 0, 0, 0, 0, 0, 0, 0, 0, 0, 0, 0, 0, 0, 0, 0, 0, 0, 0, 0, 0, 0, 0, 0, 0, 0, 0, 0, 0, 0, 0, 0, 0, 0, 0, 0, 0, 0, 0, 0, 0, 0, 0, 0, 0, 0, 0, 0, 0, 0, 0, 0, 0, 0, 0, 0, 0, 0, 0, 0, 0, 0, 0, 0, 0, 0, 0, 0, 0, 0, 0, 0, 0, 0, 0, 0, 0, 0, 0, 0, 0, 0, 0, 0, 0, 0, 0, 0, 0, 0, 0, 0, 0, 0, 0, 0, 0, 0, 0, 0, 0, 0, 0, 0, 0, 0, 0, 0, 0, 0, 0, 0, 0, 0, 0, 0, 0, 0, 0, 0, 0, 0, 0, 0, 0, 0, 0, 0, 0, 0, 0, 0, 0, 0, 0, 0, 0, 0, 0, 0, 0, 0, 0, 0, 0, 0, 0, 0, 0, 0, 0, 0, 0, 0, 0, 0, 0, 0, 0, 0, 0, 0, 0, 0, 0, 0, 0, 0, 0, 0, 0, 0, 0, 0, 0, 0, 0, 0, 0, 0, 0, 0, 0, 0, 0, 0, 0, 0, 0, 0, 0, 0, 0, 0, 0, 0, 0, 0, 0, 0, 0, 0, 0, 0, 0, 0, 0, 0, 0, 0, 0, 0, 0, 0, 0, 0, 0, 0, 0, 0, 0, 0, 0, 0, 0, 0, 0, 0, 0, 0, 0, 0, 0, 0, 0, 0, 0, 0, 0, 0, 0, 0, 0, 0, 0, 0, 0, 0, 0, 0, 0, 0, 0, 0, 0, 0, 0, 0, 0, 0, 0, 0, 0, 0, 0, 0, 0, 0, 0, 0, 0, 0, 0, 0, 0, 0, 0, 0, 0, 0, 0, 0, 0, 0, 0, 0, 0, 0, 0, 0, 0, 0, 0, 0, 0, 0, 0, 0, 0, 0, 0, 0, 0, 0, 0, 0, 0, 0, 0, 1, 0, 0, 0, 0, 0, 0, 0, 0, 0, 0, 0, 0, 0, 0, 0, 0, 0, 0, 0, 0, 0, 0, 0, 0, 0, 0, 0, 0, 0, 0, 0, 0, 0, 0, 0, 0, 0, 0, 0, 0, 0, 0, 0, 0, 0, 0, 0, 0, 0, 0, 0, 0, 0, 0, 0, 0, 0, 0, 0, 0, 0, 0, 0, 0, 0, 0, 0, 0, 0, 0, 0, 0, 0, 0, 1, 0, 0, 0, 0, 0, 0, 0, 0, 0, 0, 0, 0, 0, 0, 0, 0, 0, 0, 0, 0, 1, 0, 0, 1, 0, 0, 0, 0, 0, 0, 0, 0, 0, 0, 0, 0, 0, 0, 0, 0, 0, 0, 0, 0, 0, 0, 0, 0, 0, 0, 0, 0, 0, 0, 0, 0, 0, 0, 0, 0, 0, 0, 0, 0, 0, 0, 0, 0, 0, 0, 0, 0, 0, 0, 0, 0, 0, 0, 0, 0, 0, 0, 0, 0, 0, 0, 0, 0, 0, 0, 0, 0, 0, 0, 0, 0, 0, 0, 0, 0, 0, 0, 0, 0, 0, 0, 0, 0, 0, 0, 0, 0, 0, 0, 0, 0, 0, 0, 0, 0, 0, 0, 0, 0, 0, 0, 0, 0, 0, 0, 0, 0, 0, 0, 0, 0, 0, 0, 0, 0, 0, 0, 0, 0, 0, 0, 0, 0, 0, 0, 0, 0, 0, 0, 0, 0, 0, 0, 0, 0, 0, 0, 0, 0, 0, 0, 0, 0, 0, 0, 0, 0, 0, 0, 0, 0, 0, 0, 0, 0, 0, 0, 0, 0, 0, 0, 0, 0, 0, 0, 0, 0, 0, 0, 0, 0, 0, 0, 0, 0, 0, 0, 0, 0, 0, 0, 0, 0, 0, 0, 0, 0, 0, 0, 0, 0, 0, 0, 0, 0, 0, 0, 0, 0, 0, 0, 0, 0, 0, 0, 0, 0, 0, 0, 0, 0, 0, 0, 0, 0, 0, 0, 0, 0, 0, 0, 0, 0, 0, 0, 0, 0, 0, 0, 0, 0, 0, 0, 0, 0, 0, 0, 0, 0, 0, 0, 0, 0, 0, 0, 0, 0, 0, 0, 0, 0, 0, 0, 0, 0, 0, 0, 0, 0, 0, 0, 0, 0, 0, 0, 0, 0, 0, 0, 0, 0, 0, 0, 0, 0, 0, 0, 0, 0, 0, 0, 0, 0, 0, 0, 0, 0, 0, 0, 0, 0, 0, 0, 0, 0, 0, 0, 0, 0, 0, 0, 0, 0, 0, 0, 0, 0, 0, 0, 0, 0, 0, 0, 0, 0, 0, 0, 0, 0, 0, 0, 0, 0, 0, 0, 0, 0, 0, 0, 0, 0, 0, 0, 0, 0, 0, 0, 0, 0, 0, 0, 0, 0, 0, 0, 0, 0, 0, 0, 0, 0, 0, 0, 0, 0, 0, 0, 0, 0, 0, 0, 0, 0, 0, 0, 0, 0, 0, 0, 0, 0, 0, 0, 0, 0, 0, 0, 0, 0, 0, 0, 0, 0, 0, 0, 0, 0, 0, 0, 0, 0, 0, 0, 0, 0, 0, 0, 0, 0, 0, 0, 0, 0, 0, 0, 0, 0, 0, 0, 0, 0, 0, 0, 0, 0, 0, 0, 0, 0, 0, 0, 0, 0, 0, 0, 0, 0, 0, 0, 0, 0, 0, 0, 0, 0, 0, 0, 0, 0, 0, 0, 0, 0, 0, 0, 0, 0, 0, 0, 0, 0, 0, 0, 0, 0, 0, 0, 0, 0, 0, 0, 0, 0, 0, 0, 1, 0, 0, 0, 0, 0, 0, 0, 0, 0, 0, 0, 0, 0, 0, 0, 0, 0, 0, 0, 0, 0, 0, 0, 0, 0, 0, 0, 0, 0, 0, 0, 0, 0, 0, 0, 0, 0, 0, 0, 0, 0, 0, 0, 0, 0, 0, 0, 0, 0, 0, 0, 0, 0, 0, 0, 0, 0, 0, 0, 0, 0, 0, 0, 0, 0, 0, 0, 0, 0, 0, 0, 0, 0, 0, 0, 0, 0, 0, 0, 0, 0, 0, 0, 0, 0, 0, 0, 0, 0, 0, 0, 0, 0, 0, 0, 0, 0, 0, 0, 0, 0, 0, 0, 0, 0, 0, 0, 0, 0, 0, 0, 0, 0, 0, 0, 0, 0, 0, 0, 0, 0, 0, 0, 0, 0, 0, 0, 0, 0, 0, 0, 0, 0, 0, 0, 0, 0, 0, 0, 0, 0, 0, 0, 0, 0, 0, 0, 0, 0, 0, 0, 0, 0, 0, 0, 0, 0, 0, 0, 0, 0, 0, 0, 0, 0, 0, 0, 0, 0, 0, 0, 0, 0, 0, 0, 0, 0, 0, 0, 0, 0, 0, 0, 0, 0, 0, 0, 0, 0, 0, 0, 0, 0, 0, 0, 0, 0, 0, 0, 0, 0, 0, 0, 0, 0, 0, 0, 0, 0, 0, 0, 0, 0, 0, 0, 0, 0, 0, 0, 0, 0, 0, 0, 0, 0, 0, 0, 0, 0, 0, 0, 0, 0, 0, 0, 0, 0, 0, 0, 0, 0, 0, 0, 0, 0, 0, 0, 0, 0, 0, 0, 0, 0, 0, 0, 0, 0, 0, 0, 0, 0, 0, 0, 0, 0, 0, 0, 0, 0, 0, 0, 0, 0, 0, 0, 0, 0, 0, 0, 0, 0, 0, 0, 0, 0, 0, 0, 0, 0, 0, 0, 0, 0, 0, 0, 0, 0, 0, 0, 0, 0, 0, 0, 0, 0, 0, 0, 0, 0, 0, 0, 0, 0, 0, 0, 0, 0, 0, 0, 0, 0, 0, 0, 0, 0, 0, 0, 0, 0, 0, 0, 0, 0, 0, 0, 0, 0, 0, 0, 0, 0, 0, 0, 0, 0, 0, 0, 0, 0, 0, 0, 0, 0, 0, 0, 0, 0, 0, 0, 0, 0, 0, 0, 0, 0, 0, 0, 0, 0, 0, 0, 0, 0, 0, 0, 0, 0, 0, 0, 0, 0, 0, 0, 0, 0, 0, 0, 0, 0, 0, 0, 0, 0, 0, 0, 0, 0, 0, 0, 0, 0, 0, 0, 0, 0, 0, 0, 0, 0, 0, 0, 0, 0, 0, 0, 0, 0, 0, 0, 0, 0, 0, 0, 0, 0, 0, 0, 0, 0, 0, 0, 0, 0, 0, 0, 0, 0, 0, 0, 0, 0, 0, 0, 0, 0, 0, 0, 0, 0, 0, 0, 0, 0, 0, 0, 0, 0, 0, 0, 0, 0, 0, 0, 0, 0, 0, 0, 0, 0, 0, 0, 0, 0, 0, 0, 0, 0, 0, 0, 0, 0, 0, 0, 0, 0, 0, 0, 0, 0, 0, 0, 0, 0, 0, 0, 0, 0, 0, 0, 0, 0, 0, 0, 0, 0, 0, 0, 0, 0, 0, 0, 0, 1, 0, 0, 0, 0, 0, 0, 0, 0, 0, 0, 0, 0, 0, 0, 0, 0, 0, 0, 0, 0, 0, 0, 0, 0, 0, 0, 0, 0, 0, 0, 0, 0, 0, 0, 0, 2, 0, 0, 0, 0, 0, 0, 0, 0, 0, 0, 0, 0, 0, 0, 0, 0, 0, 0, 0, 0, 0, 0, 0, 0, 0, 0, 0, 0, 0, 0, 0, 0, 0, 0, 0, 0, 0, 0, 0, 0, 1, 0, 0, 0, 0, 0, 0, 0, 0, 0, 0, 0, 0, 0, 0, 0, 0, 0, 0, 0, 0, 0, 0, 0, 0, 0, 0, 0, 0, 0, 0, 0, 0, 0, 0, 0, 0, 0, 0, 0, 0, 0, 0, 0, 0, 0, 0, 0, 0, 0, 0, 0, 0, 0, 0, 0, 0, 0, 0, 0, 0, 0, 0, 0, 0, 0, 0, 0, 0, 0, 0, 0, 0, 0, 0, 0, 0, 0, 0, 0, 0, 0, 0, 0, 0, 0, 0, 0, 0, 0, 0, 0, 0, 0, 0, 0, 0, 0, 0, 0, 0, 0, 0, 0, 0, 0, 0, 0, 0, 0, 0, 0, 0, 0, 0, 0, 0, 0, 0, 0, 0, 0, 0, 0, 0, 0, 0, 0, 0, 0, 0, 0, 0, 0, 0, 0, 0, 0, 0, 0, 0, 0, 0, 0, 0, 0, 0, 0, 0, 0, 0, 0, 0, 0, 0, 0, 0, 0, 0, 0, 0, 0, 0, 0, 0, 0, 0, 0, 0, 0, 0, 0, 0, 0, 0, 0, 0, 0, 0, 0, 0, 0, 0, 0, 0, 0, 0, 0, 0, 0, 0, 0, 0, 0, 0, 0, 0, 0, 0, 0, 0, 0, 0, 0, 0, 0, 0, 0, 0, 0, 0, 0, 0, 0, 0, 0, 0, 0, 0, 0, 0, 0, 0, 0, 0, 0, 0, 0, 0, 0, 0, 0, 0, 0, 0, 0, 0, 0, 0, 0, 0, 0, 0, 0, 0, 0, 0, 0, 0, 0, 0, 0, 0, 0, 0, 0, 0, 0, 0, 0, 0, 0, 0, 0, 0, 0, 0, 0, 0, 0, 0, 0, 0, 0, 0, 0, 0, 0, 0, 0, 0, 0, 0, 0, 0, 0, 0, 0, 0, 0, 0, 0, 0, 0, 0, 0, 0, 0, 0, 0, 0, 0, 0, 0, 0, 0, 0, 0, 0, 0, 0, 0, 0, 0, 0, 0, 0, 0, 0, 0, 0, 0, 0, 0, 0, 0, 0, 0, 0, 0, 0, 0, 0, 0, 0, 0, 0, 0, 0, 0, 0, 0, 0, 0, 0, 0, 0, 0, 0, 0, 0, 0, 0, 0, 0, 0, 0, 0, 0, 0, 0, 0, 0, 0, 0, 0, 0, 0, 0, 0, 0, 0, 0, 0, 0, 0, 0, 0, 0, 0, 0, 0, 0, 0, 0, 0, 0, 0, 0, 0, 0, 0, 0, 0, 0, 0, 0, 0, 0, 0, 0, 0, 0, 0, 0, 0, 0, 0, 0, 0, 0, 0, 0, 0, 0, 0, 0, 0, 0, 0, 0, 0, 0, 0, 0, 0, 0, 0, 0, 0, 0, 0, 0, 0, 0, 0, 0, 0, 0, 0, 0, 0, 0, 0, 0, 0, 0, 0, 0, 0, 0, 0, 0, 0, 0, 0, 0, 0, 0, 0, 0, 0, 0, 0, 0, 0, 0, 0, 0, 0, 0, 0, 0, 0, 0, 0, 0, 0, 0, 0, 0, 0, 0, 0, 0, 0, 0, 0, 0, 0, 0, 0, 0, 0, 0, 0, 0, 0, 1, 0, 0, 0, 0, 0, 0, 0, 0, 0, 0, 0, 0, 0, 0, 0, 0, 0, 0, 0, 0, 0, 0, 0, 0, 0, 0, 0, 0, 0, 0, 0, 0, 0, 0, 0, 0, 0, 0, 0, 0, 0, 0, 0, 0, 0, 0, 0, 0, 0, 0, 0, 0, 0, 0, 0, 0, 0, 0, 0, 0, 0, 0, 0, 0, 0, 0, 0, 0, 0, 0, 0, 0, 0, 0, 0, 0, 0, 0, 0, 0, 0, 0, 0, 0, 0, 0, 0, 0, 0, 0, 0, 0, 0, 0, 0, 0, 0, 0, 0, 0, 0, 0, 0, 0, 0, 0, 0, 0, 0, 0, 2, 0, 0, 0, 0, 0, 0, 0, 0, 0, 0, 0, 0, 0, 0, 0, 0, 0, 0, 0, 0, 0, 0, 0, 0, 0, 0, 0, 0, 0, 0, 0, 0, 0, 0, 0, 0, 0, 0, 0, 0, 0, 0, 0, 0, 0, 0, 0, 0, 0, 0, 0, 0, 0, 0, 0, 0, 0, 0, 0, 0, 0, 0, 0, 0, 0, 0, 0, 0, 0, 0, 0, 0, 0, 0, 0, 0, 0, 0, 0, 0, 0, 0, 0, 0, 0, 0, 0, 0, 0, 0, 0, 0, 0, 0, 0, 0, 0, 0, 0, 0, 0, 0, 0, 0, 0, 0, 0, 0, 0, 0, 0, 0, 0, 0, 0, 0, 0, 0, 0, 0, 0, 0, 0, 0, 0, 0, 0, 0, 0, 0, 0, 0, 0, 0, 0, 0, 0, 0, 0, 0, 0, 0, 0, 0, 0, 0, 0, 0, 0, 0, 0, 0, 0, 0, 0, 0, 0, 0, 0, 0, 0, 0, 0, 0, 0, 0, 0, 0, 0, 0, 0, 0, 0, 0, 0, 0, 0, 0, 0, 0, 0, 0, 0, 0, 0, 0, 0, 0, 0, 0, 0, 0, 0, 0, 0, 0, 0, 0, 0, 0, 0, 0, 0, 0, 0, 0, 0, 0, 0, 0, 0, 0, 0, 0, 0, 0, 0, 0, 0, 0, 0, 0, 0, 0, 0, 0, 0, 0, 0, 0, 0, 0, 0, 0, 0, 0, 0, 0, 0, 0, 0, 0, 0, 0, 0, 0, 0, 0, 0, 0, 0, 0, 0, 0, 0, 0, 0, 0, 0, 0, 0, 0, 0, 0, 0, 0, 0, 0, 0, 0, 0, 0, 0, 0, 0, 0, 0, 0, 0, 0, 0, 0, 0, 0, 0, 0, 0, 0, 0, 0, 0, 0, 0, 0, 0, 0, 0, 0, 0, 0, 0, 0, 0, 0, 0, 0, 0, 0, 0, 0, 0, 0, 0, 0, 0, 0, 0, 0, 0, 0, 0, 0, 0, 0, 0, 0, 0, 0, 0, 0, 0, 0, 0, 0, 0, 0, 0, 0, 0, 0, 0, 0, 0, 0, 0, 0, 0, 0, 0, 0, 0, 0, 0, 0, 0, 0, 0, 0, 0, 0, 0, 0, 0, 0, 0, 0, 0, 0, 0, 0, 0, 0, 0, 0, 0, 0, 0, 0, 0, 0, 0, 0, 0, 0, 0, 0, 0, 0, 0, 0, 0, 0, 0, 0, 0, 0, 0, 0, 0, 0, 0, 0, 0, 0, 0, 0, 0, 0, 0, 0, 0, 0, 0, 0, 0, 0, 0, 0, 0, 0, 0, 0, 0, 0, 0, 0, 0, 0, 0, 0, 0, 0, 0, 0, 0, 0, 0, 0, 0, 0, 0, 0, 0, 0, 0, 0, 0, 0, 0, 0, 0, 0, 0, 0, 0, 0, 0, 0, 0, 0, 0, 0, 0, 0, 0, 0, 0, 0, 0, 0, 0, 0, 0, 0, 0, 0, 0, 0, 0, 0, 0, 0, 0, 0, 0, 0, 0, 0, 0, 0, 0, 0, 0, 0, 0, 0, 0, 0, 0, 0, 0, 0, 0, 0, 0, 0, 0, 0, 0, 0, 0, 0, 0, 0, 0, 0, 0, 0, 0, 0, 0, 0, 0, 0, 0, 0, 0, 0, 0, 0, 0, 0, 0, 0, 0, 0, 0, 0, 0, 0, 0, 0, 0, 0, 0, 0, 0, 0, 0, 0, 0, 0, 0, 0, 0, 0, 0, 0, 0, 0, 0, 0, 0, 0, 0, 0, 0, 0, 0, 0, 0, 0, 0, 0, 0, 0, 0, 0, 0, 0, 0, 0, 0, 0, 0, 0, 0, 0, 0, 0, 0, 0, 0, 0, 0, 0, 0, 0, 0, 0, 0, 0, 0, 0, 0, 0, 0, 0, 0, 0, 0, 0, 0, 0, 0, 0, 0, 0, 0, 0, 0, 0, 0, 0, 0, 0, 0, 0, 0, 0, 0, 0, 0, 0, 0, 0, 0, 0, 0, 0, 0, 0, 0, 0, 0, 0, 0, 0, 0, 0, 0, 0, 0, 0, 0, 0, 0, 0, 0, 0, 0, 0, 0, 0, 0, 0, 0, 0, 0, 0, 0, 0, 0, 0, 0, 0, 0, 0, 0, 0, 0, 0, 0, 0, 0, 0, 0, 0, 0, 0, 1, 0, 0, 0, 0, 0, 0, 0, 0, 0, 0, 0, 0, 0, 0, 0, 0, 0, 0, 0, 0, 0, 0, 0, 0, 0, 0, 0, 0, 0, 0, 0, 0, 0, 0, 0, 0, 0, 0, 0, 0, 0, 0, 0, 0, 0, 0, 0, 0, 0, 0, 0, 0, 0, 0, 0, 0, 0, 0, 0, 0, 0, 0, 0, 0, 0, 0, 0, 0, 0, 0, 0, 0, 0, 0, 0, 0, 0, 0, 0, 0, 0, 0, 0, 0, 0, 0, 0, 0, 0, 0, 0, 0, 0, 0, 0, 0, 0, 0, 0, 0, 0, 0, 0, 0, 0, 0, 0, 1, 0, 0, 0, 0, 0, 0, 0, 0, 0, 0, 0, 0, 0, 0, 0, 0, 0, 0, 0, 0, 0, 0, 0, 0, 0, 0, 0, 0, 0, 0, 0, 0, 0, 0, 0, 0, 0, 0, 0, 0, 0, 0, 0, 0, 0, 0, 0, 0, 0, 0, 0, 0, 0, 0, 0, 0, 0, 0, 0, 0, 0, 0, 0, 0, 0, 0, 0, 0, 0, 0, 0, 0, 0, 0, 0, 0, 0, 0, 0, 0, 0, 0, 0, 0, 0, 0, 0, 0, 0, 0, 0, 0, 0, 0, 0, 0, 0, 0, 0, 0, 0, 0, 0, 0, 0, 0, 0, 0, 0, 0, 0, 0, 0, 0, 0, 0, 0, 0, 0, 0, 0, 0, 0, 0, 0, 0, 0, 0, 0, 0, 0, 0, 0, 0, 0, 0, 0, 0, 0, 0, 0, 0, 0, 0, 0, 0, 0, 0, 0, 0, 0, 0, 0, 0, 0, 0, 0, 0, 0, 0, 0, 0, 0, 0, 0, 0, 0, 0, 0, 0, 0, 0, 0, 0, 0, 0, 0, 0, 0, 0, 0, 0, 0, 0, 0, 0, 0, 0, 0, 0, 0, 0, 0, 0, 0, 0, 0, 0, 0, 0, 0, 0, 0, 0, 0, 0, 0, 0, 0, 0, 0, 0, 0, 0, 0, 0, 0, 0, 0, 0, 0, 0, 0, 0, 0, 0, 0, 0, 0, 0, 0, 0, 0, 0, 0, 0, 0, 0, 0, 0, 0, 0, 0, 0, 0, 0, 0, 0, 0, 0, 0, 0, 0, 0, 0, 0, 0, 0, 0, 0, 0, 0, 0, 0, 0, 0, 0, 0, 0, 0, 0, 0, 0, 0, 0, 0, 0, 0, 0, 0, 0, 0, 0, 0, 0, 0, 0, 0, 0, 0, 0, 0, 0, 0, 0, 0, 0, 0, 0, 0, 0, 0, 0, 0, 0, 0, 0, 0, 0, 0, 0, 0, 0, 0, 0, 0, 0, 0, 0, 0, 0, 0, 0, 0, 0, 0, 0, 0, 0, 0, 0, 0, 0, 0, 0, 0, 0, 0, 0, 0, 0, 0, 0, 0, 0, 0, 0, 0, 0, 0, 0, 0, 0, 0, 0, 0, 0, 0, 0, 0, 0, 0, 0, 0, 0, 0, 0, 0, 0, 0, 0, 0, 0, 0, 0, 0, 0, 0, 0, 0, 0, 0, 0, 0, 0, 0, 0, 0, 0, 0, 0, 0, 0, 0, 0, 0, 0, 0, 0, 0, 0, 0, 0, 0, 0, 0, 0, 0, 0, 0, 0, 0, 0, 0, 0, 0, 0, 0, 0, 0, 0, 0, 0, 0, 0, 0, 0, 0, 0, 0, 0, 0, 0, 0, 0, 0, 0, 0, 0, 0, 0, 0, 0, 0, 0, 0, 0, 0, 0, 0, 0, 0, 0, 0, 0, 0, 0, 0, 0, 0, 0, 0, 0, 2, 0, 1, 0]\n"
     ]
    }
   ],
   "source": [
    "test_bow = bow_encoding(test_words, vocabulary)\n",
    "print(test_bow)"
   ]
  },
  {
   "cell_type": "code",
   "execution_count": 42,
   "metadata": {},
   "outputs": [
    {
     "data": {
      "text/plain": [
       "5000"
      ]
     },
     "execution_count": 42,
     "metadata": {},
     "output_type": "execute_result"
    }
   ],
   "source": [
    "len(test_bow)"
   ]
  },
  {
   "cell_type": "markdown",
   "metadata": {},
   "source": [
    "So now we know how to construct a bag of words encoding of a user provided review, how to we send it to our endpoint? First, we need to start the endpoint back up."
   ]
  },
  {
   "cell_type": "code",
   "execution_count": 46,
   "metadata": {},
   "outputs": [
    {
     "name": "stderr",
     "output_type": "stream",
     "text": [
      "Parameter image will be renamed to image_uri in SageMaker Python SDK v2.\n",
      "Using already existing model: xgboost-2020-08-17-01-54-36-186\n"
     ]
    },
    {
     "ename": "ClientError",
     "evalue": "An error occurred (ValidationException) when calling the CreateEndpoint operation: Cannot create already existing endpoint \"arn:aws:sagemaker:us-east-2:823192782642:endpoint/xgboost-2020-08-17-01-54-36-186\".",
     "output_type": "error",
     "traceback": [
      "\u001b[0;31m---------------------------------------------------------------------------\u001b[0m",
      "\u001b[0;31mClientError\u001b[0m                               Traceback (most recent call last)",
      "\u001b[0;32m<ipython-input-46-ccb632c8fb45>\u001b[0m in \u001b[0;36m<module>\u001b[0;34m\u001b[0m\n\u001b[0;32m----> 1\u001b[0;31m \u001b[0mxgb_predictor\u001b[0m \u001b[0;34m=\u001b[0m \u001b[0mxgb\u001b[0m\u001b[0;34m.\u001b[0m\u001b[0mdeploy\u001b[0m\u001b[0;34m(\u001b[0m\u001b[0minitial_instance_count\u001b[0m \u001b[0;34m=\u001b[0m \u001b[0;36m1\u001b[0m\u001b[0;34m,\u001b[0m \u001b[0minstance_type\u001b[0m \u001b[0;34m=\u001b[0m \u001b[0;34m'ml.m4.xlarge'\u001b[0m\u001b[0;34m)\u001b[0m\u001b[0;34m\u001b[0m\u001b[0;34m\u001b[0m\u001b[0m\n\u001b[0m",
      "\u001b[0;32m~/anaconda3/envs/python3/lib/python3.6/site-packages/sagemaker/estimator.py\u001b[0m in \u001b[0;36mdeploy\u001b[0;34m(self, initial_instance_count, instance_type, accelerator_type, endpoint_name, use_compiled_model, update_endpoint, wait, model_name, kms_key, data_capture_config, tags, **kwargs)\u001b[0m\n\u001b[1;32m    720\u001b[0m             \u001b[0mwait\u001b[0m\u001b[0;34m=\u001b[0m\u001b[0mwait\u001b[0m\u001b[0;34m,\u001b[0m\u001b[0;34m\u001b[0m\u001b[0;34m\u001b[0m\u001b[0m\n\u001b[1;32m    721\u001b[0m             \u001b[0mkms_key\u001b[0m\u001b[0;34m=\u001b[0m\u001b[0mkms_key\u001b[0m\u001b[0;34m,\u001b[0m\u001b[0;34m\u001b[0m\u001b[0;34m\u001b[0m\u001b[0m\n\u001b[0;32m--> 722\u001b[0;31m             \u001b[0mdata_capture_config\u001b[0m\u001b[0;34m=\u001b[0m\u001b[0mdata_capture_config\u001b[0m\u001b[0;34m,\u001b[0m\u001b[0;34m\u001b[0m\u001b[0;34m\u001b[0m\u001b[0m\n\u001b[0m\u001b[1;32m    723\u001b[0m         )\n\u001b[1;32m    724\u001b[0m \u001b[0;34m\u001b[0m\u001b[0m\n",
      "\u001b[0;32m~/anaconda3/envs/python3/lib/python3.6/site-packages/sagemaker/model.py\u001b[0m in \u001b[0;36mdeploy\u001b[0;34m(self, initial_instance_count, instance_type, accelerator_type, endpoint_name, update_endpoint, tags, kms_key, wait, data_capture_config)\u001b[0m\n\u001b[1;32m    515\u001b[0m                 \u001b[0mkms_key\u001b[0m\u001b[0;34m=\u001b[0m\u001b[0mkms_key\u001b[0m\u001b[0;34m,\u001b[0m\u001b[0;34m\u001b[0m\u001b[0;34m\u001b[0m\u001b[0m\n\u001b[1;32m    516\u001b[0m                 \u001b[0mwait\u001b[0m\u001b[0;34m=\u001b[0m\u001b[0mwait\u001b[0m\u001b[0;34m,\u001b[0m\u001b[0;34m\u001b[0m\u001b[0;34m\u001b[0m\u001b[0m\n\u001b[0;32m--> 517\u001b[0;31m                 \u001b[0mdata_capture_config_dict\u001b[0m\u001b[0;34m=\u001b[0m\u001b[0mdata_capture_config_dict\u001b[0m\u001b[0;34m,\u001b[0m\u001b[0;34m\u001b[0m\u001b[0;34m\u001b[0m\u001b[0m\n\u001b[0m\u001b[1;32m    518\u001b[0m             )\n\u001b[1;32m    519\u001b[0m \u001b[0;34m\u001b[0m\u001b[0m\n",
      "\u001b[0;32m~/anaconda3/envs/python3/lib/python3.6/site-packages/sagemaker/session.py\u001b[0m in \u001b[0;36mendpoint_from_production_variants\u001b[0;34m(self, name, production_variants, tags, kms_key, wait, data_capture_config_dict)\u001b[0m\n\u001b[1;32m   2903\u001b[0m \u001b[0;34m\u001b[0m\u001b[0m\n\u001b[1;32m   2904\u001b[0m             \u001b[0mself\u001b[0m\u001b[0;34m.\u001b[0m\u001b[0msagemaker_client\u001b[0m\u001b[0;34m.\u001b[0m\u001b[0mcreate_endpoint_config\u001b[0m\u001b[0;34m(\u001b[0m\u001b[0;34m**\u001b[0m\u001b[0mconfig_options\u001b[0m\u001b[0;34m)\u001b[0m\u001b[0;34m\u001b[0m\u001b[0;34m\u001b[0m\u001b[0m\n\u001b[0;32m-> 2905\u001b[0;31m         \u001b[0;32mreturn\u001b[0m \u001b[0mself\u001b[0m\u001b[0;34m.\u001b[0m\u001b[0mcreate_endpoint\u001b[0m\u001b[0;34m(\u001b[0m\u001b[0mendpoint_name\u001b[0m\u001b[0;34m=\u001b[0m\u001b[0mname\u001b[0m\u001b[0;34m,\u001b[0m \u001b[0mconfig_name\u001b[0m\u001b[0;34m=\u001b[0m\u001b[0mname\u001b[0m\u001b[0;34m,\u001b[0m \u001b[0mtags\u001b[0m\u001b[0;34m=\u001b[0m\u001b[0mtags\u001b[0m\u001b[0;34m,\u001b[0m \u001b[0mwait\u001b[0m\u001b[0;34m=\u001b[0m\u001b[0mwait\u001b[0m\u001b[0;34m)\u001b[0m\u001b[0;34m\u001b[0m\u001b[0;34m\u001b[0m\u001b[0m\n\u001b[0m\u001b[1;32m   2906\u001b[0m \u001b[0;34m\u001b[0m\u001b[0m\n\u001b[1;32m   2907\u001b[0m     \u001b[0;32mdef\u001b[0m \u001b[0mexpand_role\u001b[0m\u001b[0;34m(\u001b[0m\u001b[0mself\u001b[0m\u001b[0;34m,\u001b[0m \u001b[0mrole\u001b[0m\u001b[0;34m)\u001b[0m\u001b[0;34m:\u001b[0m\u001b[0;34m\u001b[0m\u001b[0;34m\u001b[0m\u001b[0m\n",
      "\u001b[0;32m~/anaconda3/envs/python3/lib/python3.6/site-packages/sagemaker/session.py\u001b[0m in \u001b[0;36mcreate_endpoint\u001b[0;34m(self, endpoint_name, config_name, tags, wait)\u001b[0m\n\u001b[1;32m   2420\u001b[0m \u001b[0;34m\u001b[0m\u001b[0m\n\u001b[1;32m   2421\u001b[0m         self.sagemaker_client.create_endpoint(\n\u001b[0;32m-> 2422\u001b[0;31m             \u001b[0mEndpointName\u001b[0m\u001b[0;34m=\u001b[0m\u001b[0mendpoint_name\u001b[0m\u001b[0;34m,\u001b[0m \u001b[0mEndpointConfigName\u001b[0m\u001b[0;34m=\u001b[0m\u001b[0mconfig_name\u001b[0m\u001b[0;34m,\u001b[0m \u001b[0mTags\u001b[0m\u001b[0;34m=\u001b[0m\u001b[0mtags\u001b[0m\u001b[0;34m\u001b[0m\u001b[0;34m\u001b[0m\u001b[0m\n\u001b[0m\u001b[1;32m   2423\u001b[0m         )\n\u001b[1;32m   2424\u001b[0m         \u001b[0;32mif\u001b[0m \u001b[0mwait\u001b[0m\u001b[0;34m:\u001b[0m\u001b[0;34m\u001b[0m\u001b[0;34m\u001b[0m\u001b[0m\n",
      "\u001b[0;32m~/anaconda3/envs/python3/lib/python3.6/site-packages/botocore/client.py\u001b[0m in \u001b[0;36m_api_call\u001b[0;34m(self, *args, **kwargs)\u001b[0m\n\u001b[1;32m    314\u001b[0m                     \"%s() only accepts keyword arguments.\" % py_operation_name)\n\u001b[1;32m    315\u001b[0m             \u001b[0;31m# The \"self\" in this scope is referring to the BaseClient.\u001b[0m\u001b[0;34m\u001b[0m\u001b[0;34m\u001b[0m\u001b[0;34m\u001b[0m\u001b[0m\n\u001b[0;32m--> 316\u001b[0;31m             \u001b[0;32mreturn\u001b[0m \u001b[0mself\u001b[0m\u001b[0;34m.\u001b[0m\u001b[0m_make_api_call\u001b[0m\u001b[0;34m(\u001b[0m\u001b[0moperation_name\u001b[0m\u001b[0;34m,\u001b[0m \u001b[0mkwargs\u001b[0m\u001b[0;34m)\u001b[0m\u001b[0;34m\u001b[0m\u001b[0;34m\u001b[0m\u001b[0m\n\u001b[0m\u001b[1;32m    317\u001b[0m \u001b[0;34m\u001b[0m\u001b[0m\n\u001b[1;32m    318\u001b[0m         \u001b[0m_api_call\u001b[0m\u001b[0;34m.\u001b[0m\u001b[0m__name__\u001b[0m \u001b[0;34m=\u001b[0m \u001b[0mstr\u001b[0m\u001b[0;34m(\u001b[0m\u001b[0mpy_operation_name\u001b[0m\u001b[0;34m)\u001b[0m\u001b[0;34m\u001b[0m\u001b[0;34m\u001b[0m\u001b[0m\n",
      "\u001b[0;32m~/anaconda3/envs/python3/lib/python3.6/site-packages/botocore/client.py\u001b[0m in \u001b[0;36m_make_api_call\u001b[0;34m(self, operation_name, api_params)\u001b[0m\n\u001b[1;32m    633\u001b[0m             \u001b[0merror_code\u001b[0m \u001b[0;34m=\u001b[0m \u001b[0mparsed_response\u001b[0m\u001b[0;34m.\u001b[0m\u001b[0mget\u001b[0m\u001b[0;34m(\u001b[0m\u001b[0;34m\"Error\"\u001b[0m\u001b[0;34m,\u001b[0m \u001b[0;34m{\u001b[0m\u001b[0;34m}\u001b[0m\u001b[0;34m)\u001b[0m\u001b[0;34m.\u001b[0m\u001b[0mget\u001b[0m\u001b[0;34m(\u001b[0m\u001b[0;34m\"Code\"\u001b[0m\u001b[0;34m)\u001b[0m\u001b[0;34m\u001b[0m\u001b[0;34m\u001b[0m\u001b[0m\n\u001b[1;32m    634\u001b[0m             \u001b[0merror_class\u001b[0m \u001b[0;34m=\u001b[0m \u001b[0mself\u001b[0m\u001b[0;34m.\u001b[0m\u001b[0mexceptions\u001b[0m\u001b[0;34m.\u001b[0m\u001b[0mfrom_code\u001b[0m\u001b[0;34m(\u001b[0m\u001b[0merror_code\u001b[0m\u001b[0;34m)\u001b[0m\u001b[0;34m\u001b[0m\u001b[0;34m\u001b[0m\u001b[0m\n\u001b[0;32m--> 635\u001b[0;31m             \u001b[0;32mraise\u001b[0m \u001b[0merror_class\u001b[0m\u001b[0;34m(\u001b[0m\u001b[0mparsed_response\u001b[0m\u001b[0;34m,\u001b[0m \u001b[0moperation_name\u001b[0m\u001b[0;34m)\u001b[0m\u001b[0;34m\u001b[0m\u001b[0;34m\u001b[0m\u001b[0m\n\u001b[0m\u001b[1;32m    636\u001b[0m         \u001b[0;32melse\u001b[0m\u001b[0;34m:\u001b[0m\u001b[0;34m\u001b[0m\u001b[0;34m\u001b[0m\u001b[0m\n\u001b[1;32m    637\u001b[0m             \u001b[0;32mreturn\u001b[0m \u001b[0mparsed_response\u001b[0m\u001b[0;34m\u001b[0m\u001b[0;34m\u001b[0m\u001b[0m\n",
      "\u001b[0;31mClientError\u001b[0m: An error occurred (ValidationException) when calling the CreateEndpoint operation: Cannot create already existing endpoint \"arn:aws:sagemaker:us-east-2:823192782642:endpoint/xgboost-2020-08-17-01-54-36-186\"."
     ]
    }
   ],
   "source": [
    "xgb_predictor = xgb.deploy(initial_instance_count = 1, instance_type = 'ml.m4.xlarge')"
   ]
  },
  {
   "cell_type": "markdown",
   "metadata": {},
   "source": [
    "At this point we could just do the same thing that we did earlier when we tested our deployed model and send `test_bow` to our endpoint using the `xgb_predictor` object. However, when we eventually construct our Lambda function we won't have access to this object, so how do we call a SageMaker endpoint?\n",
    "\n",
    "It turns out that Python functions that are used in Lambda have access to another Amazon library called `boto3`. This library provides an API for working with Amazon services, including SageMaker. To start with, we need to get a handle to the SageMaker runtime."
   ]
  },
  {
   "cell_type": "code",
   "execution_count": 47,
   "metadata": {},
   "outputs": [],
   "source": [
    "import boto3\n",
    "\n",
    "runtime = boto3.Session().client('sagemaker-runtime')"
   ]
  },
  {
   "cell_type": "markdown",
   "metadata": {},
   "source": [
    "And now that we have access to the SageMaker runtime, we can ask it to make use of (invoke) an endpoint that has already been created. However, we need to provide SageMaker with the name of the deployed endpoint. To find this out we can print it out using the `xgb_predictor` object."
   ]
  },
  {
   "cell_type": "code",
   "execution_count": 48,
   "metadata": {},
   "outputs": [
    {
     "data": {
      "text/plain": [
       "'xgboost-2020-08-17-01-54-36-186'"
      ]
     },
     "execution_count": 48,
     "metadata": {},
     "output_type": "execute_result"
    }
   ],
   "source": [
    "xgb_predictor.endpoint"
   ]
  },
  {
   "cell_type": "markdown",
   "metadata": {},
   "source": [
    "Using the SageMaker runtime and the name of our endpoint, we can invoke the endpoint and send it the `test_bow` data."
   ]
  },
  {
   "cell_type": "code",
   "execution_count": 49,
   "metadata": {},
   "outputs": [
    {
     "ename": "ParamValidationError",
     "evalue": "Parameter validation failed:\nInvalid type for parameter Body, value: [0, 0, 0, 0, 0, 0, 0, 0, 0, 0, 0, 0, 0, 0, 0, 0, 0, 0, 0, 0, 0, 0, 0, 0, 0, 0, 0, 0, 0, 0, 0, 0, 0, 0, 0, 0, 0, 0, 0, 0, 0, 0, 0, 0, 0, 0, 0, 0, 0, 0, 0, 0, 0, 0, 0, 0, 0, 0, 0, 0, 0, 0, 0, 0, 0, 0, 0, 0, 0, 0, 0, 0, 0, 0, 0, 0, 0, 0, 0, 0, 0, 0, 0, 0, 0, 0, 0, 0, 0, 0, 0, 0, 0, 0, 0, 0, 0, 0, 0, 0, 0, 0, 0, 0, 0, 0, 0, 0, 0, 0, 0, 0, 0, 0, 0, 0, 0, 0, 0, 0, 0, 0, 0, 0, 0, 0, 0, 0, 0, 0, 0, 0, 0, 0, 0, 0, 0, 0, 0, 0, 0, 0, 0, 0, 0, 0, 0, 0, 0, 0, 0, 0, 0, 0, 0, 0, 0, 0, 0, 0, 0, 0, 0, 0, 0, 0, 0, 0, 0, 0, 0, 0, 0, 0, 0, 0, 0, 0, 0, 0, 0, 0, 0, 0, 0, 0, 0, 0, 0, 0, 0, 0, 0, 0, 0, 0, 0, 0, 0, 0, 0, 0, 0, 0, 0, 0, 0, 0, 0, 0, 0, 0, 0, 0, 0, 0, 0, 0, 0, 0, 0, 0, 0, 0, 0, 0, 1, 0, 0, 0, 0, 0, 0, 0, 0, 0, 0, 0, 0, 0, 0, 0, 0, 0, 0, 0, 0, 0, 0, 0, 0, 0, 0, 0, 0, 0, 1, 0, 0, 0, 0, 0, 0, 0, 0, 0, 0, 0, 0, 0, 0, 0, 0, 0, 0, 0, 0, 0, 0, 0, 0, 0, 0, 0, 0, 0, 0, 0, 0, 0, 0, 0, 0, 0, 0, 0, 0, 0, 0, 0, 0, 0, 0, 0, 0, 0, 0, 0, 0, 0, 0, 0, 0, 0, 0, 0, 0, 0, 0, 0, 0, 0, 0, 0, 0, 0, 0, 0, 0, 0, 0, 0, 0, 0, 0, 0, 0, 0, 0, 0, 0, 0, 0, 0, 0, 0, 0, 0, 0, 0, 0, 0, 0, 0, 0, 0, 0, 0, 0, 0, 0, 0, 0, 0, 0, 0, 0, 0, 0, 0, 0, 0, 0, 0, 0, 0, 0, 0, 0, 0, 0, 0, 0, 0, 0, 0, 0, 0, 0, 0, 0, 0, 0, 0, 0, 0, 0, 0, 0, 0, 0, 0, 0, 0, 0, 0, 0, 0, 0, 0, 0, 0, 0, 0, 0, 0, 0, 0, 0, 0, 0, 0, 0, 0, 0, 0, 0, 0, 0, 0, 0, 0, 0, 0, 0, 0, 0, 0, 0, 0, 0, 0, 0, 0, 0, 0, 0, 0, 0, 0, 0, 0, 0, 0, 0, 0, 0, 0, 0, 0, 0, 0, 0, 0, 0, 0, 0, 0, 0, 0, 0, 0, 0, 0, 0, 0, 0, 0, 0, 0, 0, 0, 0, 0, 0, 0, 0, 0, 0, 0, 0, 0, 0, 0, 0, 0, 0, 0, 0, 0, 0, 0, 0, 0, 0, 0, 0, 0, 0, 0, 0, 0, 0, 0, 0, 0, 0, 0, 0, 0, 0, 0, 0, 0, 0, 0, 0, 0, 0, 0, 0, 0, 0, 0, 0, 0, 0, 0, 0, 0, 0, 0, 0, 0, 0, 0, 0, 0, 0, 0, 0, 0, 0, 0, 0, 0, 0, 0, 0, 0, 0, 0, 0, 0, 0, 0, 0, 0, 0, 0, 0, 0, 0, 0, 0, 0, 0, 0, 0, 0, 0, 0, 0, 0, 0, 0, 0, 0, 0, 0, 0, 0, 0, 0, 0, 0, 0, 0, 0, 0, 0, 0, 0, 0, 0, 0, 0, 0, 0, 0, 0, 0, 0, 0, 0, 0, 0, 0, 0, 0, 0, 0, 0, 0, 0, 0, 0, 0, 0, 0, 0, 0, 0, 0, 0, 0, 1, 0, 0, 0, 0, 0, 0, 0, 0, 0, 0, 0, 0, 0, 0, 0, 0, 0, 0, 0, 0, 0, 0, 0, 0, 0, 0, 0, 0, 0, 0, 0, 0, 0, 0, 0, 0, 0, 0, 0, 0, 0, 0, 0, 0, 0, 0, 0, 0, 0, 0, 0, 0, 0, 0, 0, 0, 0, 0, 0, 0, 0, 0, 0, 0, 0, 0, 0, 0, 0, 0, 0, 0, 0, 0, 0, 0, 0, 0, 0, 0, 0, 0, 0, 0, 0, 0, 0, 0, 0, 0, 0, 0, 0, 0, 0, 0, 0, 0, 0, 0, 0, 0, 0, 0, 0, 0, 0, 0, 0, 0, 0, 0, 0, 0, 0, 0, 0, 0, 0, 0, 0, 0, 0, 0, 0, 0, 0, 0, 0, 0, 0, 0, 0, 0, 0, 0, 0, 0, 0, 0, 0, 0, 0, 0, 0, 0, 0, 0, 0, 0, 0, 0, 0, 0, 0, 0, 0, 0, 0, 0, 0, 0, 0, 0, 0, 0, 0, 0, 0, 0, 0, 0, 0, 0, 0, 0, 0, 0, 0, 0, 0, 0, 0, 0, 0, 0, 0, 0, 0, 0, 0, 0, 0, 0, 0, 0, 0, 0, 0, 0, 0, 0, 0, 0, 0, 0, 0, 0, 0, 0, 0, 0, 0, 0, 0, 0, 0, 0, 0, 0, 0, 0, 0, 0, 0, 0, 0, 0, 0, 0, 0, 0, 0, 0, 0, 0, 0, 0, 0, 0, 0, 0, 0, 0, 0, 0, 0, 0, 0, 0, 0, 0, 0, 1, 0, 0, 0, 0, 0, 0, 0, 0, 0, 0, 0, 0, 0, 0, 0, 0, 0, 0, 0, 0, 0, 0, 0, 0, 0, 0, 0, 0, 0, 0, 0, 0, 0, 0, 0, 0, 0, 0, 0, 0, 0, 0, 0, 0, 0, 0, 0, 0, 0, 0, 0, 0, 0, 0, 0, 0, 0, 0, 0, 0, 0, 0, 0, 0, 0, 0, 0, 0, 0, 0, 0, 0, 0, 0, 0, 0, 0, 0, 0, 0, 0, 0, 0, 0, 0, 0, 1, 0, 0, 0, 0, 0, 0, 0, 0, 0, 0, 0, 0, 0, 0, 0, 0, 0, 0, 0, 0, 0, 0, 0, 0, 0, 0, 0, 0, 0, 0, 0, 0, 0, 0, 0, 0, 0, 0, 0, 0, 0, 0, 0, 0, 0, 0, 0, 0, 0, 0, 0, 0, 0, 0, 0, 0, 0, 0, 0, 0, 0, 0, 0, 0, 0, 0, 0, 0, 0, 0, 0, 0, 0, 0, 0, 0, 0, 0, 0, 0, 0, 0, 0, 0, 0, 0, 0, 0, 0, 0, 0, 0, 0, 0, 0, 0, 0, 0, 0, 0, 0, 0, 0, 0, 0, 0, 0, 0, 0, 0, 0, 0, 0, 0, 0, 0, 0, 0, 0, 0, 0, 0, 0, 0, 0, 0, 0, 0, 0, 0, 0, 0, 0, 0, 0, 0, 0, 0, 0, 0, 0, 0, 0, 0, 0, 0, 0, 0, 0, 0, 0, 0, 0, 0, 0, 0, 0, 0, 0, 0, 0, 0, 0, 0, 0, 0, 0, 0, 0, 0, 0, 0, 0, 0, 0, 0, 0, 0, 0, 0, 0, 0, 0, 0, 0, 0, 0, 0, 0, 0, 0, 0, 0, 0, 0, 0, 0, 0, 0, 0, 0, 0, 0, 0, 0, 0, 0, 0, 0, 0, 0, 0, 0, 0, 0, 0, 0, 0, 0, 0, 0, 0, 0, 0, 0, 0, 0, 0, 0, 0, 0, 0, 0, 0, 0, 0, 0, 0, 0, 0, 0, 0, 0, 0, 0, 0, 0, 0, 0, 0, 0, 0, 1, 0, 0, 0, 0, 0, 0, 0, 0, 0, 0, 0, 0, 0, 0, 0, 0, 0, 0, 0, 0, 0, 0, 0, 0, 0, 0, 0, 0, 0, 0, 0, 0, 0, 0, 0, 0, 0, 0, 0, 0, 0, 0, 0, 0, 0, 0, 0, 0, 0, 0, 0, 0, 0, 0, 0, 1, 0, 0, 0, 0, 0, 0, 0, 0, 0, 0, 0, 0, 0, 0, 0, 0, 0, 0, 0, 0, 0, 0, 0, 0, 0, 0, 0, 0, 0, 0, 0, 0, 0, 0, 0, 0, 0, 0, 0, 0, 0, 0, 0, 0, 0, 0, 0, 0, 0, 0, 0, 0, 0, 0, 0, 0, 0, 0, 0, 0, 0, 0, 0, 0, 0, 0, 0, 0, 0, 0, 0, 0, 0, 0, 0, 0, 0, 0, 0, 0, 0, 0, 0, 0, 0, 0, 0, 0, 0, 0, 0, 0, 0, 0, 0, 0, 0, 0, 0, 0, 0, 0, 0, 0, 0, 0, 0, 0, 0, 0, 0, 0, 0, 0, 0, 0, 0, 0, 0, 0, 0, 0, 0, 0, 0, 0, 0, 0, 0, 0, 0, 0, 0, 0, 0, 0, 0, 0, 0, 0, 0, 0, 0, 0, 0, 0, 0, 0, 0, 0, 0, 0, 0, 0, 0, 0, 0, 0, 0, 0, 0, 0, 0, 0, 0, 0, 0, 0, 0, 0, 0, 0, 0, 0, 0, 0, 0, 0, 0, 0, 0, 0, 0, 0, 0, 0, 0, 0, 0, 0, 0, 0, 0, 0, 0, 0, 0, 0, 0, 0, 0, 0, 0, 0, 0, 0, 0, 0, 0, 0, 0, 0, 0, 0, 0, 0, 0, 0, 0, 0, 0, 0, 0, 0, 0, 0, 0, 0, 0, 0, 0, 0, 0, 0, 0, 0, 0, 0, 0, 0, 0, 0, 0, 0, 0, 0, 0, 0, 0, 0, 0, 0, 0, 0, 0, 0, 0, 0, 0, 0, 0, 0, 0, 0, 0, 0, 0, 0, 0, 0, 0, 0, 0, 0, 0, 0, 0, 0, 0, 0, 0, 0, 0, 0, 0, 0, 0, 0, 0, 0, 0, 0, 0, 0, 0, 0, 0, 0, 0, 0, 0, 0, 0, 0, 0, 0, 0, 0, 0, 0, 0, 0, 0, 0, 0, 0, 0, 0, 0, 0, 0, 0, 0, 0, 0, 0, 0, 0, 0, 0, 0, 0, 0, 0, 0, 0, 0, 0, 0, 0, 0, 0, 0, 0, 0, 0, 0, 0, 0, 0, 0, 0, 0, 0, 0, 0, 0, 0, 0, 0, 0, 0, 0, 0, 0, 0, 0, 0, 0, 0, 0, 0, 0, 0, 0, 0, 0, 0, 0, 0, 0, 0, 0, 0, 0, 0, 0, 0, 0, 0, 0, 0, 0, 0, 0, 0, 0, 0, 0, 0, 0, 0, 0, 0, 0, 0, 0, 0, 0, 0, 0, 0, 0, 0, 0, 0, 0, 0, 0, 0, 0, 0, 0, 0, 0, 0, 0, 0, 0, 0, 0, 0, 0, 0, 0, 0, 0, 0, 0, 0, 0, 0, 0, 0, 0, 0, 0, 0, 0, 0, 0, 0, 0, 0, 0, 0, 0, 0, 0, 0, 0, 0, 0, 0, 0, 0, 0, 0, 0, 0, 0, 0, 0, 0, 0, 0, 0, 0, 0, 0, 0, 0, 0, 0, 0, 0, 0, 0, 0, 0, 0, 0, 0, 0, 0, 0, 0, 0, 0, 0, 0, 0, 0, 0, 0, 0, 0, 0, 0, 0, 0, 0, 0, 0, 0, 0, 0, 0, 0, 0, 0, 0, 0, 0, 0, 0, 0, 0, 0, 0, 0, 0, 0, 0, 0, 0, 0, 0, 0, 0, 0, 0, 0, 0, 0, 0, 0, 0, 0, 0, 0, 0, 0, 0, 0, 0, 0, 0, 0, 0, 0, 0, 0, 0, 0, 0, 0, 0, 0, 0, 0, 0, 0, 0, 0, 0, 0, 0, 0, 0, 0, 0, 0, 0, 0, 0, 0, 0, 0, 0, 0, 0, 0, 0, 0, 0, 0, 0, 0, 0, 0, 0, 0, 0, 0, 0, 0, 0, 0, 0, 0, 0, 0, 0, 0, 0, 0, 0, 0, 0, 0, 0, 0, 0, 0, 0, 0, 0, 0, 0, 0, 0, 0, 0, 0, 0, 0, 0, 0, 0, 0, 0, 0, 0, 0, 0, 0, 0, 0, 0, 0, 0, 0, 0, 0, 0, 0, 0, 0, 0, 0, 0, 0, 0, 0, 0, 0, 0, 0, 0, 0, 0, 0, 0, 0, 0, 0, 0, 0, 0, 0, 1, 0, 0, 0, 0, 0, 0, 0, 0, 0, 0, 0, 0, 0, 0, 0, 0, 0, 0, 0, 0, 0, 0, 0, 0, 0, 0, 0, 0, 0, 0, 0, 0, 0, 0, 0, 0, 0, 0, 0, 0, 0, 0, 0, 0, 0, 0, 0, 0, 0, 0, 0, 0, 0, 0, 0, 0, 0, 0, 0, 0, 0, 0, 0, 0, 0, 0, 0, 0, 0, 0, 0, 0, 0, 0, 1, 0, 0, 0, 0, 0, 0, 0, 0, 0, 0, 0, 0, 0, 0, 0, 0, 0, 0, 0, 0, 1, 0, 0, 1, 0, 0, 0, 0, 0, 0, 0, 0, 0, 0, 0, 0, 0, 0, 0, 0, 0, 0, 0, 0, 0, 0, 0, 0, 0, 0, 0, 0, 0, 0, 0, 0, 0, 0, 0, 0, 0, 0, 0, 0, 0, 0, 0, 0, 0, 0, 0, 0, 0, 0, 0, 0, 0, 0, 0, 0, 0, 0, 0, 0, 0, 0, 0, 0, 0, 0, 0, 0, 0, 0, 0, 0, 0, 0, 0, 0, 0, 0, 0, 0, 0, 0, 0, 0, 0, 0, 0, 0, 0, 0, 0, 0, 0, 0, 0, 0, 0, 0, 0, 0, 0, 0, 0, 0, 0, 0, 0, 0, 0, 0, 0, 0, 0, 0, 0, 0, 0, 0, 0, 0, 0, 0, 0, 0, 0, 0, 0, 0, 0, 0, 0, 0, 0, 0, 0, 0, 0, 0, 0, 0, 0, 0, 0, 0, 0, 0, 0, 0, 0, 0, 0, 0, 0, 0, 0, 0, 0, 0, 0, 0, 0, 0, 0, 0, 0, 0, 0, 0, 0, 0, 0, 0, 0, 0, 0, 0, 0, 0, 0, 0, 0, 0, 0, 0, 0, 0, 0, 0, 0, 0, 0, 0, 0, 0, 0, 0, 0, 0, 0, 0, 0, 0, 0, 0, 0, 0, 0, 0, 0, 0, 0, 0, 0, 0, 0, 0, 0, 0, 0, 0, 0, 0, 0, 0, 0, 0, 0, 0, 0, 0, 0, 0, 0, 0, 0, 0, 0, 0, 0, 0, 0, 0, 0, 0, 0, 0, 0, 0, 0, 0, 0, 0, 0, 0, 0, 0, 0, 0, 0, 0, 0, 0, 0, 0, 0, 0, 0, 0, 0, 0, 0, 0, 0, 0, 0, 0, 0, 0, 0, 0, 0, 0, 0, 0, 0, 0, 0, 0, 0, 0, 0, 0, 0, 0, 0, 0, 0, 0, 0, 0, 0, 0, 0, 0, 0, 0, 0, 0, 0, 0, 0, 0, 0, 0, 0, 0, 0, 0, 0, 0, 0, 0, 0, 0, 0, 0, 0, 0, 0, 0, 0, 0, 0, 0, 0, 0, 0, 0, 0, 0, 0, 0, 0, 0, 0, 0, 0, 0, 0, 0, 0, 0, 0, 0, 0, 0, 0, 0, 0, 0, 0, 0, 0, 0, 0, 0, 0, 0, 0, 0, 0, 0, 0, 0, 0, 0, 0, 0, 0, 0, 0, 0, 0, 0, 0, 0, 0, 0, 0, 0, 0, 0, 0, 0, 0, 0, 0, 0, 0, 0, 0, 0, 0, 0, 0, 0, 0, 0, 0, 0, 0, 0, 0, 0, 0, 0, 0, 0, 0, 0, 0, 0, 0, 0, 0, 0, 0, 0, 0, 0, 0, 0, 0, 0, 0, 0, 0, 0, 0, 0, 0, 0, 0, 0, 0, 0, 0, 0, 0, 0, 0, 0, 0, 0, 0, 0, 0, 0, 0, 0, 0, 0, 0, 0, 0, 0, 1, 0, 0, 0, 0, 0, 0, 0, 0, 0, 0, 0, 0, 0, 0, 0, 0, 0, 0, 0, 0, 0, 0, 0, 0, 0, 0, 0, 0, 0, 0, 0, 0, 0, 0, 0, 0, 0, 0, 0, 0, 0, 0, 0, 0, 0, 0, 0, 0, 0, 0, 0, 0, 0, 0, 0, 0, 0, 0, 0, 0, 0, 0, 0, 0, 0, 0, 0, 0, 0, 0, 0, 0, 0, 0, 0, 0, 0, 0, 0, 0, 0, 0, 0, 0, 0, 0, 0, 0, 0, 0, 0, 0, 0, 0, 0, 0, 0, 0, 0, 0, 0, 0, 0, 0, 0, 0, 0, 0, 0, 0, 0, 0, 0, 0, 0, 0, 0, 0, 0, 0, 0, 0, 0, 0, 0, 0, 0, 0, 0, 0, 0, 0, 0, 0, 0, 0, 0, 0, 0, 0, 0, 0, 0, 0, 0, 0, 0, 0, 0, 0, 0, 0, 0, 0, 0, 0, 0, 0, 0, 0, 0, 0, 0, 0, 0, 0, 0, 0, 0, 0, 0, 0, 0, 0, 0, 0, 0, 0, 0, 0, 0, 0, 0, 0, 0, 0, 0, 0, 0, 0, 0, 0, 0, 0, 0, 0, 0, 0, 0, 0, 0, 0, 0, 0, 0, 0, 0, 0, 0, 0, 0, 0, 0, 0, 0, 0, 0, 0, 0, 0, 0, 0, 0, 0, 0, 0, 0, 0, 0, 0, 0, 0, 0, 0, 0, 0, 0, 0, 0, 0, 0, 0, 0, 0, 0, 0, 0, 0, 0, 0, 0, 0, 0, 0, 0, 0, 0, 0, 0, 0, 0, 0, 0, 0, 0, 0, 0, 0, 0, 0, 0, 0, 0, 0, 0, 0, 0, 0, 0, 0, 0, 0, 0, 0, 0, 0, 0, 0, 0, 0, 0, 0, 0, 0, 0, 0, 0, 0, 0, 0, 0, 0, 0, 0, 0, 0, 0, 0, 0, 0, 0, 0, 0, 0, 0, 0, 0, 0, 0, 0, 0, 0, 0, 0, 0, 0, 0, 0, 0, 0, 0, 0, 0, 0, 0, 0, 0, 0, 0, 0, 0, 0, 0, 0, 0, 0, 0, 0, 0, 0, 0, 0, 0, 0, 0, 0, 0, 0, 0, 0, 0, 0, 0, 0, 0, 0, 0, 0, 0, 0, 0, 0, 0, 0, 0, 0, 0, 0, 0, 0, 0, 0, 0, 0, 0, 0, 0, 0, 0, 0, 0, 0, 0, 0, 0, 0, 0, 0, 0, 0, 0, 0, 0, 0, 0, 0, 0, 0, 0, 0, 0, 0, 0, 0, 0, 0, 0, 0, 0, 0, 0, 0, 0, 0, 0, 0, 0, 0, 0, 0, 0, 0, 0, 0, 0, 0, 0, 0, 0, 0, 0, 0, 0, 0, 0, 0, 0, 0, 0, 0, 0, 0, 0, 0, 0, 0, 0, 0, 0, 0, 0, 0, 0, 0, 0, 0, 0, 0, 0, 0, 0, 0, 0, 0, 0, 0, 0, 0, 0, 0, 0, 0, 0, 0, 0, 0, 0, 0, 0, 0, 0, 0, 0, 0, 0, 0, 0, 0, 0, 0, 0, 0, 0, 0, 0, 0, 0, 0, 0, 0, 0, 0, 1, 0, 0, 0, 0, 0, 0, 0, 0, 0, 0, 0, 0, 0, 0, 0, 0, 0, 0, 0, 0, 0, 0, 0, 0, 0, 0, 0, 0, 0, 0, 0, 0, 0, 0, 0, 2, 0, 0, 0, 0, 0, 0, 0, 0, 0, 0, 0, 0, 0, 0, 0, 0, 0, 0, 0, 0, 0, 0, 0, 0, 0, 0, 0, 0, 0, 0, 0, 0, 0, 0, 0, 0, 0, 0, 0, 0, 1, 0, 0, 0, 0, 0, 0, 0, 0, 0, 0, 0, 0, 0, 0, 0, 0, 0, 0, 0, 0, 0, 0, 0, 0, 0, 0, 0, 0, 0, 0, 0, 0, 0, 0, 0, 0, 0, 0, 0, 0, 0, 0, 0, 0, 0, 0, 0, 0, 0, 0, 0, 0, 0, 0, 0, 0, 0, 0, 0, 0, 0, 0, 0, 0, 0, 0, 0, 0, 0, 0, 0, 0, 0, 0, 0, 0, 0, 0, 0, 0, 0, 0, 0, 0, 0, 0, 0, 0, 0, 0, 0, 0, 0, 0, 0, 0, 0, 0, 0, 0, 0, 0, 0, 0, 0, 0, 0, 0, 0, 0, 0, 0, 0, 0, 0, 0, 0, 0, 0, 0, 0, 0, 0, 0, 0, 0, 0, 0, 0, 0, 0, 0, 0, 0, 0, 0, 0, 0, 0, 0, 0, 0, 0, 0, 0, 0, 0, 0, 0, 0, 0, 0, 0, 0, 0, 0, 0, 0, 0, 0, 0, 0, 0, 0, 0, 0, 0, 0, 0, 0, 0, 0, 0, 0, 0, 0, 0, 0, 0, 0, 0, 0, 0, 0, 0, 0, 0, 0, 0, 0, 0, 0, 0, 0, 0, 0, 0, 0, 0, 0, 0, 0, 0, 0, 0, 0, 0, 0, 0, 0, 0, 0, 0, 0, 0, 0, 0, 0, 0, 0, 0, 0, 0, 0, 0, 0, 0, 0, 0, 0, 0, 0, 0, 0, 0, 0, 0, 0, 0, 0, 0, 0, 0, 0, 0, 0, 0, 0, 0, 0, 0, 0, 0, 0, 0, 0, 0, 0, 0, 0, 0, 0, 0, 0, 0, 0, 0, 0, 0, 0, 0, 0, 0, 0, 0, 0, 0, 0, 0, 0, 0, 0, 0, 0, 0, 0, 0, 0, 0, 0, 0, 0, 0, 0, 0, 0, 0, 0, 0, 0, 0, 0, 0, 0, 0, 0, 0, 0, 0, 0, 0, 0, 0, 0, 0, 0, 0, 0, 0, 0, 0, 0, 0, 0, 0, 0, 0, 0, 0, 0, 0, 0, 0, 0, 0, 0, 0, 0, 0, 0, 0, 0, 0, 0, 0, 0, 0, 0, 0, 0, 0, 0, 0, 0, 0, 0, 0, 0, 0, 0, 0, 0, 0, 0, 0, 0, 0, 0, 0, 0, 0, 0, 0, 0, 0, 0, 0, 0, 0, 0, 0, 0, 0, 0, 0, 0, 0, 0, 0, 0, 0, 0, 0, 0, 0, 0, 0, 0, 0, 0, 0, 0, 0, 0, 0, 0, 0, 0, 0, 0, 0, 0, 0, 0, 0, 0, 0, 0, 0, 0, 0, 0, 0, 0, 0, 0, 0, 0, 0, 0, 0, 0, 0, 0, 0, 0, 0, 0, 0, 0, 0, 0, 0, 0, 0, 0, 0, 0, 0, 0, 0, 0, 0, 0, 0, 0, 0, 0, 0, 0, 0, 0, 0, 0, 0, 0, 0, 0, 0, 0, 0, 0, 0, 0, 0, 0, 0, 0, 0, 0, 0, 0, 0, 0, 0, 0, 0, 0, 0, 0, 0, 0, 0, 0, 0, 0, 0, 1, 0, 0, 0, 0, 0, 0, 0, 0, 0, 0, 0, 0, 0, 0, 0, 0, 0, 0, 0, 0, 0, 0, 0, 0, 0, 0, 0, 0, 0, 0, 0, 0, 0, 0, 0, 0, 0, 0, 0, 0, 0, 0, 0, 0, 0, 0, 0, 0, 0, 0, 0, 0, 0, 0, 0, 0, 0, 0, 0, 0, 0, 0, 0, 0, 0, 0, 0, 0, 0, 0, 0, 0, 0, 0, 0, 0, 0, 0, 0, 0, 0, 0, 0, 0, 0, 0, 0, 0, 0, 0, 0, 0, 0, 0, 0, 0, 0, 0, 0, 0, 0, 0, 0, 0, 0, 0, 0, 0, 0, 0, 2, 0, 0, 0, 0, 0, 0, 0, 0, 0, 0, 0, 0, 0, 0, 0, 0, 0, 0, 0, 0, 0, 0, 0, 0, 0, 0, 0, 0, 0, 0, 0, 0, 0, 0, 0, 0, 0, 0, 0, 0, 0, 0, 0, 0, 0, 0, 0, 0, 0, 0, 0, 0, 0, 0, 0, 0, 0, 0, 0, 0, 0, 0, 0, 0, 0, 0, 0, 0, 0, 0, 0, 0, 0, 0, 0, 0, 0, 0, 0, 0, 0, 0, 0, 0, 0, 0, 0, 0, 0, 0, 0, 0, 0, 0, 0, 0, 0, 0, 0, 0, 0, 0, 0, 0, 0, 0, 0, 0, 0, 0, 0, 0, 0, 0, 0, 0, 0, 0, 0, 0, 0, 0, 0, 0, 0, 0, 0, 0, 0, 0, 0, 0, 0, 0, 0, 0, 0, 0, 0, 0, 0, 0, 0, 0, 0, 0, 0, 0, 0, 0, 0, 0, 0, 0, 0, 0, 0, 0, 0, 0, 0, 0, 0, 0, 0, 0, 0, 0, 0, 0, 0, 0, 0, 0, 0, 0, 0, 0, 0, 0, 0, 0, 0, 0, 0, 0, 0, 0, 0, 0, 0, 0, 0, 0, 0, 0, 0, 0, 0, 0, 0, 0, 0, 0, 0, 0, 0, 0, 0, 0, 0, 0, 0, 0, 0, 0, 0, 0, 0, 0, 0, 0, 0, 0, 0, 0, 0, 0, 0, 0, 0, 0, 0, 0, 0, 0, 0, 0, 0, 0, 0, 0, 0, 0, 0, 0, 0, 0, 0, 0, 0, 0, 0, 0, 0, 0, 0, 0, 0, 0, 0, 0, 0, 0, 0, 0, 0, 0, 0, 0, 0, 0, 0, 0, 0, 0, 0, 0, 0, 0, 0, 0, 0, 0, 0, 0, 0, 0, 0, 0, 0, 0, 0, 0, 0, 0, 0, 0, 0, 0, 0, 0, 0, 0, 0, 0, 0, 0, 0, 0, 0, 0, 0, 0, 0, 0, 0, 0, 0, 0, 0, 0, 0, 0, 0, 0, 0, 0, 0, 0, 0, 0, 0, 0, 0, 0, 0, 0, 0, 0, 0, 0, 0, 0, 0, 0, 0, 0, 0, 0, 0, 0, 0, 0, 0, 0, 0, 0, 0, 0, 0, 0, 0, 0, 0, 0, 0, 0, 0, 0, 0, 0, 0, 0, 0, 0, 0, 0, 0, 0, 0, 0, 0, 0, 0, 0, 0, 0, 0, 0, 0, 0, 0, 0, 0, 0, 0, 0, 0, 0, 0, 0, 0, 0, 0, 0, 0, 0, 0, 0, 0, 0, 0, 0, 0, 0, 0, 0, 0, 0, 0, 0, 0, 0, 0, 0, 0, 0, 0, 0, 0, 0, 0, 0, 0, 0, 0, 0, 0, 0, 0, 0, 0, 0, 0, 0, 0, 0, 0, 0, 0, 0, 0, 0, 0, 0, 0, 0, 0, 0, 0, 0, 0, 0, 0, 0, 0, 0, 0, 0, 0, 0, 0, 0, 0, 0, 0, 0, 0, 0, 0, 0, 0, 0, 0, 0, 0, 0, 0, 0, 0, 0, 0, 0, 0, 0, 0, 0, 0, 0, 0, 0, 0, 0, 0, 0, 0, 0, 0, 0, 0, 0, 0, 0, 0, 0, 0, 0, 0, 0, 0, 0, 0, 0, 0, 0, 0, 0, 0, 0, 0, 0, 0, 0, 0, 0, 0, 0, 0, 0, 0, 0, 0, 0, 0, 0, 0, 0, 0, 0, 0, 0, 0, 0, 0, 0, 0, 0, 0, 0, 0, 0, 0, 0, 0, 0, 0, 0, 0, 0, 0, 0, 0, 0, 0, 0, 0, 0, 0, 0, 0, 0, 0, 0, 0, 0, 0, 0, 0, 0, 0, 0, 0, 0, 0, 0, 0, 0, 0, 0, 0, 0, 0, 0, 0, 0, 0, 0, 0, 0, 0, 0, 0, 0, 0, 0, 0, 0, 0, 0, 0, 0, 0, 0, 0, 0, 0, 0, 0, 0, 0, 0, 0, 0, 0, 0, 0, 0, 0, 0, 0, 0, 0, 0, 0, 0, 0, 0, 0, 0, 0, 0, 0, 0, 0, 0, 0, 0, 0, 0, 0, 0, 0, 0, 0, 0, 0, 0, 0, 0, 0, 0, 0, 0, 0, 0, 0, 0, 0, 0, 0, 0, 0, 0, 0, 0, 0, 0, 0, 0, 1, 0, 0, 0, 0, 0, 0, 0, 0, 0, 0, 0, 0, 0, 0, 0, 0, 0, 0, 0, 0, 0, 0, 0, 0, 0, 0, 0, 0, 0, 0, 0, 0, 0, 0, 0, 0, 0, 0, 0, 0, 0, 0, 0, 0, 0, 0, 0, 0, 0, 0, 0, 0, 0, 0, 0, 0, 0, 0, 0, 0, 0, 0, 0, 0, 0, 0, 0, 0, 0, 0, 0, 0, 0, 0, 0, 0, 0, 0, 0, 0, 0, 0, 0, 0, 0, 0, 0, 0, 0, 0, 0, 0, 0, 0, 0, 0, 0, 0, 0, 0, 0, 0, 0, 0, 0, 0, 0, 1, 0, 0, 0, 0, 0, 0, 0, 0, 0, 0, 0, 0, 0, 0, 0, 0, 0, 0, 0, 0, 0, 0, 0, 0, 0, 0, 0, 0, 0, 0, 0, 0, 0, 0, 0, 0, 0, 0, 0, 0, 0, 0, 0, 0, 0, 0, 0, 0, 0, 0, 0, 0, 0, 0, 0, 0, 0, 0, 0, 0, 0, 0, 0, 0, 0, 0, 0, 0, 0, 0, 0, 0, 0, 0, 0, 0, 0, 0, 0, 0, 0, 0, 0, 0, 0, 0, 0, 0, 0, 0, 0, 0, 0, 0, 0, 0, 0, 0, 0, 0, 0, 0, 0, 0, 0, 0, 0, 0, 0, 0, 0, 0, 0, 0, 0, 0, 0, 0, 0, 0, 0, 0, 0, 0, 0, 0, 0, 0, 0, 0, 0, 0, 0, 0, 0, 0, 0, 0, 0, 0, 0, 0, 0, 0, 0, 0, 0, 0, 0, 0, 0, 0, 0, 0, 0, 0, 0, 0, 0, 0, 0, 0, 0, 0, 0, 0, 0, 0, 0, 0, 0, 0, 0, 0, 0, 0, 0, 0, 0, 0, 0, 0, 0, 0, 0, 0, 0, 0, 0, 0, 0, 0, 0, 0, 0, 0, 0, 0, 0, 0, 0, 0, 0, 0, 0, 0, 0, 0, 0, 0, 0, 0, 0, 0, 0, 0, 0, 0, 0, 0, 0, 0, 0, 0, 0, 0, 0, 0, 0, 0, 0, 0, 0, 0, 0, 0, 0, 0, 0, 0, 0, 0, 0, 0, 0, 0, 0, 0, 0, 0, 0, 0, 0, 0, 0, 0, 0, 0, 0, 0, 0, 0, 0, 0, 0, 0, 0, 0, 0, 0, 0, 0, 0, 0, 0, 0, 0, 0, 0, 0, 0, 0, 0, 0, 0, 0, 0, 0, 0, 0, 0, 0, 0, 0, 0, 0, 0, 0, 0, 0, 0, 0, 0, 0, 0, 0, 0, 0, 0, 0, 0, 0, 0, 0, 0, 0, 0, 0, 0, 0, 0, 0, 0, 0, 0, 0, 0, 0, 0, 0, 0, 0, 0, 0, 0, 0, 0, 0, 0, 0, 0, 0, 0, 0, 0, 0, 0, 0, 0, 0, 0, 0, 0, 0, 0, 0, 0, 0, 0, 0, 0, 0, 0, 0, 0, 0, 0, 0, 0, 0, 0, 0, 0, 0, 0, 0, 0, 0, 0, 0, 0, 0, 0, 0, 0, 0, 0, 0, 0, 0, 0, 0, 0, 0, 0, 0, 0, 0, 0, 0, 0, 0, 0, 0, 0, 0, 0, 0, 0, 0, 0, 0, 0, 0, 0, 0, 0, 0, 0, 0, 0, 0, 0, 0, 0, 0, 0, 0, 0, 0, 0, 0, 0, 0, 0, 0, 0, 0, 0, 0, 0, 0, 0, 0, 0, 0, 0, 0, 0, 0, 0, 0, 0, 0, 0, 0, 0, 0, 0, 0, 0, 0, 0, 2, 0, 1, 0], type: <class 'list'>, valid types: <class 'bytes'>, <class 'bytearray'>, file-like object",
     "output_type": "error",
     "traceback": [
      "\u001b[0;31m---------------------------------------------------------------------------\u001b[0m",
      "\u001b[0;31mParamValidationError\u001b[0m                      Traceback (most recent call last)",
      "\u001b[0;32m<ipython-input-49-c9ab54ae3a48>\u001b[0m in \u001b[0;36m<module>\u001b[0;34m\u001b[0m\n\u001b[1;32m      1\u001b[0m response = runtime.invoke_endpoint(EndpointName = xgb_predictor.endpoint, # The name of the endpoint we created\n\u001b[1;32m      2\u001b[0m                                        \u001b[0mContentType\u001b[0m \u001b[0;34m=\u001b[0m \u001b[0;34m'text/csv'\u001b[0m\u001b[0;34m,\u001b[0m                     \u001b[0;31m# The data format that is expected\u001b[0m\u001b[0;34m\u001b[0m\u001b[0;34m\u001b[0m\u001b[0m\n\u001b[0;32m----> 3\u001b[0;31m                                        Body = test_bow)\n\u001b[0m",
      "\u001b[0;32m~/anaconda3/envs/python3/lib/python3.6/site-packages/botocore/client.py\u001b[0m in \u001b[0;36m_api_call\u001b[0;34m(self, *args, **kwargs)\u001b[0m\n\u001b[1;32m    314\u001b[0m                     \"%s() only accepts keyword arguments.\" % py_operation_name)\n\u001b[1;32m    315\u001b[0m             \u001b[0;31m# The \"self\" in this scope is referring to the BaseClient.\u001b[0m\u001b[0;34m\u001b[0m\u001b[0;34m\u001b[0m\u001b[0;34m\u001b[0m\u001b[0m\n\u001b[0;32m--> 316\u001b[0;31m             \u001b[0;32mreturn\u001b[0m \u001b[0mself\u001b[0m\u001b[0;34m.\u001b[0m\u001b[0m_make_api_call\u001b[0m\u001b[0;34m(\u001b[0m\u001b[0moperation_name\u001b[0m\u001b[0;34m,\u001b[0m \u001b[0mkwargs\u001b[0m\u001b[0;34m)\u001b[0m\u001b[0;34m\u001b[0m\u001b[0;34m\u001b[0m\u001b[0m\n\u001b[0m\u001b[1;32m    317\u001b[0m \u001b[0;34m\u001b[0m\u001b[0m\n\u001b[1;32m    318\u001b[0m         \u001b[0m_api_call\u001b[0m\u001b[0;34m.\u001b[0m\u001b[0m__name__\u001b[0m \u001b[0;34m=\u001b[0m \u001b[0mstr\u001b[0m\u001b[0;34m(\u001b[0m\u001b[0mpy_operation_name\u001b[0m\u001b[0;34m)\u001b[0m\u001b[0;34m\u001b[0m\u001b[0;34m\u001b[0m\u001b[0m\n",
      "\u001b[0;32m~/anaconda3/envs/python3/lib/python3.6/site-packages/botocore/client.py\u001b[0m in \u001b[0;36m_make_api_call\u001b[0;34m(self, operation_name, api_params)\u001b[0m\n\u001b[1;32m    606\u001b[0m         }\n\u001b[1;32m    607\u001b[0m         request_dict = self._convert_to_request_dict(\n\u001b[0;32m--> 608\u001b[0;31m             api_params, operation_model, context=request_context)\n\u001b[0m\u001b[1;32m    609\u001b[0m \u001b[0;34m\u001b[0m\u001b[0m\n\u001b[1;32m    610\u001b[0m         \u001b[0mservice_id\u001b[0m \u001b[0;34m=\u001b[0m \u001b[0mself\u001b[0m\u001b[0;34m.\u001b[0m\u001b[0m_service_model\u001b[0m\u001b[0;34m.\u001b[0m\u001b[0mservice_id\u001b[0m\u001b[0;34m.\u001b[0m\u001b[0mhyphenize\u001b[0m\u001b[0;34m(\u001b[0m\u001b[0;34m)\u001b[0m\u001b[0;34m\u001b[0m\u001b[0;34m\u001b[0m\u001b[0m\n",
      "\u001b[0;32m~/anaconda3/envs/python3/lib/python3.6/site-packages/botocore/client.py\u001b[0m in \u001b[0;36m_convert_to_request_dict\u001b[0;34m(self, api_params, operation_model, context)\u001b[0m\n\u001b[1;32m    654\u001b[0m             api_params, operation_model, context)\n\u001b[1;32m    655\u001b[0m         request_dict = self._serializer.serialize_to_request(\n\u001b[0;32m--> 656\u001b[0;31m             api_params, operation_model)\n\u001b[0m\u001b[1;32m    657\u001b[0m         \u001b[0;32mif\u001b[0m \u001b[0;32mnot\u001b[0m \u001b[0mself\u001b[0m\u001b[0;34m.\u001b[0m\u001b[0m_client_config\u001b[0m\u001b[0;34m.\u001b[0m\u001b[0minject_host_prefix\u001b[0m\u001b[0;34m:\u001b[0m\u001b[0;34m\u001b[0m\u001b[0;34m\u001b[0m\u001b[0m\n\u001b[1;32m    658\u001b[0m             \u001b[0mrequest_dict\u001b[0m\u001b[0;34m.\u001b[0m\u001b[0mpop\u001b[0m\u001b[0;34m(\u001b[0m\u001b[0;34m'host_prefix'\u001b[0m\u001b[0;34m,\u001b[0m \u001b[0;32mNone\u001b[0m\u001b[0;34m)\u001b[0m\u001b[0;34m\u001b[0m\u001b[0;34m\u001b[0m\u001b[0m\n",
      "\u001b[0;32m~/anaconda3/envs/python3/lib/python3.6/site-packages/botocore/validate.py\u001b[0m in \u001b[0;36mserialize_to_request\u001b[0;34m(self, parameters, operation_model)\u001b[0m\n\u001b[1;32m    295\u001b[0m                                                     operation_model.input_shape)\n\u001b[1;32m    296\u001b[0m             \u001b[0;32mif\u001b[0m \u001b[0mreport\u001b[0m\u001b[0;34m.\u001b[0m\u001b[0mhas_errors\u001b[0m\u001b[0;34m(\u001b[0m\u001b[0;34m)\u001b[0m\u001b[0;34m:\u001b[0m\u001b[0;34m\u001b[0m\u001b[0;34m\u001b[0m\u001b[0m\n\u001b[0;32m--> 297\u001b[0;31m                 \u001b[0;32mraise\u001b[0m \u001b[0mParamValidationError\u001b[0m\u001b[0;34m(\u001b[0m\u001b[0mreport\u001b[0m\u001b[0;34m=\u001b[0m\u001b[0mreport\u001b[0m\u001b[0;34m.\u001b[0m\u001b[0mgenerate_report\u001b[0m\u001b[0;34m(\u001b[0m\u001b[0;34m)\u001b[0m\u001b[0;34m)\u001b[0m\u001b[0;34m\u001b[0m\u001b[0;34m\u001b[0m\u001b[0m\n\u001b[0m\u001b[1;32m    298\u001b[0m         return self._serializer.serialize_to_request(parameters,\n\u001b[1;32m    299\u001b[0m                                                      operation_model)\n",
      "\u001b[0;31mParamValidationError\u001b[0m: Parameter validation failed:\nInvalid type for parameter Body, value: [0, 0, 0, 0, 0, 0, 0, 0, 0, 0, 0, 0, 0, 0, 0, 0, 0, 0, 0, 0, 0, 0, 0, 0, 0, 0, 0, 0, 0, 0, 0, 0, 0, 0, 0, 0, 0, 0, 0, 0, 0, 0, 0, 0, 0, 0, 0, 0, 0, 0, 0, 0, 0, 0, 0, 0, 0, 0, 0, 0, 0, 0, 0, 0, 0, 0, 0, 0, 0, 0, 0, 0, 0, 0, 0, 0, 0, 0, 0, 0, 0, 0, 0, 0, 0, 0, 0, 0, 0, 0, 0, 0, 0, 0, 0, 0, 0, 0, 0, 0, 0, 0, 0, 0, 0, 0, 0, 0, 0, 0, 0, 0, 0, 0, 0, 0, 0, 0, 0, 0, 0, 0, 0, 0, 0, 0, 0, 0, 0, 0, 0, 0, 0, 0, 0, 0, 0, 0, 0, 0, 0, 0, 0, 0, 0, 0, 0, 0, 0, 0, 0, 0, 0, 0, 0, 0, 0, 0, 0, 0, 0, 0, 0, 0, 0, 0, 0, 0, 0, 0, 0, 0, 0, 0, 0, 0, 0, 0, 0, 0, 0, 0, 0, 0, 0, 0, 0, 0, 0, 0, 0, 0, 0, 0, 0, 0, 0, 0, 0, 0, 0, 0, 0, 0, 0, 0, 0, 0, 0, 0, 0, 0, 0, 0, 0, 0, 0, 0, 0, 0, 0, 0, 0, 0, 0, 0, 1, 0, 0, 0, 0, 0, 0, 0, 0, 0, 0, 0, 0, 0, 0, 0, 0, 0, 0, 0, 0, 0, 0, 0, 0, 0, 0, 0, 0, 0, 1, 0, 0, 0, 0, 0, 0, 0, 0, 0, 0, 0, 0, 0, 0, 0, 0, 0, 0, 0, 0, 0, 0, 0, 0, 0, 0, 0, 0, 0, 0, 0, 0, 0, 0, 0, 0, 0, 0, 0, 0, 0, 0, 0, 0, 0, 0, 0, 0, 0, 0, 0, 0, 0, 0, 0, 0, 0, 0, 0, 0, 0, 0, 0, 0, 0, 0, 0, 0, 0, 0, 0, 0, 0, 0, 0, 0, 0, 0, 0, 0, 0, 0, 0, 0, 0, 0, 0, 0, 0, 0, 0, 0, 0, 0, 0, 0, 0, 0, 0, 0, 0, 0, 0, 0, 0, 0, 0, 0, 0, 0, 0, 0, 0, 0, 0, 0, 0, 0, 0, 0, 0, 0, 0, 0, 0, 0, 0, 0, 0, 0, 0, 0, 0, 0, 0, 0, 0, 0, 0, 0, 0, 0, 0, 0, 0, 0, 0, 0, 0, 0, 0, 0, 0, 0, 0, 0, 0, 0, 0, 0, 0, 0, 0, 0, 0, 0, 0, 0, 0, 0, 0, 0, 0, 0, 0, 0, 0, 0, 0, 0, 0, 0, 0, 0, 0, 0, 0, 0, 0, 0, 0, 0, 0, 0, 0, 0, 0, 0, 0, 0, 0, 0, 0, 0, 0, 0, 0, 0, 0, 0, 0, 0, 0, 0, 0, 0, 0, 0, 0, 0, 0, 0, 0, 0, 0, 0, 0, 0, 0, 0, 0, 0, 0, 0, 0, 0, 0, 0, 0, 0, 0, 0, 0, 0, 0, 0, 0, 0, 0, 0, 0, 0, 0, 0, 0, 0, 0, 0, 0, 0, 0, 0, 0, 0, 0, 0, 0, 0, 0, 0, 0, 0, 0, 0, 0, 0, 0, 0, 0, 0, 0, 0, 0, 0, 0, 0, 0, 0, 0, 0, 0, 0, 0, 0, 0, 0, 0, 0, 0, 0, 0, 0, 0, 0, 0, 0, 0, 0, 0, 0, 0, 0, 0, 0, 0, 0, 0, 0, 0, 0, 0, 0, 0, 0, 0, 0, 0, 0, 0, 0, 0, 0, 0, 0, 0, 0, 0, 0, 0, 0, 0, 0, 0, 0, 0, 0, 0, 0, 0, 0, 0, 0, 0, 0, 0, 0, 0, 0, 0, 0, 0, 0, 0, 0, 0, 0, 0, 0, 0, 0, 0, 0, 0, 0, 0, 0, 0, 0, 0, 1, 0, 0, 0, 0, 0, 0, 0, 0, 0, 0, 0, 0, 0, 0, 0, 0, 0, 0, 0, 0, 0, 0, 0, 0, 0, 0, 0, 0, 0, 0, 0, 0, 0, 0, 0, 0, 0, 0, 0, 0, 0, 0, 0, 0, 0, 0, 0, 0, 0, 0, 0, 0, 0, 0, 0, 0, 0, 0, 0, 0, 0, 0, 0, 0, 0, 0, 0, 0, 0, 0, 0, 0, 0, 0, 0, 0, 0, 0, 0, 0, 0, 0, 0, 0, 0, 0, 0, 0, 0, 0, 0, 0, 0, 0, 0, 0, 0, 0, 0, 0, 0, 0, 0, 0, 0, 0, 0, 0, 0, 0, 0, 0, 0, 0, 0, 0, 0, 0, 0, 0, 0, 0, 0, 0, 0, 0, 0, 0, 0, 0, 0, 0, 0, 0, 0, 0, 0, 0, 0, 0, 0, 0, 0, 0, 0, 0, 0, 0, 0, 0, 0, 0, 0, 0, 0, 0, 0, 0, 0, 0, 0, 0, 0, 0, 0, 0, 0, 0, 0, 0, 0, 0, 0, 0, 0, 0, 0, 0, 0, 0, 0, 0, 0, 0, 0, 0, 0, 0, 0, 0, 0, 0, 0, 0, 0, 0, 0, 0, 0, 0, 0, 0, 0, 0, 0, 0, 0, 0, 0, 0, 0, 0, 0, 0, 0, 0, 0, 0, 0, 0, 0, 0, 0, 0, 0, 0, 0, 0, 0, 0, 0, 0, 0, 0, 0, 0, 0, 0, 0, 0, 0, 0, 0, 0, 0, 0, 0, 0, 0, 0, 0, 0, 0, 1, 0, 0, 0, 0, 0, 0, 0, 0, 0, 0, 0, 0, 0, 0, 0, 0, 0, 0, 0, 0, 0, 0, 0, 0, 0, 0, 0, 0, 0, 0, 0, 0, 0, 0, 0, 0, 0, 0, 0, 0, 0, 0, 0, 0, 0, 0, 0, 0, 0, 0, 0, 0, 0, 0, 0, 0, 0, 0, 0, 0, 0, 0, 0, 0, 0, 0, 0, 0, 0, 0, 0, 0, 0, 0, 0, 0, 0, 0, 0, 0, 0, 0, 0, 0, 0, 0, 1, 0, 0, 0, 0, 0, 0, 0, 0, 0, 0, 0, 0, 0, 0, 0, 0, 0, 0, 0, 0, 0, 0, 0, 0, 0, 0, 0, 0, 0, 0, 0, 0, 0, 0, 0, 0, 0, 0, 0, 0, 0, 0, 0, 0, 0, 0, 0, 0, 0, 0, 0, 0, 0, 0, 0, 0, 0, 0, 0, 0, 0, 0, 0, 0, 0, 0, 0, 0, 0, 0, 0, 0, 0, 0, 0, 0, 0, 0, 0, 0, 0, 0, 0, 0, 0, 0, 0, 0, 0, 0, 0, 0, 0, 0, 0, 0, 0, 0, 0, 0, 0, 0, 0, 0, 0, 0, 0, 0, 0, 0, 0, 0, 0, 0, 0, 0, 0, 0, 0, 0, 0, 0, 0, 0, 0, 0, 0, 0, 0, 0, 0, 0, 0, 0, 0, 0, 0, 0, 0, 0, 0, 0, 0, 0, 0, 0, 0, 0, 0, 0, 0, 0, 0, 0, 0, 0, 0, 0, 0, 0, 0, 0, 0, 0, 0, 0, 0, 0, 0, 0, 0, 0, 0, 0, 0, 0, 0, 0, 0, 0, 0, 0, 0, 0, 0, 0, 0, 0, 0, 0, 0, 0, 0, 0, 0, 0, 0, 0, 0, 0, 0, 0, 0, 0, 0, 0, 0, 0, 0, 0, 0, 0, 0, 0, 0, 0, 0, 0, 0, 0, 0, 0, 0, 0, 0, 0, 0, 0, 0, 0, 0, 0, 0, 0, 0, 0, 0, 0, 0, 0, 0, 0, 0, 0, 0, 0, 0, 0, 0, 0, 0, 0, 1, 0, 0, 0, 0, 0, 0, 0, 0, 0, 0, 0, 0, 0, 0, 0, 0, 0, 0, 0, 0, 0, 0, 0, 0, 0, 0, 0, 0, 0, 0, 0, 0, 0, 0, 0, 0, 0, 0, 0, 0, 0, 0, 0, 0, 0, 0, 0, 0, 0, 0, 0, 0, 0, 0, 0, 1, 0, 0, 0, 0, 0, 0, 0, 0, 0, 0, 0, 0, 0, 0, 0, 0, 0, 0, 0, 0, 0, 0, 0, 0, 0, 0, 0, 0, 0, 0, 0, 0, 0, 0, 0, 0, 0, 0, 0, 0, 0, 0, 0, 0, 0, 0, 0, 0, 0, 0, 0, 0, 0, 0, 0, 0, 0, 0, 0, 0, 0, 0, 0, 0, 0, 0, 0, 0, 0, 0, 0, 0, 0, 0, 0, 0, 0, 0, 0, 0, 0, 0, 0, 0, 0, 0, 0, 0, 0, 0, 0, 0, 0, 0, 0, 0, 0, 0, 0, 0, 0, 0, 0, 0, 0, 0, 0, 0, 0, 0, 0, 0, 0, 0, 0, 0, 0, 0, 0, 0, 0, 0, 0, 0, 0, 0, 0, 0, 0, 0, 0, 0, 0, 0, 0, 0, 0, 0, 0, 0, 0, 0, 0, 0, 0, 0, 0, 0, 0, 0, 0, 0, 0, 0, 0, 0, 0, 0, 0, 0, 0, 0, 0, 0, 0, 0, 0, 0, 0, 0, 0, 0, 0, 0, 0, 0, 0, 0, 0, 0, 0, 0, 0, 0, 0, 0, 0, 0, 0, 0, 0, 0, 0, 0, 0, 0, 0, 0, 0, 0, 0, 0, 0, 0, 0, 0, 0, 0, 0, 0, 0, 0, 0, 0, 0, 0, 0, 0, 0, 0, 0, 0, 0, 0, 0, 0, 0, 0, 0, 0, 0, 0, 0, 0, 0, 0, 0, 0, 0, 0, 0, 0, 0, 0, 0, 0, 0, 0, 0, 0, 0, 0, 0, 0, 0, 0, 0, 0, 0, 0, 0, 0, 0, 0, 0, 0, 0, 0, 0, 0, 0, 0, 0, 0, 0, 0, 0, 0, 0, 0, 0, 0, 0, 0, 0, 0, 0, 0, 0, 0, 0, 0, 0, 0, 0, 0, 0, 0, 0, 0, 0, 0, 0, 0, 0, 0, 0, 0, 0, 0, 0, 0, 0, 0, 0, 0, 0, 0, 0, 0, 0, 0, 0, 0, 0, 0, 0, 0, 0, 0, 0, 0, 0, 0, 0, 0, 0, 0, 0, 0, 0, 0, 0, 0, 0, 0, 0, 0, 0, 0, 0, 0, 0, 0, 0, 0, 0, 0, 0, 0, 0, 0, 0, 0, 0, 0, 0, 0, 0, 0, 0, 0, 0, 0, 0, 0, 0, 0, 0, 0, 0, 0, 0, 0, 0, 0, 0, 0, 0, 0, 0, 0, 0, 0, 0, 0, 0, 0, 0, 0, 0, 0, 0, 0, 0, 0, 0, 0, 0, 0, 0, 0, 0, 0, 0, 0, 0, 0, 0, 0, 0, 0, 0, 0, 0, 0, 0, 0, 0, 0, 0, 0, 0, 0, 0, 0, 0, 0, 0, 0, 0, 0, 0, 0, 0, 0, 0, 0, 0, 0, 0, 0, 0, 0, 0, 0, 0, 0, 0, 0, 0, 0, 0, 0, 0, 0, 0, 0, 0, 0, 0, 0, 0, 0, 0, 0, 0, 0, 0, 0, 0, 0, 0, 0, 0, 0, 0, 0, 0, 0, 0, 0, 0, 0, 0, 0, 0, 0, 0, 0, 0, 0, 0, 0, 0, 0, 0, 0, 0, 0, 0, 0, 0, 0, 0, 0, 0, 0, 0, 0, 0, 0, 0, 0, 0, 0, 0, 0, 0, 0, 0, 0, 0, 0, 0, 0, 0, 0, 0, 0, 0, 0, 0, 0, 0, 0, 0, 0, 0, 0, 0, 0, 0, 0, 0, 0, 0, 0, 0, 0, 0, 0, 0, 0, 0, 0, 0, 0, 0, 0, 0, 0, 0, 0, 0, 0, 0, 0, 0, 0, 0, 0, 0, 0, 0, 0, 0, 0, 0, 0, 0, 0, 0, 0, 0, 0, 0, 0, 0, 0, 0, 0, 0, 0, 0, 0, 0, 0, 0, 0, 0, 0, 0, 0, 0, 0, 0, 0, 0, 0, 0, 0, 0, 0, 0, 0, 0, 0, 0, 0, 0, 0, 0, 0, 0, 0, 0, 0, 0, 0, 0, 0, 0, 0, 0, 0, 0, 0, 0, 0, 0, 0, 0, 0, 0, 0, 0, 0, 0, 0, 0, 0, 0, 0, 0, 0, 0, 0, 0, 0, 0, 0, 0, 0, 0, 0, 0, 0, 0, 0, 0, 1, 0, 0, 0, 0, 0, 0, 0, 0, 0, 0, 0, 0, 0, 0, 0, 0, 0, 0, 0, 0, 0, 0, 0, 0, 0, 0, 0, 0, 0, 0, 0, 0, 0, 0, 0, 0, 0, 0, 0, 0, 0, 0, 0, 0, 0, 0, 0, 0, 0, 0, 0, 0, 0, 0, 0, 0, 0, 0, 0, 0, 0, 0, 0, 0, 0, 0, 0, 0, 0, 0, 0, 0, 0, 0, 1, 0, 0, 0, 0, 0, 0, 0, 0, 0, 0, 0, 0, 0, 0, 0, 0, 0, 0, 0, 0, 1, 0, 0, 1, 0, 0, 0, 0, 0, 0, 0, 0, 0, 0, 0, 0, 0, 0, 0, 0, 0, 0, 0, 0, 0, 0, 0, 0, 0, 0, 0, 0, 0, 0, 0, 0, 0, 0, 0, 0, 0, 0, 0, 0, 0, 0, 0, 0, 0, 0, 0, 0, 0, 0, 0, 0, 0, 0, 0, 0, 0, 0, 0, 0, 0, 0, 0, 0, 0, 0, 0, 0, 0, 0, 0, 0, 0, 0, 0, 0, 0, 0, 0, 0, 0, 0, 0, 0, 0, 0, 0, 0, 0, 0, 0, 0, 0, 0, 0, 0, 0, 0, 0, 0, 0, 0, 0, 0, 0, 0, 0, 0, 0, 0, 0, 0, 0, 0, 0, 0, 0, 0, 0, 0, 0, 0, 0, 0, 0, 0, 0, 0, 0, 0, 0, 0, 0, 0, 0, 0, 0, 0, 0, 0, 0, 0, 0, 0, 0, 0, 0, 0, 0, 0, 0, 0, 0, 0, 0, 0, 0, 0, 0, 0, 0, 0, 0, 0, 0, 0, 0, 0, 0, 0, 0, 0, 0, 0, 0, 0, 0, 0, 0, 0, 0, 0, 0, 0, 0, 0, 0, 0, 0, 0, 0, 0, 0, 0, 0, 0, 0, 0, 0, 0, 0, 0, 0, 0, 0, 0, 0, 0, 0, 0, 0, 0, 0, 0, 0, 0, 0, 0, 0, 0, 0, 0, 0, 0, 0, 0, 0, 0, 0, 0, 0, 0, 0, 0, 0, 0, 0, 0, 0, 0, 0, 0, 0, 0, 0, 0, 0, 0, 0, 0, 0, 0, 0, 0, 0, 0, 0, 0, 0, 0, 0, 0, 0, 0, 0, 0, 0, 0, 0, 0, 0, 0, 0, 0, 0, 0, 0, 0, 0, 0, 0, 0, 0, 0, 0, 0, 0, 0, 0, 0, 0, 0, 0, 0, 0, 0, 0, 0, 0, 0, 0, 0, 0, 0, 0, 0, 0, 0, 0, 0, 0, 0, 0, 0, 0, 0, 0, 0, 0, 0, 0, 0, 0, 0, 0, 0, 0, 0, 0, 0, 0, 0, 0, 0, 0, 0, 0, 0, 0, 0, 0, 0, 0, 0, 0, 0, 0, 0, 0, 0, 0, 0, 0, 0, 0, 0, 0, 0, 0, 0, 0, 0, 0, 0, 0, 0, 0, 0, 0, 0, 0, 0, 0, 0, 0, 0, 0, 0, 0, 0, 0, 0, 0, 0, 0, 0, 0, 0, 0, 0, 0, 0, 0, 0, 0, 0, 0, 0, 0, 0, 0, 0, 0, 0, 0, 0, 0, 0, 0, 0, 0, 0, 0, 0, 0, 0, 0, 0, 0, 0, 0, 0, 0, 0, 0, 0, 0, 0, 0, 0, 0, 0, 0, 0, 0, 0, 0, 0, 0, 0, 0, 0, 0, 0, 0, 0, 0, 0, 0, 0, 0, 0, 0, 0, 0, 0, 0, 0, 0, 0, 0, 0, 0, 0, 0, 0, 1, 0, 0, 0, 0, 0, 0, 0, 0, 0, 0, 0, 0, 0, 0, 0, 0, 0, 0, 0, 0, 0, 0, 0, 0, 0, 0, 0, 0, 0, 0, 0, 0, 0, 0, 0, 0, 0, 0, 0, 0, 0, 0, 0, 0, 0, 0, 0, 0, 0, 0, 0, 0, 0, 0, 0, 0, 0, 0, 0, 0, 0, 0, 0, 0, 0, 0, 0, 0, 0, 0, 0, 0, 0, 0, 0, 0, 0, 0, 0, 0, 0, 0, 0, 0, 0, 0, 0, 0, 0, 0, 0, 0, 0, 0, 0, 0, 0, 0, 0, 0, 0, 0, 0, 0, 0, 0, 0, 0, 0, 0, 0, 0, 0, 0, 0, 0, 0, 0, 0, 0, 0, 0, 0, 0, 0, 0, 0, 0, 0, 0, 0, 0, 0, 0, 0, 0, 0, 0, 0, 0, 0, 0, 0, 0, 0, 0, 0, 0, 0, 0, 0, 0, 0, 0, 0, 0, 0, 0, 0, 0, 0, 0, 0, 0, 0, 0, 0, 0, 0, 0, 0, 0, 0, 0, 0, 0, 0, 0, 0, 0, 0, 0, 0, 0, 0, 0, 0, 0, 0, 0, 0, 0, 0, 0, 0, 0, 0, 0, 0, 0, 0, 0, 0, 0, 0, 0, 0, 0, 0, 0, 0, 0, 0, 0, 0, 0, 0, 0, 0, 0, 0, 0, 0, 0, 0, 0, 0, 0, 0, 0, 0, 0, 0, 0, 0, 0, 0, 0, 0, 0, 0, 0, 0, 0, 0, 0, 0, 0, 0, 0, 0, 0, 0, 0, 0, 0, 0, 0, 0, 0, 0, 0, 0, 0, 0, 0, 0, 0, 0, 0, 0, 0, 0, 0, 0, 0, 0, 0, 0, 0, 0, 0, 0, 0, 0, 0, 0, 0, 0, 0, 0, 0, 0, 0, 0, 0, 0, 0, 0, 0, 0, 0, 0, 0, 0, 0, 0, 0, 0, 0, 0, 0, 0, 0, 0, 0, 0, 0, 0, 0, 0, 0, 0, 0, 0, 0, 0, 0, 0, 0, 0, 0, 0, 0, 0, 0, 0, 0, 0, 0, 0, 0, 0, 0, 0, 0, 0, 0, 0, 0, 0, 0, 0, 0, 0, 0, 0, 0, 0, 0, 0, 0, 0, 0, 0, 0, 0, 0, 0, 0, 0, 0, 0, 0, 0, 0, 0, 0, 0, 0, 0, 0, 0, 0, 0, 0, 0, 0, 0, 0, 0, 0, 0, 0, 0, 0, 0, 0, 0, 0, 0, 0, 0, 0, 0, 0, 0, 0, 0, 0, 0, 0, 0, 0, 0, 0, 0, 0, 0, 0, 0, 0, 0, 0, 0, 0, 0, 0, 0, 0, 0, 0, 0, 0, 0, 0, 0, 0, 0, 0, 0, 0, 0, 0, 0, 0, 0, 0, 0, 0, 0, 0, 0, 0, 0, 0, 0, 0, 0, 0, 0, 0, 0, 0, 0, 0, 0, 0, 0, 0, 0, 0, 0, 0, 0, 0, 0, 0, 0, 0, 0, 0, 0, 0, 0, 0, 0, 0, 0, 0, 0, 0, 0, 0, 0, 0, 0, 0, 0, 0, 0, 0, 0, 0, 0, 0, 0, 0, 0, 0, 0, 0, 1, 0, 0, 0, 0, 0, 0, 0, 0, 0, 0, 0, 0, 0, 0, 0, 0, 0, 0, 0, 0, 0, 0, 0, 0, 0, 0, 0, 0, 0, 0, 0, 0, 0, 0, 0, 2, 0, 0, 0, 0, 0, 0, 0, 0, 0, 0, 0, 0, 0, 0, 0, 0, 0, 0, 0, 0, 0, 0, 0, 0, 0, 0, 0, 0, 0, 0, 0, 0, 0, 0, 0, 0, 0, 0, 0, 0, 1, 0, 0, 0, 0, 0, 0, 0, 0, 0, 0, 0, 0, 0, 0, 0, 0, 0, 0, 0, 0, 0, 0, 0, 0, 0, 0, 0, 0, 0, 0, 0, 0, 0, 0, 0, 0, 0, 0, 0, 0, 0, 0, 0, 0, 0, 0, 0, 0, 0, 0, 0, 0, 0, 0, 0, 0, 0, 0, 0, 0, 0, 0, 0, 0, 0, 0, 0, 0, 0, 0, 0, 0, 0, 0, 0, 0, 0, 0, 0, 0, 0, 0, 0, 0, 0, 0, 0, 0, 0, 0, 0, 0, 0, 0, 0, 0, 0, 0, 0, 0, 0, 0, 0, 0, 0, 0, 0, 0, 0, 0, 0, 0, 0, 0, 0, 0, 0, 0, 0, 0, 0, 0, 0, 0, 0, 0, 0, 0, 0, 0, 0, 0, 0, 0, 0, 0, 0, 0, 0, 0, 0, 0, 0, 0, 0, 0, 0, 0, 0, 0, 0, 0, 0, 0, 0, 0, 0, 0, 0, 0, 0, 0, 0, 0, 0, 0, 0, 0, 0, 0, 0, 0, 0, 0, 0, 0, 0, 0, 0, 0, 0, 0, 0, 0, 0, 0, 0, 0, 0, 0, 0, 0, 0, 0, 0, 0, 0, 0, 0, 0, 0, 0, 0, 0, 0, 0, 0, 0, 0, 0, 0, 0, 0, 0, 0, 0, 0, 0, 0, 0, 0, 0, 0, 0, 0, 0, 0, 0, 0, 0, 0, 0, 0, 0, 0, 0, 0, 0, 0, 0, 0, 0, 0, 0, 0, 0, 0, 0, 0, 0, 0, 0, 0, 0, 0, 0, 0, 0, 0, 0, 0, 0, 0, 0, 0, 0, 0, 0, 0, 0, 0, 0, 0, 0, 0, 0, 0, 0, 0, 0, 0, 0, 0, 0, 0, 0, 0, 0, 0, 0, 0, 0, 0, 0, 0, 0, 0, 0, 0, 0, 0, 0, 0, 0, 0, 0, 0, 0, 0, 0, 0, 0, 0, 0, 0, 0, 0, 0, 0, 0, 0, 0, 0, 0, 0, 0, 0, 0, 0, 0, 0, 0, 0, 0, 0, 0, 0, 0, 0, 0, 0, 0, 0, 0, 0, 0, 0, 0, 0, 0, 0, 0, 0, 0, 0, 0, 0, 0, 0, 0, 0, 0, 0, 0, 0, 0, 0, 0, 0, 0, 0, 0, 0, 0, 0, 0, 0, 0, 0, 0, 0, 0, 0, 0, 0, 0, 0, 0, 0, 0, 0, 0, 0, 0, 0, 0, 0, 0, 0, 0, 0, 0, 0, 0, 0, 0, 0, 0, 0, 0, 0, 0, 0, 0, 0, 0, 0, 0, 0, 0, 0, 0, 0, 0, 0, 0, 0, 0, 0, 0, 0, 0, 0, 0, 0, 0, 0, 0, 0, 0, 0, 0, 0, 0, 0, 0, 0, 0, 0, 0, 0, 0, 0, 0, 0, 0, 0, 0, 0, 0, 0, 0, 0, 0, 0, 0, 0, 0, 0, 0, 0, 0, 0, 0, 0, 0, 0, 0, 0, 0, 0, 0, 0, 0, 0, 0, 0, 0, 0, 0, 0, 0, 0, 0, 0, 0, 0, 1, 0, 0, 0, 0, 0, 0, 0, 0, 0, 0, 0, 0, 0, 0, 0, 0, 0, 0, 0, 0, 0, 0, 0, 0, 0, 0, 0, 0, 0, 0, 0, 0, 0, 0, 0, 0, 0, 0, 0, 0, 0, 0, 0, 0, 0, 0, 0, 0, 0, 0, 0, 0, 0, 0, 0, 0, 0, 0, 0, 0, 0, 0, 0, 0, 0, 0, 0, 0, 0, 0, 0, 0, 0, 0, 0, 0, 0, 0, 0, 0, 0, 0, 0, 0, 0, 0, 0, 0, 0, 0, 0, 0, 0, 0, 0, 0, 0, 0, 0, 0, 0, 0, 0, 0, 0, 0, 0, 0, 0, 0, 2, 0, 0, 0, 0, 0, 0, 0, 0, 0, 0, 0, 0, 0, 0, 0, 0, 0, 0, 0, 0, 0, 0, 0, 0, 0, 0, 0, 0, 0, 0, 0, 0, 0, 0, 0, 0, 0, 0, 0, 0, 0, 0, 0, 0, 0, 0, 0, 0, 0, 0, 0, 0, 0, 0, 0, 0, 0, 0, 0, 0, 0, 0, 0, 0, 0, 0, 0, 0, 0, 0, 0, 0, 0, 0, 0, 0, 0, 0, 0, 0, 0, 0, 0, 0, 0, 0, 0, 0, 0, 0, 0, 0, 0, 0, 0, 0, 0, 0, 0, 0, 0, 0, 0, 0, 0, 0, 0, 0, 0, 0, 0, 0, 0, 0, 0, 0, 0, 0, 0, 0, 0, 0, 0, 0, 0, 0, 0, 0, 0, 0, 0, 0, 0, 0, 0, 0, 0, 0, 0, 0, 0, 0, 0, 0, 0, 0, 0, 0, 0, 0, 0, 0, 0, 0, 0, 0, 0, 0, 0, 0, 0, 0, 0, 0, 0, 0, 0, 0, 0, 0, 0, 0, 0, 0, 0, 0, 0, 0, 0, 0, 0, 0, 0, 0, 0, 0, 0, 0, 0, 0, 0, 0, 0, 0, 0, 0, 0, 0, 0, 0, 0, 0, 0, 0, 0, 0, 0, 0, 0, 0, 0, 0, 0, 0, 0, 0, 0, 0, 0, 0, 0, 0, 0, 0, 0, 0, 0, 0, 0, 0, 0, 0, 0, 0, 0, 0, 0, 0, 0, 0, 0, 0, 0, 0, 0, 0, 0, 0, 0, 0, 0, 0, 0, 0, 0, 0, 0, 0, 0, 0, 0, 0, 0, 0, 0, 0, 0, 0, 0, 0, 0, 0, 0, 0, 0, 0, 0, 0, 0, 0, 0, 0, 0, 0, 0, 0, 0, 0, 0, 0, 0, 0, 0, 0, 0, 0, 0, 0, 0, 0, 0, 0, 0, 0, 0, 0, 0, 0, 0, 0, 0, 0, 0, 0, 0, 0, 0, 0, 0, 0, 0, 0, 0, 0, 0, 0, 0, 0, 0, 0, 0, 0, 0, 0, 0, 0, 0, 0, 0, 0, 0, 0, 0, 0, 0, 0, 0, 0, 0, 0, 0, 0, 0, 0, 0, 0, 0, 0, 0, 0, 0, 0, 0, 0, 0, 0, 0, 0, 0, 0, 0, 0, 0, 0, 0, 0, 0, 0, 0, 0, 0, 0, 0, 0, 0, 0, 0, 0, 0, 0, 0, 0, 0, 0, 0, 0, 0, 0, 0, 0, 0, 0, 0, 0, 0, 0, 0, 0, 0, 0, 0, 0, 0, 0, 0, 0, 0, 0, 0, 0, 0, 0, 0, 0, 0, 0, 0, 0, 0, 0, 0, 0, 0, 0, 0, 0, 0, 0, 0, 0, 0, 0, 0, 0, 0, 0, 0, 0, 0, 0, 0, 0, 0, 0, 0, 0, 0, 0, 0, 0, 0, 0, 0, 0, 0, 0, 0, 0, 0, 0, 0, 0, 0, 0, 0, 0, 0, 0, 0, 0, 0, 0, 0, 0, 0, 0, 0, 0, 0, 0, 0, 0, 0, 0, 0, 0, 0, 0, 0, 0, 0, 0, 0, 0, 0, 0, 0, 0, 0, 0, 0, 0, 0, 0, 0, 0, 0, 0, 0, 0, 0, 0, 0, 0, 0, 0, 0, 0, 0, 0, 0, 0, 0, 0, 0, 0, 0, 0, 0, 0, 0, 0, 0, 0, 0, 0, 0, 0, 0, 0, 0, 0, 0, 0, 0, 0, 0, 0, 0, 0, 0, 0, 0, 0, 0, 0, 0, 0, 0, 0, 0, 0, 0, 0, 0, 0, 0, 0, 0, 0, 0, 0, 0, 0, 0, 0, 0, 0, 0, 0, 0, 0, 0, 0, 0, 0, 0, 0, 0, 0, 0, 0, 0, 0, 0, 0, 0, 0, 0, 0, 0, 0, 0, 0, 0, 0, 0, 0, 0, 0, 0, 0, 0, 0, 0, 0, 0, 0, 0, 0, 0, 0, 0, 0, 0, 0, 0, 0, 0, 0, 0, 0, 0, 0, 0, 0, 0, 0, 0, 0, 0, 0, 0, 0, 0, 0, 0, 0, 0, 0, 0, 0, 0, 0, 0, 0, 0, 0, 0, 0, 0, 0, 0, 0, 0, 0, 0, 0, 0, 0, 0, 0, 0, 0, 0, 0, 0, 0, 0, 0, 1, 0, 0, 0, 0, 0, 0, 0, 0, 0, 0, 0, 0, 0, 0, 0, 0, 0, 0, 0, 0, 0, 0, 0, 0, 0, 0, 0, 0, 0, 0, 0, 0, 0, 0, 0, 0, 0, 0, 0, 0, 0, 0, 0, 0, 0, 0, 0, 0, 0, 0, 0, 0, 0, 0, 0, 0, 0, 0, 0, 0, 0, 0, 0, 0, 0, 0, 0, 0, 0, 0, 0, 0, 0, 0, 0, 0, 0, 0, 0, 0, 0, 0, 0, 0, 0, 0, 0, 0, 0, 0, 0, 0, 0, 0, 0, 0, 0, 0, 0, 0, 0, 0, 0, 0, 0, 0, 0, 1, 0, 0, 0, 0, 0, 0, 0, 0, 0, 0, 0, 0, 0, 0, 0, 0, 0, 0, 0, 0, 0, 0, 0, 0, 0, 0, 0, 0, 0, 0, 0, 0, 0, 0, 0, 0, 0, 0, 0, 0, 0, 0, 0, 0, 0, 0, 0, 0, 0, 0, 0, 0, 0, 0, 0, 0, 0, 0, 0, 0, 0, 0, 0, 0, 0, 0, 0, 0, 0, 0, 0, 0, 0, 0, 0, 0, 0, 0, 0, 0, 0, 0, 0, 0, 0, 0, 0, 0, 0, 0, 0, 0, 0, 0, 0, 0, 0, 0, 0, 0, 0, 0, 0, 0, 0, 0, 0, 0, 0, 0, 0, 0, 0, 0, 0, 0, 0, 0, 0, 0, 0, 0, 0, 0, 0, 0, 0, 0, 0, 0, 0, 0, 0, 0, 0, 0, 0, 0, 0, 0, 0, 0, 0, 0, 0, 0, 0, 0, 0, 0, 0, 0, 0, 0, 0, 0, 0, 0, 0, 0, 0, 0, 0, 0, 0, 0, 0, 0, 0, 0, 0, 0, 0, 0, 0, 0, 0, 0, 0, 0, 0, 0, 0, 0, 0, 0, 0, 0, 0, 0, 0, 0, 0, 0, 0, 0, 0, 0, 0, 0, 0, 0, 0, 0, 0, 0, 0, 0, 0, 0, 0, 0, 0, 0, 0, 0, 0, 0, 0, 0, 0, 0, 0, 0, 0, 0, 0, 0, 0, 0, 0, 0, 0, 0, 0, 0, 0, 0, 0, 0, 0, 0, 0, 0, 0, 0, 0, 0, 0, 0, 0, 0, 0, 0, 0, 0, 0, 0, 0, 0, 0, 0, 0, 0, 0, 0, 0, 0, 0, 0, 0, 0, 0, 0, 0, 0, 0, 0, 0, 0, 0, 0, 0, 0, 0, 0, 0, 0, 0, 0, 0, 0, 0, 0, 0, 0, 0, 0, 0, 0, 0, 0, 0, 0, 0, 0, 0, 0, 0, 0, 0, 0, 0, 0, 0, 0, 0, 0, 0, 0, 0, 0, 0, 0, 0, 0, 0, 0, 0, 0, 0, 0, 0, 0, 0, 0, 0, 0, 0, 0, 0, 0, 0, 0, 0, 0, 0, 0, 0, 0, 0, 0, 0, 0, 0, 0, 0, 0, 0, 0, 0, 0, 0, 0, 0, 0, 0, 0, 0, 0, 0, 0, 0, 0, 0, 0, 0, 0, 0, 0, 0, 0, 0, 0, 0, 0, 0, 0, 0, 0, 0, 0, 0, 0, 0, 0, 0, 0, 0, 0, 0, 0, 0, 0, 0, 0, 0, 0, 0, 0, 0, 0, 0, 0, 0, 0, 0, 0, 0, 0, 0, 0, 0, 0, 0, 0, 0, 0, 0, 0, 0, 0, 0, 0, 0, 0, 0, 0, 0, 0, 0, 0, 0, 0, 0, 0, 0, 0, 0, 0, 0, 0, 0, 0, 0, 0, 0, 0, 0, 0, 0, 0, 0, 2, 0, 1, 0], type: <class 'list'>, valid types: <class 'bytes'>, <class 'bytearray'>, file-like object"
     ]
    }
   ],
   "source": [
    "response = runtime.invoke_endpoint(EndpointName = xgb_predictor.endpoint, # The name of the endpoint we created\n",
    "                                       ContentType = 'text/csv',                     # The data format that is expected\n",
    "                                       Body = test_bow)"
   ]
  },
  {
   "cell_type": "markdown",
   "metadata": {},
   "source": [
    "So why did we get an error?\n",
    "\n",
    "Because we tried to send the endpoint a list of integers but it expected us to send data of type `text/csv`. So, we need to convert it."
   ]
  },
  {
   "cell_type": "code",
   "execution_count": 50,
   "metadata": {},
   "outputs": [],
   "source": [
    "response = runtime.invoke_endpoint(EndpointName = xgb_predictor.endpoint, # The name of the endpoint we created\n",
    "                                       ContentType = 'text/csv',                     # The data format that is expected\n",
    "                                       Body = ','.join([str(val) for val in test_bow]).encode('utf-8'))"
   ]
  },
  {
   "cell_type": "code",
   "execution_count": 51,
   "metadata": {},
   "outputs": [
    {
     "name": "stdout",
     "output_type": "stream",
     "text": [
      "{'ResponseMetadata': {'RequestId': '8604b873-6e90-494d-b1d6-b78bcc8a527f', 'HTTPStatusCode': 200, 'HTTPHeaders': {'x-amzn-requestid': '8604b873-6e90-494d-b1d6-b78bcc8a527f', 'x-amzn-invoked-production-variant': 'AllTraffic', 'date': 'Mon, 17 Aug 2020 02:26:49 GMT', 'content-type': 'text/csv; charset=utf-8', 'content-length': '14'}, 'RetryAttempts': 0}, 'ContentType': 'text/csv; charset=utf-8', 'InvokedProductionVariant': 'AllTraffic', 'Body': <botocore.response.StreamingBody object at 0x7f929f841cc0>}\n"
     ]
    }
   ],
   "source": [
    "print(response)"
   ]
  },
  {
   "cell_type": "markdown",
   "metadata": {},
   "source": [
    "As we can see, the response from our model is a somewhat complicated looking dict that contains a bunch of information. The bit that we are most interested in is `'Body'` object which is a streaming object that we need to `read` in order to make use of."
   ]
  },
  {
   "cell_type": "code",
   "execution_count": 52,
   "metadata": {},
   "outputs": [
    {
     "name": "stdout",
     "output_type": "stream",
     "text": [
      "0.357903569937\n"
     ]
    }
   ],
   "source": [
    "response = response['Body'].read().decode('utf-8')\n",
    "print(response)"
   ]
  },
  {
   "cell_type": "markdown",
   "metadata": {},
   "source": [
    "Now that we know how to process the incoming user data we can start setting up the infrastructure to make our simple web app work. To do this we will make use of two different services. Amazon's Lambda and API Gateway services.\n",
    "\n",
    "Lambda is a service which allows someone to write some relatively simple code and have it executed whenever a chosen trigger occurs. For example, you may want to update a database whenever new data is uploaded to a folder stored on S3.\n",
    "\n",
    "API Gateway is a service that allows you to create HTTP endpoints (url addresses) which are connected to other AWS services. One of the benefits to this is that you get to decide what credentials, if any, are required to access these endpoints.\n",
    "\n",
    "In our case we are going to set up an HTTP endpoint through API Gateway which is open to the public. Then, whenever anyone sends data to our public endpoint we will trigger a Lambda function which will send the input (in our case a review) to our model's endpoint and then return the result."
   ]
  },
  {
   "cell_type": "markdown",
   "metadata": {},
   "source": [
    "### Setting up a Lambda function\n",
    "\n",
    "The first thing we are going to do is set up a Lambda function. This Lambda function will be executed whenever our public API has data sent to it. When it is executed it will receive the data, perform any sort of processing that is required, send the data (the review) to the SageMaker endpoint we've created and then return the result.\n",
    "\n",
    "#### Part A: Create an IAM Role for the Lambda function\n",
    "\n",
    "Since we want the Lambda function to call a SageMaker endpoint, we need to make sure that it has permission to do so. To do this, we will construct a role that we can later give the Lambda function.\n",
    "\n",
    "Using the AWS Console, navigate to the **IAM** page and click on **Roles**. Then, click on **Create role**. Make sure that the **AWS service** is the type of trusted entity selected and choose **Lambda** as the service that will use this role, then click **Next: Permissions**.\n",
    "\n",
    "In the search box type `sagemaker` and select the check box next to the **AmazonSageMakerFullAccess** policy. Then, click on **Next: Review**.\n",
    "\n",
    "Lastly, give this role a name. Make sure you use a name that you will remember later on, for example `LambdaSageMakerRole`. Then, click on **Create role**."
   ]
  },
  {
   "cell_type": "markdown",
   "metadata": {},
   "source": [
    "#### Part B: Create a Lambda function\n",
    "\n",
    "Now it is time to actually create the Lambda function. Remember from earlier that in order to process the user provided input and send it to our endpoint we need to gather two pieces of information:\n",
    "\n",
    " - The name of the endpoint, and\n",
    " - the vocabulary object.\n",
    "\n",
    "We will copy these pieces of information to our Lambda function after we create it.\n",
    "\n",
    "To start, using the AWS Console, navigate to the AWS Lambda page and click on **Create a function**. When you get to the next page, make sure that **Author from scratch** is selected. Now, name your Lambda function, using a name that you will remember later on, for example `sentiment_analysis_xgboost_func`. Make sure that the **Python 3.6** runtime is selected and then choose the role that you created in the previous part. Then, click on **Create Function**.\n",
    "\n",
    "On the next page you will see some information about the Lambda function you've just created. If you scroll down you should see an editor in which you can write the code that will be executed when your Lambda function is triggered. Collecting the code we wrote above to process a single review and adding it to the provided example `lambda_handler` we arrive at the following.\n",
    "\n",
    "```python\n",
    "# We need to use the low-level library to interact with SageMaker since the SageMaker API\n",
    "# is not available natively through Lambda.\n",
    "import boto3\n",
    "\n",
    "# And we need the regular expression library to do some of the data processing\n",
    "import re\n",
    "\n",
    "REPLACE_NO_SPACE = re.compile(\"(\\.)|(\\;)|(\\:)|(\\!)|(\\')|(\\?)|(\\,)|(\\\")|(\\()|(\\))|(\\[)|(\\])\")\n",
    "REPLACE_WITH_SPACE = re.compile(\"(<br\\s*/><br\\s*/>)|(\\-)|(\\/)\")\n",
    "\n",
    "def review_to_words(review):\n",
    "    words = REPLACE_NO_SPACE.sub(\"\", review.lower())\n",
    "    words = REPLACE_WITH_SPACE.sub(\" \", words)\n",
    "    return words\n",
    "    \n",
    "def bow_encoding(words, vocabulary):\n",
    "    bow = [0] * len(vocabulary) # Start by setting the count for each word in the vocabulary to zero.\n",
    "    for word in words.split():  # For each word in the string\n",
    "        if word in vocabulary:  # If the word is one that occurs in the vocabulary, increase its count.\n",
    "            bow[vocabulary[word]] += 1\n",
    "    return bow\n",
    "\n",
    "\n",
    "def lambda_handler(event, context):\n",
    "    \n",
    "    vocab = \"*** ACTUAL VOCABULARY GOES HERE ***\"\n",
    "    \n",
    "    words = review_to_words(event['body'])\n",
    "    bow = bow_encoding(words, vocab)\n",
    "\n",
    "    # The SageMaker runtime is what allows us to invoke the endpoint that we've created.\n",
    "    runtime = boto3.Session().client('sagemaker-runtime')\n",
    "\n",
    "    # Now we use the SageMaker runtime to invoke our endpoint, sending the review we were given\n",
    "    response = runtime.invoke_endpoint(EndpointName = '***ENDPOINT NAME HERE***',# The name of the endpoint we created\n",
    "                                       ContentType = 'text/csv',                 # The data format that is expected\n",
    "                                       Body = ','.join([str(val) for val in bow]).encode('utf-8')) # The actual review\n",
    "\n",
    "    # The response is an HTTP response whose body contains the result of our inference\n",
    "    result = response['Body'].read().decode('utf-8')\n",
    "    \n",
    "    # Round the result so that our web app only gets '1' or '0' as a response.\n",
    "    result = round(float(result))\n",
    "\n",
    "    return {\n",
    "        'statusCode' : 200,\n",
    "        'headers' : { 'Content-Type' : 'text/plain', 'Access-Control-Allow-Origin' : '*' },\n",
    "        'body' : str(result)\n",
    "    }\n",
    "```"
   ]
  },
  {
   "cell_type": "markdown",
   "metadata": {},
   "source": [
    "Once you have copy and pasted the code above into the Lambda code editor, replace the `**ENDPOINT NAME HERE**` portion with the name of the endpoint that we deployed earlier. You can determine the name of the endpoint using the code cell below."
   ]
  },
  {
   "cell_type": "code",
   "execution_count": 53,
   "metadata": {},
   "outputs": [
    {
     "data": {
      "text/plain": [
       "'xgboost-2020-08-17-01-54-36-186'"
      ]
     },
     "execution_count": 53,
     "metadata": {},
     "output_type": "execute_result"
    }
   ],
   "source": [
    "xgb_predictor.endpoint"
   ]
  },
  {
   "cell_type": "markdown",
   "metadata": {},
   "source": [
    "In addition, you will need to copy the vocabulary dict to the appropriate place in the code at the beginning of the `lambda_handler` method. The cell below prints out the vocabulary dict in a way that is easy to copy and paste."
   ]
  },
  {
   "cell_type": "code",
   "execution_count": 54,
   "metadata": {
    "scrolled": false
   },
   "outputs": [
    {
     "name": "stdout",
     "output_type": "stream",
     "text": [
      "{'when': 4862, 'was': 4805, 'genuinely': 1892, 'believed': 455, 'elvis': 1451, 'to': 4507, 'be': 418, 'the': 4426, 'king': 2479, 'of': 3083, 'rock': 3720, 'and': 226, 'roll': 3728, 'not': 3040, 'only': 3110, 'did': 1241, 'wish': 4904, 'see': 3855, 'all': 187, 'his': 2118, 'character': 758, 'movies': 2927, 'but': 636, 'it': 2366, 'my': 2951, 'own': 3158, 'them': 4432, 'too': 4522, 'what': 4858, 'an': 223, 'exceptionally': 1559, 'poor': 3328, 'excuse': 1564, 'for': 1784, 'year': 4978, 'old': 3100, 'must': 2950, 'have': 2052, 'been': 438, 'thankfully': 4422, 'sense': 3877, 'live': 2625, 'little': 2624, 'love': 2669, 'is': 2360, 'film': 1716, 'has': 2043, 'fallen': 1638, 'on': 3105, 'this': 4457, 'one': 3107, 'recently': 3567, 'since': 3990, 'version': 4720, 'top': 4525, 'song': 4071, 'less': 2575, 'conversation': 980, 'released': 3603, 'as': 311, 'single': 3996, 'first': 1736, 'reach': 3536, 'uk': 4626, 'ten': 4399, 'in': 2257, 'years': 4979, '25': 40, 'even': 1533, 'serious': 3891, 'need': 2987, 'help': 2079, 'that': 4424, 'songs': 4072, 'movie': 2926, 'werent': 4849, 'exactly': 1551, 'rate': 3526, 'however': 2183, '60s': 54, 'aside': 315, 'real': 3547, 'finding': 1727, 'lesser': 2576, 'known': 2492, 'relatively': 3600, 'small': 4033, 'few': 1700, 'are': 285, 'aware': 368, 'into': 2332, 'mainstream': 2709, 'mixture': 2878, 'emotions': 1461, 'its': 2370, 'nice': 3008, 'finally': 1724, 'faith': 1633, 'also': 199, 'your': 4991, 'private': 3404, 'cult': 1077, 'lyrics': 2692, 'though': 4461, 'other': 3135, 'contains': 964, 'word': 4937, 'really': 3556, 'me': 2778, 'about': 67, 'minutes': 2859, 'actually': 109, 'based': 404, 'novel': 3052, 'kiss': 2483, 'lips': 2615, 'kind': 2476, 'lame': 2510, 'would': 4957, 'sees': 3866, 'bored': 541, 'up': 4683, 'with': 4911, 'comedy': 890, 'dog': 1310, 'within': 4912, '90': 60, 'seconds': 3848, 'meeting': 2794, 'him': 2110, 'asks': 319, 'you': 4986, 'like': 2599, 'make': 2713, 'quite': 3495, 'fast': 1661, 'by': 642, 'any': 256, 'standards': 4145, 'im': 2232, 'sure': 4308, 'youll': 4988, 'agree': 155, 'do': 1302, 'seem': 3861, 'recall': 3562, 'some': 4061, 'early': 1400, 'most': 2909, 'notably': 3042, 'bad': 382, 'just': 2437, 'being': 448, 'fired': 1735, 'from': 1840, 'newspaper': 3006, 'job': 2405, 'can': 665, 'lead': 2545, 'five': 1743, 'minute': 2858, 'fight': 1707, 'couple': 1016, 'causing': 726, 'pile': 3275, 'good': 1937, 'laugh': 2529, 'models': 2881, 'dress': 1357, 'pink': 3277, 'theres': 4440, 'dream': 1354, 'sequence': 3887, 'gods': 1928, 'sake': 3775, 'maybe': 2776, 'dumb': 1385, 'stereotype': 4178, 'doesnt': 1309, 'having': 2054, 'many': 2732, 'four': 1812, 'choose': 799, 'including': 2264, 'credits': 1050, 'number': 3060, 'youre': 4992, 'waiting': 4772, 'average': 362, 'between': 475, 'tracks': 4545, 'become': 433, 'tunes': 4603, 'here': 2086, 'they': 4442, 'might': 2835, 'helped': 2080, 'pain': 3170, 'remaining': 3610, 'three': 4469, 'then': 4436, 'edge': 1418, 'reality': 3551, 'isnt': 2362, 'dance': 1103, 'surely': 4309, 'called': 652, 'bear': 420, 'trap': 4563, 'pg': 3250, '1968': 16, 'high': 2100, 'sexual': 3908, 'content': 966, 'sadly': 3769, 'talking': 4360, 'dogs': 1311, 'middle': 2833, 'america': 212, 'sitcom': 4004, 'values': 4710, 'dancing': 1107, 'ever': 1538, 'dignity': 1252, 'saw': 3798, 'impressive': 2253, 'now': 3054, 'seen': 3865, 'again': 146, 'friends': 1837, 'dvd': 1391, 'had': 2003, 'viewed': 4737, 'silver': 3977, 'screen': 3829, 'opinion': 3118, 'remains': 3611, 'same': 3778, 'subject': 4253, 'matter': 2769, 'performances': 3229, 'weak': 4824, 'those': 4460, 'nostalgia': 3038, 'things': 4451, 'never': 3001, 'expect': 1575, 'anyone': 259, 'else': 1448, 'get': 1899, 'am': 204, 'pleased': 3305, 'recommend': 3571, 'somebody': 4062, 'does': 1308, 'enjoy': 1484, 'late': 2523, 'father': 1666, 'hated': 2047, 'arthur': 305, 'he': 2056, 'enjoyed': 1486, 'consistent': 953, 'enthusiasm': 1501, 'ghost': 1902, 'train': 4556, 'ted': 4386, 'child': 789, 'later': 2525, 'watch': 4811, 'every': 1539, 'enjoying': 1487, 'always': 203, 'wonder': 4926, 'if': 2222, 'will': 4886, 'disappointed': 1273, 'there': 4438, 'much': 2934, 'truly': 4597, 'inspired': 2301, 'arrogant': 303, 'male': 2719, 'whole': 4873, 'section': 3853, 'station': 4164, 'amazing': 209, 'so': 4046, 'going': 1931, 'keep': 2449, 'yes': 4982, 'dated': 1119, 'full': 1846, 'accents': 79, 'plot': 3309, 'original': 3129, 'play': 3296, 'arnold': 296, 'army': 295, 'fame': 1642, 'wonderful': 4928, 'atmosphere': 333, 'near': 2979, 'sinister': 3998, 'vehicle': 4718, 'could': 1007, 'available': 361, 'cheap': 774, 'treat': 4572, 'yourself': 4993, 'perfect': 3224, 'saturday': 3792, 'sunday': 4293, 'morning': 2906, 'or': 3124, 'day': 1129, 'lazy': 2543, 'afternoon': 144, 'piece': 3272, 'entertainment': 1500, 'thank': 4421, 'college': 875, 'class': 833, 'india': 2273, 'synopsis': 4344, 'tells': 4397, 'thing': 4450, 'contain': 962, 'cold': 872, 'hard': 2033, 'information': 2288, 'details': 1219, 'true': 4596, 'until': 4680, 'very': 4723, 'end': 1468, 'where': 4864, 'try': 4600, 'tie': 4488, 'elements': 1443, 'together': 4511, 'gore': 1941, 'factor': 1622, 'superb': 4296, 'right': 3696, 'at': 331, 'beginning': 443, 'want': 4788, 'look': 2646, 'away': 369, 'because': 432, 'pretty': 3384, 'intense': 2316, 'cool': 989, 'thin': 4449, 'sad': 3767, 'wasted': 4809, 'time': 4495, 'listening': 2620, 'ive': 2372, 'events': 1536, 'find': 1726, 'basically': 407, 'waste': 4808, 'after': 143, 'fall': 1637, 'last': 2521, 'great': 1964, 'world': 4946, 'new': 3003, 'dark': 1115, 'age': 148, 'their': 4431, 'parts': 3199, 'cash': 709, 'female': 1693, 'travels': 4569, 'doctor': 1304, 'receive': 3563, 'news': 3005, 'she': 3923, 'pregnant': 3369, 'run': 3755, 'hunters': 2200, 'who': 4871, 'hunt': 2198, 'tries': 4585, 'her': 2085, 'way': 4820, 'third': 4455, 'far': 1653, 'entry': 1504, 'trilogy': 4586, 'originally': 3131, 'planned': 3290, 'sequel': 3885, 'masters': 2761, 'universe': 4666, 'quickly': 3491, 'standard': 4144, 'post': 3352, 'martial': 2747, 'arts': 310, 'fest': 1696, 'became': 431, 'something': 4066, 'classic': 835, 'due': 1382, 'cheesy': 781, 'action': 100, 'scenes': 3811, 'glass': 1917, 'shadow': 3912, 'improved': 2255, 'upon': 4684, 'widely': 4881, 'two': 4620, 'films': 1721, 'while': 4868, 'second': 3846, 'smart': 4035, 'story': 4207, 'unfortunately': 4654, 'falls': 1640, 'short': 3946, 'both': 547, 'budget': 610, 'obviously': 3072, 'lower': 2677, 'than': 4420, 'set': 3898, 'desert': 1198, '90s': 61, 'were': 4848, 'shot': 3949, 'around': 297, 'buildings': 616, 'costs': 1004, 'device': 1227, 'interesting': 2325, 'absurd': 73, 'idea': 2213, 'anime': 243, 'series': 3890, 'iii': 2227, 'uses': 4697, 'greater': 1965, 'extent': 1605, 'low': 2676, 'sci': 3815, 'fi': 1701, 'victim': 4729, 'fact': 1621, 'featured': 1679, 'nothing': 3047, 'more': 2904, 'visual': 4757, 'effects': 1431, 'amount': 219, 'arms': 294, 'makeup': 2717, 'acting': 99, 'actress': 105, 'worst': 4952, 'performer': 3231, 'display': 1291, 'instead': 2307, 'acts': 107, 'co': 867, 'stars': 4155, 'better': 472, 'usual': 4699, 'gangster': 1868, 'type': 4621, 'appears': 278, 'richard': 3686, 'lynch': 2691, 'lot': 2661, 'fun': 1848, 'chief': 788, 'villain': 4744, 'particular': 3194, 'note': 3044, 'andrew': 228, 'playing': 3300, 'hand': 2015, 'man': 2721, 'appear': 273, 'texas': 4418, 'massacre': 2754, 'remake': 3612, 'prequel': 3372, 'confusing': 942, 'sit': 4003, 'tight': 4492, 'ride': 3692, 'life': 2592, 'concept': 930, 'compelling': 916, 'tell': 4395, 'overall': 3150, 'fine': 1729, 'best': 469, 'cast': 710, 'no': 3020, 'surprise': 4312, 'ethan': 1528, 'deserves': 1201, 'credit': 1049, 'strong': 4229, 'performance': 3228, 'well': 4843, 'direction': 1261, 'mr': 2929, 'lumet': 2688, 'outstanding': 3147, 'seventies': 3904, 'feel': 1684, 'respect': 3652, 'taken': 4350, 'telling': 4396, 'unlike': 4670, 'majority': 2712, 'trite': 4589, 'landscape': 2513, 'today': 4508, 'thriller': 4472, 'relationships': 3598, 'rather': 3528, 'special': 4097, 'product': 3418, 'greatly': 1967, 'may': 2775, 'considered': 951, 'reason': 3557, 'out': 3141, 'place': 3282, 'wanted': 4789, 'beat': 423, '10': 0, 'role': 3726, 'actor': 103, 'oscar': 3133, 'still': 4188, 'given': 1913, 'paul': 3214, 'deserved': 1200, 'nomination': 3026, 'least': 2554, 'glad': 1916, 'check': 777, 'immensely': 2243, 'think': 4452, 'mind': 2849, 'especially': 1520, 'nominated': 3025, 'bette': 471, 'davis': 1126, 'george': 1893, 'oddly': 3081, 'eric': 1514, 'roberts': 3714, 'plays': 3301, 'odd': 3080, 'looking': 2648, 'boy': 557, 'talks': 4361, 'sort': 4077, 'characters': 760, 'name': 2960, 'funny': 1852, 'ending': 1471, 'which': 4867, 'forced': 1787, 'wrong': 4973, 'doing': 1312, 'reasons': 3560, 'worked': 4941, 'agreed': 156, 'why': 4878, 'felt': 1692, 'understood': 4647, 'couldnt': 1008, 'explain': 1586, 'message': 2819, 'makes': 2716, 'noble': 3021, 'scenery': 3810, 'meaning': 2780, 'house': 2178, 'beautiful': 428, 'excellent': 1555, 'chance': 747, 'finished': 1733, 'watching': 4815, 'excited': 1561, 'big': 478, 'fan': 1648, 'punk': 3468, 'horror': 2168, 'surprised': 4313, 'knew': 2486, 'wasnt': 4807, 'expecting': 1578, 'video': 4733, 'camera': 659, 'opens': 3115, 'underrated': 4642, 'band': 391, 'getting': 1901, 'killed': 2469, 'various': 4715, 'gruesome': 1986, 'ways': 4822, 'opening': 3114, 'problem': 3408, 'death': 1141, 'another': 250, 'gets': 1900, 'killer': 2470, 'use': 4692, 'body': 527, 'legs': 2566, 'brains': 563, 'dont': 1324, 'awesome': 371, 'hardcore': 2034, 'french': 1830, 'simply': 3986, 'named': 2961, 'scene': 3809, 'members': 2801, 'used': 4693, 'simple': 3983, 'plan': 3287, 'neither': 2996, 'bands': 392, 'enough': 1491, 'show': 3953, 'proud': 3444, 'hilarious': 2106, 'manner': 2729, 'save': 3794, 'future': 1856, 'comical': 894, 'terrible': 4407, 'lack': 2502, 'talent': 4354, 'actors': 104, 'tour': 4538, 'creator': 1043, 'kevin': 2457, 'suspect': 4327, 'didnt': 1242, 'addition': 118, 'sound': 4081, 'quality': 3484, 'subtitles': 4259, 'random': 3514, 'magic': 2703, 'sword': 4340, 'lloyd': 2630, 'devil': 1228, 'bottom': 551, 'line': 2610, 'qualities': 3483, 'anywhere': 263, 'decent': 1147, 'music': 2946, 'although': 201, 'turning': 4608, 'onto': 3111, 'otherwise': 3137, 'such': 4268, 'bomb': 531, 'insane': 2296, 'rent': 3626, '20': 29, 'next': 3007, '30': 42, 'go': 1924, 'features': 1680, 'videos': 4734, 'long': 2644, 'how': 2181, 'got': 1944, 'started': 4157, 'cartoon': 704, 'say': 3799, 'anything': 260, 'part': 3193, 'worth': 4953, 'blow': 514, 'seat': 3845, 'theme': 4433, 'favorite': 1671, 'liked': 2600, 'wing': 4896, 'course': 1019, 'ii': 2226, 'us': 4690, 'we': 4823, 'sometimes': 4067, 'lose': 2654, 'peace': 3219, 'believe': 454, 'gundam': 1997, 'trying': 4601, 'closing': 859, 'endless': 1473, 'history': 2121, 'comment': 898, 'church': 813, 'powerful': 3360, 'abuse': 74, 'people': 3221, 'families': 1644, 'allow': 189, 'often': 3095, 'without': 4913, 'thinking': 4453, 'themselves': 4435, 'catholic': 720, 'nature': 2975, 'propaganda': 3435, 'against': 147, 'seems': 3864, 'miss': 2866, 'truth': 4599, 'done': 1322, 'times': 4497, 'highlight': 2103, 'needs': 2990, 'should': 3951, 'committed': 905, 'brought': 600, 'tears': 4380, 'study': 4242, 'past': 3207, 'bound': 553, 'repeat': 3630, 'free': 1827, 'along': 195, 'smiling': 4037, 'shocking': 3940, 'women': 4923, 'treated': 4573, 'yet': 4984, 'ultimately': 4628, 'come': 886, 'through': 4477, 'concerned': 932, 'potentially': 3356, 'work': 4940, 'possibly': 3351, 'certainly': 738, 'natural': 2973, 'performs': 3234, 'difficult': 1249, 'sex': 3907, 'guys': 2001, 'half': 2007, 'lovely': 2671, 'throughout': 4478, 'initially': 2291, 'down': 1335, 'dirty': 1268, 'tale': 4353, 'tender': 4401, 'honest': 2146, 'picture': 3269, 'daring': 1114, 'demands': 1175, 'wow': 4962, 'elizabeth': 1445, 'enemy': 1477, 'speaks': 4096, 'russian': 3762, 'shes': 3930, 'babe': 375, 'zombie': 4997, 'eye': 1611, 'comes': 891, 'goes': 1930, 'doubt': 1332, 'realistic': 3550, 'revealing': 3672, 'wrestling': 4966, 'match': 2762, 'okay': 3099, 'probably': 3407, 'leave': 2555, 'off': 3084, 'response': 3654, 'produced': 3414, 'hour': 2176, 'force': 1786, 'behind': 447, 'success': 4265, 'buck': 605, 'naturally': 2974, 'producers': 3416, 'season': 3843, 'above': 68, 'nuclear': 3057, 'know': 2489, 'american': 213, 'soviet': 4089, 'left': 2561, 'twenty': 4612, 'tons': 4520, 'among': 217, 'destruction': 1216, 'take': 4349, 'politics': 3326, 'eventually': 1537, 'lucky': 2683, 'thats': 4425, 'talk': 4358, 'except': 1556, 'nonetheless': 3029, 'screenplay': 3831, 'entertaining': 1499, 'looked': 2647, 'truck': 4595, 'popular': 3333, 'war': 4792, 'passing': 3204, 'curious': 1083, 'appearance': 274, 'wise': 4903, 'guess': 1989, 'physically': 3263, 'regardless': 3590, 'appearances': 275, 'episode': 1507, 'watchable': 4812, 'jason': 2383, 'lee': 2559, 'bring': 585, 'silly': 3976, 'situation': 4008, 'fails': 1628, 'connect': 944, 'perhaps': 3235, 'julia': 2427, 'awkward': 374, 'sexy': 3911, 'soon': 4074, 'cousin': 1021, 'law': 2538, 'opposite': 3123, 'blair': 497, 'either': 1438, 'hollywood': 2137, 'caught': 722, 'pants': 3182, 'party': 3200, 'promise': 3430, 'deliver': 1169, 'laughs': 2534, 'miscast': 2862, 'sub': 4252, 'grade': 1951, 'material': 2766, 'topic': 4526, 'successful': 4266, 'ie': 2221, 'animal': 239, 'pie': 3271, 'ground': 1979, 'humor': 2192, 'stupidity': 4248, 'hal': 2006, 'tough': 4537, 'winter': 4900, 'our': 3139, 'gang': 1867, 'showcase': 3954, 'black': 493, 'comic': 893, 'letter': 2581, 'mail': 2706, 'told': 4513, 'read': 3543, 'cant': 671, 'during': 1387, 'night': 3013, 'school': 3813, 'happens': 2029, 'ears': 1402, 'hot': 2174, 'hear': 2061, 'room': 3735, 'mary': 2751, 'ann': 244, 'making': 2718, 'radio': 3504, 'keeps': 2451, 'running': 3756, 'back': 378, 'forth': 1804, 'kitchen': 2485, 'misses': 2868, 'lady': 2507, 'spanish': 4092, 'jackie': 2374, 'rest': 3657, 'awful': 372, 'substance': 4258, 'everyone': 1542, 'stuck': 4237, 'walls': 4783, 'result': 3660, 'clean': 838, 'mess': 2818, 'works': 4945, 'basement': 405, 'rings': 3699, 'described': 1195, 'served': 3894, 'pilot': 3276, 'potential': 3355, 'took': 4523, 'characterization': 759, 'amusing': 221, 'highly': 2105, 'offensive': 3086, 'final': 1722, 'results': 3662, 'blah': 496, 'summary': 4290, 'seeing': 3857, 'once': 3106, 'lincoln': 2608, 'perry': 3237, 'meets': 2795, 'gorgeous': 1942, 'dancer': 1104, 'bar': 396, 'drink': 1361, 'bed': 436, 'mother': 2911, 'calls': 654, 'karen': 2444, 'apartment': 265, 'desperately': 1209, 'finds': 1728, 'wedding': 4836, 'dinner': 1254, 'realizes': 3554, 'situations': 4009, 'attraction': 350, 'central': 735, 'trio': 4587, 'actresses': 106, 'extremely': 1610, 'amazingly': 210, 'laughed': 2532, 'example': 1553, 'imagination': 2236, 'buy': 640, 'neighbor': 2992, 'department': 1182, 'store': 4204, 'police': 3322, 'lots': 2662, 'vote': 4766, 'seven': 3903, 'title': 4504, 'crazy': 1035, 'business': 633, 'books': 536, 'peter': 3247, 'punch': 3466, 'combination': 883, 'family': 1645, 'each': 1395, 'road': 3709, 'trip': 4588, 'son': 4070, 'lives': 2628, 'crisis': 1060, 'fathers': 1667, 'sons': 4073, 'suppose': 4305, 'feeling': 1685, 'happen': 2026, 'over': 3148, 'fully': 1847, 'emotion': 1458, 'portrayed': 3342, 'eyes': 1613, 'others': 3136, 'taking': 4352, 'earlier': 1399, 'dracula': 1341, 'frankenstein': 1822, 'town': 4541, 'village': 4743, 'vampires': 4712, 'shape': 3919, 'cause': 723, 'recent': 3566, 'deaths': 1142, 'victims': 4730, 'universal': 4665, 'poverty': 3357, 'row': 3744, 'feature': 1678, 'fair': 1630, 'compare': 911, 'made': 2697, 'superior': 4300, 'familiar': 1643, 'exciting': 1563, 'chilling': 794, 'main': 2707, 'titles': 4506, 'arrival': 299, 'fay': 1674, 'give': 1912, '30s': 44, 'mystery': 2956, 'disappointment': 1275, 'formulaic': 1803, 'slow': 4031, 'pacing': 3163, 'overdone': 3152, 'presence': 3373, 'aunt': 355, 'premise': 3370, 'dr': 1340, 'von': 4765, 'human': 2188, 'blood': 512, 'control': 977, 'robert': 3713, 'clear': 839, 'daughter': 1121, 'before': 440, 'winner': 4897, 'comparison': 914, 'vampire': 4711, 'bat': 410, 'unnecessary': 4672, 'relief': 3605, 'focusing': 1769, 'strongly': 4231, 'besides': 468, 'museum': 2945, 'starring': 4154, 'famous': 1647, 'armed': 293, 'holmes': 2139, 'secret': 3849, 'weapon': 4828, 'steals': 4172, 'young': 4989, 'lovers': 2673, 'douglas': 1334, 'kissing': 2484, 'dragged': 1343, 'dangerous': 1110, 'game': 1864, '1933': 12, 'money': 2888, 'talents': 4356, 'chemistry': 782, 'disappointing': 1274, 'hes': 2093, 'barely': 399, 'unfunny': 4655, 'jokes': 2415, 'gag': 1861, 'jerk': 2395, 'someone': 4064, 'british': 589, 'accent': 78, 'convincing': 985, 'writing': 4971, 'poorly': 3329, 'directed': 1259, 'cliché': 844, 'williams': 4888, 'la': 2500, 'these': 4441, 'spend': 4105, 'drug': 1373, 'selling': 3873, 'bucks': 606, 'using': 4698, 'keaton': 2448, 'twilight': 4614, 'career': 686, 'choice': 797, 'talented': 4355, 'comedian': 887, 'silent': 3975, 'gives': 1914, 'travel': 4567, 'hooked': 2153, 'guy': 2000, 'living': 2629, 'modern': 2882, 'becomes': 434, 'obvious': 3071, 'able': 66, 'sight': 3969, 'gags': 1862, 'heard': 2062, 'voice': 4761, 'beach': 419, 'seemed': 3862, 'shows': 3960, 'ice': 2210, 'effective': 1429, 'lovable': 2668, 'nicely': 3009, 'shines': 3932, 'digital': 1251, 'design': 1202, 'traditional': 4550, 'animated': 241, 'designs': 1204, 'colour': 880, 'touches': 4535, 'shine': 3931, 'water': 4816, 'fantasy': 1652, 'loads': 2633, 'vast': 4716, 'landscapes': 2514, 'helps': 2082, 'technical': 4381, 'brilliance': 582, 'friendly': 1836, 'hilariously': 2107, 'illegal': 2229, 'stuff': 4243, 'sick': 3963, 'kinds': 2478, 'kid': 2464, '12': 3, 'sleep': 4024, 'woman': 4921, 'sorry': 4076, 'spoiler': 4123, 'gone': 1935, 'makers': 2715, 'society': 4050, 'filled': 1715, 'types': 4622, 'children': 792, 'behavior': 446, 'noticed': 3049, 'previous': 3387, 'asked': 317, 'showed': 3956, 'naked': 2959, 'asking': 318, 'porno': 3337, 'flick': 1754, 'insult': 2309, 'nor': 3032, 'represent': 3637, 'crimes': 1056, 'case': 707, 'says': 3801, 'gripping': 1976, 'killers': 2471, 'terror': 4412, 'suggest': 4280, 'happened': 2027, 'none': 3028, 'serial': 3889, 'crappy': 1032, 'honestly': 2147, 'accurate': 90, 'local': 2634, 'library': 2589, 'cheated': 775, 'tonight': 4519, 'etc': 1527, 'theater': 4427, '18': 10, 'directors': 1266, 'alexander': 180, 'wes': 4851, 'van': 4713, 'walter': 4784, 'gerard': 1895, 'several': 3905, 'international': 2326, 'forms': 1801, 'wood': 4933, 'steve': 4181, 'totally': 4532, 'maggie': 2702, 'nick': 3012, 'wrote': 4974, 'stories': 4205, 'romance': 3732, 'quirky': 3493, 'alex': 179, 'touching': 4536, 'herself': 2092, 'putting': 3482, 'spoken': 4126, 'sequences': 3888, 'english': 1483, 'actual': 108, 'art': 304, 'houses': 2180, 'colorful': 878, 'complex': 923, 'easy': 1410, 'follow': 1772, 'unless': 4669, 'desire': 1205, 'admit': 122, 'affected': 137, 'presented': 3376, 'hit': 2122, 'somewhere': 4069, 'picked': 3266, 'shots': 3950, 'paris': 3189, 'romantic': 3733, 'usually': 4700, 'effect': 1428, 'generally': 1881, 'cinematography': 820, 'soft': 4051, 'focus': 1766, 'meant': 2784, 'structure': 4233, 'bit': 488, 'said': 3774, 'balance': 387, 'covers': 1024, 'emotionally': 1460, 'trouble': 4592, 'rating': 3529, 'realize': 3552, 'please': 3304, 'science': 3816, 'fiction': 1702, 'witch': 4909, 'rated': 3527, 'lines': 2612, 'airplane': 166, 'stretch': 4221, 'possible': 3350, 'barbara': 397, 'incredibly': 2270, 'creepy': 1052, 'unexpected': 4650, 'unseen': 4678, 'copy': 994, 'interested': 2324, 'whom': 4875, 'id': 2212, 'spy': 4135, 'loved': 2670, 'appreciate': 279, 'act': 97, 'start': 4156, 'fresh': 1833, 'tv': 4610, 'reporter': 3636, 'walks': 4780, 'boyfriend': 558, 'cover': 1022, 'festival': 1697, 'california': 650, 'swedish': 4335, 'folk': 1770, 'brings': 587, 'sister': 4001, 'ladies': 2506, 'married': 2744, 'mrs': 2930, 'dennis': 1179, 'wilson': 4891, 'street': 4216, 'anyway': 261, 'follows': 1775, 'wanna': 4786, 'tear': 4379, 'himself': 2111, 'anymore': 258, 'football': 1783, 'arrive': 300, 'gonna': 1936, 'stay': 4166, 'ask': 316, 'nowhere': 3056, 'hotel': 2175, 'serves': 3895, 'catch': 714, 'interest': 2323, 'sidney': 3968, 'decides': 1150, 'home': 2142, 'wife': 4884, 'happy': 2032, 'oh': 3096, 'phone': 3255, 'call': 651, 'warning': 4800, 'coming': 896, 'threatening': 4468, 'shed': 3924, 'eager': 1396, 'settle': 3902, 'shoot': 3942, 'footage': 1782, 'interview': 2329, 'girls': 1911, 'wondering': 4930, 'played': 3297, 'looks': 2649, 'lost': 2660, 'pal': 3177, 'speaking': 4095, 'under': 4639, 'clothes': 860, 'realizing': 3555, 'thinks': 4454, 'thanks': 4423, 'fat': 1663, 'tom': 4514, 'frightening': 1839, 'round': 3742, 'apparently': 270, 'floor': 1759, 'argument': 291, 'hands': 2020, 'hair': 2005, 'flashback': 1746, 'sadistic': 3768, 'background': 380, 'smile': 4036, 'wants': 4791, 'meanwhile': 2785, 'let': 2579, 'reveal': 3670, 'tragedy': 4551, 'cannot': 670, 'stephen': 4176, 'methods': 2825, 'expression': 1602, 'brain': 562, 'winds': 4895, 'satisfying': 3791, 'resolution': 3649, 'stupid': 4247, 'tricks': 4583, 'rolling': 3730, 'dialog': 1232, 'cut': 1089, 'collection': 874, 'men': 2805, 'shooting': 3943, 'chases': 771, 'weve': 4856, 'bank': 394, 'surrounding': 4319, 'multiple': 2936, 'officers': 3093, 'innocent': 2294, 'fire': 1734, 'hundreds': 2196, 'safe': 3771, 'doors': 1329, 'went': 4847, 'director': 1264, 'wed': 4835, 'fake': 1635, 'documentary': 1307, 'thought': 4462, 'cops': 993, 'break': 569, 'husband': 2204, 'buffs': 612, 'hours': 2177, 'found': 1811, 'myself': 2953, 'wanting': 4790, 'contained': 963, 'points': 3319, 'scary': 3807, 'timing': 4498, 'viewing': 4740, 'japanese': 2382, 'writers': 4969, 'japan': 2381, 'advice': 133, 'sitting': 4007, 'renting': 3629, 'rental': 3627, 'rarely': 3524, 'write': 4967, 'reviews': 3679, 'compelled': 915, 'warn': 4797, 'viewers': 4739, 'expectations': 1576, 'listed': 2618, 'kung': 2498, 'fu': 1844, 'convinced': 984, 'jobs': 2406, 'consists': 955, 'itself': 2371, 'routine': 3743, 'todays': 4509, 'ship': 3934, 'horrendous': 2162, 'watched': 4813, 'showing': 3958, 'remember': 3616, 'mothers': 2912, 'wound': 4960, 'white': 4870, 'gave': 1875, 'period': 3236, 'grew': 1972, 'remembered': 3617, 'loves': 2674, 'slowly': 4032, 'vs': 4767, 'speed': 4103, 'fit': 1740, 'somehow': 4063, 'audiences': 353, 'beyond': 476, 'personally': 3243, 'speech': 4102, 'editing': 1421, 'television': 4394, 'beaten': 424, 'cuts': 1091, 'commercial': 902, 'em': 1452, 'yeah': 4977, 'network': 3000, 'ruins': 3752, 'apart': 264, 'terms': 4406, 'dialogue': 1234, 'explaining': 1588, 'point': 3316, 'include': 2261, 'shake': 3914, 'different': 1248, 'versions': 4721, 'alternate': 200, 'link': 2613, 'regarding': 3589, 'proved': 3446, 'huge': 2185, 'mentioning': 2812, 'cares': 690, 'ones': 3108, 'bet': 470, 'hold': 2129, 'european': 1530, 'birth': 486, 'artistic': 308, 'creative': 1041, 'portraying': 3343, 'enjoyment': 1488, 'perform': 3227, 'nevertheless': 3002, 'stand': 4143, 'john': 2409, 'fell': 1690, 'personality': 3242, 'spot': 4131, 'double': 1331, 'towards': 4540, 'performing': 3233, 'ed': 1415, 'sullivan': 4288, 'whether': 4866, 'dead': 1132, 'written': 4972, 'boys': 559, 'pre': 3365, 'days': 1130, 'leading': 2547, 'critical': 1062, 'door': 1328, 'nearly': 2981, 'flat': 1748, 'absolutely': 72, 'spending': 4106, 'ad': 110, 'audience': 352, 'older': 3101, 'seriously': 3892, 'amateur': 206, 'medical': 2790, 'bela': 450, 'lugosi': 2686, 'hell': 2077, 'cheese': 780, 'ball': 388, 'corpse': 999, 'turns': 4609, 'plain': 3286, 'leaves': 2556, 'almost': 193, 'master': 2757, 'mad': 2696, 'max': 2774, 'brother': 598, 'angel': 231, 'frank': 1821, 'russell': 3761, 'hunter': 2199, 'strange': 4211, 'sweet': 4336, 'worn': 4948, 'pat': 3208, 'storm': 4206, 'immediately': 2242, 'breaks': 571, 'clue': 864, 'violence': 4747, 'inside': 2297, 'unpleasant': 4674, 'surprises': 4314, 'deal': 1135, 'virgin': 4749, 'direct': 1258, 'threat': 4467, 'shell': 3927, 'editor': 1423, 'judge': 2424, 'company': 910, 'impact': 2244, 'cat': 713, 'ironic': 2355, 'takes': 4351, 'karloff': 2445, 'begins': 444, 'alive': 186, 'ah': 158, 'powers': 3361, 'god': 1926, 'learns': 2553, 'supernatural': 4302, 'requires': 3642, 'giant': 1905, 'responsibility': 3655, 'strength': 4219, 'clever': 841, 'casting': 711, 'promising': 3433, 'carrey': 696, 'freeman': 1829, 'mention': 2810, 'filming': 1718, 'script': 3834, 'bruce': 602, 'lets': 2580, 'mediocre': 2791, 'journalist': 2420, 'report': 3635, 'complete': 921, 'completely': 922, 'considering': 952, 'girlfriend': 1910, 'trained': 4557, 'starts': 4159, 'hate': 2046, 'viewer': 4738, 'whats': 4860, 'definitely': 1162, 'problems': 3409, 'troubles': 4594, 'minor': 2857, 'attention': 345, 'goofy': 1939, 'morgan': 2905, 'particularly': 3195, 'easily': 1406, 'hardly': 2036, 'difference': 1246, 'wait': 4770, 'pulls': 3464, 'moon': 2900, 'closer': 856, 'earth': 1403, 'create': 1036, 'red': 3576, 'womans': 4922, 'answers': 252, 'via': 4726, 'hint': 2112, 'starting': 4158, 'pathetic': 3210, 'aged': 149, 'understated': 4646, 'grace': 1950, 'stays': 4169, 'forgettable': 1794, 'nobody': 3022, 'sounds': 4084, 'false': 1641, 'dialogs': 1233, 'roles': 3727, 'total': 4531, 'ok': 3098, 'moments': 2887, 'eddie': 1416, 'murphy': 2944, 'charlotte': 766, 'lewis': 2586, 'enters': 1496, 'chosen': 805, 'golden': 1934, 'driven': 1365, 'purely': 3472, 'lust': 2689, 'intrigue': 2333, 'involved': 2346, 'journey': 2421, 'involves': 2348, 'demon': 1177, 'mean': 2779, 'popularity': 3334, '1980s': 21, 'entertained': 1498, 'decade': 1144, 'box': 555, 'office': 3091, 'biggest': 480, '80s': 59, 'memory': 2804, 'pictures': 3270, 'accepted': 82, 'places': 3284, 'hills': 2109, 'cop': 991, 'charming': 768, 'formula': 1802, 'hits': 2125, 'required': 3641, 'genre': 1888, 'girl': 1909, 'hero': 2088, 'charles': 764, 'cute': 1090, 'cgi': 740, 'site': 4005, 'howard': 2182, 'campbell': 663, 'jr': 2423, 'happily': 2030, 'germany': 1898, 'agent': 150, 'holds': 2131, 'everything': 1544, 'offer': 3087, 'following': 1774, 'york': 4985, 'city': 825, 'further': 1853, 'question': 3487, 'indeed': 2271, 'frustrated': 1842, 'critics': 1064, 'kurt': 2499, 'source': 4086, 'gordon': 1940, 'screenwriter': 3833, 'clues': 865, 'answer': 251, 'knowing': 2490, 'portrays': 3344, 'intelligent': 2314, 'scared': 3805, 'certain': 737, 'humanity': 2189, 'images': 2235, 'portrait': 3339, 'nazi': 2977, 'captures': 678, 'dramatic': 1348, 'side': 3965, 'lonely': 2643, 'discovered': 1280, 'group': 1980, 'nazis': 2978, 'author': 359, 'provides': 3450, 'tension': 4404, 'unfolds': 4651, 'moral': 2902, 'spiritual': 4116, 'presents': 3377, 'degree': 1164, 'staring': 4152, 'space': 4090, 'whose': 4877, 'inner': 2292, 'wind': 4893, 'changes': 751, 'image': 2233, 'wall': 4781, 'anti': 254, 'reaction': 3541, 'hope': 2155, 'jack': 2373, 'lemmon': 2567, 'matthau': 2771, 'began': 441, 'hollywoods': 2138, '100': 1, 'team': 4378, 'brothers': 599, 'physical': 3262, 'mixed': 2877, 'blend': 504, 'chaos': 755, 'chaplin': 756, 'unique': 4662, 'joke': 2414, 'typical': 4623, 'teenagers': 4391, 'prime': 3395, 'dedicated': 1153, 'ron': 3734, 'swear': 4334, 'entirely': 1503, 'dealt': 1138, 'lucas': 2680, 'useful': 4694, 'superficial': 4298, 'junk': 2436, 'spoilers': 4124, 'semi': 3874, 'forgotten': 1797, 'disease': 1285, 'already': 197, 'skill': 4013, 'heck': 2071, 'disney': 1289, 'possibilities': 3348, 'imagined': 2239, 'commentary': 899, 'track': 4544, 'analysis': 224, 'cinematic': 818, 'stinker': 4191, 'star': 4150, 'wars': 4804, 'captain': 674, 'close': 853, 'ups': 4686, 'ugly': 4625, 'crying': 1074, 'simon': 3982, 'le': 2544, 'front': 1841, 'center': 732, 'hide': 2097, 'stole': 4194, 'brief': 579, 'clips': 852, 'add': 115, 'avoid': 363, 'wolf': 4920, 'tiger': 4491, 'changing': 752, 'painted': 3174, 'arent': 288, 'singing': 3995, 'whatever': 4859, 'book': 535, 'changed': 750, 'saying': 3800, 'directing': 1260, 'storyline': 4208, 'horrible': 2163, 'countless': 1012, 'key': 2458, 'tried': 4584, 'failed': 1626, 'inspiring': 2302, 'position': 3345, 'bunch': 623, 'thoroughly': 4459, 'turned': 4606, 'disaster': 1276, 'attack': 337, 'notable': 3041, 'somewhat': 4068, 'boring': 543, 'commercials': 903, 'resort': 3650, 'disturbed': 1299, 'construction': 960, 'nearby': 2980, 'quote': 3496, 'memorable': 2802, 'involving': 2349, 'swimming': 4338, 'pool': 3327, 'stands': 4147, 'survivors': 4325, 'cardboard': 682, 'breath': 573, 'tame': 4363, 'panic': 3181, 'deserve': 1199, 'forward': 1808, 'fail': 1625, 'satisfy': 3790, 'indian': 2274, 'despite': 1211, 'loosely': 2651, 'kapoor': 2443, 'irritating': 2359, 'lacked': 2503, 'theyll': 4444, 'blowing': 515, 'moved': 2922, 'lasted': 2522, '15': 7, 'photographer': 3259, 'working': 4944, 'loose': 2650, 'pace': 3161, 'soap': 4047, 'opera': 3116, 'saga': 3773, 'understandable': 4644, 'alone': 194, 'executed': 1565, 'rap': 3520, 'taste': 4369, 'tone': 4517, 'path': 3209, 'tap': 4364, 'mood': 2898, 'culture': 1079, 'associated': 327, 'starred': 4153, 'shame': 3918, 'havent': 2053, 'fear': 1676, 'hat': 2045, 'quick': 3490, 'indie': 2276, 'lane': 2515, 'cabin': 643, 'fever': 1699, 'across': 96, 'category': 718, 'finish': 1732, 'amateurish': 207, 'knows': 2493, 'kill': 2468, 'kills': 2474, 'displays': 1293, 'development': 1225, 'care': 684, 'torture': 4529, 'redeeming': 3577, 'cry': 1073, 'entire': 1502, 'dating': 1120, 'appropriate': 283, 'subjects': 4254, 'chased': 770, 'psychotic': 3459, 'soundtrack': 4085, 'abysmal': 76, 'corny': 997, 'hearing': 2063, 'heaven': 2068, 'appalling': 268, 'unwatchable': 4682, 'guessing': 1991, 'limited': 2606, 'car': 680, 'effort': 1432, 'stick': 4185, 'experience': 1580, 'understand': 4643, 'light': 2595, 'decided': 1149, 'bringing': 586, 'inappropriate': 2259, 'conversations': 981, 'throwing': 4480, 'crap': 1031, 'chasing': 772, 'enjoyable': 1485, 'aspects': 322, 'asian': 314, 'cinema': 816, 'outside': 3146, 'united': 4664, 'states': 4163, 'comics': 895, 'instance': 2304, 'variety': 4714, 'handled': 2019, 'imaginative': 2237, 'fashion': 1659, 'sophisticated': 4075, 'featuring': 1681, 'professional': 3421, 'werewolf': 4850, 'artist': 307, 'forget': 1793, 'david': 1124, 'carradine': 695, 'put': 3480, 'lacking': 2504, 'hasnt': 2044, 'pay': 3216, 'per': 3223, 'view': 4736, 'channel': 753, 'artists': 309, 'core': 995, 'porn': 3336, 'produce': 3413, 'murders': 2943, 'bbc': 417, 'murder': 2939, 'deadly': 1133, 'fascinating': 1658, 'western': 4853, 'masterpiece': 2759, 'dragon': 1344, 'print': 3399, 'thoughtful': 4463, 'greatest': 1966, 'genres': 1889, 'specifically': 4100, '1970s': 17, 'appreciated': 280, 'admittedly': 123, 'al': 170, 'pacino': 3164, 'guilty': 1995, 'pleasure': 3306, 'hoped': 2156, 'growing': 1983, 'gem': 1877, 'overlooked': 3154, 'ahead': 159, 'engaging': 1481, 'political': 3324, 'hall': 2009, 'names': 2963, 'issues': 2365, 'scope': 3821, 'broad': 590, 'subplots': 4256, 'fairly': 1631, 'urban': 4688, 'corruption': 1002, 'power': 3359, 'faced': 1617, 'mafia': 2700, 'ties': 4490, 'allows': 192, 'thrilling': 4474, 'predictable': 3367, 'form': 1798, 'sorts': 4078, 'lesson': 2577, 'missing': 2869, 'spider': 4109, 'web': 4833, 'lies': 2591, 'altogether': 202, 'rich': 3685, 'positive': 3346, 'similar': 3978, 'teenage': 4389, 'overcome': 3151, 'common': 906, 'personal': 3240, 'struggle': 4234, 'sport': 4129, 'wins': 4899, 'boxing': 556, 'soccer': 4048, 'fighter': 1708, 'inferior': 2285, 'embarrassing': 1454, 'clumsy': 866, 'dreadful': 1353, 'facial': 1619, 'language': 2516, 'badly': 383, 'stereotypical': 4180, 'shallow': 3917, 'fighting': 1709, 'motion': 2913, 'choreography': 802, 'basic': 406, 'inspiration': 2300, 'training': 4558, 'standing': 4146, 'ridiculous': 3693, 'fights': 1710, 'feet': 1688, 'fooled': 1780, 'drama': 1346, 'press': 3379, 'officer': 3092, 'ham': 2011, 'ridden': 3691, 'blame': 499, 'perspective': 3245, 'exaggerated': 1552, 'unbelievable': 4634, 'notice': 3048, 'hbo': 2055, 'production': 3419, 'stereotypes': 4179, 'explained': 1587, 'credibility': 1047, 'remotely': 3623, 'ring': 3698, '40': 48, 'suspense': 4330, 'skip': 4016, 'suspenseful': 4331, 'crime': 1055, 'present': 3374, 'questions': 3489, 'australia': 356, 'head': 2057, 'productions': 3420, 'style': 4249, 'partly': 3197, 'stiff': 4187, 'mostly': 2910, 'games': 1865, 'depicted': 1183, 'subtlety': 4261, 'laughter': 2535, 'mall': 2720, 'kids': 2467, 'hang': 2022, 'prom': 3429, 'prove': 3445, 'photo': 3257, 'keeping': 2450, 'suddenly': 4273, 'higher': 2101, 'plus': 3311, 'graphic': 1958, 'cars': 702, 'twisted': 4618, 'passes': 3203, 'twice': 4613, 'missed': 2867, 'disturbing': 1300, 'self': 3869, 'proof': 3434, 'date': 1118, 'theaters': 4428, 'aint': 163, 'molly': 2884, 'wont': 4932, 'puts': 3481, 'neck': 2985, 'heavy': 2070, 'kidding': 2465, 'month': 2896, 'learned': 2551, 'stop': 4201, 'slightly': 4029, 'stock': 4193, 'ill': 2228, 'motivation': 2914, 'came': 656, 'conclusion': 936, 'means': 2783, 'reel': 3581, 'rick': 3689, 'baker': 385, 'kong': 2494, '1996': 26, 'incredible': 2269, 'flicks': 1755, 'melting': 2799, 'someones': 4065, 'jumps': 2432, 'utterly': 4702, 'useless': 4695, 'longer': 2645, 'air': 164, 'screaming': 3827, 'river': 3707, 'thrown': 4481, 'carries': 699, 'floating': 1758, 'event': 1535, 'hysterical': 2208, 'runs': 3757, 'directly': 1263, 'closed': 854, 'liners': 2611, 'bollywood': 530, 'bride': 577, 'feelings': 1686, 'decide': 1148, 'ended': 1470, 'calling': 653, 'sloppy': 4030, 'scripts': 3836, 'millions': 2848, 'exist': 1569, 'land': 2511, 'driver': 1366, 'gratuitous': 1961, 'foreign': 1790, 'locations': 2636, 'pointless': 3318, 'streets': 4217, 'theyre': 4445, 'included': 2262, 'board': 522, 'wonders': 4931, 'pick': 3265, 'project': 3427, 'list': 2617, 'cinematographer': 819, 'blockbuster': 509, 'reads': 3545, 'chuck': 812, 'classes': 834, 'hire': 2116, 'writer': 4968, 'jesus': 2399, 'hates': 2048, 'uninteresting': 4660, 'asleep': 320, 'genius': 1887, 'cure': 1081, 'drawing': 1350, 'cross': 1066, 'window': 4894, 'sing': 3992, 'worse': 4951, 'painful': 3171, 'held': 2074, 'six': 4010, 'introduction': 2339, 'pokemon': 3320, 'extra': 1606, 'ability': 65, 'walk': 4775, 'move': 2921, 'passion': 3205, 'mentioned': 2811, 'imagine': 2238, 'spirit': 4113, 'scenario': 3808, 'hospital': 2172, 'intelligence': 2313, 'level': 2584, 'distant': 1295, 'planet': 3289, 'saved': 3795, 'execution': 1566, 'monk': 2889, 'fellow': 1691, 'prison': 3401, 'enormous': 1490, 'massive': 2756, 'craft': 1028, 'presumably': 3380, 'mouse': 2919, 'annoying': 249, 'term': 4405, 'describe': 1194, 'unconvincing': 4638, 'important': 2247, 'practically': 3362, 'size': 4012, '50': 51, 'mundane': 2938, 'task': 4368, 'crew': 1053, 'tiny': 4500, 'rooms': 3736, 'plastic': 3294, 'table': 4346, 'acted': 98, 'lisa': 2616, 'hudson': 2184, 'aka': 168, 'eg': 1434, 'exception': 1557, 'intentionally': 2320, 'campy': 664, 'civil': 826, 'brand': 565, 'de': 1131, 'rented': 3628, 'ignored': 2225, 'instinct': 2308, 'oz': 3160, 'figured': 1712, 'lover': 2672, 'definite': 1161, 'unintentionally': 4659, 'led': 2558, 'bobby': 525, 'brown': 601, 'guns': 1998, 'sisters': 4002, 'supposedly': 4307, 'exact': 1550, 'revenge': 3675, 'subplot': 4255, 'gold': 1932, 'buried': 624, 'riding': 3695, 'funniest': 1851, 'introduce': 2336, 'chick': 786, 'macy': 2695, 'paid': 3169, 'laughing': 2533, 'introduced': 2337, 'parody': 3192, 'seemingly': 3863, 'defense': 1159, 'hip': 2114, 'hop': 2154, 'historical': 2119, 'research': 3644, 'teeth': 4393, 'west': 4852, 'circle': 821, 'range': 3516, 'grim': 1974, 'ensemble': 1492, 'ends': 1474, 'deals': 1137, 'challenging': 744, 'relevant': 3604, 'fans': 1650, 'cup': 1080, 'iran': 2350, 'national': 2970, 'independent': 2272, 'sheer': 3925, 'religious': 3608, 'gender': 1878, 'competition': 918, 'youth': 4994, 'population': 3335, 'increasingly': 2268, 'join': 2412, 'bus': 631, 'colors': 879, 'cringe': 1059, 'knowledge': 2491, 'rules': 3754, 'green': 1971, 'soldier': 4053, 'ideas': 2215, 'constantly': 958, 'represents': 3639, 'wore': 4939, 'soldiers': 4054, 'pass': 3201, 'hints': 2113, 'honor': 2150, 'player': 3298, 'rural': 3758, 'charge': 761, 'wear': 4830, 'poster': 3353, 'italian': 2367, 'mask': 2752, 'errors': 1516, 'escapes': 1519, 'directs': 1267, 'vice': 4727, 'whos': 4876, 'broken': 594, 'listen': 2619, 'heart': 2064, 'prisoners': 3403, 'joined': 2413, 'excitement': 1562, 'score': 3822, 'kicks': 2463, 'masses': 2755, 'outcome': 3142, 'tremendous': 4579, 'mob': 2879, 'win': 4892, 'evening': 1534, 'finale': 1723, 'contrast': 975, 'narrative': 2966, 'captured': 677, 'essence': 1521, 'madness': 2698, 'social': 4049, 'latter': 2528, 'becoming': 435, 'global': 1920, 'females': 1694, 'share': 3920, 'attitudes': 347, 'everybody': 1540, 'decision': 1151, 'sports': 4130, 'leads': 2548, 'bone': 533, 'brilliant': 583, 'moving': 2928, 'ass': 323, 'remarkable': 3613, 'unusual': 4681, 'hearts': 2066, 'nations': 2971, 'compared': 912, 'academy': 77, 'worthwhile': 4955, 'garbage': 1870, 'heres': 2087, 'warm': 4794, 'felix': 1689, 'tony': 4521, 'cases': 708, 'managed': 2723, 'neil': 2995, 'humorous': 2193, 'neat': 2982, 'freak': 1824, 'marriage': 2743, 'suffering': 4277, 'manhattan': 2726, 'buddy': 609, 'unlikely': 4671, 'columbo': 881, 'steven': 4182, 'spielberg': 4110, '70s': 56, 'tend': 4400, 'jaws': 2385, 'rising': 3703, 'occurred': 3077, 'dull': 1384, 'partner': 3198, 'explored': 1595, 'moment': 2886, 'angles': 237, 'perfectly': 3226, 'attached': 336, 'rise': 3702, 'modesty': 2883, 'novels': 3053, 'attempts': 343, 'theyve': 4446, 'strip': 4228, 'currently': 1085, 'prior': 3400, 'rights': 3697, 'attempted': 341, 'crucial': 1068, 'element': 1442, 'offered': 3088, 'studios': 4241, 'process': 3412, 'approach': 282, 'introduces': 2338, 'sir': 4000, 'adventures': 131, 'loses': 2657, 'gangsters': 1869, 'undoubtedly': 4648, 'believable': 453, 'laid': 2508, 'words': 4938, 'confidence': 938, 'freedom': 1828, 'account': 89, 'heroic': 2090, 'insight': 2298, 'cultural': 1078, 'major': 2711, 'denzel': 1181, 'washington': 4806, 'terrific': 4409, 'determined': 1221, 'delivers': 1172, 'public': 3460, 'horrors': 2169, 'south': 4087, 'leader': 2546, 'donald': 1321, 'woods': 4935, 'ultimate': 4627, 'africa': 141, 'manages': 2725, 'aspect': 321, 'importance': 2246, 'cameras': 660, 'contrived': 976, 'henry': 2084, 'eating': 1413, 'suited': 4286, 'claimed': 829, 'extreme': 1609, 'theatrical': 4430, 'release': 3602, 'doubts': 1333, 'wondered': 4927, 'crash': 1033, 'tree': 4576, 'manage': 2722, 'mansion': 2731, 'mainly': 2708, 'composed': 926, 'intended': 2315, 'reading': 3544, 'cards': 683, 'technique': 4383, 'progresses': 3426, 'youve': 4995, 'doc': 1303, 'includes': 2263, 'hitchcock': 2123, 'psycho': 3457, 'birds': 485, 'wild': 4885, 'blue': 518, 'matrix': 2767, 'annoyed': 248, 'setting': 3900, '11': 2, 'charm': 767, 'hole': 2132, 'younger': 4990, 'sea': 3838, 'marry': 2745, 're': 3535, 'importantly': 2248, 'broadway': 592, 'award': 366, 'winning': 4898, 'won': 4925, 'jeremy': 2394, 'rocky': 3723, 'musicals': 2948, 'energy': 1478, 'survived': 4322, 'proceedings': 3410, 'beautifully': 429, 'stage': 4139, 'unknown': 4668, 'unforgettable': 4652, 'faces': 1618, 'invisible': 2344, 'michael': 2829, 'forgot': 1796, 'musical': 2947, 'state': 4160, 'added': 116, 'sets': 3899, 'ranks': 3519, 'jones': 2418, 'aliens': 184, 'die': 1243, 'giving': 1915, 'purchased': 3470, 'internet': 2327, 'players': 3299, 'review': 3676, 'jon': 2416, 'anderson': 227, 'del': 1165, 'refreshing': 3586, 'bold': 528, 'gritty': 1977, 'attempt': 340, 'facts': 1624, 'che': 773, 'revolutionary': 3681, 'properly': 3437, 'proper': 3436, 'photography': 3260, 'square': 4136, 'straight': 4210, 'jungle': 2434, 'complain': 919, 'persons': 3244, '16': 8, 'subtle': 4260, 'focused': 1767, 'intent': 2318, 'letting': 2583, 'developing': 1224, 'forces': 1788, 'focuses': 1768, 'battle': 414, 'throw': 4479, 'un': 4630, 'matt': 2768, 'damon': 1101, 'loaded': 2632, 'cuba': 1075, 'quiet': 3492, 'grasp': 1960, 'financial': 1725, 'chess': 783, 'moves': 2925, '40s': 49, '50s': 52, 'placed': 3283, 'neighbors': 2994, 'satire': 3788, 'funnier': 1850, 'veteran': 4724, 'buddies': 608, 'con': 928, 'grant': 1956, 'san': 3780, 'francisco': 1819, 'escape': 1517, 'service': 3896, 'delightful': 1168, 'duty': 1390, 'steal': 4170, 'non': 3027, 'ago': 154, 'struggling': 4236, 'friday': 1834, '13th': 5, 'suit': 4284, 'person': 3238, 'sold': 4052, 'friend': 1835, '2003': 33, 'minds': 2852, 'begin': 442, 'developed': 1223, 'secondly': 3847, 'followed': 1773, 'whoever': 4872, 'turn': 4605, 'change': 749, 'jump': 2429, 'convince': 983, 'pro': 3406, 'muslim': 2949, 'christian': 808, 'kept': 2456, 'general': 1880, 'clothing': 861, 'wears': 4832, 'therefore': 4439, 'thus': 4486, 'chooses': 800, 'christians': 809, 'finest': 1730, 'hitting': 2126, 'parallel': 3185, 'cities': 823, 'system': 4345, 'creates': 1038, 'environment': 1505, 'amongst': 218, 'describes': 1196, 'harsh': 2040, 'suffers': 4278, 'constant': 957, 'efforts': 1433, 'achieve': 92, 'desired': 1206, 'resulting': 3661, 'anger': 235, 'expressed': 1601, 'excessive': 1560, 'alcoholic': 177, 'practice': 3363, 'negative': 2991, 'fantastic': 1651, 'raising': 3509, 'influence': 2286, 'courage': 1018, 'brilliantly': 584, 'belongs': 460, 'warned': 4798, 'racial': 3501, 'flow': 1762, 'wallace': 4782, 'cooper': 990, 'adds': 119, 'loud': 2664, 'mouth': 2920, 'rival': 3706, 'dare': 1113, 'brooklyn': 595, 'bridge': 578, 'jumped': 2430, 'irish': 2353, 'draw': 1349, 'cats': 721, 'leg': 2562, 'mistakes': 2873, 'prostitute': 3440, 'ego': 1435, 'photographed': 3258, 'studio': 4240, 'warner': 4799, 'attractive': 351, 'restaurant': 3658, 'load': 2631, 'leslie': 2574, 'absolute': 71, 'nervous': 2999, 'scores': 3823, 'sally': 3776, 'poignant': 3315, 'splendid': 4119, 'suits': 4287, 'mountain': 2917, 'rescue': 3643, 'walker': 4778, '75': 57, 'unpredictable': 4675, 'super': 4295, 'cruise': 1071, 'wearing': 4831, 'member': 2800, 'bothered': 549, 'scare': 3803, '3d': 46, 'bits': 490, 'falling': 1639, 'reminiscent': 3621, 'eat': 1411, 'heroes': 2089, 'warrior': 4802, 'greedy': 1969, 'sidekick': 3966, 'duo': 1386, 'hopefully': 2157, 'animation': 242, 'voices': 4763, 'notch': 3043, 'defeat': 1157, 'twists': 4619, 'depth': 1190, 'kinda': 2477, 'weird': 4841, 'twins': 4616, '13': 4, 'genuine': 1891, 'regular': 3592, 'jerry': 2396, 'spent': 4108, 'building': 615, 'pseudo': 3454, 'farce': 1654, 'trailer': 4554, 'trash': 4565, 'chain': 741, 'smoking': 4040, 'drunken': 1376, 'persona': 3239, 'mom': 2885, 'affair': 135, 'african': 142, 'edited': 1420, 'virtually': 4751, 'map': 2733, 'comparing': 913, 'program': 3424, 'sexuality': 3909, 'combined': 885, 'numerous': 3062, 'pull': 3461, 'occur': 3076, 'draws': 1352, 'jane': 2380, 'fonda': 1777, 'uninspired': 4657, 'suffer': 4275, 'insulting': 2310, 'mark': 2739, 'reviewer': 3677, 'noted': 3045, 'impossible': 2249, 'market': 2740, 'cutting': 1092, 'flop': 1760, 'wished': 4905, 'wonderfully': 4929, 'settings': 3901, 'country': 1014, 'pop': 3330, 'ken': 2453, 'wit': 4908, 'evil': 1548, 'face': 1616, 'murderer': 2941, 'appeared': 276, 'shadows': 3913, 'intriguing': 2335, 'lake': 2509, 'singer': 3993, 'charismatic': 763, 'tragic': 4552, 'pure': 3471, 'boredom': 542, 'mysterious': 2955, 'lena': 2568, 'reasonable': 3558, 'revolves': 3682, 'filmmakers': 1720, 'supporting': 4304, 'couldve': 1009, 'terribly': 4408, 'mirror': 2861, 'empty': 1465, 'visible': 4753, 'steps': 4177, 'hanging': 2023, 'thrill': 4471, 'lit': 2621, 'london': 2641, 'darkness': 1117, 'thrills': 4475, 'expected': 1577, 'blank': 501, 'killing': 2472, 'sean': 3840, 'stylish': 4251, 'folks': 1771, 'wishing': 4907, 'bought': 552, 'upset': 4687, 'extras': 1608, 'episodes': 1508, 'shown': 3959, 'order': 3126, 'dvds': 1392, 'plenty': 3307, 'grow': 1982, 'normal': 3033, 'handle': 2018, 'fare': 1655, 'adding': 117, 'nancy': 2964, 'continuity': 972, 'ex': 1549, 'tommy': 4516, 'subsequent': 4257, 'aforementioned': 139, 'youd': 4987, 'creators': 1044, 'concerning': 933, 'sucks': 4271, 'purpose': 3474, 'adults': 126, 'destroy': 1213, 'mexican': 2826, 'edgar': 1417, 'hidden': 2096, 'grand': 1953, 'horrific': 2166, 'comedic': 888, 'dressed': 1358, 'feed': 1683, 'grown': 1984, 'distribution': 1298, 'orders': 3127, 'tired': 4501, 'mentally': 2809, 'figure': 1711, 'expressions': 1603, 'enter': 1494, 'wasting': 4810, 'encounter': 1466, 'normally': 3034, 'teacher': 4375, 'student': 4238, 'carrying': 701, 'crush': 1072, 'unrealistic': 4677, 'womens': 4924, 'mature': 2773, 'heroine': 2091, 'appeal': 271, 'glimpse': 1919, 'continued': 970, 'borrowed': 545, 'dolph': 1317, 'dropped': 1370, 'butt': 638, 'kicking': 2462, 'beneath': 464, '2000': 30, 'possessed': 3347, 'bodies': 526, 'staged': 4140, 'picks': 3268, 'battles': 415, 'machine': 2693, 'gun': 1996, 'batman': 413, 'responsible': 3656, 'producing': 3417, 'length': 2569, 'status': 4165, 'zero': 4996, 'return': 3665, 'boss': 546, 'futuristic': 1857, 'seasons': 3844, 'alright': 198, 'exotic': 1574, 'justice': 2438, 'league': 2549, 'send': 3875, 'waves': 4819, 'wayne': 4821, 'bob': 524, 'detective': 1220, 'cameo': 657, 'relationship': 3597, 'villains': 4745, 'fourth': 1813, 'reaching': 3539, 'chase': 769, 'trek': 4578, 'lacks': 2505, 'deep': 1154, 'dozen': 1338, 'bland': 500, 'island': 2361, 'technology': 4385, 'filmed': 1717, 'evident': 1547, 'restored': 3659, 'park': 3190, 'enterprise': 1495, 'arrived': 301, 'landing': 2512, 'kirk': 2482, 'figures': 1713, 'halfway': 2008, 'thru': 4483, 'seek': 3858, 'bizarre': 492, 'established': 1524, 'signs': 3973, 'stress': 4220, 'suggested': 4281, 'mission': 2870, 'purposes': 3475, '2nd': 41, 'adventure': 130, 'desperate': 1208, 'understanding': 4645, 'easier': 1405, 'extraordinary': 1607, 'fitting': 1742, 'learn': 2550, 'opposed': 3122, 'nonsensical': 3031, 'humans': 2190, 'sudden': 4272, 'absence': 70, 'explains': 1589, 'century': 736, 'themes': 4434, 'generations': 1884, 'supposed': 4306, 'literally': 2622, 'meaningful': 2781, 'creature': 1045, 'horse': 2170, 'prefer': 3368, 'dude': 1381, 'million': 2847, 'happiness': 2031, 'disgusting': 1286, 'raw': 3532, 'marketing': 2741, 'push': 3477, 'mass': 2753, 'mini': 2854, 'wide': 4880, 'meet': 2793, 'admire': 121, 'apparent': 269, 'parents': 3188, 'slightest': 4028, 'sympathetic': 4342, 'activities': 102, 'loving': 2675, 'superbly': 4297, 'namely': 2962, 'elderly': 1440, 'idiot': 2218, 'alas': 172, 'dimensional': 1253, 'patrick': 3213, 'pair': 3176, 'spectacular': 4101, 'pulling': 3463, 'drunk': 1375, 'sarah': 3785, 'originality': 3130, 'tedious': 4387, 'deeply': 1156, 'frankly': 1823, 'violent': 4748, 'childhood': 790, 'hopeless': 2158, 'unable': 4631, 'witnesses': 4916, 'anthony': 253, 'strangely': 4212, 'portrayal': 3341, 'essentially': 1523, 'open': 3112, 'minded': 2850, 'shop': 3945, 'canadian': 667, 'current': 1084, 'anybody': 257, 'prepared': 3371, 'pamela': 3179, 'flaws': 1752, 'angela': 232, 'murderous': 2942, 'camp': 662, 'toilet': 4512, 'format': 1799, 'stan': 4142, 'kay': 2447, 'visit': 4755, 'theatre': 4429, 'burns': 628, 'needless': 2989, 'wives': 4918, 'leo': 2571, 'william': 4887, 'lie': 2590, 'destroyed': 1214, 'carried': 698, 'visits': 4756, 'obsessed': 3069, 'weapons': 4829, 'hopes': 2159, 'guide': 1993, 'disagree': 1269, 'agrees': 157, 'chances': 748, 'plans': 3292, 'capture': 676, 'queen': 3485, 'virus': 4752, 'revelation': 3674, 'gay': 1876, 'lesbian': 2573, 'chose': 804, 'stopped': 4202, 'fetched': 1698, 'sleeping': 4025, 'delight': 1167, '1940s': 13, 'angels': 234, 'passed': 3202, 'silence': 3974, 'alfred': 181, 'vision': 4754, 'continues': 971, 'striking': 4226, 'powell': 3358, 'mere': 2814, 'logical': 2639, 'carter': 703, 'directions': 1262, 'ought': 3138, 'shouldnt': 3952, 'consider': 949, 'abraham': 69, 'lawyer': 2541, 'broadcast': 591, 'england': 1482, 'embarrassment': 1455, 'blues': 519, 'heads': 2059, 'incomprehensible': 2267, 'valuable': 4708, 'australian': 357, 'value': 4709, 'hence': 2083, 'charisma': 762, 'abusive': 75, 'husbands': 2205, 'community': 908, 'equally': 1510, 'ready': 3546, 'criminal': 1057, 'attitude': 346, 'continue': 969, 'fortunately': 1805, 'promises': 3432, 'legal': 2563, 'spite': 4117, 'emotional': 1459, 'europe': 1529, 'north': 3036, 'speak': 4094, 'riveting': 3708, 'vicious': 4728, 'joe': 2407, 'intensity': 2317, 'james': 2378, 'pays': 3218, 'psychological': 3458, 'morality': 2903, 'rape': 3521, 'pushed': 3478, 'capable': 672, 'strictly': 4223, 'refuses': 3587, 'creep': 1051, 'monster': 2892, 'climactic': 848, 'support': 4303, 'diana': 1237, 'terry': 4415, 'martin': 2748, 'curtis': 1087, 'skin': 4015, 'considerable': 950, 'miserably': 2864, 'legend': 2564, 'sacrifice': 3766, 'legendary': 2565, 'flying': 1764, 'psychic': 3456, 'eccentric': 1414, 'experiences': 1582, 'advertising': 132, 'personalities': 3241, 'harder': 2035, 'trade': 4547, 'proves': 3447, 'carry': 700, 'object': 3066, 'designed': 1203, 'worthy': 4956, 'attempting': 342, 'largely': 2518, 'testament': 4417, 'references': 3583, 'nation': 2969, 'slapstick': 4019, 'remind': 3618, 'connected': 945, 'destiny': 1212, 'everyones': 1543, 'dialogues': 1235, 'slaughter': 4021, 'blade': 495, 'animals': 240, 'throat': 4476, 'allowed': 190, 'screens': 3832, 'favourite': 1673, 'sixties': 4011, 'harvey': 2042, 'jenny': 2393, 'learning': 2552, 'brad': 560, 'ruined': 3751, 'spell': 4104, 'miles': 2843, 'reminded': 3619, 'teen': 4388, 'magical': 2704, 'skills': 4014, 'wouldnt': 4958, 'surviving': 4323, 'food': 1778, 'border': 539, 'government': 1948, 'step': 4175, 'solely': 4056, 'fault': 1668, 'drive': 1363, '1950s': 14, 'dramas': 1347, 'hatred': 2049, 'taylor': 4372, 'horrifying': 2167, 'vincent': 4746, 'fly': 1763, 'ripped': 3701, 'bill': 481, 'indians': 2275, 'large': 2517, 'montana': 2895, 'signed': 3971, 'walking': 4779, 'cliff': 847, 'laughable': 2530, 'native': 2972, 'bloody': 513, 'accompanied': 86, 'dubbing': 1380, 'flesh': 1753, 'cannibal': 669, 'vhs': 4725, 'tape': 4365, 'superman': 4301, 'pleasantly': 3303, 'surprisingly': 4316, 'kicked': 2461, 'costumes': 1006, 'recognized': 3570, 'sheriff': 3929, 'valley': 4707, 'westerns': 4854, 'count': 1010, 'reed': 3580, 'jeff': 2390, 'recognize': 3569, 'mayor': 2777, 'handed': 2016, 'dorothy': 1330, 'wealth': 4826, 'billy': 482, 'clint': 850, 'eastwood': 1409, 'met': 2822, 'luckily': 2682, 'titled': 4505, 'wizard': 4919, 'clark': 832, 'dealing': 1136, 'outer': 3143, 'gifted': 1907, 'bird': 484, 'plane': 3288, 'fashioned': 1660, 'attracted': 349, 'daughters': 1122, 'messed': 2821, 'portray': 3340, 'anne': 246, 'screening': 3830, 'par': 3184, 'crowd': 1067, 'mix': 2876, 'slap': 4018, 'juvenile': 2441, 'fill': 1714, 'visually': 4758, 'imagery': 2234, 'failure': 1629, 'parent': 3187, 'mindless': 2851, 'packed': 3166, 'corporate': 998, 'sin': 3988, 'crafted': 1029, 'neo': 2998, 'noir': 3023, 'stunning': 4244, 'visuals': 4759, 'safety': 3772, 'beats': 426, 'naive': 2958, 'danger': 1109, 'obsession': 3070, 'equivalent': 1512, 'nicholson': 3011, 'warren': 4801, 'richardson': 3688, 'offers': 3090, 'dreams': 1355, 'blind': 506, 'baby': 376, 'surface': 4310, 'feels': 1687, 'opportunity': 3121, 'preview': 3386, 'trailers': 4555, 'crude': 1069, 'climax': 849, 'logic': 2638, 'holding': 2130, 'ease': 1404, 'stunt': 4245, 'melodrama': 2797, 'impression': 2252, 'justin': 2440, 'corrupt': 1001, 'embarrassed': 1453, 'drew': 1360, 'brutally': 604, 'daniel': 1111, 'craig': 1030, 'epic': 1506, 'painting': 3175, 'controversial': 978, 'awards': 367, 'measure': 2786, 'pot': 3354, 'caine': 647, 'rex': 3683, 'suspects': 4328, 'reputation': 3640, 'jazz': 2387, 'noise': 3024, 'needed': 2988, 'atmospheric': 334, 'backdrop': 379, 'raise': 3507, 'lawrence': 2539, 'equal': 1509, 'ford': 1789, 'confusion': 943, 'loss': 2659, 'whenever': 4863, 'created': 1037, 'stilted': 4190, 'choreographed': 801, 'overacting': 3149, 'joseph': 2419, 'wandering': 4785, 'boom': 537, 'burton': 630, 'dick': 1239, 'careers': 687, 'reached': 3537, 'confused': 941, 'adapted': 114, 'fond': 1776, 'cable': 644, 'machines': 2694, 'replaced': 3634, 'rambo': 3511, 'albeit': 173, 'alien': 183, 'crack': 1027, 'snake': 4042, 'target': 4366, 'everyday': 1541, 'assumed': 329, 'explanation': 1590, 'till': 4493, 'fairy': 1632, 'hanks': 2025, 'bigger': 479, 'robin': 3715, 'necessary': 2984, 'uncle': 4636, 'bugs': 613, 'computer': 927, 'risk': 3704, 'sounding': 4083, 'realise': 3548, 'claim': 828, 'statement': 4162, 'era': 1513, 'zombies': 4998, 'scientific': 3817, 'beauty': 430, 'pan': 3180, 'depiction': 1185, 'plight': 3308, 'individual': 2277, 'kick': 2460, 'humour': 2194, 'remarkably': 3614, 'revolution': 3680, 'military': 2844, 'rule': 3753, 'initial': 2290, 'odds': 3082, 'suspicious': 4332, 'failing': 1627, 'health': 2060, 'alongside': 196, 'wishes': 4906, 'loyal': 2679, 'leaving': 2557, 'narrator': 2967, 'parties': 3196, 'distance': 1294, 'context': 968, 'precious': 3366, 'thoughts': 4464, 'actions': 101, 'splatter': 4118, 'purple': 3473, 'torn': 4528, 'sides': 3967, 'conflict': 939, 'convoluted': 987, 'causes': 725, 'matters': 2770, 'techniques': 4384, '20th': 38, 'bay': 416, 'overly': 3155, 'melodramatic': 2798, 'spends': 4107, 'linda': 2609, 'hamilton': 2012, 'imdb': 2240, 'mentions': 2813, 'jewish': 2401, 'pointed': 3317, 'racist': 3503, 'university': 4667, 'provoking': 3452, 'race': 3499, 'raped': 3522, 'lifestyle': 2593, 'scientist': 3818, 'pride': 3391, 'previously': 3388, 'fascinated': 1657, 'sutherland': 4333, 'opened': 3113, 'warming': 4795, 'below': 462, 'stewart': 4184, 'mickey': 2831, 'alice': 182, 'fox': 1814, 'adult': 125, 'clearly': 840, 'nostalgic': 3039, 'expert': 1585, 'mistake': 2871, 'favor': 1670, 'workers': 4943, 'receives': 3565, 'trademark': 4548, 'examples': 1554, 'suck': 4269, 'solid': 4057, 'sappy': 3784, 'manipulative': 2727, 'toward': 4539, 'imitation': 2241, 'flashbacks': 1747, 'ben': 463, 'emily': 1456, 'impressed': 2251, 'wwii': 4975, 'essential': 1522, 'wake': 4774, 'scott': 3824, 'slick': 4026, 'breaking': 570, 'whilst': 4869, 'overrated': 3156, 'rubbish': 3748, 'channels': 754, 'mtv': 2933, 'awake': 365, 'jean': 2389, 'distracting': 1297, 'nightmare': 3014, 'narration': 2965, 'fate': 1665, 'abandoned': 62, 'argue': 290, 'bright': 581, 'ensues': 1493, 'pleasant': 3302, 'spare': 4093, 'doll': 1313, 'wicked': 4879, 'color': 877, 'fits': 1741, 'bore': 540, 'nudity': 3059, 'slasher': 4020, 'hollow': 2135, 'piano': 3264, 'lab': 2501, 'peoples': 3222, 'mans': 2730, 'consequences': 947, 'contemporary': 965, 'magnificent': 2705, 'victor': 4731, 'recommended': 3572, 'drives': 1367, 'monsters': 2893, 'chris': 806, 'rabbit': 3498, 'beating': 425, 'basis': 408, 'pack': 3165, 'soul': 4079, 'lessons': 2578, 'record': 3573, 'encounters': 1467, 'cameos': 658, 'provided': 3449, 'drugs': 1374, 'topless': 4527, 'caused': 724, 'pulled': 3462, 'tied': 4489, 'trees': 4577, 'cartoons': 705, 'button': 639, 'danny': 1112, 'luck': 2681, 'baseball': 403, 'touch': 4533, 'mike': 2838, 'frequent': 1831, 'dear': 1140, 'roger': 3724, 'foster': 1809, 'dad': 1095, 'convincingly': 986, 'sleazy': 4023, 'christopher': 811, 'zone': 4999, 'manager': 2724, 'glover': 1923, 'sell': 3871, 'believes': 456, 'rogers': 3725, 'adorable': 124, 'dressing': 1359, 'obnoxious': 3067, 'jay': 2386, 'angle': 236, 'blonde': 511, 'matthew': 2772, '3rd': 47, 'sun': 4292, 'brenda': 575, 'johnson': 2411, 'patient': 3211, 'calm': 655, 'favorites': 1672, 'page': 3167, 'specific': 4099, 'godfather': 1927, 'generous': 1886, 'interviews': 2330, 'obscure': 3068, 'teaching': 4377, 'nose': 3037, 'months': 2897, 'sid': 3964, 'lion': 2614, 'teens': 4392, 'tad': 4347, 'toy': 4542, 'conceived': 929, 'theory': 4437, 'bother': 548, 'unfortunate': 4653, 'counter': 1011, 'rushed': 3760, 'bang': 393, 'owner': 3159, 'pitt': 3280, 'hung': 2197, 'hadnt': 2004, 'filmmaker': 1719, 'wave': 4818, 'happening': 2028, 'drop': 1369, 'france': 1816, 'defined': 1160, 'worlds': 4947, 'recognition': 3568, 'hong': 2149, 'stops': 4203, 'discover': 1279, 'shirt': 3937, 'gotta': 1946, 'thugs': 4484, 'triumph': 4590, 'innocence': 2293, 'lees': 2560, 'exists': 1573, 'june': 2433, 'president': 3378, 'korean': 2495, 'base': 402, 'troops': 4591, 'returning': 3667, 'wounded': 4961, 'americas': 215, 'nights': 3016, 'hoping': 2160, 'joan': 2404, 'contract': 973, 'stanwyck': 4149, 'fictional': 1703, 'et': 1526, 'ruth': 3763, 'roman': 3731, 'virginia': 4750, 'gene': 1879, 'nelson': 2997, 'harris': 2038, 'cagney': 646, 'gary': 1873, 'matched': 2763, 'inspector': 2299, 'countryside': 1015, 'method': 2824, 'latest': 2526, 'centers': 734, 'creation': 1040, 'haunting': 2051, 'build': 614, 'former': 1800, 'dawn': 1127, 'gradually': 1952, 'twist': 4617, 'amounts': 220, 'downright': 1337, 'tortured': 4530, 'memories': 2803, 'provide': 3448, 'eerie': 1427, 'lighting': 2596, 'builds': 617, 'shock': 3938, 'mile': 2842, 'wouldve': 4959, 'acceptable': 81, 'realism': 3549, 'scares': 3806, 'weakest': 4825, '14': 6, 'struck': 4232, 'bitter': 491, 'inevitable': 2282, 'areas': 287, 'ashamed': 312, 'elegant': 1441, 'judging': 2425, 'generation': 1883, 'mild': 2839, 'intellectual': 2312, 'translation': 4562, 'regret': 3591, 'medium': 2792, 'heights': 2073, 'interpretation': 2328, 'hurts': 2203, 'likes': 2602, 'deaf': 1134, 'schools': 3814, 'decades': 1145, 'credible': 1048, 'students': 4239, 'isolated': 2363, 'switch': 4339, 'area': 286, 'fish': 1738, 'education': 1424, 'afterwards': 145, 'symbolism': 4341, 'swim': 4337, 'accept': 80, 'movement': 2923, 'utter': 4701, 'nonsense': 3030, 'oliver': 3102, 'numbers': 3061, 'teenager': 4390, 'adaptation': 113, 'overwhelming': 3157, 'stellar': 4174, 'catchy': 717, 'performers': 3232, 'menacing': 2807, 'ruin': 3750, 'blunt': 520, 'victoria': 4732, 'darker': 1116, 'kelly': 2452, 'mgm': 2828, 'unit': 4663, 'lengthy': 2570, 'ballet': 389, 'poem': 3312, 'sounded': 4082, 'berlin': 467, 'alan': 171, 'debut': 1143, 'georges': 1894, 'flight': 1757, 'kennedy': 2454, 'airport': 167, 'sings': 3997, 'dances': 1106, 'oscars': 3134, 'heavily': 2069, 'upper': 4685, 'likely': 2601, 'repeated': 3631, 'saving': 3797, 'knock': 2488, 'carol': 693, 'mel': 2796, 'brooks': 596, 'tradition': 4549, '3000': 43, 'infamous': 2284, 'underground': 4640, 'souls': 4080, 'notion': 3050, 'fisher': 1739, 'navy': 2976, 'troubled': 4593, 'loser': 2655, 'psychiatrist': 3455, 'flash': 1745, 'revealed': 3671, 'succeeded': 4263, 'grave': 1962, 'merit': 2816, '24': 39, '2005': 35, 'thousands': 4466, 'ray': 3533, 'realized': 3553, 'kings': 2481, 'thief': 4448, 'separate': 3883, 'angry': 238, 'discovers': 1281, 'boat': 523, 'princess': 3397, 'garden': 1872, 'attacks': 339, 'gift': 1906, 'mechanical': 2788, 'prince': 3396, 'sends': 3876, 'throws': 4482, 'bottle': 550, 'flies': 1756, 'arrives': 302, 'producer': 3415, 'tim': 4494, 'cameron': 661, 'expensive': 1579, 'morris': 2908, 'bumbling': 622, 'brian': 576, 'brady': 561, 'holly': 2136, 'marie': 2737, 'adequate': 120, 'sole': 4055, 'mexico': 2827, 'aid': 160, 'newly': 3004, 'handful': 2017, 'ludicrous': 2685, 'stronger': 4230, 'frequently': 1832, 'doctors': 1305, 'shakespeare': 3915, 'text': 4419, 'reveals': 3673, 'cell': 730, 'complexity': 924, 'flawed': 1750, 'beings': 449, 'pity': 3281, 'nurse': 3063, 'franco': 1820, 'plague': 3285, 'official': 3094, 'widmark': 4882, 'murdered': 2940, 'eight': 1436, 'masterpieces': 2760, 'east': 1407, 'staying': 4168, 'edward': 1426, 'territory': 4411, 'extended': 1604, 'discovery': 1282, 'exposed': 1598, 'delivered': 1170, 'decisions': 1152, 'religion': 3607, 'protagonists': 3442, 'jail': 2376, 'card': 681, 'exceptional': 1558, 'attorney': 348, 'jackson': 2375, 'spirited': 4114, 'hippie': 2115, 'candy': 668, 'spring': 4134, 'relate': 3593, 'welcome': 4842, 'occurs': 3078, 'chicks': 787, 'marvelous': 2750, 'lights': 2597, 'captivating': 675, 'trashy': 4566, 'lying': 2690, 'cheating': 776, 'toys': 4543, 'strikes': 4225, 'strike': 4224, 'burning': 627, 'miracle': 2860, 'views': 4742, 'nude': 3058, 'media': 2789, 'transformation': 4560, 'condition': 937, 'mental': 2808, 'buff': 611, 'montage': 2894, 'brutal': 603, 'vengeance': 4719, 'hey': 2095, 'writes': 4970, 'tag': 4348, 'grab': 1949, 'afraid': 140, 'fx': 1858, 'overlook': 3153, 'whatsoever': 4861, 'countries': 1013, 'dry': 1377, 'accidentally': 85, 'model': 2880, 'destroying': 1215, 'evidence': 1546, 'bin': 483, 'believing': 457, 'paying': 3217, 'segment': 3867, 'remain': 3609, 'highest': 2102, 'lowest': 2678, 'primary': 3394, 'goal': 1925, 'escaped': 1518, 'locked': 2637, 'miserable': 2863, 'reduced': 3579, 'danes': 1108, 'kate': 2446, 'depressing': 1188, 'bite': 489, 'damn': 1100, 'likable': 2598, 'jessica': 2398, 'lived': 2626, 'ages': 152, 'amy': 222, 'rachel': 3500, 'parker': 3191, 'pretending': 3382, 'halloween': 2010, 'forever': 1792, 'gothic': 1945, 'hammer': 2014, 'spooky': 4128, 'clichés': 846, '35': 45, 'comedies': 889, 'week': 4837, 'scientists': 3819, 'ambitious': 211, 'voiced': 4762, 'witty': 4917, 'incompetent': 2266, 'existent': 1572, 'monkey': 2890, 'creativity': 1042, 'dire': 1257, 'citizen': 824, 'kane': 2442, 'drops': 1372, 'test': 4416, 'string': 4227, 'goodness': 1938, 'assume': 328, '1984': 23, 'graphics': 1959, 'represented': 3638, 'covered': 1023, 'banned': 395, 'equipment': 1511, 'user': 4696, 'ratings': 3530, 'travesty': 4570, 'cynical': 1093, 'gain': 1863, 'iraq': 2351, 'documentaries': 1306, 'purchase': 3469, 'americans': 214, 'racism': 3502, 'blatant': 502, 'britain': 588, 'china': 795, 'dollars': 1315, 'vietnam': 4735, 'chan': 746, 'chinese': 796, 'capital': 673, 'explore': 1594, 'individuals': 2278, 'ingredients': 2289, 'blond': 510, 'endearing': 1469, '1972': 18, 'mid': 2832, 'surrounded': 4318, 'criticism': 1063, 'twelve': 4611, 'yesterday': 4983, 'madonna': 2699, 'seeking': 3859, 'susan': 4326, 'frame': 1815, 'unbearable': 4633, 'cruel': 1070, 'displayed': 1292, 'centered': 733, 'relative': 3599, 'wooden': 4934, 'succeeds': 4264, 'invasion': 2340, 'southern': 4088, 'slave': 4022, 'property': 3438, 'built': 618, 'chicago': 785, 'struggles': 4235, 'florida': 1761, 'existed': 1570, 'suffered': 4276, 'german': 1896, 'painfully': 3172, 'ignore': 2224, 'germans': 1897, 'protagonist': 3441, 'explosions': 1597, 'sentence': 3881, 'ridiculously': 3694, 'coach': 868, 'sat': 3786, 'amitabh': 216, 'dying': 1393, 'teach': 4374, 'akshay': 169, 'spoiled': 4122, 'connection': 946, 'myers': 2952, 'returns': 3668, 'franchise': 1817, 'carpenter': 694, 'existence': 1571, 'jamie': 2379, 'gross': 1978, 'ryan': 3765, 'roots': 3738, 'witness': 4914, 'suffice': 4279, 'shut': 3961, 'hideous': 2098, 'metal': 2823, 'losers': 2656, 'complaint': 920, 'disappeared': 1271, 'maintain': 2710, 'chapter': 757, 'dean': 1139, 'desperation': 1210, 'sits': 4006, 'catches': 715, 'ramones': 3512, 'joey': 2408, 'rip': 3700, '2001': 31, '2002': 32, 'ms': 2931, 'seed': 3856, 'comments': 901, 'rochester': 3719, 'st': 4137, 'walked': 4776, 'alert': 178, 'weekend': 4838, 'firstly': 1737, 'intention': 2319, 'performed': 3230, 'mine': 2853, 'smith': 4038, 'appearing': 277, 'inept': 2281, 'concern': 931, 'caring': 691, 'trust': 4598, 'gotten': 1947, 'robinson': 3716, 'singers': 3994, 'relatives': 3601, 'wreck': 4965, 'raised': 3508, 'dig': 1250, 'unoriginal': 4673, 'advance': 127, 'paced': 3162, 'traveling': 4568, 'woody': 4936, 'allen': 188, 'hearted': 2065, 'hed': 2072, 'ian': 2209, 'hugh': 2186, 'born': 544, 'amazed': 208, 'curse': 1086, 'snow': 4045, 'trapped': 4564, 'survival': 4320, 'beast': 422, 'survive': 4321, 'gory': 1943, 'exploitation': 1592, '1980': 20, 'defend': 1158, 'holes': 2133, 'rangers': 3517, 'foot': 1781, 'search': 3841, 'sticks': 4186, 'jumping': 2431, 'arm': 292, 'according': 88, 'location': 2635, 'bleak': 503, 'died': 1244, 'laws': 2540, 'accused': 91, 'trial': 4580, 'court': 1020, 'appealing': 272, 'correct': 1000, 'raymond': 3534, 'sam': 3777, 'moore': 2901, 'todd': 4510, 'guts': 1999, 'meaningless': 2782, 'antics': 255, 'curiosity': 1082, 'polished': 3323, 'comfortable': 892, 'driving': 1368, 'fancy': 1649, 'childish': 791, 'surprising': 4315, 'mate': 2765, 'bag': 384, 'doomed': 1327, 'afford': 138, 'killings': 2473, 'reference': 3582, 'illogical': 2231, 'spots': 4132, 'picking': 3267, 'executive': 1567, 'barry': 401, 'moronic': 2907, 'threw': 4470, 'briefly': 580, 'handsome': 2021, 'elsewhere': 1449, 'uncomfortable': 4637, 'arrested': 298, 'magazine': 2701, 'merely': 2815, 'michelle': 2830, 'childrens': 793, 'beloved': 461, 'vivid': 4760, 'helen': 2075, 'spin': 4112, 'laura': 2536, 'kidnapped': 2466, 'demand': 1174, 'hired': 2117, 'bonus': 534, 'helicopter': 2076, 'horribly': 2164, 'drags': 1345, 'dubbed': 1379, 'nasty': 2968, 'ticket': 4487, 'avoided': 364, 'thirty': 4456, 'detailed': 1218, 'coffee': 870, 'underlying': 4641, 'investigation': 2343, 'willing': 4889, 'passionate': 3206, 'jeffrey': 2391, 'empathy': 1462, 'disjointed': 1287, 'scooby': 3820, 'doo': 1325, 'fred': 1825, 'mysteries': 2954, 'bond': 532, 'promised': 3431, 'robot': 3717, 'issue': 2364, 'terrifying': 4410, 'pops': 3332, 'earned': 1401, 'hopper': 2161, 'demented': 1176, 'scheme': 3812, 'ps': 3453, '60': 53, 'arguably': 289, 'norman': 3035, 'hill': 2108, 'twin': 4615, 'progress': 3425, 'treatment': 4574, 'ordinary': 3128, 'rob': 3710, 'haunted': 2050, 'sucked': 4270, 'cleverly': 842, 'nowadays': 3055, 'pitch': 3279, 'accident': 84, 'burned': 626, 'dentist': 1180, 'sue': 4274, 'fatal': 1664, 'unsettling': 4679, 'highlights': 2104, 'stone': 4197, 'sentimental': 3882, 'remarks': 3615, 'helping': 2081, 'khan': 2459, 'joy': 2422, 'worry': 4950, 'price': 3389, 'glory': 1922, '1990s': 25, 'outrageous': 3145, 'mildred': 2841, 'jet': 2400, 'li': 2587, 'birthday': 487, '1999': 27, 'vacation': 4704, 'ultra': 4629, 'rare': 3523, 'superhero': 4299, 'resident': 3647, 'costume': 1005, 'stiller': 4189, 'hank': 2024, 'mitchell': 2875, 'rush': 3759, 'thomas': 4458, 'classics': 837, 'iron': 2354, 'commented': 900, 'sky': 4017, 'historically': 2120, '1930s': 11, 'stealing': 4171, 'competent': 917, 'storytelling': 4209, 'generated': 1882, 'paltrow': 3178, 'hook': 2152, 'shirley': 3936, 'temple': 4398, 'acid': 95, 'profound': 3423, 'sensitive': 3879, 'worthless': 4954, 'advise': 134, '1960s': 15, 'midnight': 2834, 'cowboy': 1025, 'friendship': 1838, 'fears': 1677, 'stanley': 4148, 'shining': 3933, 'block': 508, 'kubrick': 2496, 'scale': 3802, 'assigned': 325, 'andrews': 229, 'hiding': 2099, 'patients': 3212, 'scarecrow': 3804, 'union': 4661, 'investigate': 2342, 'honesty': 2148, 'politically': 3325, 'concert': 935, 'album': 175, 'offering': 3089, 'broke': 593, 'props': 3439, 'assistant': 326, 'benefit': 465, 'creating': 1039, 'treasure': 4571, 'jennifer': 2392, 'lucy': 2684, 'canada': 666, 'summer': 4291, 'lol': 2640, 'granted': 1957, 'liberal': 2588, 'couples': 1017, 'cd': 728, 'online': 3109, 'fbi': 1675, 'agents': 151, 'usa': 4691, 'claims': 830, 'ran': 3513, 'eyed': 1612, '80': 58, 'satisfied': 3789, 'knife': 2487, 'repeatedly': 3632, 'mistaken': 2872, 'paint': 3173, 'damage': 1099, 'christ': 807, 'smaller': 4034, 'jim': 2402, 'projects': 3428, 'fool': 1779, 'wrapped': 4964, 'cia': 814, 'consistently': 954, 'inducing': 2279, 'wannabe': 4787, 'segments': 3868, 'pretentious': 3383, 'samurai': 3779, 'develop': 1222, 'serve': 3893, 'kim': 2475, 'kenneth': 2455, 'christmas': 810, 'eve': 1532, 'paper': 3183, 'selfish': 3870, 'leonard': 2572, 'latin': 2527, 'security': 3854, 'guard': 1988, 'criminals': 1058, 'forest': 1791, 'implausible': 2245, 'lord': 2652, 'brazil': 568, 'identify': 2216, 'coherent': 871, 'cinemas': 817, 'warriors': 4803, 'sent': 3880, 'quotes': 3497, 'grows': 1985, 'sadness': 3770, 'wet': 4855, 'pit': 3278, 'hurt': 2202, 'pretend': 3381, 'differences': 1247, 'directorial': 1265, 'feminist': 1695, 'touched': 4534, 'talked': 4359, 'treats': 4575, 'assault': 324, 'secretary': 3850, 'plant': 3293, 'engaged': 1480, 'factory': 1623, 'los': 2653, 'angeles': 233, 'identity': 2217, 'vaguely': 4706, 'secrets': 3852, 'generic': 1885, 'trail': 4553, 'sink': 3999, 'larry': 2520, 'watches': 4814, 'humble': 2191, 'operation': 3117, 'celluloid': 731, 'sexually': 3910, 'distinct': 1296, 'regard': 3588, 'phantom': 3251, 'menace': 2806, 'industry': 2280, 'branagh': 564, 'emma': 1457, 'remote': 3622, 'mildly': 2840, 'everywhere': 1545, 'successfully': 4267, 'sign': 3970, 'authority': 360, 'solution': 4059, 'brave': 567, 'pieces': 3273, 'solve': 4060, 'detail': 1217, 'simplicity': 3984, 'boot': 538, 'plausible': 3295, 'split': 4120, 'domestic': 1318, 'experiment': 1583, 'praise': 3364, 'significant': 3972, 'showdown': 3955, 'instantly': 2306, 'wrap': 4963, 'affect': 136, 'guessed': 1990, 'installment': 2303, 'turner': 4607, 'september': 3884, '1983': 22, 'stood': 4199, 'rotten': 3740, 'bathroom': 412, 'chest': 784, 'finger': 1731, 'celebrity': 729, 'notorious': 3051, 'bettie': 473, 'incident': 2260, 'unhappy': 4656, 'lay': 2542, 'pages': 3168, 'icon': 2211, 'fed': 1682, 'conspiracy': 956, 'anna': 245, 'surreal': 4317, 'hood': 2151, 'exploration': 1593, 'reminds': 3620, 'screams': 3828, 'ghosts': 1903, 'busy': 635, 'perfection': 3225, 'smooth': 4041, 'involvement': 2347, 'stolen': 4195, 'devoted': 1231, 'hitler': 2124, 'commit': 904, 'reviewers': 3678, 'yellow': 4981, 'react': 3540, 'dave': 1123, 'seeks': 3860, 'waitress': 4773, 'club': 863, 'shortly': 3947, 'civilization': 827, 'diamond': 1236, 'steel': 4173, 'simplistic': 3985, 'complicated': 925, 'horses': 2171, 'ear': 1397, 'advanced': 128, 'succeed': 4262, 'justify': 2439, 'beliefs': 452, 'rank': 3518, 'integrity': 2311, 'similarities': 3979, 'carl': 692, 'niro': 3019, 'suicide': 4283, 'championship': 745, 'facing': 1620, 'enjoys': 1489, 'communist': 907, 'philip': 3252, 'carrie': 697, 'stated': 4161, 'occasion': 3073, 'marks': 2742, 'dynamic': 1394, 'sympathy': 4343, 'code': 869, 'drawn': 1351, 'conventional': 979, 'irrelevant': 2358, 'adam': 111, 'sandler': 3781, 'mummy': 2937, 'fifteen': 1706, 'dies': 1245, 'burn': 625, 'priest': 3392, 'don': 1320, 'catherine': 719, 'holiday': 2134, 'duke': 1383, 'dawson': 1128, 'sum': 4289, 'scream': 3826, 'achieved': 93, 'sunshine': 4294, 'eyre': 1614, 'solo': 4058, 'flaw': 1749, 'viewings': 4741, 'titanic': 4503, 'jake': 2377, 'sandra': 3782, 'stranger': 4213, 'ninja': 3018, 'whereas': 4865, 'checking': 778, 'gentle': 1890, 'cox': 1026, 'poetic': 3313, 'fabulous': 1615, '2004': 34, 'concerns': 934, 'irony': 2357, 'constructed': 959, 'host': 2173, 'innovative': 2295, 'technically': 4382, 'greed': 1968, 'heat': 2067, 'retarded': 3663, 'closely': 855, 'merits': 2817, 'turkey': 4604, 'classical': 836, 'headed': 2058, 'matches': 2764, 'doom': 1326, 'rid': 3690, 'repetitive': 3633, 'returned': 3666, 'clichéd': 845, 'endings': 1472, 'homosexual': 2145, 'root': 3737, 'shall': 3916, 'movements': 2924, 'atrocious': 335, 'behave': 445, 'shoots': 3944, 'explosion': 1596, 'ironically': 2356, 'harry': 2039, 'circumstances': 822, 'rocket': 3721, 'lily': 2605, 'holy': 2140, 'bush': 632, 'primarily': 3393, 'nail': 2957, 'march': 2734, 'tribute': 4581, 'mario': 2738, 'recording': 3575, 'received': 3564, 'providing': 3451, 'tends': 4402, 'suggests': 4282, 'interaction': 2322, 'blake': 498, 'carefully': 689, 'urge': 4689, 'buying': 641, 'homeless': 2143, 'effectively': 1430, 'presentation': 3375, 'resist': 3648, 'marty': 2749, 'aids': 161, 'levels': 2585, 'orange': 3125, 'multi': 2935, 'dollar': 1314, 'stale': 4141, 'planning': 3291, 'fix': 1744, 'quit': 3494, 'outfit': 3144, 'advantage': 129, 'phony': 3256, 'depression': 1189, 'related': 3594, 'illness': 2230, 'ritter': 3705, 'occasionally': 3075, 'depicts': 1186, 'heston': 2094, 'grandfather': 1954, 'rat': 3525, 'bears': 421, 'burt': 629, 'jimmy': 2403, 'tea': 4373, 'hamlet': 2013, 'companion': 909, 'field': 1704, 'conservative': 948, 'faster': 1662, 'offended': 3085, 'minimal': 2855, 'pulp': 3465, 'dinosaurs': 1256, 'ships': 3935, 'spread': 4133, 'forty': 1807, 'empire': 1464, 'stomach': 4196, 'intentions': 2321, 'breasts': 572, 'quest': 3486, 'reasonably': 3559, 'witches': 4910, 'peters': 3248, 'involve': 2345, 'description': 1197, 'pushing': 3479, 'blown': 516, 'ned': 2986, 'express': 1600, 'resemblance': 3645, 'convey': 982, 'bullet': 620, 'recorded': 3574, 'shower': 3957, 'losing': 2658, 'ha': 2002, 'closet': 858, 'chair': 742, 'laughably': 2531, 'hello': 2078, 'critic': 1061, 'cusack': 1088, 'idiotic': 2219, 'exercise': 1568, 'devoid': 1230, 'luke': 2687, 'relies': 3606, 'eighties': 1437, 'challenge': 743, 'teachers': 4376, 'guarantee': 1987, 'johnny': 2410, 'spoof': 4127, 'authentic': 358, 'eaten': 1412, 'reactions': 3542, 'flawless': 1751, 'aired': 165, 'itll': 2369, 'eva': 1531, 'walken': 4777, 'stayed': 4167, 'choices': 798, 'claire': 831, 'sharp': 3922, 'deliberately': 1166, '17': 9, 'rough': 3741, 'elaborate': 1439, 'develops': 1226, 'letters': 2582, 'lately': 2524, 'disbelief': 1277, 'philosophical': 3253, 'dan': 1102, 'da': 1094, 'rats': 3531, 'santa': 3783, 'cost': 1003, 'definition': 1163, 'thousand': 4465, 'freddy': 1826, 'terrorist': 4413, 'rose': 3739, 'resembles': 3646, 'louise': 2666, 'dalton': 1098, 'literature': 2623, 'clown': 862, 'daily': 1097, 'godzilla': 1929, 'mst3k': 2932, 'removed': 3624, 'cage': 645, 'pet': 3246, 'bible': 477, 'gabriel': 1859, 'robots': 3718, 'survivor': 4324, 'worried': 4949, 'omen': 3104, '2006': 36, 'laurel': 2537, '2007': 37, 'homage': 2141, 'satan': 3787, 'roy': 3745, 'protect': 3443, 'italy': 2368, 'ocean': 3079, 'searching': 3842, 'drivel': 1364, 'dozens': 1339, 'judy': 2426, 'gray': 1963, 'impress': 2250, 'reaches': 3538, 'blob': 507, 'huh': 2187, 'alike': 185, 'wacky': 4769, 'corner': 996, 'eastern': 1408, 'ancient': 225, 'instant': 2305, 'deeper': 1155, 'shocked': 3939, 'grandmother': 1955, 'alcohol': 176, 'ralph': 3510, 'inevitably': 2283, 'photos': 3261, 'notes': 3046, 'suspend': 4329, 'professor': 3422, 'charlie': 765, 'drinking': 1362, 'lively': 2627, 'erotic': 1515, 'suitable': 4285, 'typically': 4624, 'anyways': 262, 'popcorn': 3331, 'prisoner': 3402, 'neighborhood': 2993, 'ignorant': 2223, 'beer': 439, 'horrid': 2165, 'vulnerable': 4768, 'messages': 2820, 'tracy': 4546, 'vegas': 4717, 'tune': 4602, 'hundred': 2195, 'waters': 4817, 'mountains': 2918, 'audio': 354, 'forbidden': 1785, 'contact': 961, 'abc': 63, 'necessarily': 2983, 'ape': 266, 'accomplished': 87, 'orson': 3132, 'welles': 4844, 'disc': 1278, 'inventive': 2341, '70': 55, 'drag': 1342, 'reunion': 3669, 'bath': 411, 'mill': 2845, 'hype': 2207, '1973': 19, 'julie': 2428, 'stretched': 4222, 'pig': 3274, 'meat': 2787, 'tongue': 4518, 'belong': 459, 'engage': 1479, 'francis': 1818, 'adams': 112, 'stevens': 4183, 'awe': 370, 'rage': 3505, 'ourselves': 3140, 'timeless': 4496, 'guest': 1992, 'elvira': 1450, 'mistress': 2874, 'plots': 3310, 'timothy': 4499, 'hyde': 2206, 'thumbs': 4485, 'cary': 706, 'gas': 1874, 'weight': 4840, 'april': 284, 'reflect': 3584, 'willis': 4890, '1990': 24, 'combine': 884, 'belief': 451, 'derek': 1192, 'improvement': 2256, 'sneak': 4043, 'disappear': 1270, 'lousy': 2667, 'conflicts': 940, 'unreal': 4676, 'caliber': 649, 'wisdom': 4902, 'yelling': 4980, 'daddy': 1096, 'snl': 4044, 'cheek': 779, 'cried': 1054, 'exposure': 1599, 'hardy': 2037, 'occasional': 3074, 'guilt': 1994, 'miller': 2846, 'simpson': 3987, 'ashley': 313, 'species': 4098, 'relation': 3595, 'masterful': 2758, 'catching': 716, 'bell': 458, 'dreary': 1356, 'entertain': 1497, 'aimed': 162, 'educational': 1425, 'elm': 1447, 'inane': 2258, 'emphasis': 1463, 'idiots': 2220, 'intrigued': 2334, 'access': 83, 'contrary': 974, 'divorce': 1301, 'savage': 3793, 'ireland': 2352, 'voight': 4764, 'bullets': 621, 'cliche': 843, 'dolls': 1316, '1st': 28, 'misery': 2865, 'ya': 4976, 'possibility': 3349, 'nine': 3017, 'senseless': 3878, 'bacall': 377, 'punishment': 3467, 'blew': 505, 'lone': 2642, 'minimum': 2856, 'lifetime': 2594, 'command': 897, 'shark': 3921, 'maker': 2714, 'fury': 1855, 'groups': 1981, 'unaware': 4632, 'waited': 4771, 'explicit': 1591, 'terrorists': 4414, 'ward': 4793, 'staff': 4138, 'strangers': 4214, 'furthermore': 1854, 'rocks': 3722, 'combat': 882, 'household': 2179, 'scrooge': 3837, 'rendition': 3625, 'faithful': 1634, 'dickens': 1240, 'jaw': 2384, 'dropping': 1371, 'spirits': 4115, 'seagal': 3839, 'slight': 4027, 'dancers': 1105, 'nyc': 3065, 'prize': 3405, 'versus': 4722, 'blows': 517, 'cook': 988, 'margaret': 2735, 'tooth': 4524, 'castle': 712, 'respected': 3653, 'saves': 3796, 'transfer': 4559, 'allowing': 191, 'beatty': 427, 'reynolds': 3684, 'transition': 4561, 'glenn': 1918, 'website': 4834, 'philosophy': 3254, 'enemies': 1476, 'spoke': 4125, 'albert': 174, 'ideal': 2214, 'fields': 1705, 'depicting': 1184, 'uneven': 4649, 'diane': 1238, 'miike': 2837, 'rubber': 3747, 'dislike': 1288, 'rain': 3506, 'pearl': 3220, 'shy': 3962, 'tales': 4357, 'attacked': 338, 'basketball': 409, 'likewise': 2603, 'funeral': 1849, 'downhill': 1336, 'theyd': 4443, 'discuss': 1283, 'wells': 4845, 'streisand': 4218, 'frustration': 1843, 'wealthy': 4827, 'butler': 637, 'hoffman': 2128, 'mighty': 2836, 'weeks': 4839, 'rolled': 3729, 'thick': 4447, 'demons': 1178, 'thrillers': 4473, 'estate': 1525, 'richards': 3687, 'wholly': 4874, 'severe': 3906, 'shorts': 3948, 'der': 1191, 'delivering': 1171, 'flynn': 1765, '45': 50, 'petty': 3249, 'smoke': 4039, 'spain': 4091, 'unbelievably': 4635, 'blacks': 494, 'stooges': 4200, 'dub': 1378, 'widow': 4883, 'scottish': 3825, 'bakshi': 386, 'hunting': 2201, 'artificial': 306, 'lou': 2663, 'familys': 1646, 'shelf': 3926, 'scripted': 3835, 'delivery': 1173, 'incoherent': 2265, 'vague': 4705, 'spike': 4111, 'bull': 619, 'ruthless': 3764, 'sellers': 3872, 'relations': 3596, 'appreciation': 281, 'influenced': 2287, 'andy': 230, 'fortune': 1806, 'streep': 4215, 'colonel': 876, 'spoil': 4121, 'trick': 4582, 'robbins': 3712, 'garbo': 1871, 'deceased': 1146, 'experienced': 1581, 'forgive': 1795, 'taxi': 4371, 'prevent': 3385, 'contest': 967, 'sincere': 3991, 'brando': 566, 'sinatra': 3989, 'simmons': 3981, 'motivations': 2915, 'businessman': 634, 'bedroom': 437, 'warmth': 4796, 'tarzan': 4367, 'stinks': 4192, 'poetry': 3314, 'paranoia': 3186, 'opinions': 3119, 'glorious': 1921, 'cave': 727, 'despair': 1207, 'improve': 2254, 'moody': 2899, 'devils': 1229, 'faults': 1669, 'opportunities': 3120, 'sequels': 3886, 'louis': 2665, 'shoes': 3941, 'backgrounds': 381, 'elephant': 1444, 'ellen': 1446, 'cared': 685, 'kudos': 2497, 'edition': 1422, 'chorus': 803, 'greek': 1970, 'farm': 1656, 'davies': 1125, 'balls': 390, 'jealous': 2388, 'annie': 247, 'bare': 398, 'bo': 521, 'breathtaking': 574, 'paulie': 3215, 'tiresome': 4502, 'tall': 4362, 'brosnan': 597, 'betty': 474, 'ruby': 3749, 'winters': 4901, 'goldberg': 1933, 'dinosaur': 1255, 'boll': 529, 'uwe': 4703, 'oil': 3097, 'tense': 4403, 'ginger': 1908, 'endure': 1475, 'bud': 607, 'nicholas': 3010, 'copies': 992, 'falk': 1636, 'olivier': 3103, 'bourne': 554, 'domino': 1319, 'achievement': 94, 'redemption': 3578, 'closest': 857, 'donna': 1323, 'worker': 4942, 'foul': 1810, 'motives': 2916, 'randomly': 3515, 'larger': 2519, 'jonathan': 2417, 'attend': 344, 'rebel': 3561, 'priceless': 3390, 'royal': 3746, 'similarly': 3980, 'styles': 4250, 'careful': 688, 'taught': 4370, 'bargain': 400, 'nightmares': 3015, 'depressed': 1187, 'ho': 2127, 'junior': 2435, 'atlantis': 332, 'proceeds': 3411, 'cube': 1076, 'abilities': 64, 'serving': 3897, 'gandhi': 1866, 'wendy': 4846, 'jesse': 2397, 'stones': 4198, 'aging': 153, 'cole': 873, 'experiments': 1584, 'principal': 3398, 'liking': 2604, 'robbery': 3711, 'dutch': 1389, 'discussion': 1284, 'pursuit': 3476, 'secretly': 3851, 'descent': 1193, 'unintentional': 4658, 'astaire': 330, 'nuts': 3064, 'fulci': 1845, 'polanski': 3321, 'craven': 1034, 'cg': 739, 'cinderella': 815, 'portion': 3338, 'resources': 3651, 'mann': 2728, 'reflection': 3585, 'retired': 3664, 'shelley': 3928, 'questionable': 3488, 'disneys': 1290, 'capturing': 679, 'crocodile': 1065, 'grinch': 1975, 'disappoint': 1272, 'witnessed': 4915, 'tomatoes': 4515, 'grey': 1973, 'edie': 1419, 'earl': 1398, 'giallo': 1904, 'clip': 851, 'stargate': 4151, 'amanda': 205, 'creatures': 1046, 'monkeys': 2891, 'bergman': 466, 'limits': 2607, 'stunts': 4246, 'awfully': 373, 'surfing': 4311, 'whale': 4857, 'cake': 648, 'hart': 2041, 'maria': 2736, 'kingdom': 2480, 'dust': 1388, 'intimate': 2331, 'apes': 267, 'homer': 2144, 'gadget': 1860, 'mars': 2746}\n"
     ]
    }
   ],
   "source": [
    "print(str(vocabulary))"
   ]
  },
  {
   "cell_type": "markdown",
   "metadata": {},
   "source": [
    "Once you have added the endpoint name to the Lambda function, click on **Save**. Your Lambda function is now up and running. Next we need to create a way for our web app to execute the Lambda function."
   ]
  },
  {
   "cell_type": "markdown",
   "metadata": {},
   "source": [
    "### Setting up API Gateway\n",
    "\n",
    "Now that our Lambda function is set up, it is time to create a new API using API Gateway that will trigger the Lambda function we have just created.\n",
    "\n",
    "Using AWS Console, navigate to **Amazon API Gateway** and then click on **Get started**.\n",
    "\n",
    "On the next page, make sure that **New API** is selected and give the new api a name, for example, `sentiment_analysis_web_app`. Then, click on **Create API**.\n",
    "\n",
    "Now we have created an API, however it doesn't currently do anything. What we want it to do is to trigger the Lambda function that we created earlier.\n",
    "\n",
    "Select the **Actions** dropdown menu and click **Create Method**. A new blank method will be created, select its dropdown menu and select **POST**, then click on the check mark beside it.\n",
    "\n",
    "For the integration point, make sure that **Lambda Function** is selected and click on the **Use Lambda Proxy integration**. This option makes sure that the data that is sent to the API is then sent directly to the Lambda function with no processing. It also means that the return value must be a proper response object as it will also not be processed by API Gateway.\n",
    "\n",
    "Type the name of the Lambda function you created earlier into the **Lambda Function** text entry box and then click on **Save**. Click on **OK** in the pop-up box that then appears, giving permission to API Gateway to invoke the Lambda function you created.\n",
    "\n",
    "The last step in creating the API Gateway is to select the **Actions** dropdown and click on **Deploy API**. You will need to create a new Deployment stage and name it anything you like, for example `prod`.\n",
    "\n",
    "You have now successfully set up a public API to access your SageMaker model. Make sure to copy or write down the URL provided to invoke your newly created public API as this will be needed in the next step. This URL can be found at the top of the page, highlighted in blue next to the text **Invoke URL**."
   ]
  },
  {
   "cell_type": "markdown",
   "metadata": {},
   "source": [
    "## Step 7: Deploying our web app\n",
    "\n",
    "Now that we have a publicly available API, we can start using it in a web app. For our purposes, we have provided a simple static html file which can make use of the public api you created earlier.\n",
    "\n",
    "In the `website` folder there should be a file called `index.html`. Download the file to your computer and open that file up in a text editor of your choice. There should be a line which contains **\\*\\*REPLACE WITH PUBLIC API URL\\*\\***. Replace this string with the url that you wrote down in the last step and then save the file.\n",
    "\n",
    "Now, if you open `index.html` on your local computer, your browser will behave as a local web server and you can use the provided site to interact with your SageMaker model.\n",
    "\n",
    "If you'd like to go further, you can host this html file anywhere you'd like, for example using github or hosting a static site on Amazon's S3. Once you have done this you can share the link with anyone you'd like and have them play with it too!\n",
    "\n",
    "> **Important Note** In order for the web app to communicate with the SageMaker endpoint, the endpoint has to actually be deployed and running. This means that you are paying for it. Make sure that the endpoint is running when you want to use the web app but that you shut it down when you don't need it, otherwise you will end up with a surprisingly large AWS bill."
   ]
  },
  {
   "cell_type": "markdown",
   "metadata": {},
   "source": [
    "### Delete the endpoint\n",
    "\n",
    "Remember to always shut down your endpoint if you are no longer using it. You are charged for the length of time that the endpoint is running so if you forget and leave it on you could end up with an unexpectedly large bill."
   ]
  },
  {
   "cell_type": "code",
   "execution_count": null,
   "metadata": {},
   "outputs": [],
   "source": [
    "xgb_predictor.delete_endpoint()"
   ]
  },
  {
   "cell_type": "markdown",
   "metadata": {},
   "source": [
    "## Optional: Clean up\n",
    "\n",
    "The default notebook instance on SageMaker doesn't have a lot of excess disk space available. As you continue to complete and execute notebooks you will eventually fill up this disk space, leading to errors which can be difficult to diagnose. Once you are completely finished using a notebook it is a good idea to remove the files that you created along the way. Of course, you can do this from the terminal or from the notebook hub if you would like. The cell below contains some commands to clean up the created files from within the notebook."
   ]
  },
  {
   "cell_type": "code",
   "execution_count": null,
   "metadata": {},
   "outputs": [],
   "source": [
    "# First we will remove all of the files contained in the data_dir directory\n",
    "!rm $data_dir/*\n",
    "\n",
    "# And then we delete the directory itself\n",
    "!rmdir $data_dir\n",
    "\n",
    "# Similarly we remove the files in the cache_dir directory and the directory itself\n",
    "!rm $cache_dir/*\n",
    "!rmdir $cache_dir"
   ]
  },
  {
   "cell_type": "code",
   "execution_count": null,
   "metadata": {},
   "outputs": [],
   "source": []
  }
 ],
 "metadata": {
  "kernelspec": {
   "display_name": "conda_python3",
   "language": "python",
   "name": "conda_python3"
  },
  "language_info": {
   "codemirror_mode": {
    "name": "ipython",
    "version": 3
   },
   "file_extension": ".py",
   "mimetype": "text/x-python",
   "name": "python",
   "nbconvert_exporter": "python",
   "pygments_lexer": "ipython3",
   "version": "3.6.10"
  }
 },
 "nbformat": 4,
 "nbformat_minor": 2
}
